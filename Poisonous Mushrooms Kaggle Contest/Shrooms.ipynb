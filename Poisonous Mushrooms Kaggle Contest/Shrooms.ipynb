{
 "cells": [
  {
   "cell_type": "code",
   "execution_count": 1,
   "id": "86092b82-e643-4b8e-bae1-cd62b2ca287d",
   "metadata": {},
   "outputs": [],
   "source": [
    "import numpy as np\n",
    "import pandas as pd\n",
    "import matplotlib.pyplot as plt"
   ]
  },
  {
   "cell_type": "code",
   "execution_count": 2,
   "id": "298bd98e-8188-45cd-a98d-de66f650a1de",
   "metadata": {},
   "outputs": [],
   "source": [
    "train_df = pd.read_csv('../../data/poisonous_mushrooms/train.csv')\n",
    "test_df = pd.read_csv('../../data/poisonous_mushrooms/test.csv')"
   ]
  },
  {
   "cell_type": "code",
   "execution_count": 15,
   "id": "63a826db-4c8a-410d-a91c-bfe631ca7d16",
   "metadata": {},
   "outputs": [],
   "source": [
    "def null_count():\n",
    "    global train_df, test_df\n",
    "    print(\"\\nTrain Df\")\n",
    "    print(train_df.isnull().sum())\n",
    "    print(\"\\nTest Df\")\n",
    "    print(test_df.isnull().sum())"
   ]
  },
  {
   "cell_type": "code",
   "execution_count": 24,
   "id": "8ea8c610-9597-445a-b01a-5f773d92ef8d",
   "metadata": {},
   "outputs": [
    {
     "name": "stdout",
     "output_type": "stream",
     "text": [
      "<class 'pandas.core.frame.DataFrame'>\n",
      "RangeIndex: 3116945 entries, 0 to 3116944\n",
      "Data columns (total 22 columns):\n",
      " #   Column                Dtype  \n",
      "---  ------                -----  \n",
      " 0   id                    int64  \n",
      " 1   class                 object \n",
      " 2   cap-diameter          float64\n",
      " 3   cap-shape             object \n",
      " 4   cap-surface           object \n",
      " 5   cap-color             object \n",
      " 6   does-bruise-or-bleed  object \n",
      " 7   gill-attachment       object \n",
      " 8   gill-spacing          object \n",
      " 9   gill-color            object \n",
      " 10  stem-height           float64\n",
      " 11  stem-width            float64\n",
      " 12  stem-root             object \n",
      " 13  stem-surface          object \n",
      " 14  stem-color            object \n",
      " 15  veil-type             object \n",
      " 16  veil-color            object \n",
      " 17  has-ring              object \n",
      " 18  ring-type             object \n",
      " 19  spore-print-color     object \n",
      " 20  habitat               object \n",
      " 21  season                object \n",
      "dtypes: float64(3), int64(1), object(18)\n",
      "memory usage: 523.2+ MB\n"
     ]
    }
   ],
   "source": [
    "train_df.info()"
   ]
  },
  {
   "cell_type": "code",
   "execution_count": 23,
   "id": "4a6cd792-825f-4c1d-9929-34420bf6dee6",
   "metadata": {},
   "outputs": [
    {
     "name": "stdout",
     "output_type": "stream",
     "text": [
      "\n",
      "Train Df\n",
      "id                            0\n",
      "class                         0\n",
      "cap-diameter                  0\n",
      "cap-shape                    40\n",
      "cap-surface              671023\n",
      "cap-color                    12\n",
      "does-bruise-or-bleed          8\n",
      "gill-attachment          523936\n",
      "gill-spacing            1258435\n",
      "gill-color                   57\n",
      "stem-height                   0\n",
      "stem-width                    0\n",
      "stem-root               2757023\n",
      "stem-surface            1980861\n",
      "stem-color                   38\n",
      "veil-type               2957493\n",
      "veil-color              2740947\n",
      "has-ring                     24\n",
      "ring-type                128880\n",
      "spore-print-color       2849682\n",
      "habitat                      45\n",
      "season                        0\n",
      "dtype: int64\n",
      "\n",
      "Test Df\n",
      "id                            0\n",
      "cap-diameter                  0\n",
      "cap-shape                    31\n",
      "cap-surface              446904\n",
      "cap-color                    13\n",
      "does-bruise-or-bleed         10\n",
      "gill-attachment          349821\n",
      "gill-spacing             839595\n",
      "gill-color                   49\n",
      "stem-height                   1\n",
      "stem-width                    0\n",
      "stem-root               1838012\n",
      "stem-surface            1321488\n",
      "stem-color                   21\n",
      "veil-type               1971545\n",
      "veil-color              1826124\n",
      "has-ring                     19\n",
      "ring-type                 86195\n",
      "spore-print-color       1899617\n",
      "habitat                      25\n",
      "season                        0\n",
      "dtype: int64\n"
     ]
    }
   ],
   "source": [
    "null_count()"
   ]
  },
  {
   "cell_type": "code",
   "execution_count": 20,
   "id": "2a07afce-b142-45e3-9638-c3e4953f4026",
   "metadata": {},
   "outputs": [],
   "source": [
    "train_df['cap-diameter'] = train_df['cap-diameter'].fillna(6.309848e+00)"
   ]
  },
  {
   "cell_type": "code",
   "execution_count": 22,
   "id": "d79b8e92-e2be-4b36-baf0-f408d9cc699b",
   "metadata": {},
   "outputs": [],
   "source": [
    "test_df['cap-diameter'] = test_df['cap-diameter'].fillna(6.309848e+00)"
   ]
  },
  {
   "cell_type": "code",
   "execution_count": 26,
   "id": "48b06904-1e75-4631-b8a5-685cc16736b9",
   "metadata": {},
   "outputs": [
    {
     "data": {
      "text/plain": [
       "74"
      ]
     },
     "execution_count": 26,
     "metadata": {},
     "output_type": "execute_result"
    }
   ],
   "source": [
    "train_df['cap-shape']."
   ]
  },
  {
   "cell_type": "code",
   "execution_count": null,
   "id": "14ecf668-6ce8-4167-9b1b-bde29fbdb0c8",
   "metadata": {},
   "outputs": [],
   "source": []
  }
 ],
 "metadata": {
  "kernelspec": {
   "display_name": "Python 3 (ipykernel)",
   "language": "python",
   "name": "python3"
  },
  "language_info": {
   "codemirror_mode": {
    "name": "ipython",
    "version": 3
   },
   "file_extension": ".py",
   "mimetype": "text/x-python",
   "name": "python",
   "nbconvert_exporter": "python",
   "pygments_lexer": "ipython3",
   "version": "3.12.4"
  }
 },
 "nbformat": 4,
 "nbformat_minor": 5
}
