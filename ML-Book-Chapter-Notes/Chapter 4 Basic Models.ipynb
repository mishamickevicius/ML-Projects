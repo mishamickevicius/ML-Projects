{
 "cells": [
  {
   "cell_type": "code",
   "execution_count": 5,
   "id": "2cf7e83d-7e1a-4ef5-9a58-747a448b3f52",
   "metadata": {},
   "outputs": [],
   "source": [
    "import numpy as np\n",
    "import matplotlib.pyplot as plt"
   ]
  },
  {
   "cell_type": "markdown",
   "id": "206ab6f9-c5fb-4807-b494-c94e75673778",
   "metadata": {},
   "source": [
    "Generate some linear-looking data to test **The Normal Equation**\n",
    "<br>**The Normal Equation** is used to find a value of vector Theta that minimizes the MSE"
   ]
  },
  {
   "cell_type": "code",
   "execution_count": 2,
   "id": "59cf080d-6d1a-4bd6-8c6e-e8fc839ffc5d",
   "metadata": {},
   "outputs": [],
   "source": [
    "np.random.seed(42)\n",
    "m = 100 # Number of instances\n",
    "X = 2 * np.random.rand(m, 1) # column Vector\n",
    "y = 4 + 3 * X + np.random.randn(m, 1) # Column Vector"
   ]
  },
  {
   "cell_type": "code",
   "execution_count": 11,
   "id": "8b2a685b-51ed-4465-b823-9f67e61c8358",
   "metadata": {},
   "outputs": [
    {
     "data": {
      "image/png": "[encoded data removed]",
      "text/plain": [
       "<Figure size 640x480 with 1 Axes>"
      ]
     },
     "metadata": {},
     "output_type": "display_data"
    }
   ],
   "source": [
    "fig, ax = plt.subplots()\n",
    "\n",
    "ax.scatter(x=X, y=y)\n",
    "ax.set(xlim=(0, 2), ylim=(0,14))\n",
    "\n",
    "plt.show()"
   ]
  },
  {
   "cell_type": "markdown",
   "id": "ea23c856-e32b-44a6-8ff9-630701eef3bc",
   "metadata": {},
   "source": [
    "Compute $ \\hat\\theta $ or the value of $ \\theta $ that minimizes the cost function"
   ]
  },
  {
   "cell_type": "code",
   "execution_count": 12,
   "id": "95c25506-cfc0-455d-bfd1-af6332664790",
   "metadata": {},
   "outputs": [],
   "source": [
    "from sklearn.preprocessing import add_dummy_feature"
   ]
  },
  {
   "cell_type": "code",
   "execution_count": 18,
   "id": "fe283a72-94da-4a1f-af57-6cf17f8df93b",
   "metadata": {},
   "outputs": [],
   "source": [
    "X_b = add_dummy_feature(X) # add x0 = 1 to each instance\n",
    "theta_best = np.linalg.inv(X_b.T @ X_b) @ X_b.T @ y \n",
    "# The @ operator is the matrix product of two arrays or np.matmul"
   ]
  },
  {
   "cell_type": "markdown",
   "id": "ddaf2337-6f7d-4823-af55-3d33ff4e3515",
   "metadata": {},
   "source": [
    "The generate data is y = 4 + 3*x1 + Gaussian Noise <br>\n",
    "That means that theta_best should return $ \\theta 0 $ = 4 and $ \\theta 1 $ = 3"
   ]
  },
  {
   "cell_type": "code",
   "execution_count": 16,
   "id": "e31e1dcf-aa1a-46d4-ab12-120b9aeb6723",
   "metadata": {},
   "outputs": [
    {
     "data": {
      "text/plain": [
       "array([[4.21509616],\n",
       "       [2.77011339]])"
      ]
     },
     "execution_count": 16,
     "metadata": {},
     "output_type": "execute_result"
    }
   ],
   "source": [
    "theta_best"
   ]
  },
  {
   "cell_type": "code",
   "execution_count": null,
   "id": "6fab9ee9-6533-4ce3-a60e-7bba8c4a440d",
   "metadata": {},
   "outputs": [],
   "source": []
  }
 ],
 "metadata": {
  "kernelspec": {
   "display_name": "Python 3 (ipykernel)",
   "language": "python",
   "name": "python3"
  },
  "language_info": {
   "codemirror_mode": {
    "name": "ipython",
    "version": 3
   },
   "file_extension": ".py",
   "mimetype": "text/x-python",
   "name": "python",
   "nbconvert_exporter": "python",
   "pygments_lexer": "ipython3",
   "version": "3.11.6"
  }
 },
 "nbformat": 4,
 "nbformat_minor": 5
}
