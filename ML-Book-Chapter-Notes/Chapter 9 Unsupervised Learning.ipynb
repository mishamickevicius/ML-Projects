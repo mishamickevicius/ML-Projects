{
 "cells": [
  {
   "cell_type": "markdown",
   "id": "1dc5d1c3-c7e5-4ac3-a5d2-8a535f9d7d09",
   "metadata": {},
   "source": [
    "# Unsupervised Learning"
   ]
  },
  {
   "cell_type": "markdown",
   "id": "d7c48a08-31e8-4051-bd07-fffc7ba2408e",
   "metadata": {},
   "source": [
    "Most common unsupervised learning tasks:\n",
    "- Dimensionality Reduction\n",
    "- Clustering\n",
    "- Anomaly Detection\n",
    "- Density Estimation\n",
    "- Association Rule Learning"
   ]
  },
  {
   "cell_type": "markdown",
   "id": "2b420da2-5951-4897-86d0-8fc63bc1f225",
   "metadata": {},
   "source": [
    "## Clustering Algorithms"
   ]
  },
  {
   "cell_type": "markdown",
   "id": "e409559f-5abb-42ff-8ca4-8d76bfc2d949",
   "metadata": {},
   "source": [
    "Clustering is the task of identifying similar instances and putting them together in a cluster. "
   ]
  },
  {
   "cell_type": "markdown",
   "id": "e4ff1e55-b467-43b3-9b19-e2972eda30b1",
   "metadata": {},
   "source": [
    "### K-means Clustering"
   ]
  },
  {
   "cell_type": "code",
   "execution_count": 1,
   "id": "c7ff4900-e71e-4f86-8c4c-212fcee70bd4",
   "metadata": {},
   "outputs": [],
   "source": [
    "import numpy as np\n",
    "\n",
    "from sklearn.cluster import KMeans\n",
    "from sklearn.datasets import make_blobs\n",
    "\n",
    "# extra code – the exact arguments of make_blobs() are not important\n",
    "blob_centers = np.array([[ 0.2,  2.3], [-1.5 ,  2.3], [-2.8,  1.8],\n",
    "                         [-2.8,  2.8], [-2.8,  1.3]])\n",
    "blob_std = np.array([0.4, 0.3, 0.1, 0.1, 0.1])\n",
    "X, y = make_blobs(n_samples=2000, centers=blob_centers, cluster_std=blob_std,\n",
    "                  random_state=7) # make the blobs: y contains the cluster IDs, but won't be used because that's what we want to predict\n",
    "\n",
    "k = 5\n",
    "kmeans = KMeans(n_clusters=k, random_state=42)\n",
    "y_pred = kmeans.fit_predict(X)"
   ]
  },
  {
   "cell_type": "markdown",
   "id": "8bed8050-19bf-4a40-bd07-ff87d518d671",
   "metadata": {},
   "source": [
    "Each instance is assigned a label but this is the index of the cluster it belongs to \n",
    "<div class=\"alert alert-block alert-danger\">\n",
    "Not The True Class Label like in classification.<br> Remember it is unsupervised!\n",
    "</div>"
   ]
  },
  {
   "cell_type": "code",
   "execution_count": 2,
   "id": "7e94deaf-5182-46b3-9cb6-8d36822a939b",
   "metadata": {},
   "outputs": [
    {
     "data": {
      "text/plain": [
       "True"
      ]
     },
     "execution_count": 2,
     "metadata": {},
     "output_type": "execute_result"
    }
   ],
   "source": [
    "y_pred is kmeans.labels_"
   ]
  },
  {
   "cell_type": "code",
   "execution_count": 3,
   "id": "5e037ecf-1308-4c74-9855-a40ff5b58430",
   "metadata": {},
   "outputs": [
    {
     "data": {
      "text/plain": [
       "array([2, 2, 4, ..., 1, 4, 2], dtype=int32)"
      ]
     },
     "execution_count": 3,
     "metadata": {},
     "output_type": "execute_result"
    }
   ],
   "source": [
    "y_pred"
   ]
  },
  {
   "cell_type": "code",
   "execution_count": 4,
   "id": "30f24382-d39e-41cb-a5b5-047ed7d002db",
   "metadata": {},
   "outputs": [
    {
     "data": {
      "text/plain": [
       "array([[-0.066884  ,  2.10378803],\n",
       "       [-2.79290307,  2.79641063],\n",
       "       [-2.80214068,  1.55162671],\n",
       "       [-1.47468607,  2.28399066],\n",
       "       [ 0.47042841,  2.41380533]])"
      ]
     },
     "execution_count": 4,
     "metadata": {},
     "output_type": "execute_result"
    }
   ],
   "source": [
    "kmeans.cluster_centers_"
   ]
  },
  {
   "cell_type": "code",
   "execution_count": 5,
   "id": "28f2d625-16db-4b95-98c6-f070c42f66d5",
   "metadata": {},
   "outputs": [
    {
     "data": {
      "text/plain": [
       "array([0, 4, 1, 1], dtype=int32)"
      ]
     },
     "execution_count": 5,
     "metadata": {},
     "output_type": "execute_result"
    }
   ],
   "source": [
    "# Adding new instances to clusters\n",
    "X_new = np.array([[0, 2], [3, 2], [-3, 3], [-3, 2.5]])\n",
    "kmeans.predict(X_new)"
   ]
  },
  {
   "cell_type": "markdown",
   "id": "651bbd80-e8f6-42fd-b3a2-6d3b1165245d",
   "metadata": {},
   "source": [
    "Hard Clustering is when you assign each instance to a cluster.<br>\n",
    "Soft Clustering is when you give each instance a score per cluster on how well it fits into the cluster."
   ]
  },
  {
   "cell_type": "markdown",
   "id": "196c2cf6-55b3-4141-9a39-f2c784aa342c",
   "metadata": {},
   "source": [
    "Kmeans works by first setting random centriods, calculating the mean squared distance between the instances and then readjusting the centriods."
   ]
  },
  {
   "cell_type": "markdown",
   "id": "9e8609c1-ded7-4ff1-a41c-377f0f590a36",
   "metadata": {},
   "source": [
    "However sometimes you can get unlucky with the initial random centriods which can lead to suboptimal results. Here are some Centroid initialization methods to fix this issue"
   ]
  },
  {
   "cell_type": "code",
   "execution_count": null,
   "id": "96a8dd89-bcb1-40e2-ad34-b5369b7317eb",
   "metadata": {},
   "outputs": [],
   "source": []
  }
 ],
 "metadata": {
  "kernelspec": {
   "display_name": "Python 3 (ipykernel)",
   "language": "python",
   "name": "python3"
  },
  "language_info": {
   "codemirror_mode": {
    "name": "ipython",
    "version": 3
   },
   "file_extension": ".py",
   "mimetype": "text/x-python",
   "name": "python",
   "nbconvert_exporter": "python",
   "pygments_lexer": "ipython3",
   "version": "3.11.6"
  }
 },
 "nbformat": 4,
 "nbformat_minor": 5
}
