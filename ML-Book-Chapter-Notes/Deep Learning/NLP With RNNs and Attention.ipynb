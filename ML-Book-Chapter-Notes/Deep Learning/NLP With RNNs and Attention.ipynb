{
 "cells": [
  {
   "cell_type": "markdown",
   "id": "f1cc6901-a76b-48f2-b687-9da92cbe4243",
   "metadata": {},
   "source": [
    "# NLP with RNNs and Attention"
   ]
  },
  {
   "cell_type": "markdown",
   "id": "721a08a2-0e0a-4e6f-bb55-0345260479d6",
   "metadata": {},
   "source": [
    "## Using Character RNNs"
   ]
  },
  {
   "cell_type": "markdown",
   "id": "b299306f-5eaf-41fd-aea6-dcd7cc49f388",
   "metadata": {},
   "source": [
    "Character RNNs or char-RNNs are RNNs that try to predict the next character or word in a sentence allowing them to generate text"
   ]
  },
  {
   "cell_type": "markdown",
   "id": "b1a130d0-6b08-45a9-b78d-c6eeb99255d8",
   "metadata": {},
   "source": [
    "### Example of Generating Text"
   ]
  },
  {
   "cell_type": "code",
   "execution_count": 1,
   "id": "f72af078-9894-40b7-9770-f3ed4fbd87fe",
   "metadata": {},
   "outputs": [],
   "source": [
    "import tensorflow as tf"
   ]
  },
  {
   "cell_type": "code",
   "execution_count": 2,
   "id": "bbe78f05-5c4b-4e77-94af-2a2b214eaaa2",
   "metadata": {},
   "outputs": [
    {
     "name": "stdout",
     "output_type": "stream",
     "text": [
      "Downloading data from https://homl.info/shakespeare\n",
      "\u001b[1m1115394/1115394\u001b[0m \u001b[32m━━━━━━━━━━━━━━━━━━━━\u001b[0m\u001b[37m\u001b[0m \u001b[1m0s\u001b[0m 0us/step\n"
     ]
    }
   ],
   "source": [
    "shakespeare_url = 'https://homl.info/shakespeare'\n",
    "filepath = tf.keras.utils.get_file('shakespeare.txt', shakespeare_url)\n",
    "with open(filepath) as f:\n",
    "    shakespeare_text = f.read()"
   ]
  },
  {
   "cell_type": "code",
   "execution_count": 3,
   "id": "b90a556e-36aa-4db0-a1f1-2ffb904dc0d8",
   "metadata": {},
   "outputs": [
    {
     "name": "stdout",
     "output_type": "stream",
     "text": [
      "First Citizen:\n",
      "Before we proceed any further, hear me speak.\n",
      "\n",
      "All:\n",
      "Speak, speak.\n"
     ]
    }
   ],
   "source": [
    "print(shakespeare_text[:80])"
   ]
  },
  {
   "cell_type": "code",
   "execution_count": null,
   "id": "573ae37a-62df-4acf-9eb4-aedb32740db3",
   "metadata": {},
   "outputs": [],
   "source": []
  }
 ],
 "metadata": {
  "kernelspec": {
   "display_name": "Python 3 (ipykernel)",
   "language": "python",
   "name": "python3"
  },
  "language_info": {
   "codemirror_mode": {
    "name": "ipython",
    "version": 3
   },
   "file_extension": ".py",
   "mimetype": "text/x-python",
   "name": "python",
   "nbconvert_exporter": "python",
   "pygments_lexer": "ipython3",
   "version": "3.12.4"
  }
 },
 "nbformat": 4,
 "nbformat_minor": 5
}
