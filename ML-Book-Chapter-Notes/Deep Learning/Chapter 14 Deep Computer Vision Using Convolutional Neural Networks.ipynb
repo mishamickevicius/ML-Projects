{
 "cells": [
  {
   "cell_type": "markdown",
   "id": "c3856214-dc1a-4e96-bf75-4e25cecc58e9",
   "metadata": {},
   "source": [
    "# Deep Computer Vision Using Convolutional Neural Networks"
   ]
  },
  {
   "cell_type": "markdown",
   "id": "b98b81b1-e249-4bee-beb2-3cc229e831cd",
   "metadata": {},
   "source": [
    "## Implementing Convolutional Layers with Keras"
   ]
  },
  {
   "cell_type": "code",
   "execution_count": 1,
   "id": "f72a4b78-6f08-4a09-8610-fe1f6bf9847b",
   "metadata": {},
   "outputs": [
    {
     "name": "stderr",
     "output_type": "stream",
     "text": [
      "2025-01-12 10:59:39.127422: I tensorflow/core/util/port.cc:153] oneDNN custom operations are on. You may see slightly different numerical results due to floating-point round-off errors from different computation orders. To turn them off, set the environment variable `TF_ENABLE_ONEDNN_OPTS=0`.\n",
      "2025-01-12 10:59:39.307052: E external/local_xla/xla/stream_executor/cuda/cuda_fft.cc:477] Unable to register cuFFT factory: Attempting to register factory for plugin cuFFT when one has already been registered\n",
      "WARNING: All log messages before absl::InitializeLog() is called are written to STDERR\n",
      "E0000 00:00:1736701179.371375    4119 cuda_dnn.cc:8310] Unable to register cuDNN factory: Attempting to register factory for plugin cuDNN when one has already been registered\n",
      "E0000 00:00:1736701179.390691    4119 cuda_blas.cc:1418] Unable to register cuBLAS factory: Attempting to register factory for plugin cuBLAS when one has already been registered\n",
      "2025-01-12 10:59:39.569730: I tensorflow/core/platform/cpu_feature_guard.cc:210] This TensorFlow binary is optimized to use available CPU instructions in performance-critical operations.\n",
      "To enable the following instructions: AVX2 AVX512F AVX512_VNNI FMA, in other operations, rebuild TensorFlow with the appropriate compiler flags.\n",
      "I0000 00:00:1736701181.500868    4119 gpu_device.cc:2022] Created device /job:localhost/replica:0/task:0/device:GPU:0 with 9777 MB memory:  -> device: 0, name: NVIDIA GeForce RTX 3060, pci bus id: 0000:01:00.0, compute capability: 8.6\n"
     ]
    }
   ],
   "source": [
    "## Get some sample images\n",
    "from sklearn.datasets import load_sample_images\n",
    "import tensorflow as tf\n",
    "\n",
    "images = load_sample_images()['images']\n",
    "images = tf.keras.layers.CenterCrop(height=70, width=120)(images)\n",
    "images = tf.keras.layers.Rescaling(scale=1 / 255)(images)"
   ]
  },
  {
   "cell_type": "code",
   "execution_count": 3,
   "id": "60f4a54e-425d-4621-a733-cf7ff3c0176c",
   "metadata": {},
   "outputs": [
    {
     "data": {
      "text/plain": [
       "TensorShape([2, 70, 120, 3])"
      ]
     },
     "execution_count": 3,
     "metadata": {},
     "output_type": "execute_result"
    }
   ],
   "source": [
    "images.shape\n",
    "## 4d tensor\n",
    "## 2 Images in tensor\n",
    "## 70 is the height in pixels\n",
    "## 120 is the width in pixels\n",
    "## 3 is the amount of color channels(most likly RGB)"
   ]
  },
  {
   "cell_type": "code",
   "execution_count": 4,
   "id": "448b0578-160e-4003-bf1f-2b3934367cc3",
   "metadata": {},
   "outputs": [
    {
     "name": "stderr",
     "output_type": "stream",
     "text": [
      "I0000 00:00:1736701339.060876    4119 cuda_dnn.cc:529] Loaded cuDNN version 90300\n"
     ]
    }
   ],
   "source": [
    "conv_layer = tf.keras.layers.Conv2D(filters=32, kernel_size=7)\n",
    "fmaps = conv_layer(images)"
   ]
  },
  {
   "cell_type": "code",
   "execution_count": 7,
   "id": "fc65c7cd-6e0d-4a0c-b339-650c99bd4e7f",
   "metadata": {},
   "outputs": [
    {
     "data": {
      "text/plain": [
       "TensorShape([2, 64, 114, 32])"
      ]
     },
     "execution_count": 7,
     "metadata": {},
     "output_type": "execute_result"
    }
   ],
   "source": [
    "fmaps.shape\n",
    "## 32 channels (because of the filters)\n",
    "## The height and width shrunk because Conv2d doesn't zero pad by defualt\n",
    "## 2 images"
   ]
  },
  {
   "cell_type": "code",
   "execution_count": 8,
   "id": "82430eb9-4acf-42ff-a956-aef66856198e",
   "metadata": {},
   "outputs": [],
   "source": [
    "conv_layer = tf.keras.layers.Conv2D(filters=32, kernel_size=7,\n",
    "                                   padding='same') ## Zero padding\n",
    "fmaps = conv_layer(images)"
   ]
  },
  {
   "cell_type": "code",
   "execution_count": 10,
   "id": "bc668b6e-2582-4c66-8517-2f29ed39d095",
   "metadata": {},
   "outputs": [
    {
     "data": {
      "text/plain": [
       "TensorShape([2, 70, 120, 32])"
      ]
     },
     "execution_count": 10,
     "metadata": {},
     "output_type": "execute_result"
    }
   ],
   "source": [
    "fmaps.shape"
   ]
  },
  {
   "cell_type": "code",
   "execution_count": 15,
   "id": "adf9030a-8405-4471-9806-514e0a92ac35",
   "metadata": {},
   "outputs": [
    {
     "data": {
      "text/plain": [
       "(32,)"
      ]
     },
     "execution_count": 15,
     "metadata": {},
     "output_type": "execute_result"
    }
   ],
   "source": [
    "kernels, biases = conv_layer.get_weights()\n",
    "biases.shape\n",
    "## 1d shape [output_channels]"
   ]
  },
  {
   "cell_type": "code",
   "execution_count": 16,
   "id": "c16871da-c0a6-4c30-a64a-21a15a350493",
   "metadata": {},
   "outputs": [
    {
     "data": {
      "text/plain": [
       "(7, 7, 3, 32)"
      ]
     },
     "execution_count": 16,
     "metadata": {},
     "output_type": "execute_result"
    }
   ],
   "source": [
    "kernels.shape\n",
    "## 4d shape [kernel_height, kernel_width, input_channels, output_channels]"
   ]
  },
  {
   "cell_type": "markdown",
   "id": "c61920a4-bd8b-43f3-a26d-cefffa6f92a4",
   "metadata": {},
   "source": [
    "<b>You should also add activation functions and kernel_initilizers to Convolutional layers, for the same reasons as Dense layers"
   ]
  },
  {
   "cell_type": "markdown",
   "id": "df5f7a70-fdf6-4acd-a7a4-152c504a70f5",
   "metadata": {},
   "source": [
    "## Pooling Layers"
   ]
  },
  {
   "cell_type": "markdown",
   "id": "981accab-297f-4d9e-b18a-a2c6ad3ab340",
   "metadata": {},
   "source": [
    "Pooling layers are ment to subsample(i.e. shrink) the input image in order to reduce the computational load, the memory usage, and the number of parameters(thereby limiting the risk of overfitting)"
   ]
  },
  {
   "cell_type": "code",
   "execution_count": null,
   "id": "7c5f6f50-f783-4cdd-9378-eb58d6d05c01",
   "metadata": {},
   "outputs": [],
   "source": []
  }
 ],
 "metadata": {
  "kernelspec": {
   "display_name": "Python 3 (ipykernel)",
   "language": "python",
   "name": "python3"
  },
  "language_info": {
   "codemirror_mode": {
    "name": "ipython",
    "version": 3
   },
   "file_extension": ".py",
   "mimetype": "text/x-python",
   "name": "python",
   "nbconvert_exporter": "python",
   "pygments_lexer": "ipython3",
   "version": "3.12.3"
  }
 },
 "nbformat": 4,
 "nbformat_minor": 5
}
