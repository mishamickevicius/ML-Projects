{
 "cells": [
  {
   "cell_type": "markdown",
   "id": "f1cc6901-a76b-48f2-b687-9da92cbe4243",
   "metadata": {},
   "source": [
    "# NLP with RNNs and Attention"
   ]
  },
  {
   "cell_type": "markdown",
   "id": "721a08a2-0e0a-4e6f-bb55-0345260479d6",
   "metadata": {},
   "source": [
    "## Using Character RNNs"
   ]
  },
  {
   "cell_type": "markdown",
   "id": "b299306f-5eaf-41fd-aea6-dcd7cc49f388",
   "metadata": {},
   "source": [
    "Character RNNs or char-RNNs are RNNs that try to predict the next character or word in a sentence allowing them to generate text"
   ]
  },
  {
   "cell_type": "markdown",
   "id": "b1a130d0-6b08-45a9-b78d-c6eeb99255d8",
   "metadata": {},
   "source": [
    "### Example of Generating Text"
   ]
  },
  {
   "cell_type": "markdown",
   "id": "06cb3d4b-2fbd-4470-b10e-bd92491c41e6",
   "metadata": {},
   "source": [
    "#### Data Prep"
   ]
  },
  {
   "cell_type": "code",
   "execution_count": 1,
   "id": "f72af078-9894-40b7-9770-f3ed4fbd87fe",
   "metadata": {},
   "outputs": [
    {
     "name": "stderr",
     "output_type": "stream",
     "text": [
      "2025-04-28 17:16:27.900687: I tensorflow/core/util/port.cc:153] oneDNN custom operations are on. You may see slightly different numerical results due to floating-point round-off errors from different computation orders. To turn them off, set the environment variable `TF_ENABLE_ONEDNN_OPTS=0`.\n",
      "2025-04-28 17:16:28.076025: E external/local_xla/xla/stream_executor/cuda/cuda_fft.cc:477] Unable to register cuFFT factory: Attempting to register factory for plugin cuFFT when one has already been registered\n",
      "WARNING: All log messages before absl::InitializeLog() is called are written to STDERR\n",
      "E0000 00:00:1745878588.137224    6157 cuda_dnn.cc:8310] Unable to register cuDNN factory: Attempting to register factory for plugin cuDNN when one has already been registered\n",
      "E0000 00:00:1745878588.156235    6157 cuda_blas.cc:1418] Unable to register cuBLAS factory: Attempting to register factory for plugin cuBLAS when one has already been registered\n",
      "2025-04-28 17:16:28.316953: I tensorflow/core/platform/cpu_feature_guard.cc:210] This TensorFlow binary is optimized to use available CPU instructions in performance-critical operations.\n",
      "To enable the following instructions: AVX2 AVX512F AVX512_VNNI FMA, in other operations, rebuild TensorFlow with the appropriate compiler flags.\n"
     ]
    }
   ],
   "source": [
    "import numpy as np\n",
    "import tensorflow as tf"
   ]
  },
  {
   "cell_type": "code",
   "execution_count": 2,
   "id": "bbe78f05-5c4b-4e77-94af-2a2b214eaaa2",
   "metadata": {},
   "outputs": [],
   "source": [
    "shakespeare_url = 'https://homl.info/shakespeare'\n",
    "filepath = tf.keras.utils.get_file('shakespeare.txt', shakespeare_url)\n",
    "with open(filepath) as f:\n",
    "    shakespeare_text = f.read()"
   ]
  },
  {
   "cell_type": "code",
   "execution_count": 3,
   "id": "b90a556e-36aa-4db0-a1f1-2ffb904dc0d8",
   "metadata": {},
   "outputs": [
    {
     "name": "stdout",
     "output_type": "stream",
     "text": [
      "First Citizen:\n",
      "Before we proceed any further, hear me speak.\n",
      "\n",
      "All:\n",
      "Speak, speak.\n"
     ]
    }
   ],
   "source": [
    "print(shakespeare_text[:80])"
   ]
  },
  {
   "cell_type": "code",
   "execution_count": 4,
   "id": "573ae37a-62df-4acf-9eb4-aedb32740db3",
   "metadata": {},
   "outputs": [
    {
     "name": "stderr",
     "output_type": "stream",
     "text": [
      "I0000 00:00:1745878590.746484    6157 gpu_device.cc:2022] Created device /job:localhost/replica:0/task:0/device:GPU:0 with 9656 MB memory:  -> device: 0, name: NVIDIA GeForce RTX 3060, pci bus id: 0000:01:00.0, compute capability: 8.6\n"
     ]
    }
   ],
   "source": [
    "## Encode text\n",
    "text_vec_layer = tf.keras.layers.TextVectorization(split='character', standardize='lower')\n",
    "text_vec_layer.adapt([shakespeare_text])\n",
    "encoded = text_vec_layer([shakespeare_text][0])"
   ]
  },
  {
   "cell_type": "code",
   "execution_count": 5,
   "id": "89fcc343-5184-43ad-b658-327af04ca22e",
   "metadata": {},
   "outputs": [],
   "source": [
    "encoded -= 2  ### Drop tokens 0 (pad) and 1 (unknown) which we will not use\n",
    "n_tokens = text_vec_layer.vocabulary_size() - 2 ### Number of distinct chars \n",
    "dataset_size = len(encoded) ### Total number of chars"
   ]
  },
  {
   "cell_type": "code",
   "execution_count": 6,
   "id": "2f9b1112-0adf-4fc4-9a90-0c75c4fcf3bd",
   "metadata": {},
   "outputs": [],
   "source": [
    "### Convert to sequences so the model can guess the next character\n",
    "def to_dataset(sequence, length, shuffle=False, seed=None, batch_size=32):\n",
    "    ds = tf.data.Dataset.from_tensor_slices(sequence)\n",
    "    ds = ds.window(length + 1, shift=1, drop_remainder=True)\n",
    "    ds = ds.flat_map(lambda window_ds: window_ds.batch(length + 1))\n",
    "    if shuffle:\n",
    "        ds = ds.shuffle(buffer_size=100_000, seed=seed)\n",
    "    ds = ds.batch(batch_size)\n",
    "    return ds.map(lambda window: (window[:, :-1], window[:, 1:])).prefetch(1)"
   ]
  },
  {
   "cell_type": "code",
   "execution_count": 7,
   "id": "9af1c692-c6b6-4df5-bb3f-c8d7f17394c2",
   "metadata": {},
   "outputs": [],
   "source": [
    "length = 100\n",
    "tf.random.set_seed(42)\n",
    "\n",
    "train_set = to_dataset(encoded[:1_000_000], length=length, shuffle=True,\n",
    "                      seed=42)\n",
    "valid_set = to_dataset(encoded[1_000_000:1_060_000], length=length)\n",
    "test_set = to_dataset(encoded[1_060_000:], length=length)"
   ]
  },
  {
   "cell_type": "markdown",
   "id": "cc67b9a4-54ae-4c5f-b309-55f6c5334246",
   "metadata": {},
   "source": [
    "#### Building Char-RNN Model"
   ]
  },
  {
   "cell_type": "code",
   "execution_count": 8,
   "id": "8da1a728-9b79-4153-b722-be02cbffdb1a",
   "metadata": {
    "scrolled": true
   },
   "outputs": [],
   "source": [
    "# model = tf.keras.Sequential([\n",
    "#     tf.keras.layers.Embedding(input_dim=n_tokens, output_dim=16),\n",
    "#     tf.keras.layers.GRU(128, return_sequences=True),\n",
    "#     tf.keras.layers.Dense(n_tokens, activation='softmax')\n",
    "# ])\n",
    "# model.compile(loss='sparse_categorical_crossentropy', optimizer='nadam',\n",
    "#              metrics=['accuracy'])\n",
    "# model_ckpt = tf.keras.callbacks.ModelCheckpoint(\n",
    "#     'my_shakespeare_model.keras', monitor='val_accuracy', save_best_only=True\n",
    "# )\n",
    "# history = model.fit(train_set, validation_data=valid_set, epochs=10,\n",
    "#                    callbacks=[model_ckpt])"
   ]
  },
  {
   "cell_type": "code",
   "execution_count": 9,
   "id": "a150c3ab-46c9-4bd5-a827-10a3ab83d75e",
   "metadata": {},
   "outputs": [],
   "source": [
    "model = tf.keras.models.load_model('my_shakespeare_model.keras')"
   ]
  },
  {
   "cell_type": "code",
   "execution_count": 10,
   "id": "c70ad3d9-4e22-407c-a4cc-b53089e71bda",
   "metadata": {},
   "outputs": [],
   "source": [
    "shakespeare_model = tf.keras.Sequential([\n",
    "    text_vec_layer,\n",
    "    tf.keras.layers.Lambda(lambda X: X - 2), ### NO pad or <UNK> tokens\n",
    "    model\n",
    "])"
   ]
  },
  {
   "cell_type": "code",
   "execution_count": 11,
   "id": "2cc1dfea-c0f3-4512-9089-e9ba1f3257cf",
   "metadata": {},
   "outputs": [
    {
     "name": "stdout",
     "output_type": "stream",
     "text": [
      "\u001b[1m1/1\u001b[0m \u001b[32m━━━━━━━━━━━━━━━━━━━━\u001b[0m\u001b[37m\u001b[0m \u001b[1m1s\u001b[0m 588ms/step\n"
     ]
    },
    {
     "name": "stderr",
     "output_type": "stream",
     "text": [
      "I0000 00:00:1745878592.950709    6224 cuda_dnn.cc:529] Loaded cuDNN version 90300\n"
     ]
    },
    {
     "data": {
      "text/plain": [
       "'e'"
      ]
     },
     "execution_count": 11,
     "metadata": {},
     "output_type": "execute_result"
    }
   ],
   "source": [
    "# Test Model\n",
    "test_input = tf.constant([\"To be or not to b\"])\n",
    "y_proba = shakespeare_model.predict(test_input)[0, -1]\n",
    "y_pred = tf.argmax(y_proba) ## Choose the most probable character ID\n",
    "text_vec_layer.get_vocabulary()[y_pred + 2]"
   ]
  },
  {
   "cell_type": "markdown",
   "id": "e1eebf20-0b0a-45eb-8575-f436045a5364",
   "metadata": {},
   "source": [
    "### Generating Fake SS Text"
   ]
  },
  {
   "cell_type": "code",
   "execution_count": 12,
   "id": "6e976979-6de8-496a-9ebd-b3c2de94deff",
   "metadata": {},
   "outputs": [
    {
     "data": {
      "text/plain": [
       "<tf.Tensor: shape=(1, 8), dtype=int64, numpy=array([[0, 0, 1, 1, 1, 0, 0, 0]])>"
      ]
     },
     "execution_count": 12,
     "metadata": {},
     "output_type": "execute_result"
    }
   ],
   "source": [
    "log_probas = tf.math.log([[0.5, 0.4, 0.1]])\n",
    "tf.random.set_seed(42)\n",
    "tf.random.categorical(log_probas, num_samples=8)"
   ]
  },
  {
   "cell_type": "code",
   "execution_count": 13,
   "id": "5f400874-6fbe-4a4a-9877-56ba3ff9ec68",
   "metadata": {},
   "outputs": [],
   "source": [
    "def next_char(text, temperature=1):\n",
    "    text = tf.constant([text])\n",
    "    y_proba = shakespeare_model.predict(text, verbose=0)[0, -1:]\n",
    "    rescaled_logits = tf.math.log(y_proba) / temperature\n",
    "    char_id = tf.random.categorical(rescaled_logits, num_samples=1)[0,0]\n",
    "    return text_vec_layer.get_vocabulary()[char_id + 2]"
   ]
  },
  {
   "cell_type": "code",
   "execution_count": 14,
   "id": "0dbd8bf3-d269-4c31-ae33-58202c1455de",
   "metadata": {},
   "outputs": [],
   "source": [
    "def extend_text(text, n_chars=50, temperature=1):\n",
    "    for _ in range(n_chars):\n",
    "        text += next_char(text, temperature)\n",
    "    return text"
   ]
  },
  {
   "cell_type": "code",
   "execution_count": 15,
   "id": "e843e476-7e0b-49db-ae9e-56c2808c4d59",
   "metadata": {
    "scrolled": true
   },
   "outputs": [
    {
     "name": "stdout",
     "output_type": "stream",
     "text": [
      "To be or not to be the duke?\n",
      "\n",
      "provost:\n",
      "i have some service of the du\n"
     ]
    }
   ],
   "source": [
    "print(extend_text('To be or not to be', temperature=0.01))"
   ]
  },
  {
   "cell_type": "code",
   "execution_count": 16,
   "id": "879a8fc4-67b2-482a-b3b3-1c4839fbaf3f",
   "metadata": {},
   "outputs": [
    {
     "name": "stdout",
     "output_type": "stream",
     "text": [
      "To be or not to begun broice\n",
      "and term parce of her jove to duke:\n",
      "yep\n"
     ]
    }
   ],
   "source": [
    "print(extend_text('To be or not to be', temperature=1))"
   ]
  },
  {
   "cell_type": "code",
   "execution_count": 17,
   "id": "6126dcd6-ce4e-4d5a-984b-08428c56615b",
   "metadata": {},
   "outputs": [
    {
     "name": "stdout",
     "output_type": "stream",
     "text": [
      "To be or not to beevicm-vilv!?$ez?gmjz :3?ljb'va;!td&\n",
      "i.ur3l'-j!3emq\n"
     ]
    }
   ],
   "source": [
    "print(extend_text('To be or not to be', temperature=100))"
   ]
  },
  {
   "cell_type": "markdown",
   "id": "1e80c0cb-b298-44ef-832f-c4f6a19836a0",
   "metadata": {},
   "source": [
    "### Stateful RNNs"
   ]
  },
  {
   "cell_type": "markdown",
   "id": "8adcb261-8afb-4928-b684-653cd4e06b8b",
   "metadata": {},
   "source": [
    "Stateful RNNs are RNNs that preserve the final state after processing a training batch. "
   ]
  },
  {
   "cell_type": "code",
   "execution_count": 18,
   "id": "62846db4-0cc9-422d-ae5f-9537bdbe2ce0",
   "metadata": {},
   "outputs": [],
   "source": [
    "def to_dataset_for_stateful_rnn(sequence, length):\n",
    "    ds = tf.data.Dataset.from_tensor_slices(sequence)\n",
    "    ds = ds.window(length + 1, shift=length, drop_remainder=True)\n",
    "    ds = ds.flat_map(lambda window: window.batch(length + 1)).batch(1)\n",
    "    return ds.map(lambda window: (window[:, :-1], window[:, 1:])).prefetch(1)\n",
    "\n",
    "stateful_train_set = to_dataset_for_stateful_rnn(encoded[:1_000_000], length)\n",
    "stateful_valid_set = to_dataset_for_stateful_rnn(encoded[1_000_000:1_060_000], length)\n",
    "stateful_test_set = to_dataset_for_stateful_rnn(encoded[1_060_000:], length)"
   ]
  },
  {
   "cell_type": "code",
   "execution_count": 25,
   "id": "97e04b71-85ea-42a3-82a1-3fd27c3ad3d4",
   "metadata": {},
   "outputs": [],
   "source": [
    "# model = tf.keras.Sequential([\n",
    "#     tf.keras.layers.Embedding(input_dim=n_tokens, output_dim=16,\n",
    "#                               input_shape=[None]),\n",
    "#     tf.keras.layers.GRU(128, return_sequences=True, stateful=True),\n",
    "#     tf.keras.layers.Dense(n_tokens, activation=\"softmax\")\n",
    "# ])"
   ]
  },
  {
   "cell_type": "markdown",
   "id": "c3d57697-13e3-4f18-bdda-73c17817aa6b",
   "metadata": {},
   "source": [
    "## Sentiment Analysis"
   ]
  },
  {
   "cell_type": "code",
   "execution_count": 26,
   "id": "a723c4bb-3da5-42ec-b301-6f778ad8a47a",
   "metadata": {},
   "outputs": [],
   "source": [
    "import tensorflow_datasets as tfds\n",
    "\n",
    "raw_train_set, raw_valid_set, raw_test_set = tfds.load(\n",
    "    name='imdb_reviews',\n",
    "    split=['train[:90%]', 'train[90%:]', 'test'],\n",
    "    as_supervised=True\n",
    ")\n",
    "tf.random.set_seed(1)\n",
    "train_set = raw_train_set.shuffle(5000, seed=42).batch(32).prefetch(1)\n",
    "valid_set = raw_valid_set.batch(32).prefetch(1)\n",
    "test_set = raw_test_set.batch(32).prefetch(1)"
   ]
  },
  {
   "cell_type": "code",
   "execution_count": 27,
   "id": "ea125a8a-ff7f-492a-b42e-f41455e2fcf8",
   "metadata": {
    "scrolled": true
   },
   "outputs": [
    {
     "name": "stdout",
     "output_type": "stream",
     "text": [
      "This was an absolutely terrible movie. Don't be lured in by Christopher Walken or Michael Ironside. Both are great actors, but this must simply be their worst role in history. Even their great acting could not redeem this movie's ridiculous storyline. This movie is an early nineties US propaganda piece. The most pathetic scenes were those when the Columbian rebels were making their cases for revolutions. Maria Conchita Alonso appeared phony, and her pseudo-love affair with Walken was nothing but a pathetic emotional plug in a movie that was devoid of any real meaning. I am disappointed that there are movies like this, ruining actor's like Christopher Walken's good name. I could barely sit through it.\n",
      "Label:  0\n",
      "I have been known to fall asleep during films, but this is usually due to a combination of things including, really tired, being warm and comfortable on the sette and having just eaten a lot. However on this occasion I fell asleep because the film was rubbish. The plot development was constant. Constantly slow and boring. Things seemed to happen, but with no explanation of what was causing them or why. I admit, I may have missed part of the film, but i watched the majority of it and everything just seemed to happen of its own accord without any real concern for anything else. I cant recommend this film at all.\n",
      "Label:  0\n",
      "Mann photographs the Alberta Rocky Mountains in a superb fashion, and Jimmy Stewart and Walter Brennan give enjoyable performances as they always seem to do. <br /><br />But come on Hollywood - a Mountie telling the people of Dawson City, Yukon to elect themselves a marshal (yes a marshal!) and to enforce the law themselves, then gunfighters battling it out on the streets for control of the town? <br /><br />Nothing even remotely resembling that happened on the Canadian side of the border during the Klondike gold rush. Mr. Mann and company appear to have mistaken Dawson City for Deadwood, the Canadian North for the American Wild West.<br /><br />Canadian viewers be prepared for a Reefer Madness type of enjoyable howl with this ludicrous plot, or, to shake your head in disgust.\n",
      "Label:  0\n",
      "This is the kind of film for a snowy Sunday afternoon when the rest of the world can go ahead with its own business as you descend into a big arm-chair and mellow for a couple of hours. Wonderful performances from Cher and Nicolas Cage (as always) gently row the plot along. There are no rapids to cross, no dangerous waters, just a warm and witty paddle through New York life at its best. A family film in every sense and one that deserves the praise it received.\n",
      "Label:  1\n"
     ]
    },
    {
     "name": "stderr",
     "output_type": "stream",
     "text": [
      "2025-04-28 17:49:51.150146: I tensorflow/core/kernels/data/tf_record_dataset_op.cc:376] The default buffer size is 262144, which is overridden by the user specified `buffer_size` of 8388608\n",
      "2025-04-28 17:49:51.158863: W tensorflow/core/kernels/data/cache_dataset_ops.cc:914] The calling iterator did not fully read the dataset being cached. In order to avoid unexpected truncation of the dataset, the partially cached contents of the dataset  will be discarded. This can happen if you have an input pipeline similar to `dataset.cache().take(k).repeat()`. You should use `dataset.take(k).cache().repeat()` instead.\n",
      "2025-04-28 17:49:51.159225: I tensorflow/core/framework/local_rendezvous.cc:405] Local rendezvous is aborting with status: OUT_OF_RANGE: End of sequence\n"
     ]
    }
   ],
   "source": [
    "for review, label in raw_train_set.take(4):\n",
    "    print(review.numpy().decode('utf-8'))\n",
    "    print(\"Label: \", label.numpy())"
   ]
  },
  {
   "cell_type": "code",
   "execution_count": 28,
   "id": "d6ddbd20-440c-4477-ba2a-1e81d3a7495c",
   "metadata": {},
   "outputs": [
    {
     "name": "stderr",
     "output_type": "stream",
     "text": [
      "2025-04-28 17:55:11.750766: I tensorflow/core/framework/local_rendezvous.cc:405] Local rendezvous is aborting with status: OUT_OF_RANGE: End of sequence\n"
     ]
    }
   ],
   "source": [
    "vocab_size = 1000\n",
    "text_vec_layer = tf.keras.layers.TextVectorization(max_tokens=vocab_size)\n",
    "text_vec_layer.adapt(train_set.map(lambda reviews, labels: reviews))"
   ]
  },
  {
   "cell_type": "code",
   "execution_count": 29,
   "id": "c62c0ba3-5bbf-4543-a1ad-8f0e65f22e15",
   "metadata": {},
   "outputs": [
    {
     "name": "stdout",
     "output_type": "stream",
     "text": [
      "Epoch 1/2\n",
      "\u001b[1m704/704\u001b[0m \u001b[32m━━━━━━━━━━━━━━━━━━━━\u001b[0m\u001b[37m\u001b[0m \u001b[1m19s\u001b[0m 24ms/step - accuracy: 0.5041 - loss: 0.6936 - val_accuracy: 0.5016 - val_loss: 0.6929\n",
      "Epoch 2/2\n",
      "\u001b[1m704/704\u001b[0m \u001b[32m━━━━━━━━━━━━━━━━━━━━\u001b[0m\u001b[37m\u001b[0m \u001b[1m16s\u001b[0m 23ms/step - accuracy: 0.5084 - loss: 0.6929 - val_accuracy: 0.5000 - val_loss: 0.6962\n"
     ]
    }
   ],
   "source": [
    "embed_size = 128\n",
    "model = tf.keras.Sequential([\n",
    "    text_vec_layer,\n",
    "    tf.keras.layers.Embedding(vocab_size, embed_size),\n",
    "    tf.keras.layers.GRU(128),\n",
    "    tf.keras.layers.Dense(1, activation='sigmoid')\n",
    "])\n",
    "model.compile(loss='binary_crossentropy', optimizer='nadam', metrics=['accuracy'])\n",
    "history = model.fit(train_set, validation_data=valid_set, epochs=2)"
   ]
  },
  {
   "cell_type": "markdown",
   "id": "a3a02b58-d569-4954-9f39-6bbc99ee4c62",
   "metadata": {},
   "source": [
    "The reason the model doesn't perform well is because the reviews all have different lengths and some are very short when comparied to the longest one. To solve this we need to use masking"
   ]
  },
  {
   "cell_type": "markdown",
   "id": "366a4207-b55b-41fd-8b81-922a786ba16c",
   "metadata": {},
   "source": [
    "### Masking"
   ]
  },
  {
   "cell_type": "code",
   "execution_count": null,
   "id": "43cb03e6-f95f-42a8-846b-d8c24090db24",
   "metadata": {},
   "outputs": [],
   "source": []
  }
 ],
 "metadata": {
  "kernelspec": {
   "display_name": "Python 3 (ipykernel)",
   "language": "python",
   "name": "python3"
  },
  "language_info": {
   "codemirror_mode": {
    "name": "ipython",
    "version": 3
   },
   "file_extension": ".py",
   "mimetype": "text/x-python",
   "name": "python",
   "nbconvert_exporter": "python",
   "pygments_lexer": "ipython3",
   "version": "3.12.3"
  }
 },
 "nbformat": 4,
 "nbformat_minor": 5
}
