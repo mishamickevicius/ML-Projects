{
 "cells": [
  {
   "cell_type": "markdown",
   "id": "f1cc6901-a76b-48f2-b687-9da92cbe4243",
   "metadata": {},
   "source": [
    "# NLP with RNNs and Attention"
   ]
  },
  {
   "cell_type": "markdown",
   "id": "721a08a2-0e0a-4e6f-bb55-0345260479d6",
   "metadata": {},
   "source": [
    "## Using Character RNNs"
   ]
  },
  {
   "cell_type": "markdown",
   "id": "b299306f-5eaf-41fd-aea6-dcd7cc49f388",
   "metadata": {},
   "source": [
    "Character RNNs or char-RNNs are RNNs that try to predict the next character or word in a sentence allowing them to generate text"
   ]
  },
  {
   "cell_type": "markdown",
   "id": "b1a130d0-6b08-45a9-b78d-c6eeb99255d8",
   "metadata": {},
   "source": [
    "### Example of Generating Text"
   ]
  },
  {
   "cell_type": "markdown",
   "id": "06cb3d4b-2fbd-4470-b10e-bd92491c41e6",
   "metadata": {},
   "source": [
    "#### Data Prep"
   ]
  },
  {
   "cell_type": "code",
   "execution_count": 19,
   "id": "f72af078-9894-40b7-9770-f3ed4fbd87fe",
   "metadata": {},
   "outputs": [],
   "source": [
    "import numpy as np\n",
    "import tensorflow as tf"
   ]
  },
  {
   "cell_type": "code",
   "execution_count": 2,
   "id": "bbe78f05-5c4b-4e77-94af-2a2b214eaaa2",
   "metadata": {},
   "outputs": [
    {
     "name": "stdout",
     "output_type": "stream",
     "text": [
      "Downloading data from https://homl.info/shakespeare\n",
      "\u001b[1m1115394/1115394\u001b[0m \u001b[32m━━━━━━━━━━━━━━━━━━━━\u001b[0m\u001b[37m\u001b[0m \u001b[1m0s\u001b[0m 0us/step\n"
     ]
    }
   ],
   "source": [
    "shakespeare_url = 'https://homl.info/shakespeare'\n",
    "filepath = tf.keras.utils.get_file('shakespeare.txt', shakespeare_url)\n",
    "with open(filepath) as f:\n",
    "    shakespeare_text = f.read()"
   ]
  },
  {
   "cell_type": "code",
   "execution_count": 3,
   "id": "b90a556e-36aa-4db0-a1f1-2ffb904dc0d8",
   "metadata": {},
   "outputs": [
    {
     "name": "stdout",
     "output_type": "stream",
     "text": [
      "First Citizen:\n",
      "Before we proceed any further, hear me speak.\n",
      "\n",
      "All:\n",
      "Speak, speak.\n"
     ]
    }
   ],
   "source": [
    "print(shakespeare_text[:80])"
   ]
  },
  {
   "cell_type": "code",
   "execution_count": 4,
   "id": "573ae37a-62df-4acf-9eb4-aedb32740db3",
   "metadata": {},
   "outputs": [
    {
     "name": "stderr",
     "output_type": "stream",
     "text": [
      "I0000 00:00:1743221447.696809    4591 gpu_device.cc:2022] Created device /job:localhost/replica:0/task:0/device:GPU:0 with 9710 MB memory:  -> device: 0, name: NVIDIA GeForce RTX 3060, pci bus id: 0000:01:00.0, compute capability: 8.6\n"
     ]
    }
   ],
   "source": [
    "## Encode text\n",
    "text_vec_layer = tf.keras.layers.TextVectorization(split='character', standardize='lower')\n",
    "text_vec_layer.adapt([shakespeare_text])\n",
    "encoded = text_vec_layer([shakespeare_text][0])"
   ]
  },
  {
   "cell_type": "code",
   "execution_count": 7,
   "id": "89fcc343-5184-43ad-b658-327af04ca22e",
   "metadata": {},
   "outputs": [],
   "source": [
    "encoded -= 2  ### Drop tokens 0 (pad) and 1 (unknown) which we will not use\n",
    "n_tokens = text_vec_layer.vocabulary_size() - 2 ### Number of distinct chars \n",
    "dataset_size = len(encoded) ### Total number of chars"
   ]
  },
  {
   "cell_type": "code",
   "execution_count": 8,
   "id": "2f9b1112-0adf-4fc4-9a90-0c75c4fcf3bd",
   "metadata": {},
   "outputs": [],
   "source": [
    "### Convert to sequences so the model can guess the next character\n",
    "def to_dataset(sequence, length, shuffle=False, seed=None, batch_size=32):\n",
    "    ds = tf.data.Dataset.from_tensor_slices(sequence)\n",
    "    ds = ds.window(length + 1, shift=1, drop_remainder=True)\n",
    "    ds = ds.flat_map(lambda window_ds: window_ds.batch(length + 1))\n",
    "    if shuffle:\n",
    "        ds = ds.shuffle(buffer_size=100_000, seed=seed)\n",
    "    ds = ds.batch(batch_size)\n",
    "    return ds.map(lambda window: (window[:, :-1], window[:, 1:])).prefetch(1)"
   ]
  },
  {
   "cell_type": "code",
   "execution_count": 9,
   "id": "9af1c692-c6b6-4df5-bb3f-c8d7f17394c2",
   "metadata": {},
   "outputs": [],
   "source": [
    "length = 100\n",
    "tf.random.set_seed(42)\n",
    "\n",
    "train_set = to_dataset(encoded[:1_000_000], length=length, shuffle=True,\n",
    "                      seed=42)\n",
    "valid_set = to_dataset(encoded[1_000_000:1_060_000], length=length)\n",
    "test_set = to_dataset(encoded[1_060_000:], length=length)"
   ]
  },
  {
   "cell_type": "markdown",
   "id": "cc67b9a4-54ae-4c5f-b309-55f6c5334246",
   "metadata": {},
   "source": [
    "#### Building Char-RNN Model"
   ]
  },
  {
   "cell_type": "code",
   "execution_count": 22,
   "id": "8da1a728-9b79-4153-b722-be02cbffdb1a",
   "metadata": {
    "scrolled": true
   },
   "outputs": [],
   "source": [
    "# model = tf.keras.Sequential([\n",
    "#     tf.keras.layers.Embedding(input_dim=n_tokens, output_dim=16),\n",
    "#     tf.keras.layers.GRU(128, return_sequences=True),\n",
    "#     tf.keras.layers.Dense(n_tokens, activation='softmax')\n",
    "# ])\n",
    "# model.compile(loss='sparse_categorical_crossentropy', optimizer='nadam',\n",
    "#              metrics=['accuracy'])\n",
    "# model_ckpt = tf.keras.callbacks.ModelCheckpoint(\n",
    "#     'my_shakespeare_model.keras', monitor='val_accuracy', save_best_only=True\n",
    "# )\n",
    "# history = model.fit(train_set, validation_data=valid_set, epochs=10,\n",
    "#                    callbacks=[model_ckpt])"
   ]
  },
  {
   "cell_type": "code",
   "execution_count": 23,
   "id": "a150c3ab-46c9-4bd5-a827-10a3ab83d75e",
   "metadata": {},
   "outputs": [],
   "source": [
    "model = tf.keras.models.load_model('my_shakespeare_model.keras')"
   ]
  },
  {
   "cell_type": "code",
   "execution_count": 24,
   "id": "c70ad3d9-4e22-407c-a4cc-b53089e71bda",
   "metadata": {},
   "outputs": [],
   "source": [
    "shakespeare_model = tf.keras.Sequential([\n",
    "    text_vec_layer,\n",
    "    tf.keras.layers.Lambda(lambda X: X - 2), ### NO pad or <UNK> tokens\n",
    "    model\n",
    "])"
   ]
  },
  {
   "cell_type": "code",
   "execution_count": 25,
   "id": "2cc1dfea-c0f3-4512-9089-e9ba1f3257cf",
   "metadata": {},
   "outputs": [
    {
     "name": "stdout",
     "output_type": "stream",
     "text": [
      "\u001b[1m1/1\u001b[0m \u001b[32m━━━━━━━━━━━━━━━━━━━━\u001b[0m\u001b[37m\u001b[0m \u001b[1m0s\u001b[0m 111ms/step\n"
     ]
    },
    {
     "data": {
      "text/plain": [
       "'e'"
      ]
     },
     "execution_count": 25,
     "metadata": {},
     "output_type": "execute_result"
    }
   ],
   "source": [
    "# Test Model\n",
    "test_input = tf.constant([\"To be or not to b\"])\n",
    "y_proba = shakespeare_model.predict(test_input)[0, -1]\n",
    "y_pred = tf.argmax(y_proba) ## Choose the most probable character ID\n",
    "text_vec_layer.get_vocabulary()[y_pred + 2]"
   ]
  },
  {
   "cell_type": "markdown",
   "id": "e1eebf20-0b0a-45eb-8575-f436045a5364",
   "metadata": {},
   "source": [
    "### Generating Fake SS Text"
   ]
  },
  {
   "cell_type": "code",
   "execution_count": null,
   "id": "6e976979-6de8-496a-9ebd-b3c2de94deff",
   "metadata": {},
   "outputs": [],
   "source": []
  }
 ],
 "metadata": {
  "kernelspec": {
   "display_name": "Python 3 (ipykernel)",
   "language": "python",
   "name": "python3"
  },
  "language_info": {
   "codemirror_mode": {
    "name": "ipython",
    "version": 3
   },
   "file_extension": ".py",
   "mimetype": "text/x-python",
   "name": "python",
   "nbconvert_exporter": "python",
   "pygments_lexer": "ipython3",
   "version": "3.12.3"
  }
 },
 "nbformat": 4,
 "nbformat_minor": 5
}
