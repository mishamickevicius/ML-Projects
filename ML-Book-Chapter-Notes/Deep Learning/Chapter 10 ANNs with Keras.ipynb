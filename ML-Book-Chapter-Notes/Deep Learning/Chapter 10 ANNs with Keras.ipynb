{
 "cells": [
  {
   "cell_type": "markdown",
   "id": "ce6a5dbd-630c-43bb-bb39-b69635821e0c",
   "metadata": {},
   "source": [
    "# ANNs With Keras"
   ]
  },
  {
   "cell_type": "markdown",
   "id": "98dfb5ab-d134-4f35-8a5e-51b973841ec9",
   "metadata": {},
   "source": [
    "## The Perceptron Architecture"
   ]
  },
  {
   "cell_type": "markdown",
   "id": "4846b82f-3814-4b28-95a2-f55c2d9ebe2d",
   "metadata": {},
   "source": [
    "If the data follows a linear pattern then the Perceptron model will converge"
   ]
  },
  {
   "cell_type": "code",
   "execution_count": 1,
   "id": "30541a7e-9416-4ae8-9a99-4cb063446fce",
   "metadata": {},
   "outputs": [],
   "source": [
    "import numpy as np\n",
    "from sklearn.datasets import load_iris\n",
    "from sklearn.linear_model import Perceptron\n",
    "\n",
    "iris = load_iris(as_frame=True)\n",
    "X = iris.data[[\"petal length (cm)\", \"petal width (cm)\"]].values\n",
    "y = (iris.target == 0) # Only the iris setosa class\n",
    "\n",
    "per_clf = Perceptron(random_state=42)\n",
    "per_clf.fit(X,y)\n",
    "\n",
    "X_new = [[2,0.5], [3,1]]\n",
    "y_pred = per_clf.predict(X_new) # Predicts true or false for these 2 flowers"
   ]
  },
  {
   "cell_type": "markdown",
   "id": "d41ad3b2-d48e-40f9-b13f-983ae671161e",
   "metadata": {},
   "source": [
    "The sklearn Perceptron = SGDClassifier with a constant learning rate."
   ]
  },
  {
   "cell_type": "markdown",
   "id": "d46e6e0d-0d06-44a9-bea2-b84cc2029dfc",
   "metadata": {},
   "source": [
    "## The Multilayer Perceptron(MLP) and Backpropagation"
   ]
  },
  {
   "cell_type": "markdown",
   "id": "02bcd29c-6fa6-44db-b4c9-712784708730",
   "metadata": {},
   "source": [
    "An MLP is composed of one input layer, one or more layers of Threshold Logic Units(TLUs) called hidden layers, and one final layer of TLUs called the output layer. The layers close to the input layer are called the lower layers and the ones close to the outputs are usually called the upper layers. <b>If the signal flows only in one direction (from the inputs to the outputs), then it is an example of a feedforward neural network(FNN).</b> <br> If an ANN contains a deep stack of hidden layers, it is called a deep neural network(DNN). "
   ]
  },
  {
   "cell_type": "markdown",
   "id": "7ce73827-7c96-4245-9884-96f20a3eb98b",
   "metadata": {},
   "source": [
    "To train MLPs you do <b>Backpropagation</b> which involves a combination of reverse-mode autodiff and gradient descent. With reverse-mode autodiff you can go through the model forward and backwords once and be able to calculate the gradient with respect to each weight and bias of the model. You can use this gradiant to tweak each the model in order to reduce the neural network's error. Repeat this enough times and the model will eventually reach a minimum. Backpropagation is the most popular training technique for Neural Networks"
   ]
  },
  {
   "cell_type": "markdown",
   "id": "c90d0fae-a540-442b-8955-482bfc4de81f",
   "metadata": {},
   "source": [
    "The 3 most common activation functions are:\n",
    "1. The Sigmoid Function\n",
    "2. The hyperbolic tangent function\n",
    "3. The rectified linear unit function(ReLU)"
   ]
  },
  {
   "cell_type": "markdown",
   "id": "8719acae-eed1-40b3-987c-fc3a41104261",
   "metadata": {},
   "source": [
    "## Regression MLPs"
   ]
  },
  {
   "cell_type": "markdown",
   "id": "eeba4f2c-1545-41a8-ae6d-c271b2403e0f",
   "metadata": {},
   "source": [
    "For most regression MLPs you only need one output neuron. However, for multivariate regression(i.e. to predict multiple values at once.) you need one output neuron for each output dimension. An example of multivariate regression is if you want to find the center of an object in an image, you need a 2d coordiante, therefore you need two output neurons. If you want to make a box around the object then you also need a width and a height output, now you need 4 output neurons. "
   ]
  },
  {
   "cell_type": "code",
   "execution_count": 2,
   "id": "a753a182-caa3-44f0-9f1c-4858b9bc7d49",
   "metadata": {},
   "outputs": [
    {
     "name": "stderr",
     "output_type": "stream",
     "text": [
      "/home/dude/Desktop/env/lib/python3.11/site-packages/sklearn/metrics/_regression.py:483: FutureWarning: 'squared' is deprecated in version 1.4 and will be removed in 1.6. To calculate the root mean squared error, use the function'root_mean_squared_error'.\n",
      "  warnings.warn(\n"
     ]
    }
   ],
   "source": [
    "### Regression MLP using Sklearn ###\n",
    "from sklearn.datasets import fetch_california_housing\n",
    "from sklearn.metrics import mean_squared_error\n",
    "from sklearn.model_selection import train_test_split\n",
    "from sklearn.neural_network import MLPRegressor\n",
    "from sklearn.pipeline import make_pipeline\n",
    "from sklearn.preprocessing import StandardScaler\n",
    "\n",
    "housing = fetch_california_housing()\n",
    "X_train_full, X_test, y_train_full, y_test = train_test_split(\n",
    "    housing.data, housing.target, random_state=42)\n",
    "X_train, X_valid, y_train, y_valid = train_test_split(\n",
    "    X_train_full, y_train_full, random_state=42)\n",
    "\n",
    "mlp_reg = MLPRegressor(hidden_layer_sizes=[50, 50, 50], random_state=42)\n",
    "pipeline = make_pipeline(StandardScaler(), mlp_reg)\n",
    "pipeline.fit(X_train, y_train)\n",
    "y_pred = pipeline.predict(X_valid)\n",
    "rmse = mean_squared_error(y_valid, y_pred, squared=False)"
   ]
  },
  {
   "cell_type": "code",
   "execution_count": 3,
   "id": "df22f61d-4ad7-4fb2-ab5d-8eb6c4debcf9",
   "metadata": {},
   "outputs": [
    {
     "data": {
      "text/plain": [
       "0.5053326657967985"
      ]
     },
     "execution_count": 3,
     "metadata": {},
     "output_type": "execute_result"
    }
   ],
   "source": [
    "rmse"
   ]
  },
  {
   "cell_type": "markdown",
   "id": "0abc74f8-99d8-4397-8ea1-a39848e439a8",
   "metadata": {},
   "source": [
    "Sklearn has simple, easy to use MLP classes and functions but has limited features. This is why Keras/Tensorflow/PyTorch is a better choice in most cases."
   ]
  },
  {
   "cell_type": "markdown",
   "id": "d7cca831-1ecb-4a42-9ad7-fd83d02ac3c3",
   "metadata": {},
   "source": [
    "## Classification MLPs"
   ]
  },
  {
   "cell_type": "markdown",
   "id": "f6b51c1e-b04a-40c3-ac33-e110a6b4390b",
   "metadata": {},
   "source": [
    "MLPs can also be used for classification tasks. For binary classification you need one output layer that will spit out a 0 or 1, and will most likly use a sigmoid activation function.<br> For multilabel binary classification tasks (ex. classifiying emails as spam or ham and simultaneously predict urgent or nonurgent.) you need an output neuron for each class both using sigmoid activation functions. The first would output the probablity for span or ham, and the 2nd the probability for urgent or nonurgent. <br> For multiclass classification (ex. MNIST dataset) you would need one output neuron for each class and should use the softmax activation function for the <b>whole output layer</b>"
   ]
  },
  {
   "cell_type": "markdown",
   "id": "457df8c1-9572-424f-ab66-848f38f4c35b",
   "metadata": {},
   "source": [
    "A typical loss function for predicting probability distributions is the cross-entropy loss. "
   ]
  },
  {
   "cell_type": "markdown",
   "id": "e1a568d3-2650-4550-8a3d-2f2957035bf2",
   "metadata": {},
   "source": [
    "## MLPs with Keras"
   ]
  },
  {
   "cell_type": "markdown",
   "id": "db62320a-eb80-4aad-9a62-efcd9fb1b4da",
   "metadata": {},
   "source": [
    "### Building an image classifier using Keras Sequential API"
   ]
  },
  {
   "cell_type": "markdown",
   "id": "c1e07ac4-6a6f-4136-b037-e95cd5ce5b19",
   "metadata": {},
   "source": [
    "#### Using keras to load dataset"
   ]
  },
  {
   "cell_type": "code",
   "execution_count": 4,
   "id": "47d89da0-a433-4fe3-ace8-601223ca774e",
   "metadata": {},
   "outputs": [
    {
     "name": "stderr",
     "output_type": "stream",
     "text": [
      "2024-12-27 14:12:29.788838: I tensorflow/core/util/port.cc:153] oneDNN custom operations are on. You may see slightly different numerical results due to floating-point round-off errors from different computation orders. To turn them off, set the environment variable `TF_ENABLE_ONEDNN_OPTS=0`.\n",
      "2024-12-27 14:12:29.932418: E external/local_xla/xla/stream_executor/cuda/cuda_fft.cc:477] Unable to register cuFFT factory: Attempting to register factory for plugin cuFFT when one has already been registered\n",
      "WARNING: All log messages before absl::InitializeLog() is called are written to STDERR\n",
      "E0000 00:00:1735330349.989859    3934 cuda_dnn.cc:8310] Unable to register cuDNN factory: Attempting to register factory for plugin cuDNN when one has already been registered\n",
      "E0000 00:00:1735330350.006581    3934 cuda_blas.cc:1418] Unable to register cuBLAS factory: Attempting to register factory for plugin cuBLAS when one has already been registered\n",
      "2024-12-27 14:12:30.147732: I tensorflow/core/platform/cpu_feature_guard.cc:210] This TensorFlow binary is optimized to use available CPU instructions in performance-critical operations.\n",
      "To enable the following instructions: AVX2 AVX512F AVX512_VNNI FMA, in other operations, rebuild TensorFlow with the appropriate compiler flags.\n"
     ]
    }
   ],
   "source": [
    "import tensorflow as tf"
   ]
  },
  {
   "cell_type": "code",
   "execution_count": 5,
   "id": "4dda4ae6-3e87-4789-9dcb-c587a73fc770",
   "metadata": {},
   "outputs": [],
   "source": [
    "fashion_mnist = tf.keras.datasets.fashion_mnist.load_data()\n",
    "(X_train_full, y_train_full), (X_test, y_test) = fashion_mnist\n",
    "X_train, y_train = X_train_full[:-5000], y_train_full[:-5000]\n",
    "X_val, y_val = X_train_full[-5000:], y_train_full[-5000:]"
   ]
  },
  {
   "cell_type": "code",
   "execution_count": 6,
   "id": "87df1a98-285e-4535-b998-be6570167f5b",
   "metadata": {},
   "outputs": [
    {
     "data": {
      "text/plain": [
       "(55000, 28, 28)"
      ]
     },
     "execution_count": 6,
     "metadata": {},
     "output_type": "execute_result"
    }
   ],
   "source": [
    "X_train.shape"
   ]
  },
  {
   "cell_type": "code",
   "execution_count": 7,
   "id": "bcdb23d9-ac9e-45f3-9a40-a0a9cf030c9b",
   "metadata": {},
   "outputs": [
    {
     "data": {
      "text/plain": [
       "dtype('uint8')"
      ]
     },
     "execution_count": 7,
     "metadata": {},
     "output_type": "execute_result"
    }
   ],
   "source": [
    "X_train.dtype"
   ]
  },
  {
   "cell_type": "code",
   "execution_count": 8,
   "id": "143f3242-4710-4f63-83ef-10bcd396c2a2",
   "metadata": {},
   "outputs": [],
   "source": [
    "# Scale pixel intensites down to scale of 0-1\n",
    "X_train, X_val, X_test = X_train / 255.0, X_val / 255.0, X_test / 255.0"
   ]
  },
  {
   "cell_type": "code",
   "execution_count": 9,
   "id": "1207817e-10ea-4633-b1e2-31f9fb2fbfd5",
   "metadata": {},
   "outputs": [],
   "source": [
    "class_names = [\"T-shirt/top\", \"Trouser\", \"Pullover\", \"Dress\", \"Coat\",\n",
    "               \"Sandal\", \"Shirt\", \"Sneaker\", \"Bag\", \"Ankle boot\"]"
   ]
  },
  {
   "cell_type": "code",
   "execution_count": 10,
   "id": "7b4e4885-a686-4f15-98d8-c37952a87887",
   "metadata": {},
   "outputs": [
    {
     "data": {
      "image/png": "[encoded data removed]",
      "text/plain": [
       "<Figure size 640x480 with 1 Axes>"
      ]
     },
     "metadata": {},
     "output_type": "display_data"
    }
   ],
   "source": [
    "# extra code\n",
    "import matplotlib.pyplot as plt\n",
    "\n",
    "plt.imshow(X_train[0], cmap=\"binary\")\n",
    "plt.axis('off')\n",
    "plt.show()"
   ]
  },
  {
   "cell_type": "code",
   "execution_count": 11,
   "id": "110d6b9c-94f1-4b0e-99e3-d22af0c242a6",
   "metadata": {},
   "outputs": [
    {
     "data": {
      "text/plain": [
       "'Ankle boot'"
      ]
     },
     "execution_count": 11,
     "metadata": {},
     "output_type": "execute_result"
    }
   ],
   "source": [
    "class_names[y_train[0]]"
   ]
  },
  {
   "cell_type": "markdown",
   "id": "aab577f0-5edd-419e-be9a-95f7a2a737bd",
   "metadata": {},
   "source": [
    "#### Creating the model using the sequential API"
   ]
  },
  {
   "cell_type": "code",
   "execution_count": 12,
   "id": "3de259c5-2abe-4f69-90f6-dfe10b07173e",
   "metadata": {
    "scrolled": true
   },
   "outputs": [
    {
     "name": "stderr",
     "output_type": "stream",
     "text": [
      "I0000 00:00:1735330352.743524    3934 gpu_device.cc:2022] Created device /job:localhost/replica:0/task:0/device:GPU:0 with 9780 MB memory:  -> device: 0, name: NVIDIA GeForce RTX 3060, pci bus id: 0000:01:00.0, compute capability: 8.6\n"
     ]
    }
   ],
   "source": [
    "## Multiclass Classification MLP with two hidden layers\n",
    "tf.random.set_seed(42)\n",
    "# Most basic keras model type\n",
    "model = tf.keras.Sequential()\n",
    "# Input layer\n",
    "model.add(tf.keras.layers.Input(shape=[28,28]))\n",
    "# Flatten layer converts the input image(2d) into a 1d array\n",
    "model.add(tf.keras.layers.Flatten())\n",
    "# First Dense layer\n",
    "model.add(tf.keras.layers.Dense(300, activation='relu'))\n",
    "# Second Dense layer\n",
    "model.add(tf.keras.layers.Dense(100, activation='relu'))\n",
    "# Output layer (Softmax activation function for multiclass classification)\n",
    "model.add(tf.keras.layers.Dense(10, activation='softmax'))"
   ]
  },
  {
   "cell_type": "code",
   "execution_count": 13,
   "id": "a175b041-6ed6-4bad-8d69-6501d8a78ff3",
   "metadata": {},
   "outputs": [
    {
     "data": {
      "text/html": [
       "<pre style=\"white-space:pre;overflow-x:auto;line-height:normal;font-family:Menlo,'DejaVu Sans Mono',consolas,'Courier New',monospace\"><span style=\"font-weight: bold\">Model: \"sequential\"</span>\n",
       "</pre>\n"
      ],
      "text/plain": [
       "\u001b[1mModel: \"sequential\"\u001b[0m\n"
      ]
     },
     "metadata": {},
     "output_type": "display_data"
    },
    {
     "data": {
      "text/html": [
       "<pre style=\"white-space:pre;overflow-x:auto;line-height:normal;font-family:Menlo,'DejaVu Sans Mono',consolas,'Courier New',monospace\">┏━━━━━━━━━━━━━━━━━━━━━━━━━━━━━━━━━┳━━━━━━━━━━━━━━━━━━━━━━━━┳━━━━━━━━━━━━━━━┓\n",
       "┃<span style=\"font-weight: bold\"> Layer (type)                    </span>┃<span style=\"font-weight: bold\"> Output Shape           </span>┃<span style=\"font-weight: bold\">       Param # </span>┃\n",
       "┡━━━━━━━━━━━━━━━━━━━━━━━━━━━━━━━━━╇━━━━━━━━━━━━━━━━━━━━━━━━╇━━━━━━━━━━━━━━━┩\n",
       "│ flatten (<span style=\"color: #0087ff; text-decoration-color: #0087ff\">Flatten</span>)               │ (<span style=\"color: #00d7ff; text-decoration-color: #00d7ff\">None</span>, <span style=\"color: #00af00; text-decoration-color: #00af00\">784</span>)            │             <span style=\"color: #00af00; text-decoration-color: #00af00\">0</span> │\n",
       "├─────────────────────────────────┼────────────────────────┼───────────────┤\n",
       "│ dense (<span style=\"color: #0087ff; text-decoration-color: #0087ff\">Dense</span>)                   │ (<span style=\"color: #00d7ff; text-decoration-color: #00d7ff\">None</span>, <span style=\"color: #00af00; text-decoration-color: #00af00\">300</span>)            │       <span style=\"color: #00af00; text-decoration-color: #00af00\">235,500</span> │\n",
       "├─────────────────────────────────┼────────────────────────┼───────────────┤\n",
       "│ dense_1 (<span style=\"color: #0087ff; text-decoration-color: #0087ff\">Dense</span>)                 │ (<span style=\"color: #00d7ff; text-decoration-color: #00d7ff\">None</span>, <span style=\"color: #00af00; text-decoration-color: #00af00\">100</span>)            │        <span style=\"color: #00af00; text-decoration-color: #00af00\">30,100</span> │\n",
       "├─────────────────────────────────┼────────────────────────┼───────────────┤\n",
       "│ dense_2 (<span style=\"color: #0087ff; text-decoration-color: #0087ff\">Dense</span>)                 │ (<span style=\"color: #00d7ff; text-decoration-color: #00d7ff\">None</span>, <span style=\"color: #00af00; text-decoration-color: #00af00\">10</span>)             │         <span style=\"color: #00af00; text-decoration-color: #00af00\">1,010</span> │\n",
       "└─────────────────────────────────┴────────────────────────┴───────────────┘\n",
       "</pre>\n"
      ],
      "text/plain": [
       "┏━━━━━━━━━━━━━━━━━━━━━━━━━━━━━━━━━┳━━━━━━━━━━━━━━━━━━━━━━━━┳━━━━━━━━━━━━━━━┓\n",
       "┃\u001b[1m \u001b[0m\u001b[1mLayer (type)                   \u001b[0m\u001b[1m \u001b[0m┃\u001b[1m \u001b[0m\u001b[1mOutput Shape          \u001b[0m\u001b[1m \u001b[0m┃\u001b[1m \u001b[0m\u001b[1m      Param #\u001b[0m\u001b[1m \u001b[0m┃\n",
       "┡━━━━━━━━━━━━━━━━━━━━━━━━━━━━━━━━━╇━━━━━━━━━━━━━━━━━━━━━━━━╇━━━━━━━━━━━━━━━┩\n",
       "│ flatten (\u001b[38;5;33mFlatten\u001b[0m)               │ (\u001b[38;5;45mNone\u001b[0m, \u001b[38;5;34m784\u001b[0m)            │             \u001b[38;5;34m0\u001b[0m │\n",
       "├─────────────────────────────────┼────────────────────────┼───────────────┤\n",
       "│ dense (\u001b[38;5;33mDense\u001b[0m)                   │ (\u001b[38;5;45mNone\u001b[0m, \u001b[38;5;34m300\u001b[0m)            │       \u001b[38;5;34m235,500\u001b[0m │\n",
       "├─────────────────────────────────┼────────────────────────┼───────────────┤\n",
       "│ dense_1 (\u001b[38;5;33mDense\u001b[0m)                 │ (\u001b[38;5;45mNone\u001b[0m, \u001b[38;5;34m100\u001b[0m)            │        \u001b[38;5;34m30,100\u001b[0m │\n",
       "├─────────────────────────────────┼────────────────────────┼───────────────┤\n",
       "│ dense_2 (\u001b[38;5;33mDense\u001b[0m)                 │ (\u001b[38;5;45mNone\u001b[0m, \u001b[38;5;34m10\u001b[0m)             │         \u001b[38;5;34m1,010\u001b[0m │\n",
       "└─────────────────────────────────┴────────────────────────┴───────────────┘\n"
      ]
     },
     "metadata": {},
     "output_type": "display_data"
    },
    {
     "data": {
      "text/html": [
       "<pre style=\"white-space:pre;overflow-x:auto;line-height:normal;font-family:Menlo,'DejaVu Sans Mono',consolas,'Courier New',monospace\"><span style=\"font-weight: bold\"> Total params: </span><span style=\"color: #00af00; text-decoration-color: #00af00\">266,610</span> (1.02 MB)\n",
       "</pre>\n"
      ],
      "text/plain": [
       "\u001b[1m Total params: \u001b[0m\u001b[38;5;34m266,610\u001b[0m (1.02 MB)\n"
      ]
     },
     "metadata": {},
     "output_type": "display_data"
    },
    {
     "data": {
      "text/html": [
       "<pre style=\"white-space:pre;overflow-x:auto;line-height:normal;font-family:Menlo,'DejaVu Sans Mono',consolas,'Courier New',monospace\"><span style=\"font-weight: bold\"> Trainable params: </span><span style=\"color: #00af00; text-decoration-color: #00af00\">266,610</span> (1.02 MB)\n",
       "</pre>\n"
      ],
      "text/plain": [
       "\u001b[1m Trainable params: \u001b[0m\u001b[38;5;34m266,610\u001b[0m (1.02 MB)\n"
      ]
     },
     "metadata": {},
     "output_type": "display_data"
    },
    {
     "data": {
      "text/html": [
       "<pre style=\"white-space:pre;overflow-x:auto;line-height:normal;font-family:Menlo,'DejaVu Sans Mono',consolas,'Courier New',monospace\"><span style=\"font-weight: bold\"> Non-trainable params: </span><span style=\"color: #00af00; text-decoration-color: #00af00\">0</span> (0.00 B)\n",
       "</pre>\n"
      ],
      "text/plain": [
       "\u001b[1m Non-trainable params: \u001b[0m\u001b[38;5;34m0\u001b[0m (0.00 B)\n"
      ]
     },
     "metadata": {},
     "output_type": "display_data"
    }
   ],
   "source": [
    "model.summary()\n",
    "# Note the None in output shape means that the batch size can be anything"
   ]
  },
  {
   "cell_type": "code",
   "execution_count": 14,
   "id": "e83b49eb-e6e6-4038-8807-0742e0a616a9",
   "metadata": {},
   "outputs": [
    {
     "data": {
      "image/png": "[encoded data removed]",
      "text/plain": [
       "<IPython.core.display.Image object>"
      ]
     },
     "execution_count": 14,
     "metadata": {},
     "output_type": "execute_result"
    }
   ],
   "source": [
    "tf.keras.utils.plot_model(model, \"my_fashion_mnist_model.png\", show_shapes=True)"
   ]
  },
  {
   "cell_type": "code",
   "execution_count": 15,
   "id": "1c0db04e-5d51-4aec-b0fc-05d1b2a76342",
   "metadata": {},
   "outputs": [
    {
     "data": {
      "text/plain": [
       "[<Flatten name=flatten, built=True>,\n",
       " <Dense name=dense, built=True>,\n",
       " <Dense name=dense_1, built=True>,\n",
       " <Dense name=dense_2, built=True>]"
      ]
     },
     "execution_count": 15,
     "metadata": {},
     "output_type": "execute_result"
    }
   ],
   "source": [
    "model.layers"
   ]
  },
  {
   "cell_type": "code",
   "execution_count": 16,
   "id": "a6121fd8-ad9c-4a5e-ad0e-7a05149735d4",
   "metadata": {},
   "outputs": [
    {
     "data": {
      "text/plain": [
       "'dense'"
      ]
     },
     "execution_count": 16,
     "metadata": {},
     "output_type": "execute_result"
    }
   ],
   "source": [
    "hidden1 = model.layers[1]\n",
    "hidden1.name"
   ]
  },
  {
   "cell_type": "code",
   "execution_count": 17,
   "id": "b959a5d7-5d0c-463c-9d7c-e9e1ce90a694",
   "metadata": {},
   "outputs": [
    {
     "data": {
      "text/plain": [
       "True"
      ]
     },
     "execution_count": 17,
     "metadata": {},
     "output_type": "execute_result"
    }
   ],
   "source": [
    "model.get_layer('dense') is hidden1"
   ]
  },
  {
   "cell_type": "code",
   "execution_count": 18,
   "id": "7f019c5d-8c93-48d7-b090-caf30e3d7d94",
   "metadata": {},
   "outputs": [
    {
     "data": {
      "text/plain": [
       "array([[-0.00522371,  0.01764508,  0.01549866, ...,  0.03694203,\n",
       "        -0.06801098, -0.07309876],\n",
       "       [-0.01640331,  0.00638187, -0.0278893 , ..., -0.04144843,\n",
       "         0.01120392,  0.01167277],\n",
       "       [-0.01460849,  0.05912505, -0.06152848, ...,  0.06080131,\n",
       "        -0.00766315, -0.03334498],\n",
       "       ...,\n",
       "       [ 0.03784613,  0.03945225, -0.04918448, ...,  0.01548465,\n",
       "         0.03958238, -0.01928575],\n",
       "       [-0.05540912, -0.05373131, -0.04037182, ..., -0.01956551,\n",
       "         0.04642498, -0.07345944],\n",
       "       [ 0.02933878,  0.06160253, -0.05250075, ..., -0.06592617,\n",
       "        -0.05621678,  0.04746698]], dtype=float32)"
      ]
     },
     "execution_count": 18,
     "metadata": {},
     "output_type": "execute_result"
    }
   ],
   "source": [
    "weights, biases = hidden1.get_weights()\n",
    "weights\n",
    "# Weights should be Non 0 and should all be different in order for backpropagation to work"
   ]
  },
  {
   "cell_type": "code",
   "execution_count": 19,
   "id": "54b00b76-bf59-47a2-ab7d-da6386acde55",
   "metadata": {},
   "outputs": [
    {
     "data": {
      "text/plain": [
       "(784, 300)"
      ]
     },
     "execution_count": 19,
     "metadata": {},
     "output_type": "execute_result"
    }
   ],
   "source": [
    "weights.shape"
   ]
  },
  {
   "cell_type": "code",
   "execution_count": 20,
   "id": "bb1cb39e-db4f-43f8-b718-6d22b428c24a",
   "metadata": {},
   "outputs": [
    {
     "data": {
      "text/plain": [
       "array([0., 0., 0., 0., 0., 0., 0., 0., 0., 0., 0., 0., 0., 0., 0., 0., 0.,\n",
       "       0., 0., 0., 0., 0., 0., 0., 0., 0., 0., 0., 0., 0., 0., 0., 0., 0.,\n",
       "       0., 0., 0., 0., 0., 0., 0., 0., 0., 0., 0., 0., 0., 0., 0., 0., 0.,\n",
       "       0., 0., 0., 0., 0., 0., 0., 0., 0., 0., 0., 0., 0., 0., 0., 0., 0.,\n",
       "       0., 0., 0., 0., 0., 0., 0., 0., 0., 0., 0., 0., 0., 0., 0., 0., 0.,\n",
       "       0., 0., 0., 0., 0., 0., 0., 0., 0., 0., 0., 0., 0., 0., 0., 0., 0.,\n",
       "       0., 0., 0., 0., 0., 0., 0., 0., 0., 0., 0., 0., 0., 0., 0., 0., 0.,\n",
       "       0., 0., 0., 0., 0., 0., 0., 0., 0., 0., 0., 0., 0., 0., 0., 0., 0.,\n",
       "       0., 0., 0., 0., 0., 0., 0., 0., 0., 0., 0., 0., 0., 0., 0., 0., 0.,\n",
       "       0., 0., 0., 0., 0., 0., 0., 0., 0., 0., 0., 0., 0., 0., 0., 0., 0.,\n",
       "       0., 0., 0., 0., 0., 0., 0., 0., 0., 0., 0., 0., 0., 0., 0., 0., 0.,\n",
       "       0., 0., 0., 0., 0., 0., 0., 0., 0., 0., 0., 0., 0., 0., 0., 0., 0.,\n",
       "       0., 0., 0., 0., 0., 0., 0., 0., 0., 0., 0., 0., 0., 0., 0., 0., 0.,\n",
       "       0., 0., 0., 0., 0., 0., 0., 0., 0., 0., 0., 0., 0., 0., 0., 0., 0.,\n",
       "       0., 0., 0., 0., 0., 0., 0., 0., 0., 0., 0., 0., 0., 0., 0., 0., 0.,\n",
       "       0., 0., 0., 0., 0., 0., 0., 0., 0., 0., 0., 0., 0., 0., 0., 0., 0.,\n",
       "       0., 0., 0., 0., 0., 0., 0., 0., 0., 0., 0., 0., 0., 0., 0., 0., 0.,\n",
       "       0., 0., 0., 0., 0., 0., 0., 0., 0., 0., 0.], dtype=float32)"
      ]
     },
     "execution_count": 20,
     "metadata": {},
     "output_type": "execute_result"
    }
   ],
   "source": [
    "biases"
   ]
  },
  {
   "cell_type": "code",
   "execution_count": 21,
   "id": "01fe0549-b395-4d51-b518-c6ced867ca51",
   "metadata": {},
   "outputs": [
    {
     "data": {
      "text/plain": [
       "(300,)"
      ]
     },
     "execution_count": 21,
     "metadata": {},
     "output_type": "execute_result"
    }
   ],
   "source": [
    "biases.shape"
   ]
  },
  {
   "cell_type": "markdown",
   "id": "8343be17-866e-4709-abd0-a066cc602fbb",
   "metadata": {},
   "source": [
    "#### Compiling the Model"
   ]
  },
  {
   "cell_type": "code",
   "execution_count": 22,
   "id": "72d0a3bb-4097-4391-8943-a6b164e261d3",
   "metadata": {},
   "outputs": [],
   "source": [
    "model.compile(loss='sparse_categorical_crossentropy', ## This is used because we have sparse labels and it is multiclass classification\n",
    "             optimizer='sgd', ## SGD means stochastic gradient descent. \n",
    "             metrics=['accuracy']) ## Since this is a classifier, accuracy is a simple metric to use"
   ]
  },
  {
   "cell_type": "markdown",
   "id": "b735ef3d-48c1-4962-a922-8e11f7030ff1",
   "metadata": {},
   "source": [
    "#### Training and Evaluating the Model"
   ]
  },
  {
   "cell_type": "code",
   "execution_count": 23,
   "id": "f8ee156b-126d-4109-9a6c-05298245cec9",
   "metadata": {
    "scrolled": true
   },
   "outputs": [
    {
     "name": "stdout",
     "output_type": "stream",
     "text": [
      "Epoch 1/30\n"
     ]
    },
    {
     "name": "stderr",
     "output_type": "stream",
     "text": [
      "WARNING: All log messages before absl::InitializeLog() is called are written to STDERR\n",
      "I0000 00:00:1735330353.919872    4055 service.cc:148] XLA service 0x78ea34005420 initialized for platform CUDA (this does not guarantee that XLA will be used). Devices:\n",
      "I0000 00:00:1735330353.919990    4055 service.cc:156]   StreamExecutor device (0): NVIDIA GeForce RTX 3060, Compute Capability 8.6\n",
      "2024-12-27 14:12:33.933249: I tensorflow/compiler/mlir/tensorflow/utils/dump_mlir_util.cc:268] disabling MLIR crash reproducer, set env var `MLIR_CRASH_REPRODUCER_DIRECTORY` to enable.\n",
      "I0000 00:00:1735330353.973809    4055 cuda_dnn.cc:529] Loaded cuDNN version 90300\n",
      "2024-12-27 14:12:33.995120: W external/local_xla/xla/service/gpu/nvptx_compiler.cc:930] The NVIDIA driver's CUDA version is 12.3 which is older than the PTX compiler version 12.5.82. Because the driver is older than the PTX compiler version, XLA is disabling parallel compilation, which may slow down compilation. You should update your NVIDIA driver or use the NVIDIA-provided CUDA forward compatibility packages.\n",
      "2024-12-27 14:12:35.688319: I external/local_xla/xla/stream_executor/cuda/cuda_asm_compiler.cc:397] ptxas warning : Registers are spilled to local memory in function 'gemm_fusion_dot_38', 476 bytes spill stores, 512 bytes spill loads\n",
      "\n"
     ]
    },
    {
     "name": "stdout",
     "output_type": "stream",
     "text": [
      "\u001b[1m 192/1719\u001b[0m \u001b[32m━━\u001b[0m\u001b[37m━━━━━━━━━━━━━━━━━━\u001b[0m \u001b[1m1s\u001b[0m 791us/step - accuracy: 0.4474 - loss: 1.7475"
     ]
    },
    {
     "name": "stderr",
     "output_type": "stream",
     "text": [
      "I0000 00:00:1735330356.377639    4055 device_compiler.h:188] Compiled cluster using XLA!  This line is logged at most once for the lifetime of the process.\n"
     ]
    },
    {
     "name": "stdout",
     "output_type": "stream",
     "text": [
      "\u001b[1m1698/1719\u001b[0m \u001b[32m━━━━━━━━━━━━━━━━━━━\u001b[0m\u001b[37m━\u001b[0m \u001b[1m0s\u001b[0m 801us/step - accuracy: 0.6836 - loss: 0.9969"
     ]
    },
    {
     "name": "stderr",
     "output_type": "stream",
     "text": [
      "2024-12-27 14:12:38.494829: I external/local_xla/xla/stream_executor/cuda/cuda_asm_compiler.cc:397] ptxas warning : Registers are spilled to local memory in function 'gemm_fusion_dot_38', 460 bytes spill stores, 496 bytes spill loads\n",
      "\n"
     ]
    },
    {
     "name": "stdout",
     "output_type": "stream",
     "text": [
      "\u001b[1m1719/1719\u001b[0m \u001b[32m━━━━━━━━━━━━━━━━━━━━\u001b[0m\u001b[37m\u001b[0m \u001b[1m0s\u001b[0m 2ms/step - accuracy: 0.6846 - loss: 0.9935  "
     ]
    },
    {
     "name": "stderr",
     "output_type": "stream",
     "text": [
      "2024-12-27 14:12:41.455922: I external/local_xla/xla/stream_executor/cuda/cuda_asm_compiler.cc:397] ptxas warning : Registers are spilled to local memory in function 'gemm_fusion_dot_36', 276 bytes spill stores, 332 bytes spill loads\n",
      "\n"
     ]
    },
    {
     "name": "stdout",
     "output_type": "stream",
     "text": [
      "\u001b[1m1719/1719\u001b[0m \u001b[32m━━━━━━━━━━━━━━━━━━━━\u001b[0m\u001b[37m\u001b[0m \u001b[1m8s\u001b[0m 3ms/step - accuracy: 0.6847 - loss: 0.9933 - val_accuracy: 0.8294 - val_loss: 0.5015\n",
      "Epoch 2/30\n",
      "\u001b[1m1719/1719\u001b[0m \u001b[32m━━━━━━━━━━━━━━━━━━━━\u001b[0m\u001b[37m\u001b[0m \u001b[1m1s\u001b[0m 853us/step - accuracy: 0.8275 - loss: 0.5042 - val_accuracy: 0.8410 - val_loss: 0.4542\n",
      "Epoch 3/30\n",
      "\u001b[1m1719/1719\u001b[0m \u001b[32m━━━━━━━━━━━━━━━━━━━━\u001b[0m\u001b[37m\u001b[0m \u001b[1m1s\u001b[0m 852us/step - accuracy: 0.8430 - loss: 0.4524 - val_accuracy: 0.8468 - val_loss: 0.4319\n",
      "Epoch 4/30\n",
      "\u001b[1m1719/1719\u001b[0m \u001b[32m━━━━━━━━━━━━━━━━━━━━\u001b[0m\u001b[37m\u001b[0m \u001b[1m2s\u001b[0m 894us/step - accuracy: 0.8523 - loss: 0.4228 - val_accuracy: 0.8524 - val_loss: 0.4161\n",
      "Epoch 5/30\n",
      "\u001b[1m1719/1719\u001b[0m \u001b[32m━━━━━━━━━━━━━━━━━━━━\u001b[0m\u001b[37m\u001b[0m \u001b[1m2s\u001b[0m 877us/step - accuracy: 0.8590 - loss: 0.4015 - val_accuracy: 0.8544 - val_loss: 0.4031\n",
      "Epoch 6/30\n",
      "\u001b[1m1719/1719\u001b[0m \u001b[32m━━━━━━━━━━━━━━━━━━━━\u001b[0m\u001b[37m\u001b[0m \u001b[1m2s\u001b[0m 875us/step - accuracy: 0.8643 - loss: 0.3845 - val_accuracy: 0.8560 - val_loss: 0.3937\n",
      "Epoch 7/30\n",
      "\u001b[1m1719/1719\u001b[0m \u001b[32m━━━━━━━━━━━━━━━━━━━━\u001b[0m\u001b[37m\u001b[0m \u001b[1m2s\u001b[0m 885us/step - accuracy: 0.8685 - loss: 0.3703 - val_accuracy: 0.8588 - val_loss: 0.3866\n",
      "Epoch 8/30\n",
      "\u001b[1m1719/1719\u001b[0m \u001b[32m━━━━━━━━━━━━━━━━━━━━\u001b[0m\u001b[37m\u001b[0m \u001b[1m2s\u001b[0m 888us/step - accuracy: 0.8728 - loss: 0.3581 - val_accuracy: 0.8612 - val_loss: 0.3798\n",
      "Epoch 9/30\n",
      "\u001b[1m1719/1719\u001b[0m \u001b[32m━━━━━━━━━━━━━━━━━━━━\u001b[0m\u001b[37m\u001b[0m \u001b[1m1s\u001b[0m 861us/step - accuracy: 0.8760 - loss: 0.3470 - val_accuracy: 0.8620 - val_loss: 0.3745\n",
      "Epoch 10/30\n",
      "\u001b[1m1719/1719\u001b[0m \u001b[32m━━━━━━━━━━━━━━━━━━━━\u001b[0m\u001b[37m\u001b[0m \u001b[1m2s\u001b[0m 876us/step - accuracy: 0.8787 - loss: 0.3370 - val_accuracy: 0.8646 - val_loss: 0.3702\n",
      "Epoch 11/30\n",
      "\u001b[1m1719/1719\u001b[0m \u001b[32m━━━━━━━━━━━━━━━━━━━━\u001b[0m\u001b[37m\u001b[0m \u001b[1m2s\u001b[0m 892us/step - accuracy: 0.8820 - loss: 0.3279 - val_accuracy: 0.8658 - val_loss: 0.3673\n",
      "Epoch 12/30\n",
      "\u001b[1m1719/1719\u001b[0m \u001b[32m━━━━━━━━━━━━━━━━━━━━\u001b[0m\u001b[37m\u001b[0m \u001b[1m2s\u001b[0m 917us/step - accuracy: 0.8842 - loss: 0.3196 - val_accuracy: 0.8668 - val_loss: 0.3626\n",
      "Epoch 13/30\n",
      "\u001b[1m1719/1719\u001b[0m \u001b[32m━━━━━━━━━━━━━━━━━━━━\u001b[0m\u001b[37m\u001b[0m \u001b[1m2s\u001b[0m 944us/step - accuracy: 0.8872 - loss: 0.3120 - val_accuracy: 0.8686 - val_loss: 0.3593\n",
      "Epoch 14/30\n",
      "\u001b[1m1719/1719\u001b[0m \u001b[32m━━━━━━━━━━━━━━━━━━━━\u001b[0m\u001b[37m\u001b[0m \u001b[1m2s\u001b[0m 1ms/step - accuracy: 0.8896 - loss: 0.3047 - val_accuracy: 0.8694 - val_loss: 0.3566\n",
      "Epoch 15/30\n",
      "\u001b[1m1719/1719\u001b[0m \u001b[32m━━━━━━━━━━━━━━━━━━━━\u001b[0m\u001b[37m\u001b[0m \u001b[1m2s\u001b[0m 882us/step - accuracy: 0.8923 - loss: 0.2981 - val_accuracy: 0.8708 - val_loss: 0.3544\n",
      "Epoch 16/30\n",
      "\u001b[1m1719/1719\u001b[0m \u001b[32m━━━━━━━━━━━━━━━━━━━━\u001b[0m\u001b[37m\u001b[0m \u001b[1m2s\u001b[0m 876us/step - accuracy: 0.8943 - loss: 0.2919 - val_accuracy: 0.8714 - val_loss: 0.3532\n",
      "Epoch 17/30\n",
      "\u001b[1m1719/1719\u001b[0m \u001b[32m━━━━━━━━━━━━━━━━━━━━\u001b[0m\u001b[37m\u001b[0m \u001b[1m1s\u001b[0m 858us/step - accuracy: 0.8964 - loss: 0.2858 - val_accuracy: 0.8726 - val_loss: 0.3522\n",
      "Epoch 18/30\n",
      "\u001b[1m1719/1719\u001b[0m \u001b[32m━━━━━━━━━━━━━━━━━━━━\u001b[0m\u001b[37m\u001b[0m \u001b[1m1s\u001b[0m 850us/step - accuracy: 0.8981 - loss: 0.2802 - val_accuracy: 0.8744 - val_loss: 0.3506\n",
      "Epoch 19/30\n",
      "\u001b[1m1719/1719\u001b[0m \u001b[32m━━━━━━━━━━━━━━━━━━━━\u001b[0m\u001b[37m\u001b[0m \u001b[1m2s\u001b[0m 865us/step - accuracy: 0.9007 - loss: 0.2747 - val_accuracy: 0.8756 - val_loss: 0.3504\n",
      "Epoch 20/30\n",
      "\u001b[1m1719/1719\u001b[0m \u001b[32m━━━━━━━━━━━━━━━━━━━━\u001b[0m\u001b[37m\u001b[0m \u001b[1m1s\u001b[0m 859us/step - accuracy: 0.9031 - loss: 0.2693 - val_accuracy: 0.8738 - val_loss: 0.3495\n",
      "Epoch 21/30\n",
      "\u001b[1m1719/1719\u001b[0m \u001b[32m━━━━━━━━━━━━━━━━━━━━\u001b[0m\u001b[37m\u001b[0m \u001b[1m1s\u001b[0m 850us/step - accuracy: 0.9053 - loss: 0.2643 - val_accuracy: 0.8750 - val_loss: 0.3491\n",
      "Epoch 22/30\n",
      "\u001b[1m1719/1719\u001b[0m \u001b[32m━━━━━━━━━━━━━━━━━━━━\u001b[0m\u001b[37m\u001b[0m \u001b[1m2s\u001b[0m 890us/step - accuracy: 0.9065 - loss: 0.2595 - val_accuracy: 0.8736 - val_loss: 0.3477\n",
      "Epoch 23/30\n",
      "\u001b[1m1719/1719\u001b[0m \u001b[32m━━━━━━━━━━━━━━━━━━━━\u001b[0m\u001b[37m\u001b[0m \u001b[1m2s\u001b[0m 885us/step - accuracy: 0.9084 - loss: 0.2546 - val_accuracy: 0.8756 - val_loss: 0.3486\n",
      "Epoch 24/30\n",
      "\u001b[1m1719/1719\u001b[0m \u001b[32m━━━━━━━━━━━━━━━━━━━━\u001b[0m\u001b[37m\u001b[0m \u001b[1m1s\u001b[0m 843us/step - accuracy: 0.9099 - loss: 0.2501 - val_accuracy: 0.8768 - val_loss: 0.3477\n",
      "Epoch 25/30\n",
      "\u001b[1m1719/1719\u001b[0m \u001b[32m━━━━━━━━━━━━━━━━━━━━\u001b[0m\u001b[37m\u001b[0m \u001b[1m2s\u001b[0m 873us/step - accuracy: 0.9117 - loss: 0.2456 - val_accuracy: 0.8760 - val_loss: 0.3498\n",
      "Epoch 26/30\n",
      "\u001b[1m1719/1719\u001b[0m \u001b[32m━━━━━━━━━━━━━━━━━━━━\u001b[0m\u001b[37m\u001b[0m \u001b[1m2s\u001b[0m 890us/step - accuracy: 0.9137 - loss: 0.2415 - val_accuracy: 0.8746 - val_loss: 0.3492\n",
      "Epoch 27/30\n",
      "\u001b[1m1719/1719\u001b[0m \u001b[32m━━━━━━━━━━━━━━━━━━━━\u001b[0m\u001b[37m\u001b[0m \u001b[1m2s\u001b[0m 907us/step - accuracy: 0.9149 - loss: 0.2372 - val_accuracy: 0.8754 - val_loss: 0.3498\n",
      "Epoch 28/30\n",
      "\u001b[1m1719/1719\u001b[0m \u001b[32m━━━━━━━━━━━━━━━━━━━━\u001b[0m\u001b[37m\u001b[0m \u001b[1m2s\u001b[0m 1ms/step - accuracy: 0.9167 - loss: 0.2331 - val_accuracy: 0.8754 - val_loss: 0.3498\n",
      "Epoch 29/30\n",
      "\u001b[1m1719/1719\u001b[0m \u001b[32m━━━━━━━━━━━━━━━━━━━━\u001b[0m\u001b[37m\u001b[0m \u001b[1m2s\u001b[0m 933us/step - accuracy: 0.9186 - loss: 0.2292 - val_accuracy: 0.8762 - val_loss: 0.3509\n",
      "Epoch 30/30\n",
      "\u001b[1m1719/1719\u001b[0m \u001b[32m━━━━━━━━━━━━━━━━━━━━\u001b[0m\u001b[37m\u001b[0m \u001b[1m2s\u001b[0m 866us/step - accuracy: 0.9195 - loss: 0.2251 - val_accuracy: 0.8780 - val_loss: 0.3499\n"
     ]
    }
   ],
   "source": [
    "history = model.fit(X_train, y_train, epochs=30, validation_data=(X_val, y_val))"
   ]
  },
  {
   "cell_type": "markdown",
   "id": "7a26b852-9ce8-4e89-b1a8-5dd740fba94d",
   "metadata": {},
   "source": [
    "If performance on training data is much better than the performance on validation data then either the model is overfitting, or there is a bug, such as a data mismatch between the training and validation data"
   ]
  },
  {
   "cell_type": "code",
   "execution_count": 24,
   "id": "fbb9e602-03eb-4eab-989c-d0c64f071d5e",
   "metadata": {},
   "outputs": [
    {
     "data": {
      "image/png": "[encoded data removed]",
      "text/plain": [
       "<Figure size 800x500 with 1 Axes>"
      ]
     },
     "metadata": {},
     "output_type": "display_data"
    }
   ],
   "source": [
    "import pandas as pd\n",
    "\n",
    "pd.DataFrame(history.history).plot(\n",
    "    figsize=(8,5), xlim=[0, 29], ylim=[0,1], grid=True, xlabel='Epoch',\n",
    "    style=['r--', 'r--', 'b-', 'b-*'])\n",
    "plt.show()"
   ]
  },
  {
   "cell_type": "code",
   "execution_count": 25,
   "id": "b26ed803-4bd4-4a42-b95f-189a0246dcd4",
   "metadata": {},
   "outputs": [
    {
     "name": "stdout",
     "output_type": "stream",
     "text": [
      "\u001b[1m305/313\u001b[0m \u001b[32m━━━━━━━━━━━━━━━━━━━\u001b[0m\u001b[37m━\u001b[0m \u001b[1m0s\u001b[0m 827us/step - accuracy: 0.8743 - loss: 0.3680"
     ]
    },
    {
     "name": "stderr",
     "output_type": "stream",
     "text": [
      "2024-12-27 14:13:27.893972: I external/local_xla/xla/stream_executor/cuda/cuda_asm_compiler.cc:397] ptxas warning : Registers are spilled to local memory in function 'gemm_fusion_dot_36', 292 bytes spill stores, 360 bytes spill loads\n",
      "\n"
     ]
    },
    {
     "name": "stdout",
     "output_type": "stream",
     "text": [
      "\u001b[1m313/313\u001b[0m \u001b[32m━━━━━━━━━━━━━━━━━━━━\u001b[0m\u001b[37m\u001b[0m \u001b[1m1s\u001b[0m 5ms/step - accuracy: 0.8743 - loss: 0.3679\n"
     ]
    },
    {
     "data": {
      "text/plain": [
       "[0.3652370572090149, 0.8737000226974487]"
      ]
     },
     "execution_count": 25,
     "metadata": {},
     "output_type": "execute_result"
    }
   ],
   "source": [
    "model.evaluate(X_test, y_test)"
   ]
  },
  {
   "cell_type": "markdown",
   "id": "ccd66a97-83dd-490f-bb9e-e9f23b65651d",
   "metadata": {},
   "source": [
    "#### Using the Model to make predictions"
   ]
  },
  {
   "cell_type": "code",
   "execution_count": 26,
   "id": "8a8eec63-5810-46f1-8716-65b80afdb161",
   "metadata": {},
   "outputs": [
    {
     "name": "stderr",
     "output_type": "stream",
     "text": [
      "2024-12-27 14:13:29.010576: I external/local_xla/xla/stream_executor/cuda/cuda_asm_compiler.cc:397] ptxas warning : Registers are spilled to local memory in function 'gemm_fusion_dot_17', 276 bytes spill stores, 332 bytes spill loads\n",
      "\n"
     ]
    },
    {
     "name": "stdout",
     "output_type": "stream",
     "text": [
      "\u001b[1m1/1\u001b[0m \u001b[32m━━━━━━━━━━━━━━━━━━━━\u001b[0m\u001b[37m\u001b[0m \u001b[1m1s\u001b[0m 968ms/step\n"
     ]
    },
    {
     "data": {
      "text/plain": [
       "array([[0.  , 0.  , 0.  , 0.  , 0.  , 0.22, 0.  , 0.02, 0.  , 0.75],\n",
       "       [0.  , 0.  , 1.  , 0.  , 0.  , 0.  , 0.  , 0.  , 0.  , 0.  ],\n",
       "       [0.  , 1.  , 0.  , 0.  , 0.  , 0.  , 0.  , 0.  , 0.  , 0.  ]],\n",
       "      dtype=float32)"
      ]
     },
     "execution_count": 26,
     "metadata": {},
     "output_type": "execute_result"
    }
   ],
   "source": [
    "X_new = X_test[:3]\n",
    "y_proba = model.predict(X_new)\n",
    "y_proba.round(2)"
   ]
  },
  {
   "cell_type": "code",
   "execution_count": 27,
   "id": "bc232bc8-5f85-4e94-80a6-5efba88b727b",
   "metadata": {},
   "outputs": [
    {
     "data": {
      "text/plain": [
       "array([9, 2, 1])"
      ]
     },
     "execution_count": 27,
     "metadata": {},
     "output_type": "execute_result"
    }
   ],
   "source": [
    "# If you only want the predicted class not the probablities then use argmax()\n",
    "y_pred = y_proba.argmax(axis=-1)\n",
    "y_pred"
   ]
  },
  {
   "cell_type": "code",
   "execution_count": 28,
   "id": "d4294914-d899-464a-9685-7933d293a62d",
   "metadata": {},
   "outputs": [
    {
     "data": {
      "text/plain": [
       "array(['Ankle boot', 'Pullover', 'Trouser'], dtype='<U11')"
      ]
     },
     "execution_count": 28,
     "metadata": {},
     "output_type": "execute_result"
    }
   ],
   "source": [
    "np.array(class_names)[y_pred]"
   ]
  },
  {
   "cell_type": "markdown",
   "id": "84fa7272-0fc8-4e12-9900-7498e914627f",
   "metadata": {},
   "source": [
    "### Building a Regression MLP using the Sequential API"
   ]
  },
  {
   "cell_type": "code",
   "execution_count": 29,
   "id": "c5b0fced-b6a0-416d-846c-10969a63b55a",
   "metadata": {},
   "outputs": [],
   "source": [
    "housing = fetch_california_housing()\n",
    "X_train_full, X_test, y_train_full, y_test = train_test_split(\n",
    "    housing.data, housing.target, random_state=42)\n",
    "X_train, X_valid, y_train, y_valid = train_test_split(\n",
    "    X_train_full, y_train_full, random_state=42)"
   ]
  },
  {
   "cell_type": "code",
   "execution_count": 30,
   "id": "0243ab66-1af1-40a0-ad95-bbef6e080d37",
   "metadata": {
    "scrolled": true
   },
   "outputs": [
    {
     "name": "stdout",
     "output_type": "stream",
     "text": [
      "Epoch 1/20\n"
     ]
    },
    {
     "name": "stderr",
     "output_type": "stream",
     "text": [
      "/home/dude/Desktop/env/lib/python3.11/site-packages/keras/src/layers/preprocessing/tf_data_layer.py:19: UserWarning: Do not pass an `input_shape`/`input_dim` argument to a layer. When using Sequential models, prefer using an `Input(shape)` object as the first layer in the model instead.\n",
      "  super().__init__(**kwargs)\n"
     ]
    },
    {
     "name": "stdout",
     "output_type": "stream",
     "text": [
      "\u001b[1m363/363\u001b[0m \u001b[32m━━━━━━━━━━━━━━━━━━━━\u001b[0m\u001b[37m\u001b[0m \u001b[1m4s\u001b[0m 6ms/step - loss: 1.6779 - root_mean_squared_error: 1.2468 - val_loss: 0.3782 - val_root_mean_squared_error: 0.6149\n",
      "Epoch 2/20\n",
      "\u001b[1m363/363\u001b[0m \u001b[32m━━━━━━━━━━━━━━━━━━━━\u001b[0m\u001b[37m\u001b[0m \u001b[1m0s\u001b[0m 1ms/step - loss: 0.4008 - root_mean_squared_error: 0.6328 - val_loss: 0.6542 - val_root_mean_squared_error: 0.8088\n",
      "Epoch 3/20\n",
      "\u001b[1m363/363\u001b[0m \u001b[32m━━━━━━━━━━━━━━━━━━━━\u001b[0m\u001b[37m\u001b[0m \u001b[1m0s\u001b[0m 1ms/step - loss: 0.3636 - root_mean_squared_error: 0.6028 - val_loss: 0.6243 - val_root_mean_squared_error: 0.7901\n",
      "Epoch 4/20\n",
      "\u001b[1m363/363\u001b[0m \u001b[32m━━━━━━━━━━━━━━━━━━━━\u001b[0m\u001b[37m\u001b[0m \u001b[1m0s\u001b[0m 1ms/step - loss: 0.3506 - root_mean_squared_error: 0.5920 - val_loss: 0.5293 - val_root_mean_squared_error: 0.7276\n",
      "Epoch 5/20\n",
      "\u001b[1m363/363\u001b[0m \u001b[32m━━━━━━━━━━━━━━━━━━━━\u001b[0m\u001b[37m\u001b[0m \u001b[1m0s\u001b[0m 1ms/step - loss: 0.3406 - root_mean_squared_error: 0.5834 - val_loss: 0.5524 - val_root_mean_squared_error: 0.7433\n",
      "Epoch 6/20\n",
      "\u001b[1m363/363\u001b[0m \u001b[32m━━━━━━━━━━━━━━━━━━━━\u001b[0m\u001b[37m\u001b[0m \u001b[1m0s\u001b[0m 1ms/step - loss: 0.3318 - root_mean_squared_error: 0.5759 - val_loss: 0.9241 - val_root_mean_squared_error: 0.9613\n",
      "Epoch 7/20\n",
      "\u001b[1m363/363\u001b[0m \u001b[32m━━━━━━━━━━━━━━━━━━━━\u001b[0m\u001b[37m\u001b[0m \u001b[1m1s\u001b[0m 1ms/step - loss: 0.3268 - root_mean_squared_error: 0.5715 - val_loss: 0.6610 - val_root_mean_squared_error: 0.8130\n",
      "Epoch 8/20\n",
      "\u001b[1m363/363\u001b[0m \u001b[32m━━━━━━━━━━━━━━━━━━━━\u001b[0m\u001b[37m\u001b[0m \u001b[1m0s\u001b[0m 1ms/step - loss: 0.3161 - root_mean_squared_error: 0.5621 - val_loss: 0.3137 - val_root_mean_squared_error: 0.5601\n",
      "Epoch 9/20\n",
      "\u001b[1m363/363\u001b[0m \u001b[32m━━━━━━━━━━━━━━━━━━━━\u001b[0m\u001b[37m\u001b[0m \u001b[1m0s\u001b[0m 1ms/step - loss: 0.3096 - root_mean_squared_error: 0.5563 - val_loss: 0.3253 - val_root_mean_squared_error: 0.5704\n",
      "Epoch 10/20\n",
      "\u001b[1m363/363\u001b[0m \u001b[32m━━━━━━━━━━━━━━━━━━━━\u001b[0m\u001b[37m\u001b[0m \u001b[1m0s\u001b[0m 1ms/step - loss: 0.3045 - root_mean_squared_error: 0.5517 - val_loss: 0.2842 - val_root_mean_squared_error: 0.5331\n",
      "Epoch 11/20\n",
      "\u001b[1m363/363\u001b[0m \u001b[32m━━━━━━━━━━━━━━━━━━━━\u001b[0m\u001b[37m\u001b[0m \u001b[1m0s\u001b[0m 1ms/step - loss: 0.2996 - root_mean_squared_error: 0.5473 - val_loss: 0.2859 - val_root_mean_squared_error: 0.5347\n",
      "Epoch 12/20\n",
      "\u001b[1m363/363\u001b[0m \u001b[32m━━━━━━━━━━━━━━━━━━━━\u001b[0m\u001b[37m\u001b[0m \u001b[1m0s\u001b[0m 1ms/step - loss: 0.2961 - root_mean_squared_error: 0.5441 - val_loss: 0.2830 - val_root_mean_squared_error: 0.5320\n",
      "Epoch 13/20\n",
      "\u001b[1m363/363\u001b[0m \u001b[32m━━━━━━━━━━━━━━━━━━━━\u001b[0m\u001b[37m\u001b[0m \u001b[1m0s\u001b[0m 1ms/step - loss: 0.2922 - root_mean_squared_error: 0.5405 - val_loss: 0.2797 - val_root_mean_squared_error: 0.5289\n",
      "Epoch 14/20\n",
      "\u001b[1m363/363\u001b[0m \u001b[32m━━━━━━━━━━━━━━━━━━━━\u001b[0m\u001b[37m\u001b[0m \u001b[1m0s\u001b[0m 1ms/step - loss: 0.2910 - root_mean_squared_error: 0.5394 - val_loss: 0.2787 - val_root_mean_squared_error: 0.5279\n",
      "Epoch 15/20\n",
      "\u001b[1m363/363\u001b[0m \u001b[32m━━━━━━━━━━━━━━━━━━━━\u001b[0m\u001b[37m\u001b[0m \u001b[1m0s\u001b[0m 1ms/step - loss: 0.2885 - root_mean_squared_error: 0.5370 - val_loss: 0.2872 - val_root_mean_squared_error: 0.5359\n",
      "Epoch 16/20\n",
      "\u001b[1m363/363\u001b[0m \u001b[32m━━━━━━━━━━━━━━━━━━━━\u001b[0m\u001b[37m\u001b[0m \u001b[1m0s\u001b[0m 1ms/step - loss: 0.2844 - root_mean_squared_error: 0.5332 - val_loss: 0.2775 - val_root_mean_squared_error: 0.5268\n",
      "Epoch 17/20\n",
      "\u001b[1m363/363\u001b[0m \u001b[32m━━━━━━━━━━━━━━━━━━━━\u001b[0m\u001b[37m\u001b[0m \u001b[1m0s\u001b[0m 1ms/step - loss: 0.2818 - root_mean_squared_error: 0.5308 - val_loss: 0.2767 - val_root_mean_squared_error: 0.5261\n",
      "Epoch 18/20\n",
      "\u001b[1m363/363\u001b[0m \u001b[32m━━━━━━━━━━━━━━━━━━━━\u001b[0m\u001b[37m\u001b[0m \u001b[1m0s\u001b[0m 1ms/step - loss: 0.2800 - root_mean_squared_error: 0.5291 - val_loss: 0.2986 - val_root_mean_squared_error: 0.5464\n",
      "Epoch 19/20\n",
      "\u001b[1m363/363\u001b[0m \u001b[32m━━━━━━━━━━━━━━━━━━━━\u001b[0m\u001b[37m\u001b[0m \u001b[1m0s\u001b[0m 1ms/step - loss: 0.2777 - root_mean_squared_error: 0.5270 - val_loss: 0.2803 - val_root_mean_squared_error: 0.5294\n",
      "Epoch 20/20\n",
      "\u001b[1m363/363\u001b[0m \u001b[32m━━━━━━━━━━━━━━━━━━━━\u001b[0m\u001b[37m\u001b[0m \u001b[1m0s\u001b[0m 1ms/step - loss: 0.2776 - root_mean_squared_error: 0.5268 - val_loss: 0.2822 - val_root_mean_squared_error: 0.5312\n",
      "\u001b[1m162/162\u001b[0m \u001b[32m━━━━━━━━━━━━━━━━━━━━\u001b[0m\u001b[37m\u001b[0m \u001b[1m1s\u001b[0m 3ms/step - loss: 0.2816 - root_mean_squared_error: 0.5305 \n",
      "\u001b[1m1/1\u001b[0m \u001b[32m━━━━━━━━━━━━━━━━━━━━\u001b[0m\u001b[37m\u001b[0m \u001b[1m0s\u001b[0m 404ms/step\n"
     ]
    },
    {
     "data": {
      "text/plain": [
       "array([[0.4647627 ],\n",
       "       [0.98089117],\n",
       "       [4.9577417 ]], dtype=float32)"
      ]
     },
     "execution_count": 30,
     "metadata": {},
     "output_type": "execute_result"
    }
   ],
   "source": [
    "# Very similar process to Classifer with Sequential API\n",
    "tf.random.set_seed(42)\n",
    "## Normalization layer does the same thing as Sklearns StandardScaler\n",
    "norm_layer = tf.keras.layers.Normalization(input_shape=X_train.shape[1:]) \n",
    "model = tf.keras.Sequential([\n",
    "    norm_layer,\n",
    "    tf.keras.layers.Dense(50, activation='relu'),\n",
    "    tf.keras.layers.Dense(50, activation='relu'),\n",
    "    tf.keras.layers.Dense(50, activation='relu'),\n",
    "    tf.keras.layers.Dense(1)\n",
    "])\n",
    "optimizer = tf.keras.optimizers.Adam(learning_rate=1e-3)\n",
    "model.compile(loss='mse', optimizer=optimizer, metrics=[tf.metrics.RootMeanSquaredError])\n",
    "norm_layer.adapt(X_train)\n",
    "history = model.fit(X_train, y_train, epochs=20, validation_data=(X_valid, y_valid))\n",
    "\n",
    "mse_test, rmse_test = model.evaluate(X_test, y_test)\n",
    "X_new = X_test[:3]\n",
    "y_pred = model.predict(X_new)\n",
    "y_pred"
   ]
  },
  {
   "cell_type": "markdown",
   "id": "e0542493-e0c7-43c1-afa6-aa2b6fc98117",
   "metadata": {},
   "source": [
    "### Building Complex Models Using the Functional API"
   ]
  },
  {
   "cell_type": "code",
   "execution_count": 31,
   "id": "2bc4b75c-1720-4d76-8c43-2238a2389f4e",
   "metadata": {},
   "outputs": [],
   "source": [
    "## Based on the wide & deep neural network\n",
    "normalization_layer = tf.keras.layers.Normalization()\n",
    "hidden_layer1 = tf.keras.layers.Dense(30, activation='relu')\n",
    "hidden_layer2 = tf.keras.layers.Dense(30, activation='relu')\n",
    "concat_layer = tf.keras.layers.Concatenate()\n",
    "output_layer = tf.keras.layers.Dense(1)\n",
    "\n",
    "input_ = tf.keras.layers.Input(shape=X_train.shape[1:])\n",
    "normalized = normalization_layer(input_)\n",
    "hidden1 = hidden_layer1(normalized)\n",
    "hidden2 = hidden_layer2(hidden1)\n",
    "concat = concat_layer([normalized, hidden2])\n",
    "output = output_layer(concat)\n",
    "\n",
    "model = tf.keras.Model(inputs=[input_], outputs=[output])\n",
    "### Use this model just like the sequential ones before ###"
   ]
  },
  {
   "cell_type": "code",
   "execution_count": 32,
   "id": "9037a16b-5cd0-47a2-a738-db06a146e2f7",
   "metadata": {
    "scrolled": true
   },
   "outputs": [
    {
     "data": {
      "image/png": "[encoded data removed]",
      "text/plain": [
       "<IPython.core.display.Image object>"
      ]
     },
     "execution_count": 32,
     "metadata": {},
     "output_type": "execute_result"
    }
   ],
   "source": [
    "## Deep part on the left and Wide part on the right\n",
    "tf.keras.utils.plot_model(model)"
   ]
  },
  {
   "cell_type": "code",
   "execution_count": 33,
   "id": "4df04c30-8abd-435f-8f57-681959d94c38",
   "metadata": {},
   "outputs": [],
   "source": [
    "## Same deep and wide archtechture but with different features going through different parts\n",
    "input_wide = tf.keras.layers.Input(shape=[5], name='input_wide') # Features 0 to 4\n",
    "input_deep = tf.keras.layers.Input(shape=[6], name='input_deep') # Features 2 to 7\n",
    "norm_layer_wide = tf.keras.layers.Normalization()\n",
    "norm_layer_deep = tf.keras.layers.Normalization()\n",
    "norm_wide = norm_layer_wide(input_wide)\n",
    "norm_deep = norm_layer_deep(input_deep)\n",
    "hidden1 = tf.keras.layers.Dense(30, activation='relu')(norm_deep)\n",
    "hidden2 = tf.keras.layers.Dense(30, activation='relu')(hidden1)\n",
    "concat = tf.keras.layers.concatenate([norm_wide, hidden2])\n",
    "output = tf.keras.layers.Dense(1)(concat)\n",
    "\n",
    "model = tf.keras.Model(inputs=[input_wide, input_deep], outputs=[output])"
   ]
  },
  {
   "cell_type": "code",
   "execution_count": 34,
   "id": "446b3d93-2bca-462b-abaa-05cf4d17db1d",
   "metadata": {
    "scrolled": true
   },
   "outputs": [
    {
     "data": {
      "image/png": "[encoded data removed]",
      "text/plain": [
       "<IPython.core.display.Image object>"
      ]
     },
     "execution_count": 34,
     "metadata": {},
     "output_type": "execute_result"
    }
   ],
   "source": [
    "tf.keras.utils.plot_model(model)"
   ]
  },
  {
   "cell_type": "code",
   "execution_count": 35,
   "id": "e42caa6f-9433-4961-a265-da516e7b9742",
   "metadata": {
    "scrolled": true
   },
   "outputs": [
    {
     "name": "stdout",
     "output_type": "stream",
     "text": [
      "Epoch 1/20\n",
      "\u001b[1m363/363\u001b[0m \u001b[32m━━━━━━━━━━━━━━━━━━━━\u001b[0m\u001b[37m\u001b[0m \u001b[1m3s\u001b[0m 4ms/step - RootMeanSquaredError: 1.5178 - loss: 2.3872 - val_RootMeanSquaredError: 0.8034 - val_loss: 0.6455\n",
      "Epoch 2/20\n",
      "\u001b[1m363/363\u001b[0m \u001b[32m━━━━━━━━━━━━━━━━━━━━\u001b[0m\u001b[37m\u001b[0m \u001b[1m0s\u001b[0m 1ms/step - RootMeanSquaredError: 0.7838 - loss: 0.6154 - val_RootMeanSquaredError: 0.7655 - val_loss: 0.5860\n",
      "Epoch 3/20\n",
      "\u001b[1m363/363\u001b[0m \u001b[32m━━━━━━━━━━━━━━━━━━━━\u001b[0m\u001b[37m\u001b[0m \u001b[1m1s\u001b[0m 1ms/step - RootMeanSquaredError: 0.6890 - loss: 0.4749 - val_RootMeanSquaredError: 0.6276 - val_loss: 0.3938\n",
      "Epoch 4/20\n",
      "\u001b[1m363/363\u001b[0m \u001b[32m━━━━━━━━━━━━━━━━━━━━\u001b[0m\u001b[37m\u001b[0m \u001b[1m0s\u001b[0m 1ms/step - RootMeanSquaredError: 0.6498 - loss: 0.4225 - val_RootMeanSquaredError: 0.6002 - val_loss: 0.3602\n",
      "Epoch 5/20\n",
      "\u001b[1m363/363\u001b[0m \u001b[32m━━━━━━━━━━━━━━━━━━━━\u001b[0m\u001b[37m\u001b[0m \u001b[1m1s\u001b[0m 1ms/step - RootMeanSquaredError: 0.6331 - loss: 0.4010 - val_RootMeanSquaredError: 0.6840 - val_loss: 0.4678\n",
      "Epoch 6/20\n",
      "\u001b[1m363/363\u001b[0m \u001b[32m━━━━━━━━━━━━━━━━━━━━\u001b[0m\u001b[37m\u001b[0m \u001b[1m1s\u001b[0m 1ms/step - RootMeanSquaredError: 0.6227 - loss: 0.3879 - val_RootMeanSquaredError: 0.6271 - val_loss: 0.3932\n",
      "Epoch 7/20\n",
      "\u001b[1m363/363\u001b[0m \u001b[32m━━━━━━━━━━━━━━━━━━━━\u001b[0m\u001b[37m\u001b[0m \u001b[1m1s\u001b[0m 1ms/step - RootMeanSquaredError: 0.6147 - loss: 0.3780 - val_RootMeanSquaredError: 1.2169 - val_loss: 1.4809\n",
      "Epoch 8/20\n",
      "\u001b[1m363/363\u001b[0m \u001b[32m━━━━━━━━━━━━━━━━━━━━\u001b[0m\u001b[37m\u001b[0m \u001b[1m1s\u001b[0m 1ms/step - RootMeanSquaredError: 0.6091 - loss: 0.3712 - val_RootMeanSquaredError: 1.4698 - val_loss: 2.1603\n",
      "Epoch 9/20\n",
      "\u001b[1m363/363\u001b[0m \u001b[32m━━━━━━━━━━━━━━━━━━━━\u001b[0m\u001b[37m\u001b[0m \u001b[1m1s\u001b[0m 1ms/step - RootMeanSquaredError: 0.6054 - loss: 0.3666 - val_RootMeanSquaredError: 2.1695 - val_loss: 4.7068\n",
      "Epoch 10/20\n",
      "\u001b[1m363/363\u001b[0m \u001b[32m━━━━━━━━━━━━━━━━━━━━\u001b[0m\u001b[37m\u001b[0m \u001b[1m1s\u001b[0m 1ms/step - RootMeanSquaredError: 0.6060 - loss: 0.3674 - val_RootMeanSquaredError: 2.1568 - val_loss: 4.6517\n",
      "Epoch 11/20\n",
      "\u001b[1m363/363\u001b[0m \u001b[32m━━━━━━━━━━━━━━━━━━━━\u001b[0m\u001b[37m\u001b[0m \u001b[1m0s\u001b[0m 1ms/step - RootMeanSquaredError: 0.6028 - loss: 0.3635 - val_RootMeanSquaredError: 1.5543 - val_loss: 2.4157\n",
      "Epoch 12/20\n",
      "\u001b[1m363/363\u001b[0m \u001b[32m━━━━━━━━━━━━━━━━━━━━\u001b[0m\u001b[37m\u001b[0m \u001b[1m1s\u001b[0m 1ms/step - RootMeanSquaredError: 0.5958 - loss: 0.3551 - val_RootMeanSquaredError: 1.2667 - val_loss: 1.6046\n",
      "Epoch 13/20\n",
      "\u001b[1m363/363\u001b[0m \u001b[32m━━━━━━━━━━━━━━━━━━━━\u001b[0m\u001b[37m\u001b[0m \u001b[1m1s\u001b[0m 1ms/step - RootMeanSquaredError: 0.5887 - loss: 0.3466 - val_RootMeanSquaredError: 0.8831 - val_loss: 0.7798\n",
      "Epoch 14/20\n",
      "\u001b[1m363/363\u001b[0m \u001b[32m━━━━━━━━━━━━━━━━━━━━\u001b[0m\u001b[37m\u001b[0m \u001b[1m0s\u001b[0m 1ms/step - RootMeanSquaredError: 0.5846 - loss: 0.3418 - val_RootMeanSquaredError: 0.9019 - val_loss: 0.8134\n",
      "Epoch 15/20\n",
      "\u001b[1m363/363\u001b[0m \u001b[32m━━━━━━━━━━━━━━━━━━━━\u001b[0m\u001b[37m\u001b[0m \u001b[1m1s\u001b[0m 1ms/step - RootMeanSquaredError: 0.5823 - loss: 0.3391 - val_RootMeanSquaredError: 0.7865 - val_loss: 0.6185\n",
      "Epoch 16/20\n",
      "\u001b[1m363/363\u001b[0m \u001b[32m━━━━━━━━━━━━━━━━━━━━\u001b[0m\u001b[37m\u001b[0m \u001b[1m1s\u001b[0m 1ms/step - RootMeanSquaredError: 0.5793 - loss: 0.3356 - val_RootMeanSquaredError: 1.0042 - val_loss: 1.0084\n",
      "Epoch 17/20\n",
      "\u001b[1m363/363\u001b[0m \u001b[32m━━━━━━━━━━━━━━━━━━━━\u001b[0m\u001b[37m\u001b[0m \u001b[1m1s\u001b[0m 1ms/step - RootMeanSquaredError: 0.5785 - loss: 0.3348 - val_RootMeanSquaredError: 1.1862 - val_loss: 1.4070\n",
      "Epoch 18/20\n",
      "\u001b[1m363/363\u001b[0m \u001b[32m━━━━━━━━━━━━━━━━━━━━\u001b[0m\u001b[37m\u001b[0m \u001b[1m0s\u001b[0m 1ms/step - RootMeanSquaredError: 0.5782 - loss: 0.3344 - val_RootMeanSquaredError: 1.6213 - val_loss: 2.6288\n",
      "Epoch 19/20\n",
      "\u001b[1m363/363\u001b[0m \u001b[32m━━━━━━━━━━━━━━━━━━━━\u001b[0m\u001b[37m\u001b[0m \u001b[1m0s\u001b[0m 1ms/step - RootMeanSquaredError: 0.5803 - loss: 0.3369 - val_RootMeanSquaredError: 1.4859 - val_loss: 2.2079\n",
      "Epoch 20/20\n",
      "\u001b[1m363/363\u001b[0m \u001b[32m━━━━━━━━━━━━━━━━━━━━\u001b[0m\u001b[37m\u001b[0m \u001b[1m0s\u001b[0m 1ms/step - RootMeanSquaredError: 0.5801 - loss: 0.3366 - val_RootMeanSquaredError: 1.1657 - val_loss: 1.3588\n",
      "\u001b[1m162/162\u001b[0m \u001b[32m━━━━━━━━━━━━━━━━━━━━\u001b[0m\u001b[37m\u001b[0m \u001b[1m0s\u001b[0m 2ms/step - RootMeanSquaredError: 0.5783 - loss: 0.3346\n",
      "\u001b[1m1/1\u001b[0m \u001b[32m━━━━━━━━━━━━━━━━━━━━\u001b[0m\u001b[37m\u001b[0m \u001b[1m0s\u001b[0m 266ms/step\n"
     ]
    }
   ],
   "source": [
    "optimizer = tf.keras.optimizers.Adam(learning_rate=1e-3)\n",
    "model.compile(loss=\"mse\", optimizer=optimizer, metrics=[\"RootMeanSquaredError\"])\n",
    "\n",
    "X_train_wide, X_train_deep = X_train[:, :5], X_train[:, 2:]\n",
    "X_valid_wide, X_valid_deep = X_valid[:, :5], X_valid[:, 2:]\n",
    "X_test_wide, X_test_deep = X_test[:, :5], X_test[:, 2:]\n",
    "X_new_wide, X_new_deep = X_test_wide[:3], X_test_deep[:3]\n",
    "\n",
    "norm_layer_wide.adapt(X_train_wide)\n",
    "norm_layer_deep.adapt(X_train_deep)\n",
    "# Can also pass a dictionary to not have order become a problem {'input_wide':X_train_wide, 'input_deep':X_train_deep} names need to be same\n",
    "history = model.fit({'input_wide':X_train_wide, 'input_deep':X_train_deep}, y_train, epochs=20,\n",
    "                    validation_data=((X_valid_wide, X_valid_deep), y_valid))\n",
    "mse_test = model.evaluate((X_test_wide, X_test_deep), y_test)\n",
    "y_pred = model.predict((X_new_wide, X_new_deep))"
   ]
  },
  {
   "cell_type": "code",
   "execution_count": 36,
   "id": "3b17e87d-bb63-49a4-bd74-e8d902a8ae20",
   "metadata": {},
   "outputs": [],
   "source": [
    "# Adding an auxiliary output on the model\n",
    "output = tf.keras.layers.Dense(1)(concat)\n",
    "aux_output = tf.keras.layers.Dense(1)(hidden2)\n",
    "model = tf.keras.Model(inputs=[input_wide, input_deep], outputs=[output, aux_output])"
   ]
  },
  {
   "cell_type": "code",
   "execution_count": 37,
   "id": "12f4ea88-ea74-4a60-8295-391d3640ad4b",
   "metadata": {},
   "outputs": [],
   "source": [
    "## Since you have two outputs each one will need its own loss function.\n",
    "optimizer = tf.keras.optimizers.Adam(learning_rate=1e-3)\n",
    "model.compile(loss=(\"mse\", \"mse\"), # could also use a dictionary like with the inputs  \n",
    "              loss_weights=(0.9,0.1), # Spilt the weights because we mainly care about main output. (The aux output is for regularization)\n",
    "              optimizer=optimizer, metrics=[\"RootMeanSquaredError\", \"RootMeanSquaredError\"])"
   ]
  },
  {
   "cell_type": "code",
   "execution_count": 38,
   "id": "41406f12-a478-4686-ae2c-5867a99ea4aa",
   "metadata": {
    "scrolled": true
   },
   "outputs": [
    {
     "name": "stdout",
     "output_type": "stream",
     "text": [
      "Epoch 1/20\n",
      "\u001b[1m363/363\u001b[0m \u001b[32m━━━━━━━━━━━━━━━━━━━━\u001b[0m\u001b[37m\u001b[0m \u001b[1m3s\u001b[0m 5ms/step - dense_13_RootMeanSquaredError: 0.8330 - dense_13_loss: 0.7082 - dense_14_RootMeanSquaredError: 2.0496 - dense_14_loss: 4.4909 - loss: 1.0864 - val_dense_13_RootMeanSquaredError: 0.8652 - val_dense_13_loss: 0.7483 - val_dense_14_RootMeanSquaredError: 1.0560 - val_dense_14_loss: 1.1147 - val_loss: 0.7852\n",
      "Epoch 2/20\n",
      "\u001b[1m363/363\u001b[0m \u001b[32m━━━━━━━━━━━━━━━━━━━━\u001b[0m\u001b[37m\u001b[0m \u001b[1m1s\u001b[0m 1ms/step - dense_13_RootMeanSquaredError: 0.6224 - dense_13_loss: 0.3876 - dense_14_RootMeanSquaredError: 0.8157 - dense_14_loss: 0.6658 - loss: 0.4155 - val_dense_13_RootMeanSquaredError: 0.6065 - val_dense_13_loss: 0.3678 - val_dense_14_RootMeanSquaredError: 0.7731 - val_dense_14_loss: 0.5976 - val_loss: 0.3909\n",
      "Epoch 3/20\n",
      "\u001b[1m363/363\u001b[0m \u001b[32m━━━━━━━━━━━━━━━━━━━━\u001b[0m\u001b[37m\u001b[0m \u001b[1m1s\u001b[0m 2ms/step - dense_13_RootMeanSquaredError: 0.6045 - dense_13_loss: 0.3657 - dense_14_RootMeanSquaredError: 0.7495 - dense_14_loss: 0.5619 - loss: 0.3853 - val_dense_13_RootMeanSquaredError: 0.6065 - val_dense_13_loss: 0.3678 - val_dense_14_RootMeanSquaredError: 0.7070 - val_dense_14_loss: 0.4998 - val_loss: 0.3811\n",
      "Epoch 4/20\n",
      "\u001b[1m363/363\u001b[0m \u001b[32m━━━━━━━━━━━━━━━━━━━━\u001b[0m\u001b[37m\u001b[0m \u001b[1m1s\u001b[0m 1ms/step - dense_13_RootMeanSquaredError: 0.5952 - dense_13_loss: 0.3544 - dense_14_RootMeanSquaredError: 0.7104 - dense_14_loss: 0.5048 - loss: 0.3694 - val_dense_13_RootMeanSquaredError: 0.5893 - val_dense_13_loss: 0.3472 - val_dense_14_RootMeanSquaredError: 0.6736 - val_dense_14_loss: 0.4537 - val_loss: 0.3580\n",
      "Epoch 5/20\n",
      "\u001b[1m363/363\u001b[0m \u001b[32m━━━━━━━━━━━━━━━━━━━━\u001b[0m\u001b[37m\u001b[0m \u001b[1m1s\u001b[0m 1ms/step - dense_13_RootMeanSquaredError: 0.5885 - dense_13_loss: 0.3465 - dense_14_RootMeanSquaredError: 0.6835 - dense_14_loss: 0.4673 - loss: 0.3586 - val_dense_13_RootMeanSquaredError: 0.5729 - val_dense_13_loss: 0.3282 - val_dense_14_RootMeanSquaredError: 0.6577 - val_dense_14_loss: 0.4325 - val_loss: 0.3387\n",
      "Epoch 6/20\n",
      "\u001b[1m363/363\u001b[0m \u001b[32m━━━━━━━━━━━━━━━━━━━━\u001b[0m\u001b[37m\u001b[0m \u001b[1m1s\u001b[0m 1ms/step - dense_13_RootMeanSquaredError: 0.5835 - dense_13_loss: 0.3406 - dense_14_RootMeanSquaredError: 0.6655 - dense_14_loss: 0.4430 - loss: 0.3509 - val_dense_13_RootMeanSquaredError: 0.5665 - val_dense_13_loss: 0.3208 - val_dense_14_RootMeanSquaredError: 0.6452 - val_dense_14_loss: 0.4163 - val_loss: 0.3304\n",
      "Epoch 7/20\n",
      "\u001b[1m363/363\u001b[0m \u001b[32m━━━━━━━━━━━━━━━━━━━━\u001b[0m\u001b[37m\u001b[0m \u001b[1m1s\u001b[0m 2ms/step - dense_13_RootMeanSquaredError: 0.5801 - dense_13_loss: 0.3366 - dense_14_RootMeanSquaredError: 0.6529 - dense_14_loss: 0.4264 - loss: 0.3456 - val_dense_13_RootMeanSquaredError: 0.5589 - val_dense_13_loss: 0.3123 - val_dense_14_RootMeanSquaredError: 0.6366 - val_dense_14_loss: 0.4053 - val_loss: 0.3217\n",
      "Epoch 8/20\n",
      "\u001b[1m363/363\u001b[0m \u001b[32m━━━━━━━━━━━━━━━━━━━━\u001b[0m\u001b[37m\u001b[0m \u001b[1m1s\u001b[0m 1ms/step - dense_13_RootMeanSquaredError: 0.5771 - dense_13_loss: 0.3331 - dense_14_RootMeanSquaredError: 0.6436 - dense_14_loss: 0.4143 - loss: 0.3413 - val_dense_13_RootMeanSquaredError: 0.5567 - val_dense_13_loss: 0.3099 - val_dense_14_RootMeanSquaredError: 0.6322 - val_dense_14_loss: 0.3996 - val_loss: 0.3189\n",
      "Epoch 9/20\n",
      "\u001b[1m363/363\u001b[0m \u001b[32m━━━━━━━━━━━━━━━━━━━━\u001b[0m\u001b[37m\u001b[0m \u001b[1m1s\u001b[0m 1ms/step - dense_13_RootMeanSquaredError: 0.5751 - dense_13_loss: 0.3308 - dense_14_RootMeanSquaredError: 0.6369 - dense_14_loss: 0.4057 - loss: 0.3383 - val_dense_13_RootMeanSquaredError: 0.5602 - val_dense_13_loss: 0.3137 - val_dense_14_RootMeanSquaredError: 0.6305 - val_dense_14_loss: 0.3974 - val_loss: 0.3222\n",
      "Epoch 10/20\n",
      "\u001b[1m363/363\u001b[0m \u001b[32m━━━━━━━━━━━━━━━━━━━━\u001b[0m\u001b[37m\u001b[0m \u001b[1m1s\u001b[0m 1ms/step - dense_13_RootMeanSquaredError: 0.5724 - dense_13_loss: 0.3278 - dense_14_RootMeanSquaredError: 0.6318 - dense_14_loss: 0.3992 - loss: 0.3349 - val_dense_13_RootMeanSquaredError: 0.5558 - val_dense_13_loss: 0.3089 - val_dense_14_RootMeanSquaredError: 0.6247 - val_dense_14_loss: 0.3902 - val_loss: 0.3171\n",
      "Epoch 11/20\n",
      "\u001b[1m363/363\u001b[0m \u001b[32m━━━━━━━━━━━━━━━━━━━━\u001b[0m\u001b[37m\u001b[0m \u001b[1m1s\u001b[0m 2ms/step - dense_13_RootMeanSquaredError: 0.5707 - dense_13_loss: 0.3258 - dense_14_RootMeanSquaredError: 0.6276 - dense_14_loss: 0.3939 - loss: 0.3326 - val_dense_13_RootMeanSquaredError: 0.5935 - val_dense_13_loss: 0.3522 - val_dense_14_RootMeanSquaredError: 0.6536 - val_dense_14_loss: 0.4271 - val_loss: 0.3597\n",
      "Epoch 12/20\n",
      "\u001b[1m363/363\u001b[0m \u001b[32m━━━━━━━━━━━━━━━━━━━━\u001b[0m\u001b[37m\u001b[0m \u001b[1m1s\u001b[0m 1ms/step - dense_13_RootMeanSquaredError: 0.5692 - dense_13_loss: 0.3241 - dense_14_RootMeanSquaredError: 0.6240 - dense_14_loss: 0.3895 - loss: 0.3306 - val_dense_13_RootMeanSquaredError: 0.5562 - val_dense_13_loss: 0.3093 - val_dense_14_RootMeanSquaredError: 0.6194 - val_dense_14_loss: 0.3836 - val_loss: 0.3168\n",
      "Epoch 13/20\n",
      "\u001b[1m363/363\u001b[0m \u001b[32m━━━━━━━━━━━━━━━━━━━━\u001b[0m\u001b[37m\u001b[0m \u001b[1m1s\u001b[0m 1ms/step - dense_13_RootMeanSquaredError: 0.5677 - dense_13_loss: 0.3224 - dense_14_RootMeanSquaredError: 0.6206 - dense_14_loss: 0.3853 - loss: 0.3287 - val_dense_13_RootMeanSquaredError: 0.6460 - val_dense_13_loss: 0.4172 - val_dense_14_RootMeanSquaredError: 0.6836 - val_dense_14_loss: 0.4672 - val_loss: 0.4223\n",
      "Epoch 14/20\n",
      "\u001b[1m363/363\u001b[0m \u001b[32m━━━━━━━━━━━━━━━━━━━━\u001b[0m\u001b[37m\u001b[0m \u001b[1m1s\u001b[0m 1ms/step - dense_13_RootMeanSquaredError: 0.5665 - dense_13_loss: 0.3210 - dense_14_RootMeanSquaredError: 0.6178 - dense_14_loss: 0.3817 - loss: 0.3270 - val_dense_13_RootMeanSquaredError: 0.6612 - val_dense_13_loss: 0.4370 - val_dense_14_RootMeanSquaredError: 0.6732 - val_dense_14_loss: 0.4531 - val_loss: 0.4387\n",
      "Epoch 15/20\n",
      "\u001b[1m363/363\u001b[0m \u001b[32m━━━━━━━━━━━━━━━━━━━━\u001b[0m\u001b[37m\u001b[0m \u001b[1m1s\u001b[0m 1ms/step - dense_13_RootMeanSquaredError: 0.5660 - dense_13_loss: 0.3204 - dense_14_RootMeanSquaredError: 0.6149 - dense_14_loss: 0.3782 - loss: 0.3262 - val_dense_13_RootMeanSquaredError: 0.8694 - val_dense_13_loss: 0.7556 - val_dense_14_RootMeanSquaredError: 0.8927 - val_dense_14_loss: 0.7967 - val_loss: 0.7600\n",
      "Epoch 16/20\n",
      "\u001b[1m363/363\u001b[0m \u001b[32m━━━━━━━━━━━━━━━━━━━━\u001b[0m\u001b[37m\u001b[0m \u001b[1m1s\u001b[0m 1ms/step - dense_13_RootMeanSquaredError: 0.5651 - dense_13_loss: 0.3194 - dense_14_RootMeanSquaredError: 0.6143 - dense_14_loss: 0.3775 - loss: 0.3252 - val_dense_13_RootMeanSquaredError: 1.2629 - val_dense_13_loss: 1.5942 - val_dense_14_RootMeanSquaredError: 1.0314 - val_dense_14_loss: 1.0634 - val_loss: 1.5418\n",
      "Epoch 17/20\n",
      "\u001b[1m363/363\u001b[0m \u001b[32m━━━━━━━━━━━━━━━━━━━━\u001b[0m\u001b[37m\u001b[0m \u001b[1m1s\u001b[0m 1ms/step - dense_13_RootMeanSquaredError: 0.5660 - dense_13_loss: 0.3205 - dense_14_RootMeanSquaredError: 0.6114 - dense_14_loss: 0.3739 - loss: 0.3258 - val_dense_13_RootMeanSquaredError: 0.8516 - val_dense_13_loss: 0.7250 - val_dense_14_RootMeanSquaredError: 0.8219 - val_dense_14_loss: 0.6754 - val_loss: 0.7203\n",
      "Epoch 18/20\n",
      "\u001b[1m363/363\u001b[0m \u001b[32m━━━━━━━━━━━━━━━━━━━━\u001b[0m\u001b[37m\u001b[0m \u001b[1m1s\u001b[0m 1ms/step - dense_13_RootMeanSquaredError: 0.5633 - dense_13_loss: 0.3174 - dense_14_RootMeanSquaredError: 0.6109 - dense_14_loss: 0.3734 - loss: 0.3230 - val_dense_13_RootMeanSquaredError: 1.0059 - val_dense_13_loss: 1.0114 - val_dense_14_RootMeanSquaredError: 0.8513 - val_dense_14_loss: 0.7246 - val_loss: 0.9831\n",
      "Epoch 19/20\n",
      "\u001b[1m363/363\u001b[0m \u001b[32m━━━━━━━━━━━━━━━━━━━━\u001b[0m\u001b[37m\u001b[0m \u001b[1m1s\u001b[0m 1ms/step - dense_13_RootMeanSquaredError: 0.5623 - dense_13_loss: 0.3163 - dense_14_RootMeanSquaredError: 0.6077 - dense_14_loss: 0.3694 - loss: 0.3216 - val_dense_13_RootMeanSquaredError: 0.7029 - val_dense_13_loss: 0.4939 - val_dense_14_RootMeanSquaredError: 0.7759 - val_dense_14_loss: 0.6019 - val_loss: 0.5048\n",
      "Epoch 20/20\n",
      "\u001b[1m363/363\u001b[0m \u001b[32m━━━━━━━━━━━━━━━━━━━━\u001b[0m\u001b[37m\u001b[0m \u001b[1m1s\u001b[0m 1ms/step - dense_13_RootMeanSquaredError: 0.5602 - dense_13_loss: 0.3139 - dense_14_RootMeanSquaredError: 0.6068 - dense_14_loss: 0.3683 - loss: 0.3194 - val_dense_13_RootMeanSquaredError: 0.8589 - val_dense_13_loss: 0.7375 - val_dense_14_RootMeanSquaredError: 0.7494 - val_dense_14_loss: 0.5615 - val_loss: 0.7201\n"
     ]
    }
   ],
   "source": [
    "norm_layer_wide.adapt(X_train_wide)\n",
    "norm_layer_deep.adapt(X_train_deep)\n",
    "history = model.fit(\n",
    "    (X_train_wide, X_train_deep), (y_train, y_train), epochs=20,\n",
    "    validation_data=((X_valid_wide, X_valid_deep), (y_valid, y_valid))\n",
    ")"
   ]
  },
  {
   "cell_type": "code",
   "execution_count": 39,
   "id": "b43e48f7-396b-4b5b-a0f1-ecff7a9fd5d8",
   "metadata": {},
   "outputs": [
    {
     "name": "stdout",
     "output_type": "stream",
     "text": [
      "\u001b[1m162/162\u001b[0m \u001b[32m━━━━━━━━━━━━━━━━━━━━\u001b[0m\u001b[37m\u001b[0m \u001b[1m0s\u001b[0m 2ms/step - dense_13_RootMeanSquaredError: 0.5703 - dense_13_loss: 0.3254 - dense_14_RootMeanSquaredError: 0.6197 - dense_14_loss: 0.3841 - loss: 0.3312 \n"
     ]
    }
   ],
   "source": [
    "eval_results = model.evaluate((X_test_wide, X_test_deep), (y_test, y_test))\n",
    "weighted_sum_of_losses, main_loss, aux_loss, main_rmse, aux_rmse = eval_results"
   ]
  },
  {
   "cell_type": "markdown",
   "id": "1a7fc99c-4d55-439f-953f-200506a6b603",
   "metadata": {},
   "source": [
    "The Sequential and Functional APIs in Keras are good for a number of reasons.<br>\n",
    "1. The models can easily be saved, cloned, and shared.\n",
    "2. Its structure can be displayed and analyzed\n",
    "3. The framework can infer shapes and check types which means errors can be caught early.\n",
    "4. Easier to debug."
   ]
  },
  {
   "cell_type": "markdown",
   "id": "21a1fbb9-679b-4fde-95f3-4cf5dd7655bf",
   "metadata": {},
   "source": [
    "### Using the Subclassing API to Build Dynamic Models"
   ]
  },
  {
   "cell_type": "markdown",
   "id": "9ebb34e7-595b-463d-8a14-37c1d1e841d8",
   "metadata": {},
   "source": [
    "Subclassing should be used if the model you want to build not static and has features that called be implemented in the other two methods like loops, varying shapes, conditional branching, and other dynamic behaviors."
   ]
  },
  {
   "cell_type": "code",
   "execution_count": 40,
   "id": "20d3c143-37ba-44cb-8566-196f5c76c3f8",
   "metadata": {},
   "outputs": [],
   "source": [
    "## Wide and Deep using subclassing\n",
    "class WideAndDeepModel(tf.keras.Model):\n",
    "    \n",
    "    def __init__(self, units=30, activation='relu', **kwargs):\n",
    "        super().__init__(**kwargs) # Let original __init__ handle special parameters\n",
    "        self.norm_layer_wide = tf.keras.layers.Normalization()\n",
    "        self.norm_layer_deep = tf.keras.layers.Normalization()\n",
    "        self.hidden1 = tf.keras.layers.Dense(units, activation=activation)\n",
    "        self.hidden2 = tf.keras.layers.Dense(units, activation=activation)\n",
    "        self.main_output = tf.keras.layers.Dense(1)\n",
    "        self.aux_output = tf.keras.layers.Dense(1)\n",
    "\n",
    "    def call(self, inputs):\n",
    "        input_wide, input_deep = inputs\n",
    "        norm_wide = self.norm_layer_wide(input_wide)\n",
    "        norm_deep = self.norm_layer_deep(input_deep)\n",
    "        hidden1 = self.hidden1(norm_deep)\n",
    "        hidden2 = self.hidden2(hidden1)\n",
    "        concat = tf.keras.layers.concatenate([norm_wide, hidden2])\n",
    "        output = self.main_output(concat)\n",
    "        aux_output = self.aux_output(hidden2)\n",
    "        return output, aux_output\n",
    "\n",
    "\n",
    "model = WideAndDeepModel(30, activation='relu', name='my_cool_model')"
   ]
  },
  {
   "cell_type": "code",
   "execution_count": 41,
   "id": "67163a0f-71a7-49df-83c4-d6e0e5d55b33",
   "metadata": {},
   "outputs": [
    {
     "name": "stdout",
     "output_type": "stream",
     "text": [
      "Epoch 1/10\n",
      "\u001b[1m363/363\u001b[0m \u001b[32m━━━━━━━━━━━━━━━━━━━━\u001b[0m\u001b[37m\u001b[0m \u001b[1m3s\u001b[0m 5ms/step - RootMeanSquaredError: 1.6934 - RootMeanSquaredError_1: 2.2699 - loss: 3.2307 - mse_loss: 5.2514 - val_RootMeanSquaredError: 0.8243 - val_RootMeanSquaredError_1: 1.2161 - val_loss: 0.7594 - val_mse_loss: 1.4785\n",
      "Epoch 2/10\n",
      "\u001b[1m363/363\u001b[0m \u001b[32m━━━━━━━━━━━━━━━━━━━━\u001b[0m\u001b[37m\u001b[0m \u001b[1m1s\u001b[0m 1ms/step - RootMeanSquaredError: 0.7677 - RootMeanSquaredError_1: 1.0018 - loss: 0.6323 - mse_loss: 1.0059 - val_RootMeanSquaredError: 0.8072 - val_RootMeanSquaredError_1: 0.9154 - val_loss: 0.6702 - val_mse_loss: 0.8378\n",
      "Epoch 3/10\n",
      "\u001b[1m363/363\u001b[0m \u001b[32m━━━━━━━━━━━━━━━━━━━━\u001b[0m\u001b[37m\u001b[0m \u001b[1m1s\u001b[0m 1ms/step - RootMeanSquaredError: 0.6764 - RootMeanSquaredError_1: 0.8289 - loss: 0.4807 - mse_loss: 0.6874 - val_RootMeanSquaredError: 1.0240 - val_RootMeanSquaredError_1: 0.7581 - val_loss: 1.0011 - val_mse_loss: 0.5747\n",
      "Epoch 4/10\n",
      "\u001b[1m363/363\u001b[0m \u001b[32m━━━━━━━━━━━━━━━━━━━━\u001b[0m\u001b[37m\u001b[0m \u001b[1m1s\u001b[0m 2ms/step - RootMeanSquaredError: 0.6487 - RootMeanSquaredError_1: 0.7717 - loss: 0.4384 - mse_loss: 0.5957 - val_RootMeanSquaredError: 1.1901 - val_RootMeanSquaredError_1: 0.9803 - val_loss: 1.3708 - val_mse_loss: 0.9607\n",
      "Epoch 5/10\n",
      "\u001b[1m363/363\u001b[0m \u001b[32m━━━━━━━━━━━━━━━━━━━━\u001b[0m\u001b[37m\u001b[0m \u001b[1m1s\u001b[0m 1ms/step - RootMeanSquaredError: 0.6359 - RootMeanSquaredError_1: 0.7478 - loss: 0.4199 - mse_loss: 0.5594 - val_RootMeanSquaredError: 1.3943 - val_RootMeanSquaredError_1: 0.7197 - val_loss: 1.8013 - val_mse_loss: 0.5178\n",
      "Epoch 6/10\n",
      "\u001b[1m363/363\u001b[0m \u001b[32m━━━━━━━━━━━━━━━━━━━━\u001b[0m\u001b[37m\u001b[0m \u001b[1m1s\u001b[0m 2ms/step - RootMeanSquaredError: 0.6274 - RootMeanSquaredError_1: 0.7298 - loss: 0.4076 - mse_loss: 0.5327 - val_RootMeanSquaredError: 1.2176 - val_RootMeanSquaredError_1: 0.9137 - val_loss: 1.4178 - val_mse_loss: 0.8347\n",
      "Epoch 7/10\n",
      "\u001b[1m363/363\u001b[0m \u001b[32m━━━━━━━━━━━━━━━━━━━━\u001b[0m\u001b[37m\u001b[0m \u001b[1m1s\u001b[0m 1ms/step - RootMeanSquaredError: 0.6203 - RootMeanSquaredError_1: 0.7182 - loss: 0.3980 - mse_loss: 0.5160 - val_RootMeanSquaredError: 1.0703 - val_RootMeanSquaredError_1: 0.6971 - val_loss: 1.0796 - val_mse_loss: 0.4859\n",
      "Epoch 8/10\n",
      "\u001b[1m363/363\u001b[0m \u001b[32m━━━━━━━━━━━━━━━━━━━━\u001b[0m\u001b[37m\u001b[0m \u001b[1m1s\u001b[0m 1ms/step - RootMeanSquaredError: 0.6126 - RootMeanSquaredError_1: 0.7059 - loss: 0.3878 - mse_loss: 0.4984 - val_RootMeanSquaredError: 1.0427 - val_RootMeanSquaredError_1: 0.7433 - val_loss: 1.0338 - val_mse_loss: 0.5524\n",
      "Epoch 9/10\n",
      "\u001b[1m363/363\u001b[0m \u001b[32m━━━━━━━━━━━━━━━━━━━━\u001b[0m\u001b[37m\u001b[0m \u001b[1m1s\u001b[0m 1ms/step - RootMeanSquaredError: 0.6102 - RootMeanSquaredError_1: 0.6964 - loss: 0.3837 - mse_loss: 0.4851 - val_RootMeanSquaredError: 1.1387 - val_RootMeanSquaredError_1: 0.7921 - val_loss: 1.2297 - val_mse_loss: 0.6272\n",
      "Epoch 10/10\n",
      "\u001b[1m363/363\u001b[0m \u001b[32m━━━━━━━━━━━━━━━━━━━━\u001b[0m\u001b[37m\u001b[0m \u001b[1m1s\u001b[0m 1ms/step - RootMeanSquaredError: 0.6040 - RootMeanSquaredError_1: 0.6844 - loss: 0.3753 - mse_loss: 0.4686 - val_RootMeanSquaredError: 1.1102 - val_RootMeanSquaredError_1: 0.9639 - val_loss: 1.2021 - val_mse_loss: 0.9288\n",
      "\u001b[1m162/162\u001b[0m \u001b[32m━━━━━━━━━━━━━━━━━━━━\u001b[0m\u001b[37m\u001b[0m \u001b[1m0s\u001b[0m 2ms/step - RootMeanSquaredError: 0.5975 - RootMeanSquaredError_1: 0.6647 - loss: 0.3656 - mse_loss: 0.4419\n",
      "\u001b[1m1/1\u001b[0m \u001b[32m━━━━━━━━━━━━━━━━━━━━\u001b[0m\u001b[37m\u001b[0m \u001b[1m0s\u001b[0m 209ms/step\n"
     ]
    }
   ],
   "source": [
    "optimizer = tf.keras.optimizers.Adam(learning_rate=1e-3)\n",
    "model.compile(loss=(\"mse\", \"mse\"), loss_weights=[0.9, 0.1], optimizer=optimizer,\n",
    "              metrics=[\"RootMeanSquaredError\", \"RootMeanSquaredError\"])\n",
    "model.norm_layer_wide.adapt(X_train_wide)\n",
    "model.norm_layer_deep.adapt(X_train_deep)\n",
    "history = model.fit(\n",
    "    (X_train_wide, X_train_deep), (y_train, y_train), epochs=10,\n",
    "    validation_data=((X_valid_wide, X_valid_deep), (y_valid, y_valid)))\n",
    "eval_results = model.evaluate((X_test_wide, X_test_deep), (y_test, y_test))\n",
    "y_pred_main, y_pred_aux = model.predict((X_new_wide, X_new_deep))"
   ]
  },
  {
   "cell_type": "markdown",
   "id": "40950aee-5890-4a96-9d26-18fedad6eead",
   "metadata": {},
   "source": [
    "In the call() methodyou can do anything you want (for loops, if statements, low-level stuff). The problem is you can't use keras features like graphing the model and saving the model. You need to find other ways to do this."
   ]
  },
  {
   "cell_type": "code",
   "execution_count": 42,
   "id": "269af8dc-8ea5-4cc1-9733-e379bda04831",
   "metadata": {},
   "outputs": [],
   "source": [
    "model.save('my_keras_model.keras')"
   ]
  },
  {
   "cell_type": "code",
   "execution_count": 43,
   "id": "087e870b-54aa-4594-88d2-c845e9e34e11",
   "metadata": {
    "scrolled": true
   },
   "outputs": [],
   "source": [
    "# model = tf.keras.models.load_model('my_keras_model.keras')"
   ]
  },
  {
   "cell_type": "markdown",
   "id": "1d47ea14-0228-49ca-a988-fc3a87a1285f",
   "metadata": {},
   "source": [
    "### Using Callbacks"
   ]
  },
  {
   "cell_type": "markdown",
   "id": "7ea0d5c9-b15e-4a1e-929c-536fd27d1b60",
   "metadata": {},
   "source": [
    "#### Checkpoint Callback"
   ]
  },
  {
   "cell_type": "code",
   "execution_count": 44,
   "id": "0c39f571-4a7e-41b5-9826-f6854608d9b4",
   "metadata": {
    "scrolled": true
   },
   "outputs": [
    {
     "name": "stdout",
     "output_type": "stream",
     "text": [
      "Epoch 1/10\n",
      "\u001b[1m363/363\u001b[0m \u001b[32m━━━━━━━━━━━━━━━━━━━━\u001b[0m\u001b[37m\u001b[0m \u001b[1m1s\u001b[0m 1ms/step - RootMeanSquaredError: 0.6000 - RootMeanSquaredError_1: 0.6741 - loss: 0.3696 - mse_loss: 0.4545 - val_RootMeanSquaredError: 1.0796 - val_RootMeanSquaredError_1: 0.8059 - val_loss: 1.1139 - val_mse_loss: 0.6493\n",
      "Epoch 2/10\n",
      "\u001b[1m363/363\u001b[0m \u001b[32m━━━━━━━━━━━━━━━━━━━━\u001b[0m\u001b[37m\u001b[0m \u001b[1m1s\u001b[0m 2ms/step - RootMeanSquaredError: 0.5953 - RootMeanSquaredError_1: 0.6644 - loss: 0.3632 - mse_loss: 0.4415 - val_RootMeanSquaredError: 1.1572 - val_RootMeanSquaredError_1: 0.7498 - val_loss: 1.2615 - val_mse_loss: 0.5620\n",
      "Epoch 3/10\n",
      "\u001b[1m363/363\u001b[0m \u001b[32m━━━━━━━━━━━━━━━━━━━━\u001b[0m\u001b[37m\u001b[0m \u001b[1m1s\u001b[0m 2ms/step - RootMeanSquaredError: 0.5933 - RootMeanSquaredError_1: 0.6549 - loss: 0.3597 - mse_loss: 0.4289 - val_RootMeanSquaredError: 1.2749 - val_RootMeanSquaredError_1: 0.7640 - val_loss: 1.5211 - val_mse_loss: 0.5835\n",
      "Epoch 4/10\n",
      "\u001b[1m363/363\u001b[0m \u001b[32m━━━━━━━━━━━━━━━━━━━━\u001b[0m\u001b[37m\u001b[0m \u001b[1m1s\u001b[0m 1ms/step - RootMeanSquaredError: 0.5914 - RootMeanSquaredError_1: 0.6506 - loss: 0.3572 - mse_loss: 0.4233 - val_RootMeanSquaredError: 1.5627 - val_RootMeanSquaredError_1: 1.4720 - val_loss: 2.4146 - val_mse_loss: 2.1657\n",
      "Epoch 5/10\n",
      "\u001b[1m363/363\u001b[0m \u001b[32m━━━━━━━━━━━━━━━━━━━━\u001b[0m\u001b[37m\u001b[0m \u001b[1m1s\u001b[0m 2ms/step - RootMeanSquaredError: 0.5889 - RootMeanSquaredError_1: 0.6446 - loss: 0.3538 - mse_loss: 0.4156 - val_RootMeanSquaredError: 1.4713 - val_RootMeanSquaredError_1: 1.0018 - val_loss: 2.0487 - val_mse_loss: 1.0033\n",
      "Epoch 6/10\n",
      "\u001b[1m363/363\u001b[0m \u001b[32m━━━━━━━━━━━━━━━━━━━━\u001b[0m\u001b[37m\u001b[0m \u001b[1m1s\u001b[0m 2ms/step - RootMeanSquaredError: 0.5915 - RootMeanSquaredError_1: 0.6448 - loss: 0.3566 - mse_loss: 0.4159 - val_RootMeanSquaredError: 0.9674 - val_RootMeanSquaredError_1: 0.6422 - val_loss: 0.8835 - val_mse_loss: 0.4123\n",
      "Epoch 7/10\n",
      "\u001b[1m363/363\u001b[0m \u001b[32m━━━━━━━━━━━━━━━━━━━━\u001b[0m\u001b[37m\u001b[0m \u001b[1m1s\u001b[0m 2ms/step - RootMeanSquaredError: 0.5801 - RootMeanSquaredError_1: 0.6327 - loss: 0.3430 - mse_loss: 0.4004 - val_RootMeanSquaredError: 0.6820 - val_RootMeanSquaredError_1: 0.6247 - val_loss: 0.4576 - val_mse_loss: 0.3902\n",
      "Epoch 8/10\n",
      "\u001b[1m363/363\u001b[0m \u001b[32m━━━━━━━━━━━━━━━━━━━━\u001b[0m\u001b[37m\u001b[0m \u001b[1m1s\u001b[0m 2ms/step - RootMeanSquaredError: 0.5766 - RootMeanSquaredError_1: 0.6303 - loss: 0.3391 - mse_loss: 0.3974 - val_RootMeanSquaredError: 0.7763 - val_RootMeanSquaredError_1: 0.8168 - val_loss: 0.6091 - val_mse_loss: 0.6669\n",
      "Epoch 9/10\n",
      "\u001b[1m363/363\u001b[0m \u001b[32m━━━━━━━━━━━━━━━━━━━━\u001b[0m\u001b[37m\u001b[0m \u001b[1m1s\u001b[0m 1ms/step - RootMeanSquaredError: 0.5746 - RootMeanSquaredError_1: 0.6262 - loss: 0.3364 - mse_loss: 0.3922 - val_RootMeanSquaredError: 0.8406 - val_RootMeanSquaredError_1: 0.6950 - val_loss: 0.6843 - val_mse_loss: 0.4829\n",
      "Epoch 10/10\n",
      "\u001b[1m363/363\u001b[0m \u001b[32m━━━━━━━━━━━━━━━━━━━━\u001b[0m\u001b[37m\u001b[0m \u001b[1m1s\u001b[0m 2ms/step - RootMeanSquaredError: 0.5749 - RootMeanSquaredError_1: 0.6251 - loss: 0.3367 - mse_loss: 0.3908 - val_RootMeanSquaredError: 1.1282 - val_RootMeanSquaredError_1: 0.8874 - val_loss: 1.2243 - val_mse_loss: 0.7872\n"
     ]
    }
   ],
   "source": [
    "# Checkpoint callback saves checkpoints of the model at regular intervals during training\n",
    "### Use best_only=True if you want only the best model on the validation data This way you dont need to worry about overfitting/overtraining\n",
    "checkpoint_cb = tf.keras.callbacks.ModelCheckpoint(\"my_checkpoints.weights.h5\",\n",
    "                                                   save_weights_only=True)\n",
    "history = model.fit(\n",
    "    (X_train_wide, X_train_deep), (y_train, y_train), epochs=10,\n",
    "    validation_data=((X_valid_wide, X_valid_deep), (y_valid, y_valid)),\n",
    "    callbacks=[checkpoint_cb])"
   ]
  },
  {
   "cell_type": "markdown",
   "id": "0cc083b5-f22d-46fd-9e80-d444fb004d4b",
   "metadata": {},
   "source": [
    "#### Early Stopping"
   ]
  },
  {
   "cell_type": "code",
   "execution_count": 45,
   "id": "06942b00-1ec4-4d0b-a099-de9d372e2d2b",
   "metadata": {
    "scrolled": true
   },
   "outputs": [
    {
     "name": "stdout",
     "output_type": "stream",
     "text": [
      "Epoch 1/100\n",
      "\u001b[1m363/363\u001b[0m \u001b[32m━━━━━━━━━━━━━━━━━━━━\u001b[0m\u001b[37m\u001b[0m \u001b[1m1s\u001b[0m 2ms/step - RootMeanSquaredError: 0.5727 - RootMeanSquaredError_1: 0.6204 - loss: 0.3338 - mse_loss: 0.3850 - val_RootMeanSquaredError: 1.1313 - val_RootMeanSquaredError_1: 0.7569 - val_loss: 1.2091 - val_mse_loss: 0.5727\n",
      "Epoch 2/100\n",
      "\u001b[1m363/363\u001b[0m \u001b[32m━━━━━━━━━━━━━━━━━━━━\u001b[0m\u001b[37m\u001b[0m \u001b[1m1s\u001b[0m 1ms/step - RootMeanSquaredError: 0.5730 - RootMeanSquaredError_1: 0.6202 - loss: 0.3341 - mse_loss: 0.3848 - val_RootMeanSquaredError: 1.0861 - val_RootMeanSquaredError_1: 0.8566 - val_loss: 1.1351 - val_mse_loss: 0.7336\n",
      "Epoch 3/100\n",
      "\u001b[1m363/363\u001b[0m \u001b[32m━━━━━━━━━━━━━━━━━━━━\u001b[0m\u001b[37m\u001b[0m \u001b[1m1s\u001b[0m 2ms/step - RootMeanSquaredError: 0.5693 - RootMeanSquaredError_1: 0.6158 - loss: 0.3297 - mse_loss: 0.3793 - val_RootMeanSquaredError: 0.9155 - val_RootMeanSquaredError_1: 0.6514 - val_loss: 0.7968 - val_mse_loss: 0.4243\n",
      "Epoch 4/100\n",
      "\u001b[1m363/363\u001b[0m \u001b[32m━━━━━━━━━━━━━━━━━━━━\u001b[0m\u001b[37m\u001b[0m \u001b[1m1s\u001b[0m 1ms/step - RootMeanSquaredError: 0.5683 - RootMeanSquaredError_1: 0.6151 - loss: 0.3286 - mse_loss: 0.3785 - val_RootMeanSquaredError: 1.0013 - val_RootMeanSquaredError_1: 0.9149 - val_loss: 0.9860 - val_mse_loss: 0.8367\n",
      "Epoch 5/100\n",
      "\u001b[1m363/363\u001b[0m \u001b[32m━━━━━━━━━━━━━━━━━━━━\u001b[0m\u001b[37m\u001b[0m \u001b[1m1s\u001b[0m 1ms/step - RootMeanSquaredError: 0.5666 - RootMeanSquaredError_1: 0.6126 - loss: 0.3265 - mse_loss: 0.3754 - val_RootMeanSquaredError: 0.9018 - val_RootMeanSquaredError_1: 0.6583 - val_loss: 0.7752 - val_mse_loss: 0.4333\n",
      "Epoch 6/100\n",
      "\u001b[1m363/363\u001b[0m \u001b[32m━━━━━━━━━━━━━━━━━━━━\u001b[0m\u001b[37m\u001b[0m \u001b[1m1s\u001b[0m 1ms/step - RootMeanSquaredError: 0.5657 - RootMeanSquaredError_1: 0.6109 - loss: 0.3254 - mse_loss: 0.3733 - val_RootMeanSquaredError: 0.8915 - val_RootMeanSquaredError_1: 0.8530 - val_loss: 0.7880 - val_mse_loss: 0.7274\n",
      "Epoch 7/100\n",
      "\u001b[1m363/363\u001b[0m \u001b[32m━━━━━━━━━━━━━━━━━━━━\u001b[0m\u001b[37m\u001b[0m \u001b[1m1s\u001b[0m 1ms/step - RootMeanSquaredError: 0.5638 - RootMeanSquaredError_1: 0.6087 - loss: 0.3232 - mse_loss: 0.3707 - val_RootMeanSquaredError: 0.7524 - val_RootMeanSquaredError_1: 0.6489 - val_loss: 0.5516 - val_mse_loss: 0.4210\n",
      "Epoch 8/100\n",
      "\u001b[1m363/363\u001b[0m \u001b[32m━━━━━━━━━━━━━━━━━━━━\u001b[0m\u001b[37m\u001b[0m \u001b[1m1s\u001b[0m 1ms/step - RootMeanSquaredError: 0.5620 - RootMeanSquaredError_1: 0.6071 - loss: 0.3212 - mse_loss: 0.3687 - val_RootMeanSquaredError: 0.8037 - val_RootMeanSquaredError_1: 0.8368 - val_loss: 0.6513 - val_mse_loss: 0.7000\n",
      "Epoch 9/100\n",
      "\u001b[1m363/363\u001b[0m \u001b[32m━━━━━━━━━━━━━━━━━━━━\u001b[0m\u001b[37m\u001b[0m \u001b[1m1s\u001b[0m 2ms/step - RootMeanSquaredError: 0.5602 - RootMeanSquaredError_1: 0.6043 - loss: 0.3190 - mse_loss: 0.3653 - val_RootMeanSquaredError: 0.7638 - val_RootMeanSquaredError_1: 0.6771 - val_loss: 0.5709 - val_mse_loss: 0.4584\n",
      "Epoch 10/100\n",
      "\u001b[1m363/363\u001b[0m \u001b[32m━━━━━━━━━━━━━━━━━━━━\u001b[0m\u001b[37m\u001b[0m \u001b[1m1s\u001b[0m 1ms/step - RootMeanSquaredError: 0.5593 - RootMeanSquaredError_1: 0.6029 - loss: 0.3179 - mse_loss: 0.3636 - val_RootMeanSquaredError: 0.8622 - val_RootMeanSquaredError_1: 0.9082 - val_loss: 0.7516 - val_mse_loss: 0.8246\n",
      "Epoch 11/100\n",
      "\u001b[1m363/363\u001b[0m \u001b[32m━━━━━━━━━━━━━━━━━━━━\u001b[0m\u001b[37m\u001b[0m \u001b[1m1s\u001b[0m 1ms/step - RootMeanSquaredError: 0.5580 - RootMeanSquaredError_1: 0.6007 - loss: 0.3163 - mse_loss: 0.3609 - val_RootMeanSquaredError: 0.8506 - val_RootMeanSquaredError_1: 0.7156 - val_loss: 0.7024 - val_mse_loss: 0.5119\n",
      "Epoch 12/100\n",
      "\u001b[1m363/363\u001b[0m \u001b[32m━━━━━━━━━━━━━━━━━━━━\u001b[0m\u001b[37m\u001b[0m \u001b[1m1s\u001b[0m 1ms/step - RootMeanSquaredError: 0.5572 - RootMeanSquaredError_1: 0.5995 - loss: 0.3154 - mse_loss: 0.3596 - val_RootMeanSquaredError: 1.0028 - val_RootMeanSquaredError_1: 1.2328 - val_loss: 1.0570 - val_mse_loss: 1.5191\n",
      "Epoch 13/100\n",
      "\u001b[1m363/363\u001b[0m \u001b[32m━━━━━━━━━━━━━━━━━━━━\u001b[0m\u001b[37m\u001b[0m \u001b[1m1s\u001b[0m 1ms/step - RootMeanSquaredError: 0.5565 - RootMeanSquaredError_1: 0.5980 - loss: 0.3146 - mse_loss: 0.3578 - val_RootMeanSquaredError: 0.9473 - val_RootMeanSquaredError_1: 0.7182 - val_loss: 0.8592 - val_mse_loss: 0.5156\n",
      "Epoch 14/100\n",
      "\u001b[1m363/363\u001b[0m \u001b[32m━━━━━━━━━━━━━━━━━━━━\u001b[0m\u001b[37m\u001b[0m \u001b[1m1s\u001b[0m 1ms/step - RootMeanSquaredError: 0.5560 - RootMeanSquaredError_1: 0.5964 - loss: 0.3138 - mse_loss: 0.3558 - val_RootMeanSquaredError: 1.0054 - val_RootMeanSquaredError_1: 0.8944 - val_loss: 0.9897 - val_mse_loss: 0.7996\n",
      "Epoch 15/100\n",
      "\u001b[1m363/363\u001b[0m \u001b[32m━━━━━━━━━━━━━━━━━━━━\u001b[0m\u001b[37m\u001b[0m \u001b[1m1s\u001b[0m 1ms/step - RootMeanSquaredError: 0.5561 - RootMeanSquaredError_1: 0.5957 - loss: 0.3139 - mse_loss: 0.3551 - val_RootMeanSquaredError: 0.7600 - val_RootMeanSquaredError_1: 0.6579 - val_loss: 0.5631 - val_mse_loss: 0.4327\n",
      "Epoch 16/100\n",
      "\u001b[1m363/363\u001b[0m \u001b[32m━━━━━━━━━━━━━━━━━━━━\u001b[0m\u001b[37m\u001b[0m \u001b[1m1s\u001b[0m 1ms/step - RootMeanSquaredError: 0.5529 - RootMeanSquaredError_1: 0.5936 - loss: 0.3104 - mse_loss: 0.3525 - val_RootMeanSquaredError: 0.7901 - val_RootMeanSquaredError_1: 0.7869 - val_loss: 0.6237 - val_mse_loss: 0.6191\n",
      "Epoch 17/100\n",
      "\u001b[1m363/363\u001b[0m \u001b[32m━━━━━━━━━━━━━━━━━━━━\u001b[0m\u001b[37m\u001b[0m \u001b[1m1s\u001b[0m 1ms/step - RootMeanSquaredError: 0.5510 - RootMeanSquaredError_1: 0.5913 - loss: 0.3083 - mse_loss: 0.3498 - val_RootMeanSquaredError: 0.6550 - val_RootMeanSquaredError_1: 0.6096 - val_loss: 0.4233 - val_mse_loss: 0.3716\n",
      "Epoch 18/100\n",
      "\u001b[1m363/363\u001b[0m \u001b[32m━━━━━━━━━━━━━━━━━━━━\u001b[0m\u001b[37m\u001b[0m \u001b[1m1s\u001b[0m 2ms/step - RootMeanSquaredError: 0.5492 - RootMeanSquaredError_1: 0.5892 - loss: 0.3062 - mse_loss: 0.3473 - val_RootMeanSquaredError: 0.7525 - val_RootMeanSquaredError_1: 0.7326 - val_loss: 0.5632 - val_mse_loss: 0.5365\n",
      "Epoch 19/100\n",
      "\u001b[1m363/363\u001b[0m \u001b[32m━━━━━━━━━━━━━━━━━━━━\u001b[0m\u001b[37m\u001b[0m \u001b[1m1s\u001b[0m 1ms/step - RootMeanSquaredError: 0.5482 - RootMeanSquaredError_1: 0.5878 - loss: 0.3050 - mse_loss: 0.3456 - val_RootMeanSquaredError: 0.6976 - val_RootMeanSquaredError_1: 0.6093 - val_loss: 0.4751 - val_mse_loss: 0.3712\n",
      "Epoch 20/100\n",
      "\u001b[1m363/363\u001b[0m \u001b[32m━━━━━━━━━━━━━━━━━━━━\u001b[0m\u001b[37m\u001b[0m \u001b[1m1s\u001b[0m 1ms/step - RootMeanSquaredError: 0.5488 - RootMeanSquaredError_1: 0.5873 - loss: 0.3057 - mse_loss: 0.3451 - val_RootMeanSquaredError: 0.8980 - val_RootMeanSquaredError_1: 0.8005 - val_loss: 0.7899 - val_mse_loss: 0.6406\n",
      "Epoch 21/100\n",
      "\u001b[1m363/363\u001b[0m \u001b[32m━━━━━━━━━━━━━━━━━━━━\u001b[0m\u001b[37m\u001b[0m \u001b[1m1s\u001b[0m 1ms/step - RootMeanSquaredError: 0.5481 - RootMeanSquaredError_1: 0.5869 - loss: 0.3048 - mse_loss: 0.3445 - val_RootMeanSquaredError: 0.8397 - val_RootMeanSquaredError_1: 0.6476 - val_loss: 0.6766 - val_mse_loss: 0.4193\n",
      "Epoch 22/100\n",
      "\u001b[1m363/363\u001b[0m \u001b[32m━━━━━━━━━━━━━━━━━━━━\u001b[0m\u001b[37m\u001b[0m \u001b[1m1s\u001b[0m 1ms/step - RootMeanSquaredError: 0.5480 - RootMeanSquaredError_1: 0.5865 - loss: 0.3047 - mse_loss: 0.3441 - val_RootMeanSquaredError: 0.7749 - val_RootMeanSquaredError_1: 0.7784 - val_loss: 0.6010 - val_mse_loss: 0.6058\n",
      "Epoch 23/100\n",
      "\u001b[1m363/363\u001b[0m \u001b[32m━━━━━━━━━━━━━━━━━━━━\u001b[0m\u001b[37m\u001b[0m \u001b[1m1s\u001b[0m 2ms/step - RootMeanSquaredError: 0.5445 - RootMeanSquaredError_1: 0.5834 - loss: 0.3010 - mse_loss: 0.3405 - val_RootMeanSquaredError: 0.6030 - val_RootMeanSquaredError_1: 0.5906 - val_loss: 0.3622 - val_mse_loss: 0.3488\n",
      "Epoch 24/100\n",
      "\u001b[1m363/363\u001b[0m \u001b[32m━━━━━━━━━━━━━━━━━━━━\u001b[0m\u001b[37m\u001b[0m \u001b[1m1s\u001b[0m 1ms/step - RootMeanSquaredError: 0.5437 - RootMeanSquaredError_1: 0.5829 - loss: 0.3001 - mse_loss: 0.3399 - val_RootMeanSquaredError: 0.6942 - val_RootMeanSquaredError_1: 0.6751 - val_loss: 0.4793 - val_mse_loss: 0.4556\n",
      "Epoch 25/100\n",
      "\u001b[1m363/363\u001b[0m \u001b[32m━━━━━━━━━━━━━━━━━━━━\u001b[0m\u001b[37m\u001b[0m \u001b[1m1s\u001b[0m 2ms/step - RootMeanSquaredError: 0.5429 - RootMeanSquaredError_1: 0.5817 - loss: 0.2991 - mse_loss: 0.3385 - val_RootMeanSquaredError: 0.6655 - val_RootMeanSquaredError_1: 0.5915 - val_loss: 0.4336 - val_mse_loss: 0.3498\n",
      "Epoch 26/100\n",
      "\u001b[1m363/363\u001b[0m \u001b[32m━━━━━━━━━━━━━━━━━━━━\u001b[0m\u001b[37m\u001b[0m \u001b[1m1s\u001b[0m 1ms/step - RootMeanSquaredError: 0.5431 - RootMeanSquaredError_1: 0.5813 - loss: 0.2993 - mse_loss: 0.3381 - val_RootMeanSquaredError: 0.8857 - val_RootMeanSquaredError_1: 0.8953 - val_loss: 0.7862 - val_mse_loss: 0.8013\n",
      "Epoch 27/100\n",
      "\u001b[1m363/363\u001b[0m \u001b[32m━━━━━━━━━━━━━━━━━━━━\u001b[0m\u001b[37m\u001b[0m \u001b[1m1s\u001b[0m 1ms/step - RootMeanSquaredError: 0.5436 - RootMeanSquaredError_1: 0.5817 - loss: 0.2998 - mse_loss: 0.3385 - val_RootMeanSquaredError: 0.8871 - val_RootMeanSquaredError_1: 0.6841 - val_loss: 0.7550 - val_mse_loss: 0.4679\n",
      "Epoch 28/100\n",
      "\u001b[1m363/363\u001b[0m \u001b[32m━━━━━━━━━━━━━━━━━━━━\u001b[0m\u001b[37m\u001b[0m \u001b[1m1s\u001b[0m 1ms/step - RootMeanSquaredError: 0.5439 - RootMeanSquaredError_1: 0.5819 - loss: 0.3001 - mse_loss: 0.3387 - val_RootMeanSquaredError: 0.9532 - val_RootMeanSquaredError_1: 0.8324 - val_loss: 0.8870 - val_mse_loss: 0.6927\n",
      "Epoch 29/100\n",
      "\u001b[1m363/363\u001b[0m \u001b[32m━━━━━━━━━━━━━━━━━━━━\u001b[0m\u001b[37m\u001b[0m \u001b[1m1s\u001b[0m 1ms/step - RootMeanSquaredError: 0.5418 - RootMeanSquaredError_1: 0.5787 - loss: 0.2977 - mse_loss: 0.3350 - val_RootMeanSquaredError: 0.7476 - val_RootMeanSquaredError_1: 0.6041 - val_loss: 0.5395 - val_mse_loss: 0.3649\n",
      "Epoch 30/100\n",
      "\u001b[1m363/363\u001b[0m \u001b[32m━━━━━━━━━━━━━━━━━━━━\u001b[0m\u001b[37m\u001b[0m \u001b[1m1s\u001b[0m 1ms/step - RootMeanSquaredError: 0.5418 - RootMeanSquaredError_1: 0.5795 - loss: 0.2978 - mse_loss: 0.3360 - val_RootMeanSquaredError: 0.7773 - val_RootMeanSquaredError_1: 0.7020 - val_loss: 0.5930 - val_mse_loss: 0.4926\n",
      "Epoch 31/100\n",
      "\u001b[1m363/363\u001b[0m \u001b[32m━━━━━━━━━━━━━━━━━━━━\u001b[0m\u001b[37m\u001b[0m \u001b[1m1s\u001b[0m 1ms/step - RootMeanSquaredError: 0.5399 - RootMeanSquaredError_1: 0.5776 - loss: 0.2958 - mse_loss: 0.3337 - val_RootMeanSquaredError: 0.6222 - val_RootMeanSquaredError_1: 0.5791 - val_loss: 0.3820 - val_mse_loss: 0.3354\n",
      "Epoch 32/100\n",
      "\u001b[1m363/363\u001b[0m \u001b[32m━━━━━━━━━━━━━━━━━━━━\u001b[0m\u001b[37m\u001b[0m \u001b[1m1s\u001b[0m 1ms/step - RootMeanSquaredError: 0.5388 - RootMeanSquaredError_1: 0.5766 - loss: 0.2946 - mse_loss: 0.3326 - val_RootMeanSquaredError: 0.6543 - val_RootMeanSquaredError_1: 0.6703 - val_loss: 0.4302 - val_mse_loss: 0.4493\n",
      "Epoch 33/100\n",
      "\u001b[1m363/363\u001b[0m \u001b[32m━━━━━━━━━━━━━━━━━━━━\u001b[0m\u001b[37m\u001b[0m \u001b[1m1s\u001b[0m 1ms/step - RootMeanSquaredError: 0.5384 - RootMeanSquaredError_1: 0.5760 - loss: 0.2941 - mse_loss: 0.3319 - val_RootMeanSquaredError: 0.5958 - val_RootMeanSquaredError_1: 0.5760 - val_loss: 0.3526 - val_mse_loss: 0.3317\n",
      "Epoch 34/100\n",
      "\u001b[1m363/363\u001b[0m \u001b[32m━━━━━━━━━━━━━━━━━━━━\u001b[0m\u001b[37m\u001b[0m \u001b[1m1s\u001b[0m 2ms/step - RootMeanSquaredError: 0.5383 - RootMeanSquaredError_1: 0.5763 - loss: 0.2940 - mse_loss: 0.3323 - val_RootMeanSquaredError: 0.6852 - val_RootMeanSquaredError_1: 0.6911 - val_loss: 0.4703 - val_mse_loss: 0.4776\n",
      "Epoch 35/100\n",
      "\u001b[1m363/363\u001b[0m \u001b[32m━━━━━━━━━━━━━━━━━━━━\u001b[0m\u001b[37m\u001b[0m \u001b[1m1s\u001b[0m 2ms/step - RootMeanSquaredError: 0.5438 - RootMeanSquaredError_1: 0.5779 - loss: 0.2997 - mse_loss: 0.3342 - val_RootMeanSquaredError: 0.6483 - val_RootMeanSquaredError_1: 0.5769 - val_loss: 0.4116 - val_mse_loss: 0.3328\n",
      "Epoch 36/100\n",
      "\u001b[1m363/363\u001b[0m \u001b[32m━━━━━━━━━━━━━━━━━━━━\u001b[0m\u001b[37m\u001b[0m \u001b[1m1s\u001b[0m 2ms/step - RootMeanSquaredError: 0.5383 - RootMeanSquaredError_1: 0.5750 - loss: 0.2939 - mse_loss: 0.3307 - val_RootMeanSquaredError: 0.7652 - val_RootMeanSquaredError_1: 0.8000 - val_loss: 0.5909 - val_mse_loss: 0.6399\n",
      "Epoch 37/100\n",
      "\u001b[1m363/363\u001b[0m \u001b[32m━━━━━━━━━━━━━━━━━━━━\u001b[0m\u001b[37m\u001b[0m \u001b[1m1s\u001b[0m 2ms/step - RootMeanSquaredError: 0.5368 - RootMeanSquaredError_1: 0.5743 - loss: 0.2923 - mse_loss: 0.3299 - val_RootMeanSquaredError: 0.7503 - val_RootMeanSquaredError_1: 0.6028 - val_loss: 0.5430 - val_mse_loss: 0.3633\n",
      "Epoch 38/100\n",
      "\u001b[1m363/363\u001b[0m \u001b[32m━━━━━━━━━━━━━━━━━━━━\u001b[0m\u001b[37m\u001b[0m \u001b[1m1s\u001b[0m 1ms/step - RootMeanSquaredError: 0.5373 - RootMeanSquaredError_1: 0.5740 - loss: 0.2929 - mse_loss: 0.3296 - val_RootMeanSquaredError: 0.8184 - val_RootMeanSquaredError_1: 0.7281 - val_loss: 0.6557 - val_mse_loss: 0.5300\n",
      "Epoch 39/100\n",
      "\u001b[1m363/363\u001b[0m \u001b[32m━━━━━━━━━━━━━━━━━━━━\u001b[0m\u001b[37m\u001b[0m \u001b[1m1s\u001b[0m 1ms/step - RootMeanSquaredError: 0.5363 - RootMeanSquaredError_1: 0.5732 - loss: 0.2917 - mse_loss: 0.3287 - val_RootMeanSquaredError: 0.8481 - val_RootMeanSquaredError_1: 0.7924 - val_loss: 0.7101 - val_mse_loss: 0.6277\n",
      "Epoch 40/100\n",
      "\u001b[1m363/363\u001b[0m \u001b[32m━━━━━━━━━━━━━━━━━━━━\u001b[0m\u001b[37m\u001b[0m \u001b[1m1s\u001b[0m 2ms/step - RootMeanSquaredError: 0.5366 - RootMeanSquaredError_1: 0.5745 - loss: 0.2922 - mse_loss: 0.3302 - val_RootMeanSquaredError: 0.9233 - val_RootMeanSquaredError_1: 0.9089 - val_loss: 0.8499 - val_mse_loss: 0.8258\n",
      "Epoch 41/100\n",
      "\u001b[1m363/363\u001b[0m \u001b[32m━━━━━━━━━━━━━━━━━━━━\u001b[0m\u001b[37m\u001b[0m \u001b[1m1s\u001b[0m 2ms/step - RootMeanSquaredError: 0.5360 - RootMeanSquaredError_1: 0.5730 - loss: 0.2915 - mse_loss: 0.3285 - val_RootMeanSquaredError: 0.7947 - val_RootMeanSquaredError_1: 0.7170 - val_loss: 0.6198 - val_mse_loss: 0.5140\n",
      "Epoch 42/100\n",
      "\u001b[1m363/363\u001b[0m \u001b[32m━━━━━━━━━━━━━━━━━━━━\u001b[0m\u001b[37m\u001b[0m \u001b[1m1s\u001b[0m 2ms/step - RootMeanSquaredError: 0.5357 - RootMeanSquaredError_1: 0.5735 - loss: 0.2913 - mse_loss: 0.3290 - val_RootMeanSquaredError: 0.7494 - val_RootMeanSquaredError_1: 0.7571 - val_loss: 0.5628 - val_mse_loss: 0.5731\n",
      "Epoch 43/100\n",
      "\u001b[1m363/363\u001b[0m \u001b[32m━━━━━━━━━━━━━━━━━━━━\u001b[0m\u001b[37m\u001b[0m \u001b[1m1s\u001b[0m 1ms/step - RootMeanSquaredError: 0.5368 - RootMeanSquaredError_1: 0.5730 - loss: 0.2923 - mse_loss: 0.3285 - val_RootMeanSquaredError: 0.6261 - val_RootMeanSquaredError_1: 0.6237 - val_loss: 0.3917 - val_mse_loss: 0.3889\n"
     ]
    }
   ],
   "source": [
    "## Early stopping will interupt training when there is no progress or performance is decreasing.\n",
    "early_stopping_cb = tf.keras.callbacks.EarlyStopping(patience=10,\n",
    "                                                     restore_best_weights=True)\n",
    "history = model.fit(\n",
    "    (X_train_wide, X_train_deep), (y_train, y_train), epochs=100,\n",
    "    validation_data=((X_valid_wide, X_valid_deep), (y_valid, y_valid)),\n",
    "    callbacks=[checkpoint_cb, early_stopping_cb])"
   ]
  },
  {
   "cell_type": "markdown",
   "id": "65e145ba-ea49-43e6-a898-524d6dd99280",
   "metadata": {},
   "source": [
    "Other callbacks: keras.io/api/callbacks"
   ]
  },
  {
   "cell_type": "markdown",
   "id": "6704d0e5-95e9-42db-a933-1c614ab90d5c",
   "metadata": {},
   "source": [
    "#### Custom Callbacks"
   ]
  },
  {
   "cell_type": "code",
   "execution_count": 46,
   "id": "1f922a58-7b06-441e-aca9-01968b677c60",
   "metadata": {},
   "outputs": [],
   "source": [
    "class PrintValTrainRatioCallback(tf.keras.callbacks.Callback):\n",
    "    def on_epoch_end(self, epoch, logs):\n",
    "        ratio = logs['val_loss'] / logs['loss']\n",
    "        print(f\"Epoch={epoch}, val/train={ratio:.2f}\")"
   ]
  },
  {
   "cell_type": "code",
   "execution_count": 47,
   "id": "6400df74-5129-48c5-b84b-dc1a0ce36fce",
   "metadata": {},
   "outputs": [
    {
     "name": "stdout",
     "output_type": "stream",
     "text": [
      "Epoch=0, val/train=1.63\n",
      "Epoch=1, val/train=1.59\n",
      "Epoch=2, val/train=2.08\n",
      "Epoch=3, val/train=1.51\n",
      "Epoch=4, val/train=2.26\n",
      "Epoch=5, val/train=1.60\n",
      "Epoch=6, val/train=1.65\n",
      "Epoch=7, val/train=1.20\n",
      "Epoch=8, val/train=1.57\n",
      "Epoch=9, val/train=1.34\n"
     ]
    }
   ],
   "source": [
    "val_train_ratio_cb = PrintValTrainRatioCallback()\n",
    "history = model.fit(\n",
    "    (X_train_wide, X_train_deep), (y_train, y_train), epochs=10,\n",
    "    validation_data=((X_valid_wide, X_valid_deep), (y_valid, y_valid)),\n",
    "    callbacks=[val_train_ratio_cb], verbose=0)"
   ]
  },
  {
   "cell_type": "markdown",
   "id": "a5af548e-99c6-4159-84d4-a0a84c141e4f",
   "metadata": {},
   "source": [
    "### Tensorboard"
   ]
  },
  {
   "cell_type": "code",
   "execution_count": 48,
   "id": "55d38482-b175-4d54-b0e7-817a552eeb2c",
   "metadata": {},
   "outputs": [],
   "source": [
    "from pathlib import Path\n",
    "from time import strftime\n",
    "\n",
    "def get_run_logdir(root_logdir=\"my_logs\"):\n",
    "    return Path(root_logdir) / strftime(\"run_%Y_%m_%d_%H_%M_%S\")\n",
    "\n",
    "run_logdir = get_run_logdir()"
   ]
  },
  {
   "cell_type": "code",
   "execution_count": 49,
   "id": "63533383-0338-41e1-b9cc-bd6fe5a41eb1",
   "metadata": {},
   "outputs": [
    {
     "name": "stderr",
     "output_type": "stream",
     "text": [
      "/home/dude/Desktop/env/lib/python3.11/site-packages/keras/src/layers/preprocessing/tf_data_layer.py:19: UserWarning: Do not pass an `input_shape`/`input_dim` argument to a layer. When using Sequential models, prefer using an `Input(shape)` object as the first layer in the model instead.\n",
      "  super().__init__(**kwargs)\n"
     ]
    }
   ],
   "source": [
    "# extra code – builds the first regression model we used earlier\n",
    "tf.keras.backend.clear_session()\n",
    "tf.random.set_seed(42)\n",
    "norm_layer = tf.keras.layers.Normalization(input_shape=X_train.shape[1:])\n",
    "model = tf.keras.Sequential([\n",
    "    norm_layer,\n",
    "    tf.keras.layers.Dense(30, activation=\"relu\"),\n",
    "    tf.keras.layers.Dense(30, activation=\"relu\"),\n",
    "    tf.keras.layers.Dense(1)\n",
    "])\n",
    "optimizer = tf.keras.optimizers.SGD(learning_rate=2e-3)\n",
    "model.compile(loss=\"mse\", optimizer=optimizer, metrics=[\"RootMeanSquaredError\"])\n",
    "norm_layer.adapt(X_train)"
   ]
  },
  {
   "cell_type": "code",
   "execution_count": 50,
   "id": "681c1e0b-b874-4836-b76b-478d7ef34ff6",
   "metadata": {
    "scrolled": true
   },
   "outputs": [
    {
     "name": "stderr",
     "output_type": "stream",
     "text": [
      "2024-12-27 14:14:53.909558: I external/local_tsl/tsl/profiler/lib/profiler_session.cc:103] Profiler session initializing.\n",
      "2024-12-27 14:14:53.909577: I external/local_tsl/tsl/profiler/lib/profiler_session.cc:118] Profiler session started.\n",
      "2024-12-27 14:14:53.909596: I external/local_xla/xla/backends/profiler/gpu/cupti_tracer.cc:1006] Profiler found 1 GPUs\n",
      "2024-12-27 14:14:53.909925: E external/local_xla/xla/backends/profiler/gpu/cupti_error_manager.cc:153] cuptiGetTimestamp: error 999: \n",
      "2024-12-27 14:14:53.909936: E external/local_xla/xla/backends/profiler/gpu/cupti_error_manager.cc:206] cuptiSubscribe: ignored due to a previous error.\n",
      "2024-12-27 14:14:53.909943: E external/local_xla/xla/backends/profiler/gpu/cupti_error_manager.cc:243] cuptiGetResultString: ignored due to a previous error.\n",
      "2024-12-27 14:14:53.909948: E external/local_xla/xla/backends/profiler/gpu/cupti_tracer.cc:1112] function cupti_interface_->Subscribe( &subscriber_, (CUpti_CallbackFunc)ApiCallback, this)failed with error \n",
      "2024-12-27 14:14:53.910131: I external/local_tsl/tsl/profiler/lib/profiler_session.cc:130] Profiler session tear down.\n",
      "2024-12-27 14:14:53.935928: E external/local_xla/xla/backends/profiler/gpu/cupti_error_manager.cc:158] cuptiFinalize: ignored due to a previous error.\n",
      "2024-12-27 14:14:53.935951: E external/local_xla/xla/backends/profiler/gpu/cupti_error_manager.cc:243] cuptiGetResultString: ignored due to a previous error.\n",
      "2024-12-27 14:14:53.935955: E external/local_xla/xla/backends/profiler/gpu/cupti_tracer.cc:1222] function cupti_interface_->Finalize()failed with error \n",
      "2024-12-27 14:14:53.935960: E external/local_xla/xla/backends/profiler/gpu/cupti_error_manager.cc:151] cuptiGetTimestamp: ignored due to a previous error.\n"
     ]
    },
    {
     "name": "stdout",
     "output_type": "stream",
     "text": [
      "Epoch 1/20\n",
      "\u001b[1m200/363\u001b[0m \u001b[32m━━━━━━━━━━━\u001b[0m\u001b[37m━━━━━━━━━\u001b[0m \u001b[1m0s\u001b[0m 2ms/step - RootMeanSquaredError: 1.9471 - loss: 3.8625"
     ]
    },
    {
     "name": "stderr",
     "output_type": "stream",
     "text": [
      "2024-12-27 14:14:55.061544: I external/local_tsl/tsl/profiler/lib/profiler_session.cc:103] Profiler session initializing.\n",
      "2024-12-27 14:14:55.061565: I external/local_tsl/tsl/profiler/lib/profiler_session.cc:118] Profiler session started.\n",
      "2024-12-27 14:14:55.061576: E external/local_xla/xla/backends/profiler/gpu/cupti_error_manager.cc:151] cuptiGetTimestamp: ignored due to a previous error.\n",
      "2024-12-27 14:14:55.061580: E external/local_xla/xla/backends/profiler/gpu/cupti_error_manager.cc:206] cuptiSubscribe: ignored due to a previous error.\n",
      "2024-12-27 14:14:55.061583: E external/local_xla/xla/backends/profiler/gpu/cupti_error_manager.cc:243] cuptiGetResultString: ignored due to a previous error.\n",
      "2024-12-27 14:14:55.061586: E external/local_xla/xla/backends/profiler/gpu/cupti_tracer.cc:1112] function cupti_interface_->Subscribe( &subscriber_, (CUpti_CallbackFunc)ApiCallback, this)failed with error \n",
      "2024-12-27 14:14:55.195982: I external/local_tsl/tsl/profiler/lib/profiler_session.cc:68] Profiler session collecting data.\n",
      "2024-12-27 14:14:55.212900: E external/local_xla/xla/backends/profiler/gpu/cupti_error_manager.cc:158] cuptiFinalize: ignored due to a previous error.\n",
      "2024-12-27 14:14:55.212925: E external/local_xla/xla/backends/profiler/gpu/cupti_error_manager.cc:243] cuptiGetResultString: ignored due to a previous error.\n",
      "2024-12-27 14:14:55.212929: E external/local_xla/xla/backends/profiler/gpu/cupti_tracer.cc:1222] function cupti_interface_->Finalize()failed with error \n",
      "2024-12-27 14:14:55.212934: E external/local_xla/xla/backends/profiler/gpu/cupti_error_manager.cc:151] cuptiGetTimestamp: ignored due to a previous error.\n",
      "2024-12-27 14:14:55.238901: E external/local_xla/xla/backends/profiler/gpu/cupti_error_manager.cc:151] cuptiGetTimestamp: ignored due to a previous error.\n",
      "2024-12-27 14:14:55.238934: I external/local_xla/xla/backends/profiler/gpu/cupti_collector.cc:635]  GpuTracer has collected 0 callback api events and 0 activity events. \n",
      "2024-12-27 14:14:55.238939: I external/local_xla/xla/backends/profiler/gpu/cupti_collector.cc:638]  GpuTracer max callback_events: 2097152, max activity events: 2097152\n",
      "2024-12-27 14:14:55.248253: I external/local_tsl/tsl/profiler/lib/profiler_session.cc:130] Profiler session tear down.\n",
      "2024-12-27 14:14:55.250701: I external/local_xla/xla/tsl/profiler/rpc/client/save_profile.cc:147] Collecting XSpace to repository: my_logs/run_2024_12_27_14_14_53/train/plugins/profile/2024_12_27_14_14_55/dude-1-0.xplane.pb\n"
     ]
    },
    {
     "name": "stdout",
     "output_type": "stream",
     "text": [
      "\u001b[1m363/363\u001b[0m \u001b[32m━━━━━━━━━━━━━━━━━━━━\u001b[0m\u001b[37m\u001b[0m \u001b[1m2s\u001b[0m 4ms/step - RootMeanSquaredError: 1.7460 - loss: 3.1391 - val_RootMeanSquaredError: 0.9510 - val_loss: 0.9043\n",
      "Epoch 2/20\n",
      "\u001b[1m363/363\u001b[0m \u001b[32m━━━━━━━━━━━━━━━━━━━━\u001b[0m\u001b[37m\u001b[0m \u001b[1m1s\u001b[0m 1ms/step - RootMeanSquaredError: 0.8618 - loss: 0.7441 - val_RootMeanSquaredError: 0.7792 - val_loss: 0.6071\n",
      "Epoch 3/20\n",
      "\u001b[1m363/363\u001b[0m \u001b[32m━━━━━━━━━━━━━━━━━━━━\u001b[0m\u001b[37m\u001b[0m \u001b[1m1s\u001b[0m 1ms/step - RootMeanSquaredError: 0.7826 - loss: 0.6133 - val_RootMeanSquaredError: 0.7373 - val_loss: 0.5437\n",
      "Epoch 4/20\n",
      "\u001b[1m363/363\u001b[0m \u001b[32m━━━━━━━━━━━━━━━━━━━━\u001b[0m\u001b[37m\u001b[0m \u001b[1m1s\u001b[0m 1ms/step - RootMeanSquaredError: 0.7433 - loss: 0.5532 - val_RootMeanSquaredError: 0.7103 - val_loss: 0.5046\n",
      "Epoch 5/20\n",
      "\u001b[1m363/363\u001b[0m \u001b[32m━━━━━━━━━━━━━━━━━━━━\u001b[0m\u001b[37m\u001b[0m \u001b[1m1s\u001b[0m 1ms/step - RootMeanSquaredError: 0.7136 - loss: 0.5097 - val_RootMeanSquaredError: 0.6624 - val_loss: 0.4387\n",
      "Epoch 6/20\n",
      "\u001b[1m363/363\u001b[0m \u001b[32m━━━━━━━━━━━━━━━━━━━━\u001b[0m\u001b[37m\u001b[0m \u001b[1m1s\u001b[0m 1ms/step - RootMeanSquaredError: 0.6909 - loss: 0.4779 - val_RootMeanSquaredError: 0.6436 - val_loss: 0.4142\n",
      "Epoch 7/20\n",
      "\u001b[1m363/363\u001b[0m \u001b[32m━━━━━━━━━━━━━━━━━━━━\u001b[0m\u001b[37m\u001b[0m \u001b[1m1s\u001b[0m 1ms/step - RootMeanSquaredError: 0.6738 - loss: 0.4544 - val_RootMeanSquaredError: 0.6249 - val_loss: 0.3905\n",
      "Epoch 8/20\n",
      "\u001b[1m363/363\u001b[0m \u001b[32m━━━━━━━━━━━━━━━━━━━━\u001b[0m\u001b[37m\u001b[0m \u001b[1m1s\u001b[0m 1ms/step - RootMeanSquaredError: 0.6612 - loss: 0.4376 - val_RootMeanSquaredError: 0.6172 - val_loss: 0.3809\n",
      "Epoch 9/20\n",
      "\u001b[1m363/363\u001b[0m \u001b[32m━━━━━━━━━━━━━━━━━━━━\u001b[0m\u001b[37m\u001b[0m \u001b[1m1s\u001b[0m 1ms/step - RootMeanSquaredError: 0.6523 - loss: 0.4258 - val_RootMeanSquaredError: 0.6147 - val_loss: 0.3778\n",
      "Epoch 10/20\n",
      "\u001b[1m363/363\u001b[0m \u001b[32m━━━━━━━━━━━━━━━━━━━━\u001b[0m\u001b[37m\u001b[0m \u001b[1m1s\u001b[0m 2ms/step - RootMeanSquaredError: 0.6460 - loss: 0.4176 - val_RootMeanSquaredError: 0.6139 - val_loss: 0.3769\n",
      "Epoch 11/20\n",
      "\u001b[1m363/363\u001b[0m \u001b[32m━━━━━━━━━━━━━━━━━━━━\u001b[0m\u001b[37m\u001b[0m \u001b[1m1s\u001b[0m 2ms/step - RootMeanSquaredError: 0.6410 - loss: 0.4112 - val_RootMeanSquaredError: 0.6134 - val_loss: 0.3762\n",
      "Epoch 12/20\n",
      "\u001b[1m363/363\u001b[0m \u001b[32m━━━━━━━━━━━━━━━━━━━━\u001b[0m\u001b[37m\u001b[0m \u001b[1m1s\u001b[0m 1ms/step - RootMeanSquaredError: 0.6370 - loss: 0.4061 - val_RootMeanSquaredError: 0.6120 - val_loss: 0.3745\n",
      "Epoch 13/20\n",
      "\u001b[1m363/363\u001b[0m \u001b[32m━━━━━━━━━━━━━━━━━━━━\u001b[0m\u001b[37m\u001b[0m \u001b[1m1s\u001b[0m 1ms/step - RootMeanSquaredError: 0.6337 - loss: 0.4018 - val_RootMeanSquaredError: 0.6099 - val_loss: 0.3720\n",
      "Epoch 14/20\n",
      "\u001b[1m363/363\u001b[0m \u001b[32m━━━━━━━━━━━━━━━━━━━━\u001b[0m\u001b[37m\u001b[0m \u001b[1m1s\u001b[0m 1ms/step - RootMeanSquaredError: 0.6306 - loss: 0.3979 - val_RootMeanSquaredError: 0.6075 - val_loss: 0.3691\n",
      "Epoch 15/20\n",
      "\u001b[1m363/363\u001b[0m \u001b[32m━━━━━━━━━━━━━━━━━━━━\u001b[0m\u001b[37m\u001b[0m \u001b[1m1s\u001b[0m 1ms/step - RootMeanSquaredError: 0.6280 - loss: 0.3946 - val_RootMeanSquaredError: 0.6050 - val_loss: 0.3660\n",
      "Epoch 16/20\n",
      "\u001b[1m363/363\u001b[0m \u001b[32m━━━━━━━━━━━━━━━━━━━━\u001b[0m\u001b[37m\u001b[0m \u001b[1m1s\u001b[0m 1ms/step - RootMeanSquaredError: 0.6255 - loss: 0.3915 - val_RootMeanSquaredError: 0.6024 - val_loss: 0.3629\n",
      "Epoch 17/20\n",
      "\u001b[1m363/363\u001b[0m \u001b[32m━━━━━━━━━━━━━━━━━━━━\u001b[0m\u001b[37m\u001b[0m \u001b[1m1s\u001b[0m 1ms/step - RootMeanSquaredError: 0.6233 - loss: 0.3887 - val_RootMeanSquaredError: 0.6003 - val_loss: 0.3603\n",
      "Epoch 18/20\n",
      "\u001b[1m363/363\u001b[0m \u001b[32m━━━━━━━━━━━━━━━━━━━━\u001b[0m\u001b[37m\u001b[0m \u001b[1m1s\u001b[0m 1ms/step - RootMeanSquaredError: 0.6213 - loss: 0.3862 - val_RootMeanSquaredError: 0.5980 - val_loss: 0.3576\n",
      "Epoch 19/20\n",
      "\u001b[1m363/363\u001b[0m \u001b[32m━━━━━━━━━━━━━━━━━━━━\u001b[0m\u001b[37m\u001b[0m \u001b[1m0s\u001b[0m 1ms/step - RootMeanSquaredError: 0.6194 - loss: 0.3839 - val_RootMeanSquaredError: 0.5960 - val_loss: 0.3552\n",
      "Epoch 20/20\n",
      "\u001b[1m363/363\u001b[0m \u001b[32m━━━━━━━━━━━━━━━━━━━━\u001b[0m\u001b[37m\u001b[0m \u001b[1m1s\u001b[0m 1ms/step - RootMeanSquaredError: 0.6176 - loss: 0.3817 - val_RootMeanSquaredError: 0.5943 - val_loss: 0.3532\n"
     ]
    }
   ],
   "source": [
    "tensorboard_cb = tf.keras.callbacks.TensorBoard(run_logdir,\n",
    "                                                profile_batch=(100, 200))\n",
    "history = model.fit(X_train, y_train, epochs=20,\n",
    "                    validation_data=(X_valid, y_valid),\n",
    "                    callbacks=[tensorboard_cb])"
   ]
  },
  {
   "cell_type": "markdown",
   "id": "2c361b36-6b8f-4519-911b-434720ca9970",
   "metadata": {},
   "source": [
    "### Fine-Tuning Neural Network Hyperparameters"
   ]
  },
  {
   "cell_type": "code",
   "execution_count": 71,
   "id": "6ff79e86-108a-4914-a901-deb2ca631d75",
   "metadata": {},
   "outputs": [],
   "source": [
    "(X_train_full, y_train_full), (X_test, y_test) = fashion_mnist\n",
    "X_train, y_train = X_train_full[:-5000], y_train_full[:-5000]\n",
    "X_valid, y_valid = X_train_full[-5000:], y_train_full[-5000:]"
   ]
  },
  {
   "cell_type": "code",
   "execution_count": 72,
   "id": "9e6b60b9-a3d8-4a53-b9f1-257aad2bb287",
   "metadata": {},
   "outputs": [],
   "source": [
    "import keras_tuner as kt"
   ]
  },
  {
   "cell_type": "code",
   "execution_count": 73,
   "id": "8ff43951-cdd6-462a-a88e-97f6a0697911",
   "metadata": {},
   "outputs": [],
   "source": [
    "def build_model(hp: kt.HyperParameters):\n",
    "    ## Define hyperparameters\n",
    "    n_hidden = hp.Int('n_hidden', min_value=0, max_value=8, default=2)\n",
    "    n_neurons = hp.Int('n_neurons', min_value=16, max_value=256)\n",
    "    learning_rate = hp.Float('learning_rate', min_value=1e-4, max_value=2e-2, sampling='log')\n",
    "    optimizer = hp.Choice('optimizer', values=['sgd', 'adam'])\n",
    "    if optimizer == 'sgd':\n",
    "        optimizer = tf.keras.optimizers.SGD(learning_rate=learning_rate)\n",
    "    else:\n",
    "        optimizer = tf.keras.optimizers.Adam(learning_rate=learning_rate)\n",
    "\n",
    "    ## Build model using hyperparameters \n",
    "    model = tf.keras.Sequential()\n",
    "    model.add(tf.keras.layers.Flatten())\n",
    "    for _ in range(n_hidden):\n",
    "        model.add(tf.keras.layers.Dense(n_neurons, activation='relu'))\n",
    "    model.add(tf.keras.layers.Dense(10, activation='softmax'))\n",
    "    model.compile(loss=\"sparse_categorical_crossentropy\", optimizer=optimizer, metrics=['accuracy'])\n",
    "\n",
    "    return model"
   ]
  },
  {
   "cell_type": "code",
   "execution_count": 74,
   "id": "5dba35f2-8ec5-4c96-b00e-5a6f0a251ba2",
   "metadata": {},
   "outputs": [
    {
     "name": "stdout",
     "output_type": "stream",
     "text": [
      "Trial 5 Complete [00h 00m 21s]\n",
      "val_accuracy: 0.8252000212669373\n",
      "\n",
      "Best val_accuracy So Far: 0.8546000123023987\n",
      "Total elapsed time: 00h 01m 44s\n"
     ]
    }
   ],
   "source": [
    "random_search_tuner = kt.RandomSearch(\n",
    "    build_model, objective='val_accuracy', max_trials=5, overwrite=True,\n",
    "    directory='my_fashion_mnist', project_name='my_rnd_search', seed=42)\n",
    "random_search_tuner.search(X_train, y_train, epochs=10, validation_data=(X_valid, y_valid))"
   ]
  },
  {
   "cell_type": "code",
   "execution_count": 75,
   "id": "bf359db8-41b7-4910-a8ef-033bb0c5b263",
   "metadata": {},
   "outputs": [
    {
     "data": {
      "text/plain": [
       "[<Sequential name=sequential, built=True>,\n",
       " <Sequential name=sequential, built=True>,\n",
       " <Sequential name=sequential, built=True>]"
      ]
     },
     "execution_count": 75,
     "metadata": {},
     "output_type": "execute_result"
    }
   ],
   "source": [
    "top3_models = random_search_tuner.get_best_models(num_models=3)\n",
    "top3_models"
   ]
  },
  {
   "cell_type": "code",
   "execution_count": 76,
   "id": "a0306e6a-f529-4862-9917-c433e63a2ea7",
   "metadata": {},
   "outputs": [],
   "source": [
    "best_model = top3_models[0]"
   ]
  },
  {
   "cell_type": "code",
   "execution_count": 77,
   "id": "710c3a34-7618-4ae7-93b6-4a1e691be968",
   "metadata": {},
   "outputs": [
    {
     "data": {
      "text/plain": [
       "[<keras_tuner.src.engine.hyperparameters.hyperparameters.HyperParameters at 0x78ebdd9a3e10>,\n",
       " <keras_tuner.src.engine.hyperparameters.hyperparameters.HyperParameters at 0x78ebdb60dbd0>,\n",
       " <keras_tuner.src.engine.hyperparameters.hyperparameters.HyperParameters at 0x78ebe0142390>]"
      ]
     },
     "execution_count": 77,
     "metadata": {},
     "output_type": "execute_result"
    }
   ],
   "source": [
    "top3_params = random_search_tuner.get_best_hyperparameters(num_trials=3)\n",
    "top3_params"
   ]
  },
  {
   "cell_type": "code",
   "execution_count": 78,
   "id": "15cf2ade-4163-4688-92cc-534482bd33a9",
   "metadata": {},
   "outputs": [
    {
     "data": {
      "text/plain": [
       "{'n_hidden': 7,\n",
       " 'n_neurons': 100,\n",
       " 'learning_rate': 0.001825272058205421,\n",
       " 'optimizer': 'sgd'}"
      ]
     },
     "execution_count": 78,
     "metadata": {},
     "output_type": "execute_result"
    }
   ],
   "source": [
    "top3_params[0].values # Best Hyperparameters"
   ]
  },
  {
   "cell_type": "code",
   "execution_count": 79,
   "id": "937e566b-21e4-469a-9076-7de46505fd20",
   "metadata": {},
   "outputs": [
    {
     "name": "stdout",
     "output_type": "stream",
     "text": [
      "Trial 1 summary\n",
      "Hyperparameters:\n",
      "n_hidden: 7\n",
      "n_neurons: 100\n",
      "learning_rate: 0.001825272058205421\n",
      "optimizer: sgd\n",
      "Score: 0.8546000123023987\n"
     ]
    }
   ],
   "source": [
    "best_trial = random_search_tuner.oracle.get_best_trials(num_trials=1)[0]\n",
    "best_trial.summary()"
   ]
  },
  {
   "cell_type": "code",
   "execution_count": 82,
   "id": "f394da7b-bb95-4fdf-a211-d6c5296ec09e",
   "metadata": {},
   "outputs": [
    {
     "name": "stdout",
     "output_type": "stream",
     "text": [
      "Epoch 1/10\n",
      "\u001b[1m1875/1875\u001b[0m \u001b[32m━━━━━━━━━━━━━━━━━━━━\u001b[0m\u001b[37m\u001b[0m \u001b[1m2s\u001b[0m 827us/step - accuracy: 0.9018 - loss: 0.2645\n",
      "Epoch 2/10\n",
      "\u001b[1m1875/1875\u001b[0m \u001b[32m━━━━━━━━━━━━━━━━━━━━\u001b[0m\u001b[37m\u001b[0m \u001b[1m2s\u001b[0m 817us/step - accuracy: 0.9034 - loss: 0.2595\n",
      "Epoch 3/10\n",
      "\u001b[1m1875/1875\u001b[0m \u001b[32m━━━━━━━━━━━━━━━━━━━━\u001b[0m\u001b[37m\u001b[0m \u001b[1m2s\u001b[0m 829us/step - accuracy: 0.9058 - loss: 0.2529\n",
      "Epoch 4/10\n",
      "\u001b[1m1875/1875\u001b[0m \u001b[32m━━━━━━━━━━━━━━━━━━━━\u001b[0m\u001b[37m\u001b[0m \u001b[1m2s\u001b[0m 810us/step - accuracy: 0.9066 - loss: 0.2487\n",
      "Epoch 5/10\n",
      "\u001b[1m1875/1875\u001b[0m \u001b[32m━━━━━━━━━━━━━━━━━━━━\u001b[0m\u001b[37m\u001b[0m \u001b[1m2s\u001b[0m 811us/step - accuracy: 0.9088 - loss: 0.2443\n",
      "Epoch 6/10\n",
      "\u001b[1m1875/1875\u001b[0m \u001b[32m━━━━━━━━━━━━━━━━━━━━\u001b[0m\u001b[37m\u001b[0m \u001b[1m2s\u001b[0m 831us/step - accuracy: 0.9096 - loss: 0.2406\n",
      "Epoch 7/10\n",
      "\u001b[1m1875/1875\u001b[0m \u001b[32m━━━━━━━━━━━━━━━━━━━━\u001b[0m\u001b[37m\u001b[0m \u001b[1m2s\u001b[0m 836us/step - accuracy: 0.9108 - loss: 0.2370\n",
      "Epoch 8/10\n",
      "\u001b[1m1875/1875\u001b[0m \u001b[32m━━━━━━━━━━━━━━━━━━━━\u001b[0m\u001b[37m\u001b[0m \u001b[1m2s\u001b[0m 818us/step - accuracy: 0.9122 - loss: 0.2332\n",
      "Epoch 9/10\n",
      "\u001b[1m1875/1875\u001b[0m \u001b[32m━━━━━━━━━━━━━━━━━━━━\u001b[0m\u001b[37m\u001b[0m \u001b[1m2s\u001b[0m 821us/step - accuracy: 0.9140 - loss: 0.2289\n",
      "Epoch 10/10\n",
      "\u001b[1m1875/1875\u001b[0m \u001b[32m━━━━━━━━━━━━━━━━━━━━\u001b[0m\u001b[37m\u001b[0m \u001b[1m2s\u001b[0m 836us/step - accuracy: 0.9155 - loss: 0.2254\n"
     ]
    },
    {
     "data": {
      "text/plain": [
       "<keras.src.callbacks.history.History at 0x78ebddb71690>"
      ]
     },
     "execution_count": 82,
     "metadata": {},
     "output_type": "execute_result"
    }
   ],
   "source": [
    "best_model.fit(X_train_full, y_train_full, epochs=10)"
   ]
  },
  {
   "cell_type": "code",
   "execution_count": 83,
   "id": "9e8d01e0-23b5-4e03-9461-af46a648fea3",
   "metadata": {},
   "outputs": [
    {
     "name": "stdout",
     "output_type": "stream",
     "text": [
      "\u001b[1m313/313\u001b[0m \u001b[32m━━━━━━━━━━━━━━━━━━━━\u001b[0m\u001b[37m\u001b[0m \u001b[1m0s\u001b[0m 799us/step - accuracy: 0.8628 - loss: 0.4156\n"
     ]
    }
   ],
   "source": [
    "test_loss, test_accuracy = best_model.evaluate(X_test, y_test)"
   ]
  },
  {
   "cell_type": "code",
   "execution_count": 85,
   "id": "9230661e-aac4-4f5b-a07b-0b0ddcc847b6",
   "metadata": {},
   "outputs": [],
   "source": [
    "\"\"\"\n",
    "In order to tune data preproccesing hyperparameters, or model.fit() parameters, you should use this approach\n",
    "\"\"\"\n",
    "\n",
    "class MyClassificationHyperModel(kt.HyperModel):\n",
    "    def build(self, hp):\n",
    "        return build_model(hp)\n",
    "\n",
    "    def fit(self, hp, model, X, y, **kwargs):\n",
    "        if hp.Boolean('normalize'):\n",
    "            norm_layer = tf.keras.layers.Normalization()\n",
    "            X = norm_layer(X)\n",
    "        return model.fit(X,y, **kwargs)"
   ]
  },
  {
   "cell_type": "code",
   "execution_count": 86,
   "id": "3ab3cf9f-dbdd-4f1d-86fa-dcd30b795a72",
   "metadata": {},
   "outputs": [],
   "source": [
    "hyperband_tuner = kt.Hyperband(\n",
    "    MyClassificationHyperModel(), objective=\"val_accuracy\", seed=42,\n",
    "    max_epochs=10, factor=3, hyperband_iterations=2,\n",
    "    overwrite=True, directory=\"my_fashion_mnist\", project_name=\"hyperband\")"
   ]
  },
  {
   "cell_type": "code",
   "execution_count": 87,
   "id": "4c05b0a9-598c-44d4-be2f-99208d759676",
   "metadata": {},
   "outputs": [
    {
     "name": "stdout",
     "output_type": "stream",
     "text": [
      "Trial 60 Complete [00h 00m 30s]\n",
      "val_accuracy: 0.6395999789237976\n",
      "\n",
      "Best val_accuracy So Far: 0.8709999918937683\n",
      "Total elapsed time: 00h 13m 11s\n"
     ]
    }
   ],
   "source": [
    "root_logdir = Path(hyperband_tuner.project_dir) / \"tensorboard\"\n",
    "tensorboard_cb = tf.keras.callbacks.TensorBoard(root_logdir)\n",
    "early_stopping_cb = tf.keras.callbacks.EarlyStopping(patience=2)\n",
    "hyperband_tuner.search(X_train, y_train, epochs=10,\n",
    "                       validation_data=(X_valid, y_valid),\n",
    "                       callbacks=[early_stopping_cb, tensorboard_cb])"
   ]
  },
  {
   "cell_type": "markdown",
   "id": "300fd3aa-5ff1-4411-ae0b-21420200fd95",
   "metadata": {},
   "source": [
    "# Exercise 10"
   ]
  },
  {
   "cell_type": "markdown",
   "id": "1eb7eb4f-46a0-4726-9bba-93f709c556cc",
   "metadata": {},
   "source": [
    "Task: Build an Deep MLP on the mnist dataset and try to get 98% accuracy"
   ]
  },
  {
   "cell_type": "code",
   "execution_count": 109,
   "id": "1f00f601-629d-4bff-aec4-18383b97fb24",
   "metadata": {},
   "outputs": [],
   "source": [
    "(X_train, y_train), (X_test, y_test) = tf.keras.datasets.mnist.load_data()\n",
    "X_train, X_test = X_train / 255.0, X_test / 255.0 \n",
    "X_val = X_train[:10_000]\n",
    "y_val = y_train[:10_000]\n",
    "X_train = X_train[10_000:]\n",
    "y_train = y_train[10_000:]"
   ]
  },
  {
   "cell_type": "code",
   "execution_count": 118,
   "id": "6bf97c14-a8a2-4800-b8f1-2d7e58bbf0f4",
   "metadata": {},
   "outputs": [],
   "source": [
    "## First try with basic Sequential model\n",
    "model = tf.keras.Sequential()\n",
    "\n",
    "# Input layer\n",
    "model.add(tf.keras.layers.InputLayer(shape=X_train.shape[1:]))\n",
    "# Flatten Layer\n",
    "model.add(tf.keras.layers.Flatten())\n",
    "# Hidden layers\n",
    "model.add(tf.keras.layers.Dense(784, activation='relu'))\n",
    "model.add(tf.keras.layers.Dense(392, activation='relu'))\n",
    "model.add(tf.keras.layers.Dense(196, activation='relu'))\n",
    "model.add(tf.keras.layers.Dense(98, activation='relu'))\n",
    "# Output layer\n",
    "model.add(tf.keras.layers.Dense(10, activation='softmax'))\n",
    "\n",
    "model.compile(optimizer=tf.keras.optimizers.SGD(learning_rate=1e-3),\n",
    "              loss='sparse_categorical_crossentropy',\n",
    "              metrics=['accuracy'])"
   ]
  },
  {
   "cell_type": "code",
   "execution_count": 119,
   "id": "51300ca4-c573-4728-9319-64136c8701de",
   "metadata": {},
   "outputs": [
    {
     "data": {
      "text/html": [
       "<pre style=\"white-space:pre;overflow-x:auto;line-height:normal;font-family:Menlo,'DejaVu Sans Mono',consolas,'Courier New',monospace\"><span style=\"font-weight: bold\">Model: \"sequential_7\"</span>\n",
       "</pre>\n"
      ],
      "text/plain": [
       "\u001b[1mModel: \"sequential_7\"\u001b[0m\n"
      ]
     },
     "metadata": {},
     "output_type": "display_data"
    },
    {
     "data": {
      "text/html": [
       "<pre style=\"white-space:pre;overflow-x:auto;line-height:normal;font-family:Menlo,'DejaVu Sans Mono',consolas,'Courier New',monospace\">┏━━━━━━━━━━━━━━━━━━━━━━━━━━━━━━━━━┳━━━━━━━━━━━━━━━━━━━━━━━━┳━━━━━━━━━━━━━━━┓\n",
       "┃<span style=\"font-weight: bold\"> Layer (type)                    </span>┃<span style=\"font-weight: bold\"> Output Shape           </span>┃<span style=\"font-weight: bold\">       Param # </span>┃\n",
       "┡━━━━━━━━━━━━━━━━━━━━━━━━━━━━━━━━━╇━━━━━━━━━━━━━━━━━━━━━━━━╇━━━━━━━━━━━━━━━┩\n",
       "│ flatten_7 (<span style=\"color: #0087ff; text-decoration-color: #0087ff\">Flatten</span>)             │ (<span style=\"color: #00d7ff; text-decoration-color: #00d7ff\">None</span>, <span style=\"color: #00af00; text-decoration-color: #00af00\">784</span>)            │             <span style=\"color: #00af00; text-decoration-color: #00af00\">0</span> │\n",
       "├─────────────────────────────────┼────────────────────────┼───────────────┤\n",
       "│ dense_29 (<span style=\"color: #0087ff; text-decoration-color: #0087ff\">Dense</span>)                │ (<span style=\"color: #00d7ff; text-decoration-color: #00d7ff\">None</span>, <span style=\"color: #00af00; text-decoration-color: #00af00\">784</span>)            │       <span style=\"color: #00af00; text-decoration-color: #00af00\">615,440</span> │\n",
       "├─────────────────────────────────┼────────────────────────┼───────────────┤\n",
       "│ dense_30 (<span style=\"color: #0087ff; text-decoration-color: #0087ff\">Dense</span>)                │ (<span style=\"color: #00d7ff; text-decoration-color: #00d7ff\">None</span>, <span style=\"color: #00af00; text-decoration-color: #00af00\">392</span>)            │       <span style=\"color: #00af00; text-decoration-color: #00af00\">307,720</span> │\n",
       "├─────────────────────────────────┼────────────────────────┼───────────────┤\n",
       "│ dense_31 (<span style=\"color: #0087ff; text-decoration-color: #0087ff\">Dense</span>)                │ (<span style=\"color: #00d7ff; text-decoration-color: #00d7ff\">None</span>, <span style=\"color: #00af00; text-decoration-color: #00af00\">196</span>)            │        <span style=\"color: #00af00; text-decoration-color: #00af00\">77,028</span> │\n",
       "├─────────────────────────────────┼────────────────────────┼───────────────┤\n",
       "│ dense_32 (<span style=\"color: #0087ff; text-decoration-color: #0087ff\">Dense</span>)                │ (<span style=\"color: #00d7ff; text-decoration-color: #00d7ff\">None</span>, <span style=\"color: #00af00; text-decoration-color: #00af00\">98</span>)             │        <span style=\"color: #00af00; text-decoration-color: #00af00\">19,306</span> │\n",
       "├─────────────────────────────────┼────────────────────────┼───────────────┤\n",
       "│ dense_33 (<span style=\"color: #0087ff; text-decoration-color: #0087ff\">Dense</span>)                │ (<span style=\"color: #00d7ff; text-decoration-color: #00d7ff\">None</span>, <span style=\"color: #00af00; text-decoration-color: #00af00\">10</span>)             │           <span style=\"color: #00af00; text-decoration-color: #00af00\">990</span> │\n",
       "└─────────────────────────────────┴────────────────────────┴───────────────┘\n",
       "</pre>\n"
      ],
      "text/plain": [
       "┏━━━━━━━━━━━━━━━━━━━━━━━━━━━━━━━━━┳━━━━━━━━━━━━━━━━━━━━━━━━┳━━━━━━━━━━━━━━━┓\n",
       "┃\u001b[1m \u001b[0m\u001b[1mLayer (type)                   \u001b[0m\u001b[1m \u001b[0m┃\u001b[1m \u001b[0m\u001b[1mOutput Shape          \u001b[0m\u001b[1m \u001b[0m┃\u001b[1m \u001b[0m\u001b[1m      Param #\u001b[0m\u001b[1m \u001b[0m┃\n",
       "┡━━━━━━━━━━━━━━━━━━━━━━━━━━━━━━━━━╇━━━━━━━━━━━━━━━━━━━━━━━━╇━━━━━━━━━━━━━━━┩\n",
       "│ flatten_7 (\u001b[38;5;33mFlatten\u001b[0m)             │ (\u001b[38;5;45mNone\u001b[0m, \u001b[38;5;34m784\u001b[0m)            │             \u001b[38;5;34m0\u001b[0m │\n",
       "├─────────────────────────────────┼────────────────────────┼───────────────┤\n",
       "│ dense_29 (\u001b[38;5;33mDense\u001b[0m)                │ (\u001b[38;5;45mNone\u001b[0m, \u001b[38;5;34m784\u001b[0m)            │       \u001b[38;5;34m615,440\u001b[0m │\n",
       "├─────────────────────────────────┼────────────────────────┼───────────────┤\n",
       "│ dense_30 (\u001b[38;5;33mDense\u001b[0m)                │ (\u001b[38;5;45mNone\u001b[0m, \u001b[38;5;34m392\u001b[0m)            │       \u001b[38;5;34m307,720\u001b[0m │\n",
       "├─────────────────────────────────┼────────────────────────┼───────────────┤\n",
       "│ dense_31 (\u001b[38;5;33mDense\u001b[0m)                │ (\u001b[38;5;45mNone\u001b[0m, \u001b[38;5;34m196\u001b[0m)            │        \u001b[38;5;34m77,028\u001b[0m │\n",
       "├─────────────────────────────────┼────────────────────────┼───────────────┤\n",
       "│ dense_32 (\u001b[38;5;33mDense\u001b[0m)                │ (\u001b[38;5;45mNone\u001b[0m, \u001b[38;5;34m98\u001b[0m)             │        \u001b[38;5;34m19,306\u001b[0m │\n",
       "├─────────────────────────────────┼────────────────────────┼───────────────┤\n",
       "│ dense_33 (\u001b[38;5;33mDense\u001b[0m)                │ (\u001b[38;5;45mNone\u001b[0m, \u001b[38;5;34m10\u001b[0m)             │           \u001b[38;5;34m990\u001b[0m │\n",
       "└─────────────────────────────────┴────────────────────────┴───────────────┘\n"
      ]
     },
     "metadata": {},
     "output_type": "display_data"
    },
    {
     "data": {
      "text/html": [
       "<pre style=\"white-space:pre;overflow-x:auto;line-height:normal;font-family:Menlo,'DejaVu Sans Mono',consolas,'Courier New',monospace\"><span style=\"font-weight: bold\"> Total params: </span><span style=\"color: #00af00; text-decoration-color: #00af00\">1,020,484</span> (3.89 MB)\n",
       "</pre>\n"
      ],
      "text/plain": [
       "\u001b[1m Total params: \u001b[0m\u001b[38;5;34m1,020,484\u001b[0m (3.89 MB)\n"
      ]
     },
     "metadata": {},
     "output_type": "display_data"
    },
    {
     "data": {
      "text/html": [
       "<pre style=\"white-space:pre;overflow-x:auto;line-height:normal;font-family:Menlo,'DejaVu Sans Mono',consolas,'Courier New',monospace\"><span style=\"font-weight: bold\"> Trainable params: </span><span style=\"color: #00af00; text-decoration-color: #00af00\">1,020,484</span> (3.89 MB)\n",
       "</pre>\n"
      ],
      "text/plain": [
       "\u001b[1m Trainable params: \u001b[0m\u001b[38;5;34m1,020,484\u001b[0m (3.89 MB)\n"
      ]
     },
     "metadata": {},
     "output_type": "display_data"
    },
    {
     "data": {
      "text/html": [
       "<pre style=\"white-space:pre;overflow-x:auto;line-height:normal;font-family:Menlo,'DejaVu Sans Mono',consolas,'Courier New',monospace\"><span style=\"font-weight: bold\"> Non-trainable params: </span><span style=\"color: #00af00; text-decoration-color: #00af00\">0</span> (0.00 B)\n",
       "</pre>\n"
      ],
      "text/plain": [
       "\u001b[1m Non-trainable params: \u001b[0m\u001b[38;5;34m0\u001b[0m (0.00 B)\n"
      ]
     },
     "metadata": {},
     "output_type": "display_data"
    }
   ],
   "source": [
    "model.summary()"
   ]
  },
  {
   "cell_type": "code",
   "execution_count": 124,
   "id": "f2ded7fe-c7a1-4900-adda-c75c0a186e95",
   "metadata": {},
   "outputs": [
    {
     "name": "stdout",
     "output_type": "stream",
     "text": [
      "Epoch 1/250\n",
      "\u001b[1m391/391\u001b[0m \u001b[32m━━━━━━━━━━━━━━━━━━━━\u001b[0m\u001b[37m\u001b[0m \u001b[1m1s\u001b[0m 2ms/step - accuracy: 0.9762 - loss: 0.0881 - val_accuracy: 0.9677 - val_loss: 0.1192\n",
      "Epoch 2/250\n",
      "\u001b[1m391/391\u001b[0m \u001b[32m━━━━━━━━━━━━━━━━━━━━\u001b[0m\u001b[37m\u001b[0m \u001b[1m1s\u001b[0m 2ms/step - accuracy: 0.9765 - loss: 0.0876 - val_accuracy: 0.9678 - val_loss: 0.1189\n",
      "Epoch 3/250\n",
      "\u001b[1m391/391\u001b[0m \u001b[32m━━━━━━━━━━━━━━━━━━━━\u001b[0m\u001b[37m\u001b[0m \u001b[1m1s\u001b[0m 2ms/step - accuracy: 0.9765 - loss: 0.0871 - val_accuracy: 0.9679 - val_loss: 0.1185\n",
      "Epoch 4/250\n",
      "\u001b[1m391/391\u001b[0m \u001b[32m━━━━━━━━━━━━━━━━━━━━\u001b[0m\u001b[37m\u001b[0m \u001b[1m1s\u001b[0m 2ms/step - accuracy: 0.9767 - loss: 0.0865 - val_accuracy: 0.9680 - val_loss: 0.1182\n",
      "Epoch 5/250\n",
      "\u001b[1m391/391\u001b[0m \u001b[32m━━━━━━━━━━━━━━━━━━━━\u001b[0m\u001b[37m\u001b[0m \u001b[1m1s\u001b[0m 2ms/step - accuracy: 0.9770 - loss: 0.0860 - val_accuracy: 0.9682 - val_loss: 0.1178\n",
      "Epoch 6/250\n",
      "\u001b[1m391/391\u001b[0m \u001b[32m━━━━━━━━━━━━━━━━━━━━\u001b[0m\u001b[37m\u001b[0m \u001b[1m1s\u001b[0m 2ms/step - accuracy: 0.9772 - loss: 0.0855 - val_accuracy: 0.9682 - val_loss: 0.1175\n",
      "Epoch 7/250\n",
      "\u001b[1m391/391\u001b[0m \u001b[32m━━━━━━━━━━━━━━━━━━━━\u001b[0m\u001b[37m\u001b[0m \u001b[1m1s\u001b[0m 2ms/step - accuracy: 0.9773 - loss: 0.0850 - val_accuracy: 0.9682 - val_loss: 0.1171\n",
      "Epoch 8/250\n",
      "\u001b[1m391/391\u001b[0m \u001b[32m━━━━━━━━━━━━━━━━━━━━\u001b[0m\u001b[37m\u001b[0m \u001b[1m1s\u001b[0m 2ms/step - accuracy: 0.9777 - loss: 0.0845 - val_accuracy: 0.9683 - val_loss: 0.1168\n",
      "Epoch 9/250\n",
      "\u001b[1m391/391\u001b[0m \u001b[32m━━━━━━━━━━━━━━━━━━━━\u001b[0m\u001b[37m\u001b[0m \u001b[1m1s\u001b[0m 2ms/step - accuracy: 0.9779 - loss: 0.0840 - val_accuracy: 0.9683 - val_loss: 0.1165\n",
      "Epoch 10/250\n",
      "\u001b[1m391/391\u001b[0m \u001b[32m━━━━━━━━━━━━━━━━━━━━\u001b[0m\u001b[37m\u001b[0m \u001b[1m1s\u001b[0m 2ms/step - accuracy: 0.9781 - loss: 0.0835 - val_accuracy: 0.9685 - val_loss: 0.1161\n",
      "Epoch 11/250\n",
      "\u001b[1m391/391\u001b[0m \u001b[32m━━━━━━━━━━━━━━━━━━━━\u001b[0m\u001b[37m\u001b[0m \u001b[1m1s\u001b[0m 2ms/step - accuracy: 0.9782 - loss: 0.0830 - val_accuracy: 0.9688 - val_loss: 0.1158\n",
      "Epoch 12/250\n",
      "\u001b[1m391/391\u001b[0m \u001b[32m━━━━━━━━━━━━━━━━━━━━\u001b[0m\u001b[37m\u001b[0m \u001b[1m1s\u001b[0m 2ms/step - accuracy: 0.9784 - loss: 0.0825 - val_accuracy: 0.9688 - val_loss: 0.1155\n",
      "Epoch 13/250\n",
      "\u001b[1m391/391\u001b[0m \u001b[32m━━━━━━━━━━━━━━━━━━━━\u001b[0m\u001b[37m\u001b[0m \u001b[1m1s\u001b[0m 2ms/step - accuracy: 0.9784 - loss: 0.0821 - val_accuracy: 0.9688 - val_loss: 0.1151\n",
      "Epoch 14/250\n",
      "\u001b[1m391/391\u001b[0m \u001b[32m━━━━━━━━━━━━━━━━━━━━\u001b[0m\u001b[37m\u001b[0m \u001b[1m1s\u001b[0m 2ms/step - accuracy: 0.9786 - loss: 0.0816 - val_accuracy: 0.9691 - val_loss: 0.1148\n",
      "Epoch 15/250\n",
      "\u001b[1m391/391\u001b[0m \u001b[32m━━━━━━━━━━━━━━━━━━━━\u001b[0m\u001b[37m\u001b[0m \u001b[1m1s\u001b[0m 2ms/step - accuracy: 0.9788 - loss: 0.0811 - val_accuracy: 0.9690 - val_loss: 0.1145\n",
      "Epoch 16/250\n",
      "\u001b[1m391/391\u001b[0m \u001b[32m━━━━━━━━━━━━━━━━━━━━\u001b[0m\u001b[37m\u001b[0m \u001b[1m1s\u001b[0m 2ms/step - accuracy: 0.9788 - loss: 0.0806 - val_accuracy: 0.9690 - val_loss: 0.1142\n",
      "Epoch 17/250\n",
      "\u001b[1m391/391\u001b[0m \u001b[32m━━━━━━━━━━━━━━━━━━━━\u001b[0m\u001b[37m\u001b[0m \u001b[1m1s\u001b[0m 2ms/step - accuracy: 0.9790 - loss: 0.0801 - val_accuracy: 0.9691 - val_loss: 0.1139\n",
      "Epoch 18/250\n",
      "\u001b[1m391/391\u001b[0m \u001b[32m━━━━━━━━━━━━━━━━━━━━\u001b[0m\u001b[37m\u001b[0m \u001b[1m1s\u001b[0m 2ms/step - accuracy: 0.9791 - loss: 0.0797 - val_accuracy: 0.9692 - val_loss: 0.1135\n",
      "Epoch 19/250\n",
      "\u001b[1m391/391\u001b[0m \u001b[32m━━━━━━━━━━━━━━━━━━━━\u001b[0m\u001b[37m\u001b[0m \u001b[1m1s\u001b[0m 2ms/step - accuracy: 0.9792 - loss: 0.0792 - val_accuracy: 0.9693 - val_loss: 0.1132\n",
      "Epoch 20/250\n",
      "\u001b[1m391/391\u001b[0m \u001b[32m━━━━━━━━━━━━━━━━━━━━\u001b[0m\u001b[37m\u001b[0m \u001b[1m1s\u001b[0m 2ms/step - accuracy: 0.9794 - loss: 0.0787 - val_accuracy: 0.9694 - val_loss: 0.1129\n",
      "Epoch 21/250\n",
      "\u001b[1m391/391\u001b[0m \u001b[32m━━━━━━━━━━━━━━━━━━━━\u001b[0m\u001b[37m\u001b[0m \u001b[1m1s\u001b[0m 2ms/step - accuracy: 0.9795 - loss: 0.0783 - val_accuracy: 0.9695 - val_loss: 0.1126\n",
      "Epoch 22/250\n",
      "\u001b[1m391/391\u001b[0m \u001b[32m━━━━━━━━━━━━━━━━━━━━\u001b[0m\u001b[37m\u001b[0m \u001b[1m1s\u001b[0m 2ms/step - accuracy: 0.9796 - loss: 0.0778 - val_accuracy: 0.9695 - val_loss: 0.1123\n",
      "Epoch 23/250\n",
      "\u001b[1m391/391\u001b[0m \u001b[32m━━━━━━━━━━━━━━━━━━━━\u001b[0m\u001b[37m\u001b[0m \u001b[1m1s\u001b[0m 2ms/step - accuracy: 0.9797 - loss: 0.0774 - val_accuracy: 0.9695 - val_loss: 0.1120\n",
      "Epoch 24/250\n",
      "\u001b[1m391/391\u001b[0m \u001b[32m━━━━━━━━━━━━━━━━━━━━\u001b[0m\u001b[37m\u001b[0m \u001b[1m1s\u001b[0m 2ms/step - accuracy: 0.9798 - loss: 0.0769 - val_accuracy: 0.9698 - val_loss: 0.1117\n",
      "Epoch 25/250\n",
      "\u001b[1m391/391\u001b[0m \u001b[32m━━━━━━━━━━━━━━━━━━━━\u001b[0m\u001b[37m\u001b[0m \u001b[1m1s\u001b[0m 2ms/step - accuracy: 0.9799 - loss: 0.0765 - val_accuracy: 0.9699 - val_loss: 0.1114\n",
      "Epoch 26/250\n",
      "\u001b[1m391/391\u001b[0m \u001b[32m━━━━━━━━━━━━━━━━━━━━\u001b[0m\u001b[37m\u001b[0m \u001b[1m1s\u001b[0m 2ms/step - accuracy: 0.9800 - loss: 0.0760 - val_accuracy: 0.9699 - val_loss: 0.1111\n",
      "Epoch 27/250\n",
      "\u001b[1m391/391\u001b[0m \u001b[32m━━━━━━━━━━━━━━━━━━━━\u001b[0m\u001b[37m\u001b[0m \u001b[1m1s\u001b[0m 2ms/step - accuracy: 0.9802 - loss: 0.0756 - val_accuracy: 0.9701 - val_loss: 0.1109\n",
      "Epoch 28/250\n",
      "\u001b[1m391/391\u001b[0m \u001b[32m━━━━━━━━━━━━━━━━━━━━\u001b[0m\u001b[37m\u001b[0m \u001b[1m1s\u001b[0m 2ms/step - accuracy: 0.9803 - loss: 0.0752 - val_accuracy: 0.9700 - val_loss: 0.1106\n",
      "Epoch 29/250\n",
      "\u001b[1m391/391\u001b[0m \u001b[32m━━━━━━━━━━━━━━━━━━━━\u001b[0m\u001b[37m\u001b[0m \u001b[1m1s\u001b[0m 2ms/step - accuracy: 0.9805 - loss: 0.0747 - val_accuracy: 0.9700 - val_loss: 0.1103\n",
      "Epoch 30/250\n",
      "\u001b[1m391/391\u001b[0m \u001b[32m━━━━━━━━━━━━━━━━━━━━\u001b[0m\u001b[37m\u001b[0m \u001b[1m1s\u001b[0m 2ms/step - accuracy: 0.9806 - loss: 0.0743 - val_accuracy: 0.9700 - val_loss: 0.1100\n",
      "Epoch 31/250\n",
      "\u001b[1m391/391\u001b[0m \u001b[32m━━━━━━━━━━━━━━━━━━━━\u001b[0m\u001b[37m\u001b[0m \u001b[1m1s\u001b[0m 2ms/step - accuracy: 0.9808 - loss: 0.0739 - val_accuracy: 0.9699 - val_loss: 0.1097\n",
      "Epoch 32/250\n",
      "\u001b[1m391/391\u001b[0m \u001b[32m━━━━━━━━━━━━━━━━━━━━\u001b[0m\u001b[37m\u001b[0m \u001b[1m1s\u001b[0m 2ms/step - accuracy: 0.9810 - loss: 0.0734 - val_accuracy: 0.9700 - val_loss: 0.1094\n"
     ]
    },
    {
     "data": {
      "text/plain": [
       "<keras.src.callbacks.history.History at 0x78eb405a6b90>"
      ]
     },
     "execution_count": 124,
     "metadata": {},
     "output_type": "execute_result"
    }
   ],
   "source": [
    "import datetime\n",
    "\n",
    "earlystop = tf.keras.callbacks.EarlyStopping(monitor='val_accuracy', patience=5)\n",
    "\n",
    "log_dir = \"logs/mnist_clf/\" + datetime.datetime.now().strftime(\"%Y%m%d-%H%M%S\")\n",
    "tensorboard_callback = tf.keras.callbacks.TensorBoard(log_dir=log_dir, histogram_freq=1)\n",
    "\n",
    "model.fit(X_train, y_train, batch_size=128, epochs=250, validation_data=(X_val, y_val), \n",
    "         callbacks=[earlystop, tensorboard_callback])"
   ]
  },
  {
   "cell_type": "code",
   "execution_count": 127,
   "id": "3b78589d-6830-4a66-8804-7b19301d2c24",
   "metadata": {},
   "outputs": [],
   "source": [
    "## 2nd try with the wide and deep architecture\n",
    "# Input Layer\n",
    "input_ = tf.keras.layers.Input(shape=X_train.shape[1:])\n",
    "flatten = tf.keras.layers.Flatten()(input_)\n",
    "\n",
    "# Hidden Deep part\n",
    "hidden1 = tf.keras.layers.Dense(784, activation='relu')(flatten)\n",
    "hidden2 = tf.keras.layers.Dense(392, activation='relu')(hidden1)\n",
    "hidden3 = tf.keras.layers.Dense(196, activation='relu')(hidden2)\n",
    "hidden4 = tf.keras.layers.Dense(98, activation='relu')(hidden3)\n",
    "\n",
    "# Concat layer\n",
    "concat = tf.keras.layers.concatenate([hidden4, flatten])\n",
    "\n",
    "# Output layer\n",
    "output_ = tf.keras.layers.Dense(10, activation='softmax')(concat)\n",
    "\n",
    "# Final model \n",
    "model = tf.keras.Model(inputs=[input_], outputs=[output_])\n",
    "model.compile(optimizer=tf.keras.optimizers.SGD(learning_rate=1e-3),\n",
    "              loss='sparse_categorical_crossentropy',\n",
    "              metrics=['accuracy'])"
   ]
  },
  {
   "cell_type": "code",
   "execution_count": 129,
   "id": "27bec753-d845-49ba-a724-69335b43f8e0",
   "metadata": {
    "scrolled": true
   },
   "outputs": [
    {
     "data": {
      "image/png": "[encoded data removed]",
      "text/plain": [
       "<IPython.core.display.Image object>"
      ]
     },
     "execution_count": 129,
     "metadata": {},
     "output_type": "execute_result"
    }
   ],
   "source": [
    "tf.keras.utils.plot_model(model)"
   ]
  },
  {
   "cell_type": "code",
   "execution_count": 131,
   "id": "1f82e742-3351-44d4-bdea-707ad3d85fd2",
   "metadata": {},
   "outputs": [
    {
     "name": "stdout",
     "output_type": "stream",
     "text": [
      "Epoch 1/250\n",
      "\u001b[1m391/391\u001b[0m \u001b[32m━━━━━━━━━━━━━━━━━━━━\u001b[0m\u001b[37m\u001b[0m \u001b[1m1s\u001b[0m 2ms/step - accuracy: 0.9715 - loss: 0.0998 - val_accuracy: 0.9618 - val_loss: 0.1311\n",
      "Epoch 2/250\n",
      "\u001b[1m391/391\u001b[0m \u001b[32m━━━━━━━━━━━━━━━━━━━━\u001b[0m\u001b[37m\u001b[0m \u001b[1m1s\u001b[0m 2ms/step - accuracy: 0.9716 - loss: 0.0993 - val_accuracy: 0.9617 - val_loss: 0.1308\n",
      "Epoch 3/250\n",
      "\u001b[1m391/391\u001b[0m \u001b[32m━━━━━━━━━━━━━━━━━━━━\u001b[0m\u001b[37m\u001b[0m \u001b[1m1s\u001b[0m 2ms/step - accuracy: 0.9719 - loss: 0.0988 - val_accuracy: 0.9617 - val_loss: 0.1304\n",
      "Epoch 4/250\n",
      "\u001b[1m391/391\u001b[0m \u001b[32m━━━━━━━━━━━━━━━━━━━━\u001b[0m\u001b[37m\u001b[0m \u001b[1m1s\u001b[0m 2ms/step - accuracy: 0.9720 - loss: 0.0983 - val_accuracy: 0.9620 - val_loss: 0.1301\n",
      "Epoch 5/250\n",
      "\u001b[1m391/391\u001b[0m \u001b[32m━━━━━━━━━━━━━━━━━━━━\u001b[0m\u001b[37m\u001b[0m \u001b[1m1s\u001b[0m 2ms/step - accuracy: 0.9720 - loss: 0.0978 - val_accuracy: 0.9622 - val_loss: 0.1298\n",
      "Epoch 6/250\n",
      "\u001b[1m391/391\u001b[0m \u001b[32m━━━━━━━━━━━━━━━━━━━━\u001b[0m\u001b[37m\u001b[0m \u001b[1m1s\u001b[0m 2ms/step - accuracy: 0.9723 - loss: 0.0973 - val_accuracy: 0.9620 - val_loss: 0.1295\n",
      "Epoch 7/250\n",
      "\u001b[1m391/391\u001b[0m \u001b[32m━━━━━━━━━━━━━━━━━━━━\u001b[0m\u001b[37m\u001b[0m \u001b[1m1s\u001b[0m 2ms/step - accuracy: 0.9725 - loss: 0.0967 - val_accuracy: 0.9621 - val_loss: 0.1291\n",
      "Epoch 8/250\n",
      "\u001b[1m391/391\u001b[0m \u001b[32m━━━━━━━━━━━━━━━━━━━━\u001b[0m\u001b[37m\u001b[0m \u001b[1m1s\u001b[0m 2ms/step - accuracy: 0.9725 - loss: 0.0962 - val_accuracy: 0.9622 - val_loss: 0.1288\n",
      "Epoch 9/250\n",
      "\u001b[1m391/391\u001b[0m \u001b[32m━━━━━━━━━━━━━━━━━━━━\u001b[0m\u001b[37m\u001b[0m \u001b[1m1s\u001b[0m 2ms/step - accuracy: 0.9727 - loss: 0.0957 - val_accuracy: 0.9622 - val_loss: 0.1285\n",
      "Epoch 10/250\n",
      "\u001b[1m391/391\u001b[0m \u001b[32m━━━━━━━━━━━━━━━━━━━━\u001b[0m\u001b[37m\u001b[0m \u001b[1m1s\u001b[0m 2ms/step - accuracy: 0.9729 - loss: 0.0952 - val_accuracy: 0.9622 - val_loss: 0.1282\n"
     ]
    },
    {
     "data": {
      "text/plain": [
       "<keras.src.callbacks.history.History at 0x78ea416175d0>"
      ]
     },
     "execution_count": 131,
     "metadata": {},
     "output_type": "execute_result"
    }
   ],
   "source": [
    "import datetime\n",
    "\n",
    "earlystop = tf.keras.callbacks.EarlyStopping(monitor='val_accuracy', patience=5)\n",
    "\n",
    "log_dir = \"logs/mnist_clf/\" + datetime.datetime.now().strftime(\"%Y%m%d-%H%M%S\")\n",
    "tensorboard_callback = tf.keras.callbacks.TensorBoard(log_dir=log_dir, histogram_freq=1)\n",
    "\n",
    "model.fit(X_train, y_train, batch_size=128, epochs=250, validation_data=(X_val, y_val), \n",
    "         callbacks=[earlystop, tensorboard_callback])"
   ]
  },
  {
   "cell_type": "code",
   "execution_count": null,
   "id": "02095e62-d005-45c8-97f4-066388c6cad9",
   "metadata": {},
   "outputs": [],
   "source": []
  }
 ],
 "metadata": {
  "kernelspec": {
   "display_name": "Python 3 (ipykernel)",
   "language": "python",
   "name": "python3"
  },
  "language_info": {
   "codemirror_mode": {
    "name": "ipython",
    "version": 3
   },
   "file_extension": ".py",
   "mimetype": "text/x-python",
   "name": "python",
   "nbconvert_exporter": "python",
   "pygments_lexer": "ipython3",
   "version": "3.12.3"
  }
 },
 "nbformat": 4,
 "nbformat_minor": 5
}
