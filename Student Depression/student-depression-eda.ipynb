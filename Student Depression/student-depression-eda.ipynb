{
 "cells": [
  {
   "cell_type": "code",
   "execution_count": 1,
   "id": "6ccafcda",
   "metadata": {
    "_cell_guid": "b1076dfc-b9ad-4769-8c92-a6c4dae69d19",
    "_uuid": "8f2839f25d086af736a60e9eeb907d3b93b6e0e5",
    "papermill": {
     "duration": 2.203653,
     "end_time": "2024-12-09T03:21:39.064556",
     "exception": false,
     "start_time": "2024-12-09T03:21:36.860903",
     "status": "completed"
    },
    "tags": []
   },
   "outputs": [],
   "source": [
    "import numpy as np\n",
    "import pandas as pd\n",
    "import matplotlib.pyplot as plt\n",
    "import seaborn as sns"
   ]
  },
  {
   "cell_type": "markdown",
   "id": "09c93beb",
   "metadata": {
    "papermill": {
     "duration": 0.002199,
     "end_time": "2024-12-09T03:21:39.069473",
     "exception": false,
     "start_time": "2024-12-09T03:21:39.067274",
     "status": "completed"
    },
    "tags": []
   },
   "source": [
    "## **Beginning Questions:**\n",
    "1. Does having higher grades lead to depression?\n",
    "2. Does family history lead determine childs mental health?\n",
    "3. Does Diet affect mental health?\n",
    "4. Which factors contribute the most to Student Depression?"
   ]
  },
  {
   "cell_type": "code",
   "execution_count": 2,
   "id": "b34e8b38",
   "metadata": {
    "papermill": {
     "duration": 0.139514,
     "end_time": "2024-12-09T03:21:39.212052",
     "exception": false,
     "start_time": "2024-12-09T03:21:39.072538",
     "status": "completed"
    },
    "tags": []
   },
   "outputs": [
    {
     "data": {
      "text/html": [
       "<div>\n",
       "<style scoped>\n",
       "    .dataframe tbody tr th:only-of-type {\n",
       "        vertical-align: middle;\n",
       "    }\n",
       "\n",
       "    .dataframe tbody tr th {\n",
       "        vertical-align: top;\n",
       "    }\n",
       "\n",
       "    .dataframe thead th {\n",
       "        text-align: right;\n",
       "    }\n",
       "</style>\n",
       "<table border=\"1\" class=\"dataframe\">\n",
       "  <thead>\n",
       "    <tr style=\"text-align: right;\">\n",
       "      <th></th>\n",
       "      <th>id</th>\n",
       "      <th>Gender</th>\n",
       "      <th>Age</th>\n",
       "      <th>City</th>\n",
       "      <th>Profession</th>\n",
       "      <th>Academic Pressure</th>\n",
       "      <th>Work Pressure</th>\n",
       "      <th>CGPA</th>\n",
       "      <th>Study Satisfaction</th>\n",
       "      <th>Job Satisfaction</th>\n",
       "      <th>Sleep Duration</th>\n",
       "      <th>Dietary Habits</th>\n",
       "      <th>Degree</th>\n",
       "      <th>Have you ever had suicidal thoughts ?</th>\n",
       "      <th>Work/Study Hours</th>\n",
       "      <th>Financial Stress</th>\n",
       "      <th>Family History of Mental Illness</th>\n",
       "      <th>Depression</th>\n",
       "    </tr>\n",
       "  </thead>\n",
       "  <tbody>\n",
       "    <tr>\n",
       "      <th>0</th>\n",
       "      <td>2</td>\n",
       "      <td>Male</td>\n",
       "      <td>33.0</td>\n",
       "      <td>Visakhapatnam</td>\n",
       "      <td>Student</td>\n",
       "      <td>5.0</td>\n",
       "      <td>0.0</td>\n",
       "      <td>8.97</td>\n",
       "      <td>2.0</td>\n",
       "      <td>0.0</td>\n",
       "      <td>5-6 hours</td>\n",
       "      <td>Healthy</td>\n",
       "      <td>B.Pharm</td>\n",
       "      <td>Yes</td>\n",
       "      <td>3.0</td>\n",
       "      <td>1.0</td>\n",
       "      <td>No</td>\n",
       "      <td>1</td>\n",
       "    </tr>\n",
       "    <tr>\n",
       "      <th>1</th>\n",
       "      <td>8</td>\n",
       "      <td>Female</td>\n",
       "      <td>24.0</td>\n",
       "      <td>Bangalore</td>\n",
       "      <td>Student</td>\n",
       "      <td>2.0</td>\n",
       "      <td>0.0</td>\n",
       "      <td>5.90</td>\n",
       "      <td>5.0</td>\n",
       "      <td>0.0</td>\n",
       "      <td>5-6 hours</td>\n",
       "      <td>Moderate</td>\n",
       "      <td>BSc</td>\n",
       "      <td>No</td>\n",
       "      <td>3.0</td>\n",
       "      <td>2.0</td>\n",
       "      <td>Yes</td>\n",
       "      <td>0</td>\n",
       "    </tr>\n",
       "    <tr>\n",
       "      <th>2</th>\n",
       "      <td>26</td>\n",
       "      <td>Male</td>\n",
       "      <td>31.0</td>\n",
       "      <td>Srinagar</td>\n",
       "      <td>Student</td>\n",
       "      <td>3.0</td>\n",
       "      <td>0.0</td>\n",
       "      <td>7.03</td>\n",
       "      <td>5.0</td>\n",
       "      <td>0.0</td>\n",
       "      <td>Less than 5 hours</td>\n",
       "      <td>Healthy</td>\n",
       "      <td>BA</td>\n",
       "      <td>No</td>\n",
       "      <td>9.0</td>\n",
       "      <td>1.0</td>\n",
       "      <td>Yes</td>\n",
       "      <td>0</td>\n",
       "    </tr>\n",
       "    <tr>\n",
       "      <th>3</th>\n",
       "      <td>30</td>\n",
       "      <td>Female</td>\n",
       "      <td>28.0</td>\n",
       "      <td>Varanasi</td>\n",
       "      <td>Student</td>\n",
       "      <td>3.0</td>\n",
       "      <td>0.0</td>\n",
       "      <td>5.59</td>\n",
       "      <td>2.0</td>\n",
       "      <td>0.0</td>\n",
       "      <td>7-8 hours</td>\n",
       "      <td>Moderate</td>\n",
       "      <td>BCA</td>\n",
       "      <td>Yes</td>\n",
       "      <td>4.0</td>\n",
       "      <td>5.0</td>\n",
       "      <td>Yes</td>\n",
       "      <td>1</td>\n",
       "    </tr>\n",
       "    <tr>\n",
       "      <th>4</th>\n",
       "      <td>32</td>\n",
       "      <td>Female</td>\n",
       "      <td>25.0</td>\n",
       "      <td>Jaipur</td>\n",
       "      <td>Student</td>\n",
       "      <td>4.0</td>\n",
       "      <td>0.0</td>\n",
       "      <td>8.13</td>\n",
       "      <td>3.0</td>\n",
       "      <td>0.0</td>\n",
       "      <td>5-6 hours</td>\n",
       "      <td>Moderate</td>\n",
       "      <td>M.Tech</td>\n",
       "      <td>Yes</td>\n",
       "      <td>1.0</td>\n",
       "      <td>1.0</td>\n",
       "      <td>No</td>\n",
       "      <td>0</td>\n",
       "    </tr>\n",
       "  </tbody>\n",
       "</table>\n",
       "</div>"
      ],
      "text/plain": [
       "   id  Gender   Age           City Profession  Academic Pressure  \\\n",
       "0   2    Male  33.0  Visakhapatnam    Student                5.0   \n",
       "1   8  Female  24.0      Bangalore    Student                2.0   \n",
       "2  26    Male  31.0       Srinagar    Student                3.0   \n",
       "3  30  Female  28.0       Varanasi    Student                3.0   \n",
       "4  32  Female  25.0         Jaipur    Student                4.0   \n",
       "\n",
       "   Work Pressure  CGPA  Study Satisfaction  Job Satisfaction  \\\n",
       "0            0.0  8.97                 2.0               0.0   \n",
       "1            0.0  5.90                 5.0               0.0   \n",
       "2            0.0  7.03                 5.0               0.0   \n",
       "3            0.0  5.59                 2.0               0.0   \n",
       "4            0.0  8.13                 3.0               0.0   \n",
       "\n",
       "      Sleep Duration Dietary Habits   Degree  \\\n",
       "0          5-6 hours        Healthy  B.Pharm   \n",
       "1          5-6 hours       Moderate      BSc   \n",
       "2  Less than 5 hours        Healthy       BA   \n",
       "3          7-8 hours       Moderate      BCA   \n",
       "4          5-6 hours       Moderate   M.Tech   \n",
       "\n",
       "  Have you ever had suicidal thoughts ?  Work/Study Hours  Financial Stress  \\\n",
       "0                                   Yes               3.0               1.0   \n",
       "1                                    No               3.0               2.0   \n",
       "2                                    No               9.0               1.0   \n",
       "3                                   Yes               4.0               5.0   \n",
       "4                                   Yes               1.0               1.0   \n",
       "\n",
       "  Family History of Mental Illness  Depression  \n",
       "0                               No           1  \n",
       "1                              Yes           0  \n",
       "2                              Yes           0  \n",
       "3                              Yes           1  \n",
       "4                               No           0  "
      ]
     },
     "execution_count": 2,
     "metadata": {},
     "output_type": "execute_result"
    }
   ],
   "source": [
    "# Get dataset\n",
    "df = pd.read_csv(\"data/Student Depression Dataset.csv\")\n",
    "df.head()"
   ]
  },
  {
   "cell_type": "code",
   "execution_count": 3,
   "id": "196efc2d",
   "metadata": {
    "papermill": {
     "duration": 0.039436,
     "end_time": "2024-12-09T03:21:39.254433",
     "exception": false,
     "start_time": "2024-12-09T03:21:39.214997",
     "status": "completed"
    },
    "tags": []
   },
   "outputs": [
    {
     "name": "stdout",
     "output_type": "stream",
     "text": [
      "<class 'pandas.core.frame.DataFrame'>\n",
      "RangeIndex: 27901 entries, 0 to 27900\n",
      "Data columns (total 18 columns):\n",
      " #   Column                                 Non-Null Count  Dtype  \n",
      "---  ------                                 --------------  -----  \n",
      " 0   id                                     27901 non-null  int64  \n",
      " 1   Gender                                 27901 non-null  object \n",
      " 2   Age                                    27901 non-null  float64\n",
      " 3   City                                   27901 non-null  object \n",
      " 4   Profession                             27901 non-null  object \n",
      " 5   Academic Pressure                      27901 non-null  float64\n",
      " 6   Work Pressure                          27901 non-null  float64\n",
      " 7   CGPA                                   27901 non-null  float64\n",
      " 8   Study Satisfaction                     27901 non-null  float64\n",
      " 9   Job Satisfaction                       27901 non-null  float64\n",
      " 10  Sleep Duration                         27901 non-null  object \n",
      " 11  Dietary Habits                         27901 non-null  object \n",
      " 12  Degree                                 27901 non-null  object \n",
      " 13  Have you ever had suicidal thoughts ?  27901 non-null  object \n",
      " 14  Work/Study Hours                       27901 non-null  float64\n",
      " 15  Financial Stress                       27898 non-null  float64\n",
      " 16  Family History of Mental Illness       27901 non-null  object \n",
      " 17  Depression                             27901 non-null  int64  \n",
      "dtypes: float64(8), int64(2), object(8)\n",
      "memory usage: 3.8+ MB\n"
     ]
    }
   ],
   "source": [
    "# Basic Exploring\n",
    "df.info()"
   ]
  },
  {
   "cell_type": "markdown",
   "id": "a8f99f9f",
   "metadata": {
    "papermill": {
     "duration": 0.00257,
     "end_time": "2024-12-09T03:21:39.259943",
     "exception": false,
     "start_time": "2024-12-09T03:21:39.257373",
     "status": "completed"
    },
    "tags": []
   },
   "source": [
    "We will just drop null rows due to such little amount"
   ]
  },
  {
   "cell_type": "code",
   "execution_count": 4,
   "id": "90d8ab4e",
   "metadata": {
    "papermill": {
     "duration": 0.025248,
     "end_time": "2024-12-09T03:21:39.287863",
     "exception": false,
     "start_time": "2024-12-09T03:21:39.262615",
     "status": "completed"
    },
    "tags": []
   },
   "outputs": [],
   "source": [
    "df.dropna(inplace=True)"
   ]
  },
  {
   "cell_type": "code",
   "execution_count": 5,
   "id": "1bc796d7",
   "metadata": {
    "papermill": {
     "duration": 0.015071,
     "end_time": "2024-12-09T03:21:39.305917",
     "exception": false,
     "start_time": "2024-12-09T03:21:39.290846",
     "status": "completed"
    },
    "tags": []
   },
   "outputs": [],
   "source": [
    "# Drop outliers \n",
    "# Put the ids of students with 0 CGPA in list\n",
    "ids_to_drop = df[df['CGPA'] <= 0]['id'].tolist()\n",
    "# Drop\n",
    "df = df[~df['id'].isin(ids_to_drop)]"
   ]
  },
  {
   "cell_type": "markdown",
   "id": "21589f82-b0e1-4166-9be6-902ad9824686",
   "metadata": {},
   "source": [
    "#### 1. Does having higher grades lead to depression?"
   ]
  },
  {
   "cell_type": "code",
   "execution_count": 15,
   "id": "ad345851",
   "metadata": {
    "papermill": {
     "duration": 0.499097,
     "end_time": "2024-12-09T03:21:39.807884",
     "exception": false,
     "start_time": "2024-12-09T03:21:39.308787",
     "status": "completed"
    },
    "tags": []
   },
   "outputs": [
    {
     "data": {
      "text/plain": [
       "<Axes: xlabel='CGPA', ylabel='Count'>"
      ]
     },
     "execution_count": 15,
     "metadata": {},
     "output_type": "execute_result"
    },
    {
     "data": {
      "image/png": "[encoded data removed]",
      "text/plain": [
       "<Figure size 1600x1000 with 1 Axes>"
      ]
     },
     "metadata": {},
     "output_type": "display_data"
    }
   ],
   "source": [
    "# Histogram\n",
    "plt.figure(figsize=(16,10))\n",
    "sns.histplot(data=df, x='CGPA', hue='Depression', multiple='stack')"
   ]
  },
  {
   "cell_type": "code",
   "execution_count": 14,
   "id": "b17003b7",
   "metadata": {
    "papermill": {
     "duration": 0.038447,
     "end_time": "2024-12-09T03:21:39.849877",
     "exception": false,
     "start_time": "2024-12-09T03:21:39.811430",
     "status": "completed"
    },
    "tags": []
   },
   "outputs": [
    {
     "name": "stdout",
     "output_type": "stream",
     "text": [
      "In CGPA Group 5, 55.84% of students are depressed\n",
      "In CGPA Group 6, 57.26% of students are depressed\n",
      "In CGPA Group 7, 57.01% of students are depressed\n",
      "In CGPA Group 8, 60.09% of students are depressed\n",
      "In CGPA Group 9, 61.83% of students are depressed\n",
      "In CGPA Group 10, 56.43% of students are depressed\n"
     ]
    }
   ],
   "source": [
    "# To try and find a clear answer, \"group\" the gpas together by rounding then look at the precentage of depressed students in each group\n",
    "\n",
    "df['CGPA_rounded'] = df['CGPA'].apply(round)\n",
    "\n",
    "# For each gpa group\n",
    "for group in sorted(df['CGPA_rounded'].unique()):\n",
    "    # Get total number of students in group\n",
    "    total = len(df[df['CGPA_rounded'] == group])\n",
    "    # Get number of students in group that are depressed\n",
    "    dep_total = len(df[(df['CGPA_rounded'] == group) & (df['Depression'] == 1)])\n",
    "    # Get precentage\n",
    "    print(f\"In CGPA Group {group}, {round((dep_total / total) * 100, 2)}% of students are depressed\")"
   ]
  },
  {
   "cell_type": "markdown",
   "id": "01d88654-cbd6-4a74-af0f-8b888493935a",
   "metadata": {
    "papermill": {
     "duration": 0.00319,
     "end_time": "2024-12-09T03:21:39.856745",
     "exception": false,
     "start_time": "2024-12-09T03:21:39.853555",
     "status": "completed"
    },
    "tags": []
   },
   "source": [
    "From groups 5-9 there is an upword trend in depressed students, but with group 10 students are less depressed."
   ]
  },
  {
   "cell_type": "markdown",
   "id": "10f1bc82-c8b9-46e4-ae7b-ecfcfb79c2c9",
   "metadata": {},
   "source": [
    "#### 2. Does family history lead determine childs mental health?"
   ]
  },
  {
   "cell_type": "code",
   "execution_count": 22,
   "id": "fad2ffbd-983f-419b-9dba-079a73b18286",
   "metadata": {},
   "outputs": [],
   "source": [
    "# Turn into int column instead of string\n",
    "df['Family History of Mental Illness'] = df['Family History of Mental Illness'].apply(lambda x: 1 if x == 'Yes' else 0)"
   ]
  },
  {
   "cell_type": "code",
   "execution_count": null,
   "id": "950d71aa-20ff-40f5-9cc8-2dd11f3ec935",
   "metadata": {},
   "outputs": [],
   "source": []
  }
 ],
 "metadata": {
  "kaggle": {
   "accelerator": "none",
   "dataSources": [
    {
     "datasetId": 6144877,
     "sourceId": 9985284,
     "sourceType": "datasetVersion"
    }
   ],
   "dockerImageVersionId": 30804,
   "isGpuEnabled": false,
   "isInternetEnabled": true,
   "language": "python",
   "sourceType": "notebook"
  },
  "kernelspec": {
   "display_name": "Python 3 (ipykernel)",
   "language": "python",
   "name": "python3"
  },
  "language_info": {
   "codemirror_mode": {
    "name": "ipython",
    "version": 3
   },
   "file_extension": ".py",
   "mimetype": "text/x-python",
   "name": "python",
   "nbconvert_exporter": "python",
   "pygments_lexer": "ipython3",
   "version": "3.12.4"
  },
  "papermill": {
   "default_parameters": {},
   "duration": 6.100637,
   "end_time": "2024-12-09T03:21:40.378750",
   "environment_variables": {},
   "exception": null,
   "input_path": "__notebook__.ipynb",
   "output_path": "__notebook__.ipynb",
   "parameters": {},
   "start_time": "2024-12-09T03:21:34.278113",
   "version": "2.6.0"
  }
 },
 "nbformat": 4,
 "nbformat_minor": 5
}
