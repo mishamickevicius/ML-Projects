{
 "cells": [
  {
   "cell_type": "code",
   "execution_count": 1,
   "id": "5dc40d85-7adb-4a58-b0f7-a2c32b363946",
   "metadata": {},
   "outputs": [],
   "source": [
    "PATH = \"/home/dude/Desktop/data/network_data/\""
   ]
  },
  {
   "cell_type": "code",
   "execution_count": 2,
   "id": "1b3cb210-f4cd-40f0-81e0-a28b614ef72c",
   "metadata": {},
   "outputs": [],
   "source": [
    "import numpy as np\n",
    "import pandas as pd\n",
    "import os"
   ]
  },
  {
   "cell_type": "code",
   "execution_count": 3,
   "id": "7ef78c28-8df7-4afe-82fb-1072e8409601",
   "metadata": {},
   "outputs": [
    {
     "data": {
      "text/plain": [
       "['dataset_1.csv', 'dataset_3.csv', 'dataset_2.csv']"
      ]
     },
     "execution_count": 3,
     "metadata": {},
     "output_type": "execute_result"
    }
   ],
   "source": [
    "os.listdir(PATH)"
   ]
  },
  {
   "cell_type": "code",
   "execution_count": 4,
   "id": "5b07073e-3414-48ca-aa88-ae1830ea7d3e",
   "metadata": {},
   "outputs": [],
   "source": [
    "df = pd.DataFrame()\n",
    "for file in os.listdir(PATH):\n",
    "    temp_df = pd.read_csv(PATH + file)\n",
    "    df = pd.concat([df, temp_df], axis=0)\n"
   ]
  },
  {
   "cell_type": "code",
   "execution_count": 5,
   "id": "12abdb57-975b-4472-8e6a-7fb981d708dc",
   "metadata": {},
   "outputs": [],
   "source": [
    "df.drop(\"No.\", axis=1, inplace=True)"
   ]
  },
  {
   "cell_type": "code",
   "execution_count": 6,
   "id": "d8d0f500-35a8-4862-bc7c-f07e67e84bce",
   "metadata": {},
   "outputs": [
    {
     "name": "stdout",
     "output_type": "stream",
     "text": [
      "<class 'pandas.core.frame.DataFrame'>\n",
      "Index: 30947 entries, 0 to 499\n",
      "Data columns (total 10 columns):\n",
      " #   Column         Non-Null Count  Dtype  \n",
      "---  ------         --------------  -----  \n",
      " 0   Time           30947 non-null  float64\n",
      " 1   Source         30947 non-null  object \n",
      " 2   Destination    30947 non-null  object \n",
      " 3   Protocol       30947 non-null  object \n",
      " 4   Length         30947 non-null  int64  \n",
      " 5   Info           30947 non-null  object \n",
      " 6   Scr Port       27974 non-null  float64\n",
      " 7   Dest Port      27974 non-null  float64\n",
      " 8   Packet Length  30947 non-null  int64  \n",
      " 9   Delta Time     30947 non-null  float64\n",
      "dtypes: float64(4), int64(2), object(4)\n",
      "memory usage: 2.6+ MB\n"
     ]
    }
   ],
   "source": [
    "df.info()"
   ]
  },
  {
   "cell_type": "code",
   "execution_count": 7,
   "id": "a80d746b-3050-424b-b141-4e7e1e725df9",
   "metadata": {},
   "outputs": [
    {
     "data": {
      "text/html": [
       "<div>\n",
       "<style scoped>\n",
       "    .dataframe tbody tr th:only-of-type {\n",
       "        vertical-align: middle;\n",
       "    }\n",
       "\n",
       "    .dataframe tbody tr th {\n",
       "        vertical-align: top;\n",
       "    }\n",
       "\n",
       "    .dataframe thead th {\n",
       "        text-align: right;\n",
       "    }\n",
       "</style>\n",
       "<table border=\"1\" class=\"dataframe\">\n",
       "  <thead>\n",
       "    <tr style=\"text-align: right;\">\n",
       "      <th></th>\n",
       "      <th>Time</th>\n",
       "      <th>Source</th>\n",
       "      <th>Destination</th>\n",
       "      <th>Protocol</th>\n",
       "      <th>Length</th>\n",
       "      <th>Info</th>\n",
       "      <th>Scr Port</th>\n",
       "      <th>Dest Port</th>\n",
       "      <th>Packet Length</th>\n",
       "      <th>Delta Time</th>\n",
       "    </tr>\n",
       "  </thead>\n",
       "  <tbody>\n",
       "    <tr>\n",
       "      <th>0</th>\n",
       "      <td>0.000000</td>\n",
       "      <td>108.217.33.201</td>\n",
       "      <td>108.217.32.1</td>\n",
       "      <td>ICMP</td>\n",
       "      <td>43</td>\n",
       "      <td>Echo (ping) request  id=0x4161, seq=26678/1392...</td>\n",
       "      <td>NaN</td>\n",
       "      <td>NaN</td>\n",
       "      <td>43</td>\n",
       "      <td>0.000000</td>\n",
       "    </tr>\n",
       "    <tr>\n",
       "      <th>1</th>\n",
       "      <td>0.001202</td>\n",
       "      <td>108.217.32.1</td>\n",
       "      <td>108.217.33.201</td>\n",
       "      <td>ICMP</td>\n",
       "      <td>60</td>\n",
       "      <td>Echo (ping) reply    id=0x4161, seq=26678/1392...</td>\n",
       "      <td>NaN</td>\n",
       "      <td>NaN</td>\n",
       "      <td>60</td>\n",
       "      <td>0.001202</td>\n",
       "    </tr>\n",
       "    <tr>\n",
       "      <th>2</th>\n",
       "      <td>0.049716</td>\n",
       "      <td>108.217.33.201</td>\n",
       "      <td>3.92.254.48</td>\n",
       "      <td>TCP</td>\n",
       "      <td>66</td>\n",
       "      <td>45645  &gt;  443 [RST, ACK] Seq=1 Ack=1 Win=501 L...</td>\n",
       "      <td>45645.0</td>\n",
       "      <td>443.0</td>\n",
       "      <td>66</td>\n",
       "      <td>0.048514</td>\n",
       "    </tr>\n",
       "    <tr>\n",
       "      <th>3</th>\n",
       "      <td>0.051266</td>\n",
       "      <td>108.217.33.201</td>\n",
       "      <td>9.9.9.9</td>\n",
       "      <td>DNS</td>\n",
       "      <td>90</td>\n",
       "      <td>Standard query 0x180d A rank.similarweb.com OPT</td>\n",
       "      <td>41739.0</td>\n",
       "      <td>53.0</td>\n",
       "      <td>90</td>\n",
       "      <td>0.001550</td>\n",
       "    </tr>\n",
       "    <tr>\n",
       "      <th>4</th>\n",
       "      <td>0.070091</td>\n",
       "      <td>108.217.33.201</td>\n",
       "      <td>23.23.189.93</td>\n",
       "      <td>UDP</td>\n",
       "      <td>487</td>\n",
       "      <td>65155  &gt;  33434 Len=445</td>\n",
       "      <td>65155.0</td>\n",
       "      <td>33434.0</td>\n",
       "      <td>487</td>\n",
       "      <td>0.018825</td>\n",
       "    </tr>\n",
       "  </tbody>\n",
       "</table>\n",
       "</div>"
      ],
      "text/plain": [
       "       Time          Source     Destination Protocol  Length  \\\n",
       "0  0.000000  108.217.33.201    108.217.32.1     ICMP      43   \n",
       "1  0.001202    108.217.32.1  108.217.33.201     ICMP      60   \n",
       "2  0.049716  108.217.33.201     3.92.254.48      TCP      66   \n",
       "3  0.051266  108.217.33.201         9.9.9.9      DNS      90   \n",
       "4  0.070091  108.217.33.201    23.23.189.93      UDP     487   \n",
       "\n",
       "                                                Info  Scr Port  Dest Port  \\\n",
       "0  Echo (ping) request  id=0x4161, seq=26678/1392...       NaN        NaN   \n",
       "1  Echo (ping) reply    id=0x4161, seq=26678/1392...       NaN        NaN   \n",
       "2  45645  >  443 [RST, ACK] Seq=1 Ack=1 Win=501 L...   45645.0      443.0   \n",
       "3    Standard query 0x180d A rank.similarweb.com OPT   41739.0       53.0   \n",
       "4                            65155  >  33434 Len=445   65155.0    33434.0   \n",
       "\n",
       "   Packet Length  Delta Time  \n",
       "0             43    0.000000  \n",
       "1             60    0.001202  \n",
       "2             66    0.048514  \n",
       "3             90    0.001550  \n",
       "4            487    0.018825  "
      ]
     },
     "execution_count": 7,
     "metadata": {},
     "output_type": "execute_result"
    }
   ],
   "source": [
    "df.head()"
   ]
  },
  {
   "cell_type": "markdown",
   "id": "bf3ebe6f-d2a8-401b-9795-1d138ecb01c8",
   "metadata": {},
   "source": [
    "## Feature Engineering/Data Cleaning"
   ]
  },
  {
   "cell_type": "markdown",
   "id": "d21eec0a-088f-46ca-9e7e-1f4821f693c6",
   "metadata": {},
   "source": [
    "To fix missing port we will plug -1 for the port and make new feature that will check the protocol and if that protocol is a non-port using protocol then have a 1 else 0."
   ]
  },
  {
   "cell_type": "code",
   "execution_count": 8,
   "id": "6210df94-0b06-4729-aa87-a006353a13b3",
   "metadata": {},
   "outputs": [],
   "source": [
    "# Fill nan as -1\n",
    "df[['Scr Port', 'Dest Port']] = df[['Scr Port', 'Dest Port']].fillna(-1.0)"
   ]
  },
  {
   "cell_type": "code",
   "execution_count": 9,
   "id": "f86ead66-0c0a-4176-b994-a1563e77ae48",
   "metadata": {},
   "outputs": [
    {
     "data": {
      "text/plain": [
       "array(['ICMP', 'TCP', 'DNS', 'UDP', 'TLSv1.2', 'ARP', 'STP', 'HTTP',\n",
       "       'LLDP', 'TLSv1.3', 'MQTT', 'SSL', 'QUIC', 'ieee1905', 'NTP',\n",
       "       'IGMPv3', 'CLASSIC-STUN', 'ICMPv6', 'MDNS', 'SSDP', 'DHCP', 'WSP'],\n",
       "      dtype=object)"
      ]
     },
     "execution_count": 9,
     "metadata": {},
     "output_type": "execute_result"
    }
   ],
   "source": [
    "df['Protocol'].unique()"
   ]
  },
  {
   "cell_type": "code",
   "execution_count": 10,
   "id": "544ebf9d-00bb-49e8-92e1-b91c5f205a54",
   "metadata": {},
   "outputs": [],
   "source": [
    "protocols_without_ports = ['ICMP', 'ARP', 'STP', 'IGMPv3', 'ICMPv6', 'ieee1905']"
   ]
  },
  {
   "cell_type": "code",
   "execution_count": 11,
   "id": "c486f2a3-c984-4ee8-9465-58f7eea62560",
   "metadata": {},
   "outputs": [],
   "source": [
    "df['Protocol With Ports'] = df['Protocol'].apply(lambda x: 0 if x in protocols_without_ports else 1)"
   ]
  },
  {
   "cell_type": "code",
   "execution_count": 12,
   "id": "50e7892f-0fb3-47a8-a0eb-0679f1b68462",
   "metadata": {},
   "outputs": [
    {
     "data": {
      "text/html": [
       "<div>\n",
       "<style scoped>\n",
       "    .dataframe tbody tr th:only-of-type {\n",
       "        vertical-align: middle;\n",
       "    }\n",
       "\n",
       "    .dataframe tbody tr th {\n",
       "        vertical-align: top;\n",
       "    }\n",
       "\n",
       "    .dataframe thead th {\n",
       "        text-align: right;\n",
       "    }\n",
       "</style>\n",
       "<table border=\"1\" class=\"dataframe\">\n",
       "  <thead>\n",
       "    <tr style=\"text-align: right;\">\n",
       "      <th></th>\n",
       "      <th>Time</th>\n",
       "      <th>Source</th>\n",
       "      <th>Destination</th>\n",
       "      <th>Protocol</th>\n",
       "      <th>Length</th>\n",
       "      <th>Info</th>\n",
       "      <th>Scr Port</th>\n",
       "      <th>Dest Port</th>\n",
       "      <th>Packet Length</th>\n",
       "      <th>Delta Time</th>\n",
       "      <th>Protocol With Ports</th>\n",
       "    </tr>\n",
       "  </thead>\n",
       "  <tbody>\n",
       "    <tr>\n",
       "      <th>0</th>\n",
       "      <td>0.000000</td>\n",
       "      <td>108.217.33.201</td>\n",
       "      <td>108.217.32.1</td>\n",
       "      <td>ICMP</td>\n",
       "      <td>43</td>\n",
       "      <td>Echo (ping) request  id=0x4161, seq=26678/1392...</td>\n",
       "      <td>-1.0</td>\n",
       "      <td>-1.0</td>\n",
       "      <td>43</td>\n",
       "      <td>0.000000</td>\n",
       "      <td>0</td>\n",
       "    </tr>\n",
       "    <tr>\n",
       "      <th>1</th>\n",
       "      <td>0.001202</td>\n",
       "      <td>108.217.32.1</td>\n",
       "      <td>108.217.33.201</td>\n",
       "      <td>ICMP</td>\n",
       "      <td>60</td>\n",
       "      <td>Echo (ping) reply    id=0x4161, seq=26678/1392...</td>\n",
       "      <td>-1.0</td>\n",
       "      <td>-1.0</td>\n",
       "      <td>60</td>\n",
       "      <td>0.001202</td>\n",
       "      <td>0</td>\n",
       "    </tr>\n",
       "    <tr>\n",
       "      <th>2</th>\n",
       "      <td>0.049716</td>\n",
       "      <td>108.217.33.201</td>\n",
       "      <td>3.92.254.48</td>\n",
       "      <td>TCP</td>\n",
       "      <td>66</td>\n",
       "      <td>45645  &gt;  443 [RST, ACK] Seq=1 Ack=1 Win=501 L...</td>\n",
       "      <td>45645.0</td>\n",
       "      <td>443.0</td>\n",
       "      <td>66</td>\n",
       "      <td>0.048514</td>\n",
       "      <td>1</td>\n",
       "    </tr>\n",
       "    <tr>\n",
       "      <th>3</th>\n",
       "      <td>0.051266</td>\n",
       "      <td>108.217.33.201</td>\n",
       "      <td>9.9.9.9</td>\n",
       "      <td>DNS</td>\n",
       "      <td>90</td>\n",
       "      <td>Standard query 0x180d A rank.similarweb.com OPT</td>\n",
       "      <td>41739.0</td>\n",
       "      <td>53.0</td>\n",
       "      <td>90</td>\n",
       "      <td>0.001550</td>\n",
       "      <td>1</td>\n",
       "    </tr>\n",
       "    <tr>\n",
       "      <th>4</th>\n",
       "      <td>0.070091</td>\n",
       "      <td>108.217.33.201</td>\n",
       "      <td>23.23.189.93</td>\n",
       "      <td>UDP</td>\n",
       "      <td>487</td>\n",
       "      <td>65155  &gt;  33434 Len=445</td>\n",
       "      <td>65155.0</td>\n",
       "      <td>33434.0</td>\n",
       "      <td>487</td>\n",
       "      <td>0.018825</td>\n",
       "      <td>1</td>\n",
       "    </tr>\n",
       "  </tbody>\n",
       "</table>\n",
       "</div>"
      ],
      "text/plain": [
       "       Time          Source     Destination Protocol  Length  \\\n",
       "0  0.000000  108.217.33.201    108.217.32.1     ICMP      43   \n",
       "1  0.001202    108.217.32.1  108.217.33.201     ICMP      60   \n",
       "2  0.049716  108.217.33.201     3.92.254.48      TCP      66   \n",
       "3  0.051266  108.217.33.201         9.9.9.9      DNS      90   \n",
       "4  0.070091  108.217.33.201    23.23.189.93      UDP     487   \n",
       "\n",
       "                                                Info  Scr Port  Dest Port  \\\n",
       "0  Echo (ping) request  id=0x4161, seq=26678/1392...      -1.0       -1.0   \n",
       "1  Echo (ping) reply    id=0x4161, seq=26678/1392...      -1.0       -1.0   \n",
       "2  45645  >  443 [RST, ACK] Seq=1 Ack=1 Win=501 L...   45645.0      443.0   \n",
       "3    Standard query 0x180d A rank.similarweb.com OPT   41739.0       53.0   \n",
       "4                            65155  >  33434 Len=445   65155.0    33434.0   \n",
       "\n",
       "   Packet Length  Delta Time  Protocol With Ports  \n",
       "0             43    0.000000                    0  \n",
       "1             60    0.001202                    0  \n",
       "2             66    0.048514                    1  \n",
       "3             90    0.001550                    1  \n",
       "4            487    0.018825                    1  "
      ]
     },
     "execution_count": 12,
     "metadata": {},
     "output_type": "execute_result"
    }
   ],
   "source": [
    "df.head()"
   ]
  },
  {
   "cell_type": "markdown",
   "id": "9bb25d9e-2d1e-4d4d-a11b-bb4174c3ae65",
   "metadata": {},
   "source": [
    "For Packet Length, we will make categories based on the number of bytes"
   ]
  },
  {
   "cell_type": "code",
   "execution_count": 13,
   "id": "25c287a6-c1cb-4bc6-9df5-d121fd35e005",
   "metadata": {},
   "outputs": [
    {
     "data": {
      "text/plain": [
       "count    30947.00000\n",
       "mean       597.93686\n",
       "std        624.05733\n",
       "min         42.00000\n",
       "25%         66.00000\n",
       "50%         99.00000\n",
       "60%        620.00000\n",
       "70%       1292.00000\n",
       "75%       1292.00000\n",
       "100%      1514.00000\n",
       "max       1514.00000\n",
       "Name: Packet Length, dtype: float64"
      ]
     },
     "execution_count": 13,
     "metadata": {},
     "output_type": "execute_result"
    }
   ],
   "source": [
    "df['Packet Length'].describe(percentiles=[.25, .5, .6, .7, .75, 1])"
   ]
  },
  {
   "cell_type": "markdown",
   "id": "a121501f-17ea-40ff-a5aa-c2b2f72aaf1b",
   "metadata": {},
   "source": [
    "Categories will be:\n",
    "- Small -> 0 to 74 bytes\n",
    "- Medium -> 75 to 199 bytes\n",
    "- Large -> 200 to 749 bytes\n",
    "- Very Large -> 750 bytes and above "
   ]
  },
  {
   "cell_type": "code",
   "execution_count": 14,
   "id": "e52479b9-812f-49a0-b07a-0f3998f96b73",
   "metadata": {},
   "outputs": [],
   "source": [
    "def packet_size_class_selector(packet_size):\n",
    "    \"\"\"\n",
    "    Function to put a packet into a class based on its size in bytes\n",
    "    - Small -> 0 to 75 bytes\n",
    "    - Medium -> 75 to 200 bytes\n",
    "    - Large -> 200 to 750 bytes\n",
    "    - Very Large -> 750 bytes< \n",
    "\n",
    "    Parameters:\n",
    "    packet_size (int): Size of packet in bytes\n",
    "\n",
    "    Returns:\n",
    "    int: Class ID corresponding to the packet size.\n",
    "    0 = Small\n",
    "    1 = Medium \n",
    "    2 = Large\n",
    "    3 = Very Large\n",
    "    \"\"\"\n",
    "    if packet_size < 0:\n",
    "        raise ValueError(\"Packet size must be a non-negative integer.\")\n",
    "    return (0 if packet_size <= 74 else \n",
    "            1 if packet_size <= 199 else \n",
    "            2 if packet_size <= 749 else \n",
    "            3)\n",
    " "
   ]
  },
  {
   "cell_type": "code",
   "execution_count": 15,
   "id": "7383961e-3edf-450c-a4a8-958b8f2872ca",
   "metadata": {},
   "outputs": [],
   "source": [
    "df['Size Category'] = df['Packet Length'].apply(packet_size_class_selector)"
   ]
  },
  {
   "cell_type": "code",
   "execution_count": 16,
   "id": "10cac51b-f722-434a-a3b0-41ab54a0a905",
   "metadata": {},
   "outputs": [
    {
     "name": "stdout",
     "output_type": "stream",
     "text": [
      "<class 'pandas.core.frame.DataFrame'>\n",
      "Index: 30947 entries, 0 to 499\n",
      "Data columns (total 12 columns):\n",
      " #   Column               Non-Null Count  Dtype  \n",
      "---  ------               --------------  -----  \n",
      " 0   Time                 30947 non-null  float64\n",
      " 1   Source               30947 non-null  object \n",
      " 2   Destination          30947 non-null  object \n",
      " 3   Protocol             30947 non-null  object \n",
      " 4   Length               30947 non-null  int64  \n",
      " 5   Info                 30947 non-null  object \n",
      " 6   Scr Port             30947 non-null  float64\n",
      " 7   Dest Port            30947 non-null  float64\n",
      " 8   Packet Length        30947 non-null  int64  \n",
      " 9   Delta Time           30947 non-null  float64\n",
      " 10  Protocol With Ports  30947 non-null  int64  \n",
      " 11  Size Category        30947 non-null  int64  \n",
      "dtypes: float64(4), int64(4), object(4)\n",
      "memory usage: 3.1+ MB\n"
     ]
    }
   ],
   "source": [
    "df.info()"
   ]
  },
  {
   "cell_type": "markdown",
   "id": "62424bd5-341d-4e8a-b273-590b1b27203a",
   "metadata": {},
   "source": [
    "We will do label encoding to handle IP Adresses both source and destination."
   ]
  },
  {
   "cell_type": "code",
   "execution_count": 17,
   "id": "a5746f3b-5b15-40e2-91c1-dc6e7a92e927",
   "metadata": {},
   "outputs": [],
   "source": [
    "from sklearn.preprocessing import LabelEncoder\n",
    "\n",
    "source_encoder = LabelEncoder()\n",
    "destination_encoder = LabelEncoder()"
   ]
  },
  {
   "cell_type": "code",
   "execution_count": 18,
   "id": "a07d8eab-d323-4b16-88c2-aecdf5e2c023",
   "metadata": {},
   "outputs": [],
   "source": [
    "df['Destination Encoded'] = destination_encoder.fit_transform(df['Destination'])\n",
    "df['Source Encoded'] = source_encoder.fit_transform(df['Source'])"
   ]
  },
  {
   "cell_type": "code",
   "execution_count": 19,
   "id": "4450133e-efae-4855-a2df-e441d9b9c607",
   "metadata": {},
   "outputs": [],
   "source": [
    "df.drop(['Destination', 'Source'], axis=1, inplace=True)"
   ]
  },
  {
   "cell_type": "code",
   "execution_count": 20,
   "id": "986789b9-2241-4881-aa6c-be47ce256061",
   "metadata": {},
   "outputs": [
    {
     "name": "stdout",
     "output_type": "stream",
     "text": [
      "<class 'pandas.core.frame.DataFrame'>\n",
      "Index: 30947 entries, 0 to 499\n",
      "Data columns (total 12 columns):\n",
      " #   Column               Non-Null Count  Dtype  \n",
      "---  ------               --------------  -----  \n",
      " 0   Time                 30947 non-null  float64\n",
      " 1   Protocol             30947 non-null  object \n",
      " 2   Length               30947 non-null  int64  \n",
      " 3   Info                 30947 non-null  object \n",
      " 4   Scr Port             30947 non-null  float64\n",
      " 5   Dest Port            30947 non-null  float64\n",
      " 6   Packet Length        30947 non-null  int64  \n",
      " 7   Delta Time           30947 non-null  float64\n",
      " 8   Protocol With Ports  30947 non-null  int64  \n",
      " 9   Size Category        30947 non-null  int64  \n",
      " 10  Destination Encoded  30947 non-null  int64  \n",
      " 11  Source Encoded       30947 non-null  int64  \n",
      "dtypes: float64(4), int64(6), object(2)\n",
      "memory usage: 3.1+ MB\n"
     ]
    }
   ],
   "source": [
    "df.info()"
   ]
  },
  {
   "cell_type": "markdown",
   "id": "008c5474-f6de-4eb5-8e24-718c5517c87d",
   "metadata": {},
   "source": [
    "Use OneHotEncoder for the Protocol feature"
   ]
  },
  {
   "cell_type": "code",
   "execution_count": 31,
   "id": "743e72f9-7ef6-406b-a61b-2a6d8458d3a4",
   "metadata": {},
   "outputs": [],
   "source": [
    "from sklearn.preprocessing import OneHotEncoder\n",
    "\n",
    "one_hot_encoder = OneHotEncoder(sparse_output=False,handle_unknown='ignore')"
   ]
  },
  {
   "cell_type": "code",
   "execution_count": 45,
   "id": "789f23b2-31bd-48fd-a8b9-2de3d43bac23",
   "metadata": {},
   "outputs": [],
   "source": [
    "encoded_protocols = one_hot_encoder.fit_transform(df['Protocol'].to_frame())\n",
    "encoded_df = pd.DataFrame(encoded_protocols, columns=list(one_hot_encoder.categories_[0]))"
   ]
  },
  {
   "cell_type": "code",
   "execution_count": 47,
   "id": "17a0366a-a654-4e5b-91f6-64af4de81f79",
   "metadata": {},
   "outputs": [],
   "source": [
    "df_reset = df.reset_index(drop=True)\n",
    "encoded_df_reset = encoded_df.reset_index(drop=True)\n",
    "\n",
    "# Concatenate the DataFrames\n",
    "df = pd.concat([df_reset, encoded_df_reset], axis=1)"
   ]
  },
  {
   "cell_type": "markdown",
   "id": "dcac65b6-6901-41e3-96d6-c27c8be5c390",
   "metadata": {},
   "source": [
    "Now time to deal with the info feature"
   ]
  },
  {
   "cell_type": "code",
   "execution_count": 60,
   "id": "b950c6d5-81a0-46a5-b8e6-facb05012c46",
   "metadata": {},
   "outputs": [
    {
     "data": {
      "text/plain": [
       "Info\n",
       "True     17314\n",
       "False    13633\n",
       "Name: count, dtype: int64"
      ]
     },
     "execution_count": 60,
     "metadata": {},
     "output_type": "execute_result"
    }
   ],
   "source": [
    "df['Info'].duplicated().value_counts()"
   ]
  },
  {
   "cell_type": "markdown",
   "id": "dd5dcdd7-26f2-470c-b1b3-83445f9c0fc2",
   "metadata": {},
   "source": [
    "For now we will move on to the unsupervised learning analysis without the info feature. <br>\n",
    "If we get to do an supervised learning tasks later, like classifing malicious packets, then we will try to vectorize it. "
   ]
  },
  {
   "cell_type": "code",
   "execution_count": 64,
   "id": "feb544f6-da97-49f3-b629-92e93193284b",
   "metadata": {},
   "outputs": [],
   "source": [
    "df_no_info = df.drop('Info', axis=1)\n",
    "# Drop protocol but keep it in original in case we need it later\n",
    "df_no_info.drop('Protocol', axis=1, inplace=True)"
   ]
  },
  {
   "cell_type": "markdown",
   "id": "71726be2-5c43-4aa3-892d-9db9e9436088",
   "metadata": {},
   "source": [
    "## Clustering"
   ]
  },
  {
   "cell_type": "markdown",
   "id": "40822dc5-cdae-4f45-b6ae-3620396a42b8",
   "metadata": {},
   "source": [
    "We will use KMeans to try and find some clusters and try and derive a meaning for them"
   ]
  },
  {
   "cell_type": "markdown",
   "id": "a39d9d36-7d9d-44bb-83a3-b1b3712bde24",
   "metadata": {},
   "source": [
    "### KMeans Clustering"
   ]
  },
  {
   "cell_type": "code",
   "execution_count": 81,
   "id": "4cbd77ef-8a71-453a-90c7-4d24db7f60f8",
   "metadata": {},
   "outputs": [],
   "source": [
    "from sklearn.cluster import KMeans\n",
    "from sklearn.metrics import silhouette_score\n",
    "from sklearn.preprocessing import StandardScaler"
   ]
  },
  {
   "cell_type": "code",
   "execution_count": 69,
   "id": "7eb72b82-0820-4302-8da8-5726e160a8a6",
   "metadata": {},
   "outputs": [],
   "source": [
    "import matplotlib.pyplot as plt\n",
    "import seaborn as sns"
   ]
  },
  {
   "cell_type": "markdown",
   "id": "2111ab13-c4e4-4f1f-9a23-6374326a8872",
   "metadata": {},
   "source": [
    "#### Find Optimal Number of Clusters"
   ]
  },
  {
   "cell_type": "code",
   "execution_count": 82,
   "id": "ad8c4951-9b9a-42ab-9377-16b014e30a8c",
   "metadata": {},
   "outputs": [],
   "source": [
    "scaler = StandardScaler()\n",
    "df_no_info_scaled = scaler.fit_transform(df_no_info)"
   ]
  },
  {
   "cell_type": "code",
   "execution_count": 105,
   "id": "0e022a9c-2008-49b7-8d4d-421e28297f92",
   "metadata": {},
   "outputs": [],
   "source": [
    "kmeans_per_k = [KMeans(n_clusters=k, n_init=10, random_state=42).fit(df_no_info_scaled)\n",
    "                for k in range(1, 10)]\n",
    "inertias = [model.inertia_ for model in kmeans_per_k]"
   ]
  },
  {
   "cell_type": "code",
   "execution_count": 106,
   "id": "804bd3a3-2105-492d-babc-5d5d32c3ff32",
   "metadata": {},
   "outputs": [
    {
     "data": {
      "text/plain": [
       "[990304.0000000003,\n",
       " 875852.3185456496,\n",
       " 806966.4455047959,\n",
       " 764370.9744446727,\n",
       " 738093.268131779,\n",
       " 705889.6335287403,\n",
       " 659298.6785823386,\n",
       " 627059.2944987991,\n",
       " 594783.8738324175]"
      ]
     },
     "execution_count": 106,
     "metadata": {},
     "output_type": "execute_result"
    }
   ],
   "source": [
    "inertias"
   ]
  },
  {
   "cell_type": "code",
   "execution_count": 110,
   "id": "2dc385c8-c7eb-43a1-9c47-9564668f3891",
   "metadata": {},
   "outputs": [
    {
     "data": {
      "image/png": "[encoded data removed]",
      "text/plain": [
       "<Figure size 800x350 with 1 Axes>"
      ]
     },
     "metadata": {},
     "output_type": "display_data"
    }
   ],
   "source": [
    "## Model Inertia vs K (number of clusters)\n",
    "\n",
    "plt.figure(figsize=(8, 3.5))\n",
    "plt.plot(range(1, 10), inertias, \"bo-\")\n",
    "plt.xlabel(\"$k$\")\n",
    "plt.ylabel(\"Inertia\")\n",
    "plt.axis([1, 9.5, 500_000, 1_000_000])\n",
    "plt.grid()\n",
    "plt.show()"
   ]
  },
  {
   "cell_type": "code",
   "execution_count": 108,
   "id": "fcb0ddbe-3f80-484b-afc7-5b2658c43c90",
   "metadata": {},
   "outputs": [],
   "source": [
    "silhouette_scores = [silhouette_score(df_no_info_scaled, model.labels_)\n",
    "                     for model in kmeans_per_k[1:]]"
   ]
  },
  {
   "cell_type": "code",
   "execution_count": 111,
   "id": "838e412e-3e8c-401b-bf30-719c93b0ae69",
   "metadata": {},
   "outputs": [
    {
     "data": {
      "image/png": "[encoded data removed]",
      "text/plain": [
       "<Figure size 800x300 with 1 Axes>"
      ]
     },
     "metadata": {},
     "output_type": "display_data"
    }
   ],
   "source": [
    "## Silhouette Score vs K (number of clusters)\n",
    "\n",
    "plt.figure(figsize=(8, 3))\n",
    "plt.plot(range(2, 10), silhouette_scores, \"bo-\")\n",
    "plt.xlabel(\"$k$\")\n",
    "plt.ylabel(\"Silhouette score\")\n",
    "plt.axis([1.8, 9.5, 0, 0.7])\n",
    "plt.grid()\n",
    "plt.show()"
   ]
  },
  {
   "cell_type": "markdown",
   "id": "33b0c588-0ec9-4141-b499-da4b906d8eea",
   "metadata": {},
   "source": [
    "Due to low scores we will try other methods before picking one"
   ]
  },
  {
   "cell_type": "markdown",
   "id": "c35b3894-b14f-4aec-a520-b443a63386f3",
   "metadata": {},
   "source": [
    "### DBSCAN"
   ]
  },
  {
   "cell_type": "code",
   "execution_count": 112,
   "id": "2ef2fe57-f41e-4406-b17c-ebdaf55638a0",
   "metadata": {},
   "outputs": [],
   "source": [
    "from sklearn.cluster import DBSCAN"
   ]
  },
  {
   "cell_type": "code",
   "execution_count": 130,
   "id": "7ee72007-d12c-4058-84e3-e889ff0112e1",
   "metadata": {},
   "outputs": [],
   "source": [
    "dbscan = DBSCAN(eps=0.2, min_samples=5)\n",
    "labels = dbscan.fit_predict(df_no_info_scaled)"
   ]
  },
  {
   "cell_type": "code",
   "execution_count": 141,
   "id": "ee1416c8-743a-423e-a599-94da7a0e1803",
   "metadata": {},
   "outputs": [
    {
     "name": "stdout",
     "output_type": "stream",
     "text": [
      "538\n"
     ]
    }
   ],
   "source": [
    "## Get number of clusters\n",
    "print(len(set(labels)))"
   ]
  },
  {
   "cell_type": "code",
   "execution_count": 142,
   "id": "0b2727f1-f728-44a0-86ba-78bd143bb957",
   "metadata": {},
   "outputs": [],
   "source": [
    "from sklearn.metrics import davies_bouldin_score, calinski_harabasz_score"
   ]
  },
  {
   "cell_type": "code",
   "execution_count": 144,
   "id": "abaf12ee-ad29-4ab9-bd3a-550c6979dd4c",
   "metadata": {},
   "outputs": [
    {
     "name": "stdout",
     "output_type": "stream",
     "text": [
      "1.453845197732752\n",
      "46.83783420944558\n"
     ]
    }
   ],
   "source": [
    "print(davies_bouldin_score(df_no_info_scaled, labels))\n",
    "print(calinski_harabasz_score(df_no_info_scaled, labels))"
   ]
  },
  {
   "cell_type": "code",
   "execution_count": null,
   "id": "7b702093-ee55-4aeb-b08a-4a475304ee0e",
   "metadata": {},
   "outputs": [],
   "source": []
  }
 ],
 "metadata": {
  "kernelspec": {
   "display_name": "Python 3 (ipykernel)",
   "language": "python",
   "name": "python3"
  },
  "language_info": {
   "codemirror_mode": {
    "name": "ipython",
    "version": 3
   },
   "file_extension": ".py",
   "mimetype": "text/x-python",
   "name": "python",
   "nbconvert_exporter": "python",
   "pygments_lexer": "ipython3",
   "version": "3.11.6"
  }
 },
 "nbformat": 4,
 "nbformat_minor": 5
}
