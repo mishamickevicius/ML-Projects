{
 "cells": [
  {
   "cell_type": "code",
   "execution_count": 1,
   "id": "5e90f9d0-24a2-482d-9451-1692b10e73ee",
   "metadata": {},
   "outputs": [],
   "source": [
    "import torch"
   ]
  },
  {
   "cell_type": "code",
   "execution_count": 2,
   "id": "a1abb32b-e821-4906-8ed3-278845d05226",
   "metadata": {},
   "outputs": [
    {
     "name": "stderr",
     "output_type": "stream",
     "text": [
      "/home/misha/Desktop/env/lib/python3.12/site-packages/tqdm/auto.py:21: TqdmWarning: IProgress not found. Please update jupyter and ipywidgets. See https://ipywidgets.readthedocs.io/en/stable/user_install.html\n",
      "  from .autonotebook import tqdm as notebook_tqdm\n",
      "2025-01-18 17:54:37.604965: I tensorflow/core/util/port.cc:153] oneDNN custom operations are on. You may see slightly different numerical results due to floating-point round-off errors from different computation orders. To turn them off, set the environment variable `TF_ENABLE_ONEDNN_OPTS=0`.\n",
      "2025-01-18 17:54:37.788011: E external/local_xla/xla/stream_executor/cuda/cuda_fft.cc:477] Unable to register cuFFT factory: Attempting to register factory for plugin cuFFT when one has already been registered\n",
      "WARNING: All log messages before absl::InitializeLog() is called are written to STDERR\n",
      "E0000 00:00:1737244477.850279    4221 cuda_dnn.cc:8310] Unable to register cuDNN factory: Attempting to register factory for plugin cuDNN when one has already been registered\n",
      "E0000 00:00:1737244477.873877    4221 cuda_blas.cc:1418] Unable to register cuBLAS factory: Attempting to register factory for plugin cuBLAS when one has already been registered\n",
      "2025-01-18 17:54:38.003723: I tensorflow/core/platform/cpu_feature_guard.cc:210] This TensorFlow binary is optimized to use available CPU instructions in performance-critical operations.\n",
      "To enable the following instructions: AVX2 AVX512F AVX512_VNNI FMA, in other operations, rebuild TensorFlow with the appropriate compiler flags.\n"
     ]
    }
   ],
   "source": [
    "from transformers import PaliGemmaForConditionalGeneration, PaliGemmaProcessor"
   ]
  },
  {
   "cell_type": "code",
   "execution_count": 3,
   "id": "f8fb9cdc-b715-4d1b-9d7e-1266b1630281",
   "metadata": {},
   "outputs": [],
   "source": [
    "device = torch.device('cuda')"
   ]
  },
  {
   "cell_type": "code",
   "execution_count": 4,
   "id": "f6a7da6c-d66b-43b6-acde-254f462fa984",
   "metadata": {},
   "outputs": [
    {
     "name": "stderr",
     "output_type": "stream",
     "text": [
      "`config.hidden_act` is ignored, you should use `config.hidden_activation` instead.\n",
      "Gemma's activation function will be set to `gelu_pytorch_tanh`. Please, use\n",
      "`config.hidden_activation` if you want to override this behaviour.\n",
      "See https://github.com/huggingface/transformers/pull/29402 for more details.\n",
      "Loading checkpoint shards: 100%|██████████████████| 3/3 [00:06<00:00,  2.28s/it]\n"
     ]
    }
   ],
   "source": [
    "model_id = 'google/paligemma-3b-pt-896'\n",
    "model = PaliGemmaForConditionalGeneration.from_pretrained(\n",
    "    model_id, \n",
    "    torch_dtype=torch.bfloat16,\n",
    ").to(device)\n",
    "processor = PaliGemmaProcessor.from_pretrained(model_id)"
   ]
  },
  {
   "cell_type": "code",
   "execution_count": 5,
   "id": "3506caa0-7c52-4853-a6ca-c50e633868f6",
   "metadata": {},
   "outputs": [],
   "source": [
    "from PIL import Image"
   ]
  },
  {
   "cell_type": "code",
   "execution_count": 32,
   "id": "ec524a59-6730-4ebd-8fac-07df7706d990",
   "metadata": {},
   "outputs": [],
   "source": [
    "image = Image.open('/home/misha/Pictures/Screenshots/Screenshot from 2025-01-18 16-04-16.png').convert('RGB')\n",
    "# image = Image.open('/home/misha/Desktop/data/test_images/download.jpeg').convert('RGB')"
   ]
  },
  {
   "cell_type": "code",
   "execution_count": 33,
   "id": "78979683-9677-42ef-9ae5-c7b713a78088",
   "metadata": {},
   "outputs": [],
   "source": [
    "prompt = 'answer en what is this webpage about<image>'"
   ]
  },
  {
   "cell_type": "code",
   "execution_count": 34,
   "id": "15d39beb-cd75-4660-87e2-54ad474e7b82",
   "metadata": {},
   "outputs": [],
   "source": [
    "model_inputs = processor(text=prompt, images=image, return_tensors='pt').to(model.device)"
   ]
  },
  {
   "cell_type": "code",
   "execution_count": 35,
   "id": "75cd5760-45c9-40d7-8fd3-f7ce02e29f1a",
   "metadata": {},
   "outputs": [],
   "source": [
    "input_len = model_inputs['input_ids'].shape[-1]"
   ]
  },
  {
   "cell_type": "code",
   "execution_count": 36,
   "id": "95c929d4-67bf-4a8f-9b94-9368a6853e34",
   "metadata": {},
   "outputs": [
    {
     "name": "stdout",
     "output_type": "stream",
     "text": [
      "fresh\n"
     ]
    }
   ],
   "source": [
    "with torch.inference_mode():\n",
    "    generation = model.generate(**model_inputs, max_new_tokens=100, do_sample=False)\n",
    "    generation = generation[0][input_len]\n",
    "    decoded = processor.decode(generation, skip_special_tokens=True)\n",
    "    print(decoded)"
   ]
  },
  {
   "cell_type": "code",
   "execution_count": null,
   "id": "887f1b2e-015e-4454-84e7-91464cffaeb6",
   "metadata": {},
   "outputs": [],
   "source": []
  }
 ],
 "metadata": {
  "kernelspec": {
   "display_name": "Python 3 (ipykernel)",
   "language": "python",
   "name": "python3"
  },
  "language_info": {
   "codemirror_mode": {
    "name": "ipython",
    "version": 3
   },
   "file_extension": ".py",
   "mimetype": "text/x-python",
   "name": "python",
   "nbconvert_exporter": "python",
   "pygments_lexer": "ipython3",
   "version": "3.12.3"
  }
 },
 "nbformat": 4,
 "nbformat_minor": 5
}
