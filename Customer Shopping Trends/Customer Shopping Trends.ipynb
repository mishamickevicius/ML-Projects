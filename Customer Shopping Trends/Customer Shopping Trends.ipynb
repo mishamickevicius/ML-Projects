{
 "cells": [
  {
   "cell_type": "markdown",
   "id": "675ae885-d7d0-4100-8990-e6d194e5f31c",
   "metadata": {},
   "source": [
    "# Customer Shopping Trends EDA/ML Analysis"
   ]
  },
  {
   "cell_type": "code",
   "execution_count": 1,
   "id": "ef818db7-1910-4f77-af90-04e57b756ca5",
   "metadata": {},
   "outputs": [],
   "source": [
    "import numpy as np\n",
    "import pandas as pd\n",
    "import matplotlib.pyplot as plt\n",
    "import seaborn as sns\n",
    "\n",
    "import warnings \n",
    "# warnings.filterwarnings('ignore')"
   ]
  },
  {
   "cell_type": "code",
   "execution_count": 2,
   "id": "9784428b-cf18-4e1c-8049-c35caffb5597",
   "metadata": {},
   "outputs": [
    {
     "name": "stdout",
     "output_type": "stream",
     "text": [
      "Warning: Looks like you're using an outdated `kagglehub` version (installed: 0.3.5), please consider upgrading to the latest version (0.3.6).\n",
      "Path to dataset files: /home/dude/.cache/kagglehub/datasets/bhadramohit/customer-shopping-latest-trends-dataset/versions/1\n"
     ]
    }
   ],
   "source": [
    "import kagglehub\n",
    "import os\n",
    "\n",
    "# Download latest version\n",
    "path = kagglehub.dataset_download(\"bhadramohit/customer-shopping-latest-trends-dataset\")\n",
    "\n",
    "print(\"Path to dataset files:\", path)"
   ]
  },
  {
   "cell_type": "code",
   "execution_count": 3,
   "id": "60930882-1a60-4b9d-9ad5-801110062be2",
   "metadata": {},
   "outputs": [
    {
     "data": {
      "text/plain": [
       "['shopping_trends.csv']"
      ]
     },
     "execution_count": 3,
     "metadata": {},
     "output_type": "execute_result"
    }
   ],
   "source": [
    "os.listdir(path)"
   ]
  },
  {
   "cell_type": "code",
   "execution_count": 4,
   "id": "46b6b47c-8a90-48ec-ba9a-a9202aecbe46",
   "metadata": {},
   "outputs": [],
   "source": [
    "df = pd.read_csv(path + '/shopping_trends.csv')\n",
    "df.drop('Customer ID', axis=1, inplace=True)"
   ]
  },
  {
   "cell_type": "code",
   "execution_count": 11,
   "id": "e7952552-e256-46da-879d-e30cef46589e",
   "metadata": {},
   "outputs": [
    {
     "name": "stdout",
     "output_type": "stream",
     "text": [
      "Train Shape (3120, 18)\n",
      "Test Shape (390, 18)\n",
      "Validation Shape(390, 18)\n"
     ]
    }
   ],
   "source": [
    "from sklearn.model_selection import train_test_split\n",
    "\n",
    "train_df, test_df = train_test_split(df, test_size=0.2, random_state=1)\n",
    "test_df, val_df = train_test_split(test_df, test_size=0.5, random_state=1)\n",
    "\n",
    "# Make sure data is split correctly\n",
    "print(f\"Train Shape {train_df.shape}\")\n",
    "print(f\"Test Shape {test_df.shape}\")\n",
    "print(f\"Validation Shape{val_df.shape}\")"
   ]
  },
  {
   "cell_type": "code",
   "execution_count": 12,
   "id": "fc4faf49-712d-4700-815a-5e131a6e1e30",
   "metadata": {},
   "outputs": [
    {
     "name": "stdout",
     "output_type": "stream",
     "text": [
      "<class 'pandas.core.frame.DataFrame'>\n",
      "Index: 3120 entries, 3304 to 1061\n",
      "Data columns (total 18 columns):\n",
      " #   Column                    Non-Null Count  Dtype  \n",
      "---  ------                    --------------  -----  \n",
      " 0   Age                       3120 non-null   int64  \n",
      " 1   Gender                    3120 non-null   object \n",
      " 2   Item Purchased            3120 non-null   object \n",
      " 3   Category                  3120 non-null   object \n",
      " 4   Purchase Amount (USD)     3120 non-null   int64  \n",
      " 5   Location                  3120 non-null   object \n",
      " 6   Size                      3120 non-null   object \n",
      " 7   Color                     3120 non-null   object \n",
      " 8   Season                    3120 non-null   object \n",
      " 9   Review Rating             3120 non-null   float64\n",
      " 10  Subscription Status       3120 non-null   object \n",
      " 11  Payment Method            3120 non-null   object \n",
      " 12  Shipping Type             3120 non-null   object \n",
      " 13  Discount Applied          3120 non-null   object \n",
      " 14  Promo Code Used           3120 non-null   object \n",
      " 15  Previous Purchases        3120 non-null   int64  \n",
      " 16  Preferred Payment Method  3120 non-null   object \n",
      " 17  Frequency of Purchases    3120 non-null   object \n",
      "dtypes: float64(1), int64(3), object(14)\n",
      "memory usage: 463.1+ KB\n"
     ]
    }
   ],
   "source": [
    "train_df.info()"
   ]
  },
  {
   "cell_type": "code",
   "execution_count": 13,
   "id": "e8def9f4-6438-4e13-812e-e7c8bd6e73f6",
   "metadata": {},
   "outputs": [
    {
     "data": {
      "text/html": [
       "<div>\n",
       "<style scoped>\n",
       "    .dataframe tbody tr th:only-of-type {\n",
       "        vertical-align: middle;\n",
       "    }\n",
       "\n",
       "    .dataframe tbody tr th {\n",
       "        vertical-align: top;\n",
       "    }\n",
       "\n",
       "    .dataframe thead th {\n",
       "        text-align: right;\n",
       "    }\n",
       "</style>\n",
       "<table border=\"1\" class=\"dataframe\">\n",
       "  <thead>\n",
       "    <tr style=\"text-align: right;\">\n",
       "      <th></th>\n",
       "      <th>Age</th>\n",
       "      <th>Gender</th>\n",
       "      <th>Item Purchased</th>\n",
       "      <th>Category</th>\n",
       "      <th>Purchase Amount (USD)</th>\n",
       "      <th>Location</th>\n",
       "      <th>Size</th>\n",
       "      <th>Color</th>\n",
       "      <th>Season</th>\n",
       "      <th>Review Rating</th>\n",
       "      <th>Subscription Status</th>\n",
       "      <th>Payment Method</th>\n",
       "      <th>Shipping Type</th>\n",
       "      <th>Discount Applied</th>\n",
       "      <th>Promo Code Used</th>\n",
       "      <th>Previous Purchases</th>\n",
       "      <th>Preferred Payment Method</th>\n",
       "      <th>Frequency of Purchases</th>\n",
       "    </tr>\n",
       "  </thead>\n",
       "  <tbody>\n",
       "    <tr>\n",
       "      <th>3304</th>\n",
       "      <td>30</td>\n",
       "      <td>Female</td>\n",
       "      <td>Handbag</td>\n",
       "      <td>Accessories</td>\n",
       "      <td>79</td>\n",
       "      <td>Mississippi</td>\n",
       "      <td>XL</td>\n",
       "      <td>Orange</td>\n",
       "      <td>Fall</td>\n",
       "      <td>4.8</td>\n",
       "      <td>No</td>\n",
       "      <td>Debit Card</td>\n",
       "      <td>Next Day Air</td>\n",
       "      <td>No</td>\n",
       "      <td>No</td>\n",
       "      <td>36</td>\n",
       "      <td>Bank Transfer</td>\n",
       "      <td>Every 3 Months</td>\n",
       "    </tr>\n",
       "    <tr>\n",
       "      <th>2756</th>\n",
       "      <td>42</td>\n",
       "      <td>Female</td>\n",
       "      <td>Hat</td>\n",
       "      <td>Accessories</td>\n",
       "      <td>23</td>\n",
       "      <td>Minnesota</td>\n",
       "      <td>L</td>\n",
       "      <td>Violet</td>\n",
       "      <td>Winter</td>\n",
       "      <td>4.1</td>\n",
       "      <td>No</td>\n",
       "      <td>Bank Transfer</td>\n",
       "      <td>Free Shipping</td>\n",
       "      <td>No</td>\n",
       "      <td>No</td>\n",
       "      <td>41</td>\n",
       "      <td>PayPal</td>\n",
       "      <td>Monthly</td>\n",
       "    </tr>\n",
       "    <tr>\n",
       "      <th>516</th>\n",
       "      <td>34</td>\n",
       "      <td>Male</td>\n",
       "      <td>Hoodie</td>\n",
       "      <td>Clothing</td>\n",
       "      <td>41</td>\n",
       "      <td>West Virginia</td>\n",
       "      <td>L</td>\n",
       "      <td>Indigo</td>\n",
       "      <td>Fall</td>\n",
       "      <td>2.8</td>\n",
       "      <td>Yes</td>\n",
       "      <td>Cash</td>\n",
       "      <td>2-Day Shipping</td>\n",
       "      <td>Yes</td>\n",
       "      <td>Yes</td>\n",
       "      <td>19</td>\n",
       "      <td>Debit Card</td>\n",
       "      <td>Bi-Weekly</td>\n",
       "    </tr>\n",
       "    <tr>\n",
       "      <th>3621</th>\n",
       "      <td>38</td>\n",
       "      <td>Female</td>\n",
       "      <td>Sneakers</td>\n",
       "      <td>Footwear</td>\n",
       "      <td>32</td>\n",
       "      <td>New Jersey</td>\n",
       "      <td>XL</td>\n",
       "      <td>Silver</td>\n",
       "      <td>Summer</td>\n",
       "      <td>4.0</td>\n",
       "      <td>No</td>\n",
       "      <td>Venmo</td>\n",
       "      <td>2-Day Shipping</td>\n",
       "      <td>No</td>\n",
       "      <td>No</td>\n",
       "      <td>5</td>\n",
       "      <td>Cash</td>\n",
       "      <td>Fortnightly</td>\n",
       "    </tr>\n",
       "    <tr>\n",
       "      <th>2872</th>\n",
       "      <td>63</td>\n",
       "      <td>Female</td>\n",
       "      <td>Jewelry</td>\n",
       "      <td>Accessories</td>\n",
       "      <td>48</td>\n",
       "      <td>Connecticut</td>\n",
       "      <td>L</td>\n",
       "      <td>Olive</td>\n",
       "      <td>Fall</td>\n",
       "      <td>2.6</td>\n",
       "      <td>No</td>\n",
       "      <td>Venmo</td>\n",
       "      <td>Next Day Air</td>\n",
       "      <td>No</td>\n",
       "      <td>No</td>\n",
       "      <td>5</td>\n",
       "      <td>Cash</td>\n",
       "      <td>Annually</td>\n",
       "    </tr>\n",
       "  </tbody>\n",
       "</table>\n",
       "</div>"
      ],
      "text/plain": [
       "      Age  Gender Item Purchased     Category  Purchase Amount (USD)  \\\n",
       "3304   30  Female        Handbag  Accessories                     79   \n",
       "2756   42  Female            Hat  Accessories                     23   \n",
       "516    34    Male         Hoodie     Clothing                     41   \n",
       "3621   38  Female       Sneakers     Footwear                     32   \n",
       "2872   63  Female        Jewelry  Accessories                     48   \n",
       "\n",
       "           Location Size   Color  Season  Review Rating Subscription Status  \\\n",
       "3304    Mississippi   XL  Orange    Fall            4.8                  No   \n",
       "2756      Minnesota    L  Violet  Winter            4.1                  No   \n",
       "516   West Virginia    L  Indigo    Fall            2.8                 Yes   \n",
       "3621     New Jersey   XL  Silver  Summer            4.0                  No   \n",
       "2872    Connecticut    L   Olive    Fall            2.6                  No   \n",
       "\n",
       "     Payment Method   Shipping Type Discount Applied Promo Code Used  \\\n",
       "3304     Debit Card    Next Day Air               No              No   \n",
       "2756  Bank Transfer   Free Shipping               No              No   \n",
       "516            Cash  2-Day Shipping              Yes             Yes   \n",
       "3621          Venmo  2-Day Shipping               No              No   \n",
       "2872          Venmo    Next Day Air               No              No   \n",
       "\n",
       "      Previous Purchases Preferred Payment Method Frequency of Purchases  \n",
       "3304                  36            Bank Transfer         Every 3 Months  \n",
       "2756                  41                   PayPal                Monthly  \n",
       "516                   19               Debit Card              Bi-Weekly  \n",
       "3621                   5                     Cash            Fortnightly  \n",
       "2872                   5                     Cash               Annually  "
      ]
     },
     "execution_count": 13,
     "metadata": {},
     "output_type": "execute_result"
    }
   ],
   "source": [
    "train_df.head()"
   ]
  },
  {
   "cell_type": "markdown",
   "id": "4879400c-bde6-4382-8a0d-3a530148b372",
   "metadata": {},
   "source": [
    "## Plans"
   ]
  },
  {
   "cell_type": "markdown",
   "id": "a36bf3e4-01aa-407e-9415-12e1e400b623",
   "metadata": {},
   "source": [
    "1. <b>Do simple EDA try and answer some questions:</b>\n",
    "    <br>- What are the most common payment types?\n",
    "    <br>- Which seasons lead to most money spent?\n",
    "    <br>- Do reviews impact how much a customer spends?\n",
    "3. <b>Do clustering to try and find useful specific categories of customers</b>\n",
    "4. <b>Create a total value feature and use it as the target for a regression</b>"
   ]
  },
  {
   "cell_type": "markdown",
   "id": "1822c436-e1bc-41d3-8581-fd06f42d435e",
   "metadata": {},
   "source": [
    "## Creating total value feature<br>\n",
    "This feature maybe useful in EDA but will be necessary in the final step of project"
   ]
  },
  {
   "cell_type": "code",
   "execution_count": 15,
   "id": "dc831857-61cd-4861-a78a-90b57ae8e75e",
   "metadata": {},
   "outputs": [
    {
     "name": "stdout",
     "output_type": "stream",
     "text": [
      "<class 'pandas.core.frame.DataFrame'>\n",
      "Index: 3120 entries, 3304 to 1061\n",
      "Data columns (total 18 columns):\n",
      " #   Column                    Non-Null Count  Dtype  \n",
      "---  ------                    --------------  -----  \n",
      " 0   Age                       3120 non-null   int64  \n",
      " 1   Gender                    3120 non-null   object \n",
      " 2   Item Purchased            3120 non-null   object \n",
      " 3   Category                  3120 non-null   object \n",
      " 4   Purchase Amount (USD)     3120 non-null   int64  \n",
      " 5   Location                  3120 non-null   object \n",
      " 6   Size                      3120 non-null   object \n",
      " 7   Color                     3120 non-null   object \n",
      " 8   Season                    3120 non-null   object \n",
      " 9   Review Rating             3120 non-null   float64\n",
      " 10  Subscription Status       3120 non-null   object \n",
      " 11  Payment Method            3120 non-null   object \n",
      " 12  Shipping Type             3120 non-null   object \n",
      " 13  Discount Applied          3120 non-null   object \n",
      " 14  Promo Code Used           3120 non-null   object \n",
      " 15  Previous Purchases        3120 non-null   int64  \n",
      " 16  Preferred Payment Method  3120 non-null   object \n",
      " 17  Frequency of Purchases    3120 non-null   object \n",
      "dtypes: float64(1), int64(3), object(14)\n",
      "memory usage: 463.1+ KB\n"
     ]
    }
   ],
   "source": [
    "train_df.info()"
   ]
  },
  {
   "cell_type": "markdown",
   "id": "8a29df6d-12c2-466f-8741-44072d14c6a3",
   "metadata": {},
   "source": [
    "This feature will be a predicted total value 5 years into future. It will include the total value of customer to date + predicted value 5 years after. I believe this feature could help business make benifical desicions. "
   ]
  },
  {
   "cell_type": "code",
   "execution_count": 16,
   "id": "4b42d028-e15b-4b5e-aead-dba737e6d08c",
   "metadata": {},
   "outputs": [],
   "source": [
    "\"\"\" \n",
    "Features needed for this engineered feature: purchase amount, frequency of purchases, and previous purchases\n",
    "\"\"\"\n",
    "\n",
    "amount = train_df['Purchase Amount (USD)']\n",
    "prev_purchases = train_df['Previous Purchases']\n",
    "freq_purchases = train_df['Frequency of Purchases']"
   ]
  },
  {
   "cell_type": "code",
   "execution_count": 21,
   "id": "8110d654-628b-42c4-9fa7-03e63da921b6",
   "metadata": {},
   "outputs": [
    {
     "data": {
      "text/plain": [
       "['Every 3 Months',\n",
       " 'Monthly',\n",
       " 'Bi-Weekly',\n",
       " 'Fortnightly',\n",
       " 'Annually',\n",
       " 'Quarterly',\n",
       " 'Weekly']"
      ]
     },
     "execution_count": 21,
     "metadata": {},
     "output_type": "execute_result"
    }
   ],
   "source": [
    "# Get unique frequencies\n",
    "unique_ferq = list(freq_purchases.unique())\n",
    "unique_ferq"
   ]
  },
  {
   "cell_type": "code",
   "execution_count": 23,
   "id": "3d9f7c6c-9fef-4ffb-ad4a-0b4088654547",
   "metadata": {},
   "outputs": [],
   "source": [
    "# Make hash map to connect frequency to how many times it occurs\n",
    "freq_map = {\n",
    "    'Every 3 Months': 4,\n",
    "    'Monthly': 12,\n",
    "    'Bi-Weekly': 26,\n",
    "    'Fortnightly': 26, # Means samething as bi-weekly\n",
    "    'Annually': 1,\n",
    "    'Quarterly': 4, # Same thing as every 3 months\n",
    "    'Weekly': 52\n",
    "}"
   ]
  },
  {
   "cell_type": "code",
   "execution_count": null,
   "id": "29c4d886-037c-4bf1-90a5-90942ac69c36",
   "metadata": {},
   "outputs": [],
   "source": []
  }
 ],
 "metadata": {
  "kernelspec": {
   "display_name": "Python 3 (ipykernel)",
   "language": "python",
   "name": "python3"
  },
  "language_info": {
   "codemirror_mode": {
    "name": "ipython",
    "version": 3
   },
   "file_extension": ".py",
   "mimetype": "text/x-python",
   "name": "python",
   "nbconvert_exporter": "python",
   "pygments_lexer": "ipython3",
   "version": "3.11.6"
  }
 },
 "nbformat": 4,
 "nbformat_minor": 5
}
