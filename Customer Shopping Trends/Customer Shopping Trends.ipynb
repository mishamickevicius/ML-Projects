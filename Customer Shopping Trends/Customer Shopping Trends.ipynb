{
 "cells": [
  {
   "cell_type": "code",
   "execution_count": 2,
   "id": "ef818db7-1910-4f77-af90-04e57b756ca5",
   "metadata": {},
   "outputs": [],
   "source": [
    "import numpy as np\n",
    "import pandas as pd\n",
    "import matplotlib.pyplot as plt\n",
    "import seaborn as sns\n",
    "\n",
    "import warnings \n",
    "# warnings.filterwarnings('ignore')"
   ]
  },
  {
   "cell_type": "code",
   "execution_count": 4,
   "id": "9784428b-cf18-4e1c-8049-c35caffb5597",
   "metadata": {},
   "outputs": [
    {
     "name": "stdout",
     "output_type": "stream",
     "text": [
      "Warning: Looks like you're using an outdated `kagglehub` version (installed: 0.3.5), please consider upgrading to the latest version (0.3.6).\n",
      "Path to dataset files: /home/dude/.cache/kagglehub/datasets/bhadramohit/customer-shopping-latest-trends-dataset/versions/1\n"
     ]
    }
   ],
   "source": [
    "import kagglehub\n",
    "import os\n",
    "\n",
    "# Download latest version\n",
    "path = kagglehub.dataset_download(\"bhadramohit/customer-shopping-latest-trends-dataset\")\n",
    "\n",
    "print(\"Path to dataset files:\", path)"
   ]
  },
  {
   "cell_type": "code",
   "execution_count": 5,
   "id": "60930882-1a60-4b9d-9ad5-801110062be2",
   "metadata": {},
   "outputs": [
    {
     "data": {
      "text/plain": [
       "['shopping_trends.csv']"
      ]
     },
     "execution_count": 5,
     "metadata": {},
     "output_type": "execute_result"
    }
   ],
   "source": [
    "os.listdir(path)"
   ]
  },
  {
   "cell_type": "code",
   "execution_count": 15,
   "id": "46b6b47c-8a90-48ec-ba9a-a9202aecbe46",
   "metadata": {},
   "outputs": [],
   "source": [
    "df = pd.read_csv(path + '/shopping_trends.csv')\n",
    "df.drop('Customer ID', axis=1, inplace=True)"
   ]
  },
  {
   "cell_type": "code",
   "execution_count": 16,
   "id": "e7952552-e256-46da-879d-e30cef46589e",
   "metadata": {},
   "outputs": [],
   "source": [
    "from sklearn.model_selection import train_test_split\n",
    "\n",
    "train_df, test_df = train_test_split(df, test_size=0.2, random_state=42)"
   ]
  },
  {
   "cell_type": "code",
   "execution_count": 17,
   "id": "fc4faf49-712d-4700-815a-5e131a6e1e30",
   "metadata": {},
   "outputs": [
    {
     "name": "stdout",
     "output_type": "stream",
     "text": [
      "<class 'pandas.core.frame.DataFrame'>\n",
      "Index: 3120 entries, 247 to 3174\n",
      "Data columns (total 18 columns):\n",
      " #   Column                    Non-Null Count  Dtype  \n",
      "---  ------                    --------------  -----  \n",
      " 0   Age                       3120 non-null   int64  \n",
      " 1   Gender                    3120 non-null   object \n",
      " 2   Item Purchased            3120 non-null   object \n",
      " 3   Category                  3120 non-null   object \n",
      " 4   Purchase Amount (USD)     3120 non-null   int64  \n",
      " 5   Location                  3120 non-null   object \n",
      " 6   Size                      3120 non-null   object \n",
      " 7   Color                     3120 non-null   object \n",
      " 8   Season                    3120 non-null   object \n",
      " 9   Review Rating             3120 non-null   float64\n",
      " 10  Subscription Status       3120 non-null   object \n",
      " 11  Payment Method            3120 non-null   object \n",
      " 12  Shipping Type             3120 non-null   object \n",
      " 13  Discount Applied          3120 non-null   object \n",
      " 14  Promo Code Used           3120 non-null   object \n",
      " 15  Previous Purchases        3120 non-null   int64  \n",
      " 16  Preferred Payment Method  3120 non-null   object \n",
      " 17  Frequency of Purchases    3120 non-null   object \n",
      "dtypes: float64(1), int64(3), object(14)\n",
      "memory usage: 463.1+ KB\n"
     ]
    }
   ],
   "source": [
    "train_df.info()"
   ]
  },
  {
   "cell_type": "code",
   "execution_count": 18,
   "id": "e8def9f4-6438-4e13-812e-e7c8bd6e73f6",
   "metadata": {},
   "outputs": [
    {
     "data": {
      "text/html": [
       "<div>\n",
       "<style scoped>\n",
       "    .dataframe tbody tr th:only-of-type {\n",
       "        vertical-align: middle;\n",
       "    }\n",
       "\n",
       "    .dataframe tbody tr th {\n",
       "        vertical-align: top;\n",
       "    }\n",
       "\n",
       "    .dataframe thead th {\n",
       "        text-align: right;\n",
       "    }\n",
       "</style>\n",
       "<table border=\"1\" class=\"dataframe\">\n",
       "  <thead>\n",
       "    <tr style=\"text-align: right;\">\n",
       "      <th></th>\n",
       "      <th>Age</th>\n",
       "      <th>Gender</th>\n",
       "      <th>Item Purchased</th>\n",
       "      <th>Category</th>\n",
       "      <th>Purchase Amount (USD)</th>\n",
       "      <th>Location</th>\n",
       "      <th>Size</th>\n",
       "      <th>Color</th>\n",
       "      <th>Season</th>\n",
       "      <th>Review Rating</th>\n",
       "      <th>Subscription Status</th>\n",
       "      <th>Payment Method</th>\n",
       "      <th>Shipping Type</th>\n",
       "      <th>Discount Applied</th>\n",
       "      <th>Promo Code Used</th>\n",
       "      <th>Previous Purchases</th>\n",
       "      <th>Preferred Payment Method</th>\n",
       "      <th>Frequency of Purchases</th>\n",
       "    </tr>\n",
       "  </thead>\n",
       "  <tbody>\n",
       "    <tr>\n",
       "      <th>247</th>\n",
       "      <td>29</td>\n",
       "      <td>Male</td>\n",
       "      <td>Sweater</td>\n",
       "      <td>Clothing</td>\n",
       "      <td>66</td>\n",
       "      <td>Montana</td>\n",
       "      <td>XL</td>\n",
       "      <td>Brown</td>\n",
       "      <td>Spring</td>\n",
       "      <td>4.4</td>\n",
       "      <td>Yes</td>\n",
       "      <td>Credit Card</td>\n",
       "      <td>Standard</td>\n",
       "      <td>Yes</td>\n",
       "      <td>Yes</td>\n",
       "      <td>14</td>\n",
       "      <td>Debit Card</td>\n",
       "      <td>Weekly</td>\n",
       "    </tr>\n",
       "    <tr>\n",
       "      <th>2591</th>\n",
       "      <td>40</td>\n",
       "      <td>Male</td>\n",
       "      <td>Jacket</td>\n",
       "      <td>Outerwear</td>\n",
       "      <td>61</td>\n",
       "      <td>New Mexico</td>\n",
       "      <td>S</td>\n",
       "      <td>Olive</td>\n",
       "      <td>Spring</td>\n",
       "      <td>3.3</td>\n",
       "      <td>No</td>\n",
       "      <td>Debit Card</td>\n",
       "      <td>Express</td>\n",
       "      <td>No</td>\n",
       "      <td>No</td>\n",
       "      <td>40</td>\n",
       "      <td>Cash</td>\n",
       "      <td>Quarterly</td>\n",
       "    </tr>\n",
       "    <tr>\n",
       "      <th>1822</th>\n",
       "      <td>66</td>\n",
       "      <td>Male</td>\n",
       "      <td>Shirt</td>\n",
       "      <td>Clothing</td>\n",
       "      <td>85</td>\n",
       "      <td>Connecticut</td>\n",
       "      <td>S</td>\n",
       "      <td>Cyan</td>\n",
       "      <td>Summer</td>\n",
       "      <td>4.4</td>\n",
       "      <td>No</td>\n",
       "      <td>Cash</td>\n",
       "      <td>Standard</td>\n",
       "      <td>No</td>\n",
       "      <td>No</td>\n",
       "      <td>4</td>\n",
       "      <td>Cash</td>\n",
       "      <td>Annually</td>\n",
       "    </tr>\n",
       "    <tr>\n",
       "      <th>3483</th>\n",
       "      <td>19</td>\n",
       "      <td>Female</td>\n",
       "      <td>Hoodie</td>\n",
       "      <td>Clothing</td>\n",
       "      <td>37</td>\n",
       "      <td>Texas</td>\n",
       "      <td>L</td>\n",
       "      <td>White</td>\n",
       "      <td>Winter</td>\n",
       "      <td>3.9</td>\n",
       "      <td>No</td>\n",
       "      <td>Venmo</td>\n",
       "      <td>Express</td>\n",
       "      <td>No</td>\n",
       "      <td>No</td>\n",
       "      <td>21</td>\n",
       "      <td>Credit Card</td>\n",
       "      <td>Every 3 Months</td>\n",
       "    </tr>\n",
       "    <tr>\n",
       "      <th>2771</th>\n",
       "      <td>58</td>\n",
       "      <td>Female</td>\n",
       "      <td>Jacket</td>\n",
       "      <td>Outerwear</td>\n",
       "      <td>52</td>\n",
       "      <td>Maryland</td>\n",
       "      <td>S</td>\n",
       "      <td>Beige</td>\n",
       "      <td>Summer</td>\n",
       "      <td>3.1</td>\n",
       "      <td>No</td>\n",
       "      <td>Cash</td>\n",
       "      <td>2-Day Shipping</td>\n",
       "      <td>No</td>\n",
       "      <td>No</td>\n",
       "      <td>12</td>\n",
       "      <td>Bank Transfer</td>\n",
       "      <td>Fortnightly</td>\n",
       "    </tr>\n",
       "  </tbody>\n",
       "</table>\n",
       "</div>"
      ],
      "text/plain": [
       "      Age  Gender Item Purchased   Category  Purchase Amount (USD)  \\\n",
       "247    29    Male        Sweater   Clothing                     66   \n",
       "2591   40    Male         Jacket  Outerwear                     61   \n",
       "1822   66    Male          Shirt   Clothing                     85   \n",
       "3483   19  Female         Hoodie   Clothing                     37   \n",
       "2771   58  Female         Jacket  Outerwear                     52   \n",
       "\n",
       "         Location Size  Color  Season  Review Rating Subscription Status  \\\n",
       "247       Montana   XL  Brown  Spring            4.4                 Yes   \n",
       "2591   New Mexico    S  Olive  Spring            3.3                  No   \n",
       "1822  Connecticut    S   Cyan  Summer            4.4                  No   \n",
       "3483        Texas    L  White  Winter            3.9                  No   \n",
       "2771     Maryland    S  Beige  Summer            3.1                  No   \n",
       "\n",
       "     Payment Method   Shipping Type Discount Applied Promo Code Used  \\\n",
       "247     Credit Card        Standard              Yes             Yes   \n",
       "2591     Debit Card         Express               No              No   \n",
       "1822           Cash        Standard               No              No   \n",
       "3483          Venmo         Express               No              No   \n",
       "2771           Cash  2-Day Shipping               No              No   \n",
       "\n",
       "      Previous Purchases Preferred Payment Method Frequency of Purchases  \n",
       "247                   14               Debit Card                 Weekly  \n",
       "2591                  40                     Cash              Quarterly  \n",
       "1822                   4                     Cash               Annually  \n",
       "3483                  21              Credit Card         Every 3 Months  \n",
       "2771                  12            Bank Transfer            Fortnightly  "
      ]
     },
     "execution_count": 18,
     "metadata": {},
     "output_type": "execute_result"
    }
   ],
   "source": [
    "train_df.head()"
   ]
  },
  {
   "cell_type": "code",
   "execution_count": null,
   "id": "f8e07838-15b9-4d7b-867b-61ebfd31c1b2",
   "metadata": {},
   "outputs": [],
   "source": []
  }
 ],
 "metadata": {
  "kernelspec": {
   "display_name": "Python 3 (ipykernel)",
   "language": "python",
   "name": "python3"
  },
  "language_info": {
   "codemirror_mode": {
    "name": "ipython",
    "version": 3
   },
   "file_extension": ".py",
   "mimetype": "text/x-python",
   "name": "python",
   "nbconvert_exporter": "python",
   "pygments_lexer": "ipython3",
   "version": "3.11.6"
  }
 },
 "nbformat": 4,
 "nbformat_minor": 5
}
