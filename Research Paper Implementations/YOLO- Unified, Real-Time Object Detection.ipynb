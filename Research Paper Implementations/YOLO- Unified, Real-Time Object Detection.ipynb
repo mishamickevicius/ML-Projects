{
 "cells": [
  {
   "cell_type": "code",
   "execution_count": 3,
   "id": "571a000e-c062-46af-a253-baf0bf1607b2",
   "metadata": {},
   "outputs": [
    {
     "name": "stderr",
     "output_type": "stream",
     "text": [
      "2025-01-21 11:39:26.006807: I tensorflow/core/util/port.cc:153] oneDNN custom operations are on. You may see slightly different numerical results due to floating-point round-off errors from different computation orders. To turn them off, set the environment variable `TF_ENABLE_ONEDNN_OPTS=0`.\n",
      "2025-01-21 11:39:26.186979: E external/local_xla/xla/stream_executor/cuda/cuda_fft.cc:477] Unable to register cuFFT factory: Attempting to register factory for plugin cuFFT when one has already been registered\n",
      "WARNING: All log messages before absl::InitializeLog() is called are written to STDERR\n",
      "E0000 00:00:1737481166.249078    5016 cuda_dnn.cc:8310] Unable to register cuDNN factory: Attempting to register factory for plugin cuDNN when one has already been registered\n",
      "E0000 00:00:1737481166.267128    5016 cuda_blas.cc:1418] Unable to register cuBLAS factory: Attempting to register factory for plugin cuBLAS when one has already been registered\n",
      "2025-01-21 11:39:26.444835: I tensorflow/core/platform/cpu_feature_guard.cc:210] This TensorFlow binary is optimized to use available CPU instructions in performance-critical operations.\n",
      "To enable the following instructions: AVX2 AVX512F AVX512_VNNI FMA, in other operations, rebuild TensorFlow with the appropriate compiler flags.\n"
     ]
    }
   ],
   "source": [
    "import numpy as np\n",
    "import pandas as pd\n",
    "import plotly.express as px\n",
    "import tensorflow as tf"
   ]
  },
  {
   "cell_type": "markdown",
   "id": "60f9847c-39e4-4c13-ad15-ff6927b622f4",
   "metadata": {},
   "source": [
    "# Implmentation Outline\n",
    "- Do pretraining for image classification to learn features\n",
    "- Convert model to object detection\n",
    "- Make custom loss function\n",
    "- Get object detection dataset\n",
    "- Train according to paper specifications\n",
    "- Test model"
   ]
  },
  {
   "cell_type": "markdown",
   "id": "c99868e8-e5f1-4043-96ac-f4fa10536841",
   "metadata": {},
   "source": [
    "## Pretraining"
   ]
  },
  {
   "cell_type": "markdown",
   "id": "f768032b-48d7-4db5-8355-34332ef4a9c5",
   "metadata": {},
   "source": [
    "For pretraining I will use a smaller version of the ImageNet dataset then the one used in the paper."
   ]
  },
  {
   "cell_type": "code",
   "execution_count": 1,
   "id": "72a11c76-1384-405f-a394-1e64c384e84a",
   "metadata": {},
   "outputs": [],
   "source": [
    "PRETRAIN_DATA_PATH = '/home/misha/Desktop/data/yolo_paper/pretrain_data/'\n",
    "labels_txt = PRETRAIN_DATA_PATH + 'words.txt'"
   ]
  },
  {
   "cell_type": "code",
   "execution_count": null,
   "id": "7061ee60-036e-40e0-9699-9ba22203a17c",
   "metadata": {},
   "outputs": [],
   "source": []
  }
 ],
 "metadata": {
  "kernelspec": {
   "display_name": "Python 3 (ipykernel)",
   "language": "python",
   "name": "python3"
  },
  "language_info": {
   "codemirror_mode": {
    "name": "ipython",
    "version": 3
   },
   "file_extension": ".py",
   "mimetype": "text/x-python",
   "name": "python",
   "nbconvert_exporter": "python",
   "pygments_lexer": "ipython3",
   "version": "3.12.3"
  }
 },
 "nbformat": 4,
 "nbformat_minor": 5
}
