{
 "cells": [
  {
   "cell_type": "code",
   "execution_count": 1,
   "id": "b8cac174-9690-49bb-8ee2-2ace947e07e3",
   "metadata": {},
   "outputs": [
    {
     "name": "stdout",
     "output_type": "stream",
     "text": [
      "Warning: Your Kaggle API key is readable by other users on this system! To fix this, you can run 'chmod 600 /home/misha/.kaggle/kaggle.json'\n"
     ]
    },
    {
     "name": "stderr",
     "output_type": "stream",
     "text": [
      "2025-02-27 14:20:10.552002: I tensorflow/core/util/port.cc:153] oneDNN custom operations are on. You may see slightly different numerical results due to floating-point round-off errors from different computation orders. To turn them off, set the environment variable `TF_ENABLE_ONEDNN_OPTS=0`.\n",
      "2025-02-27 14:20:10.684707: E external/local_xla/xla/stream_executor/cuda/cuda_fft.cc:477] Unable to register cuFFT factory: Attempting to register factory for plugin cuFFT when one has already been registered\n",
      "WARNING: All log messages before absl::InitializeLog() is called are written to STDERR\n",
      "E0000 00:00:1740687610.742408    4429 cuda_dnn.cc:8310] Unable to register cuDNN factory: Attempting to register factory for plugin cuDNN when one has already been registered\n",
      "E0000 00:00:1740687610.761475    4429 cuda_blas.cc:1418] Unable to register cuBLAS factory: Attempting to register factory for plugin cuBLAS when one has already been registered\n",
      "2025-02-27 14:20:10.932593: I tensorflow/core/platform/cpu_feature_guard.cc:210] This TensorFlow binary is optimized to use available CPU instructions in performance-critical operations.\n",
      "To enable the following instructions: AVX2 AVX512F AVX512_VNNI FMA, in other operations, rebuild TensorFlow with the appropriate compiler flags.\n"
     ]
    }
   ],
   "source": [
    "import numpy as np\n",
    "import pandas as pd\n",
    "import plotly.express as px\n",
    "import kaggle\n",
    "import os\n",
    "import holidays\n",
    "import tensorflow as tf"
   ]
  },
  {
   "cell_type": "markdown",
   "id": "b7909ee4-2b37-49fb-9470-8a6fe6f9bc88",
   "metadata": {},
   "source": [
    "# Model Plan:\n",
    "- Find a api for real time stock data\n",
    "- Find a api for real time news\n",
    "- Feature engineer features\n",
    "- Build Multi-modal model for day trading.\n",
    "- First branch of model will be Time Series analysis model that will take the real time stock data as a sequence\n",
    "- Second branch of model will be a text classifier/sentiment analysis model that can take the real time news\n",
    "- Combine the two branches to make the multi-modal model\n",
    "\n",
    "# Agent Plan:\n",
    "- Use same apis to get input data (This is how agent recieves input)\n",
    "- Use LLM with function calling to helper function and to run the model (Thinking part)\n",
    "- Have the agent output the result or make the trade itself using the api (The action/goal achieving part)\n"
   ]
  },
  {
   "cell_type": "markdown",
   "id": "c49ce748-1316-4a3e-a1b0-dc4a739ba630",
   "metadata": {},
   "source": [
    "## Data Collection"
   ]
  },
  {
   "cell_type": "code",
   "execution_count": 2,
   "id": "b50cc0c9-6793-4de7-ae59-8c8907147a3d",
   "metadata": {},
   "outputs": [],
   "source": [
    "# datasets = [\n",
    "#     \"varpit94/apple-stock-data-updated-till-22jun2021\",\n",
    "#     \"prajwaldongre/nvidia-corp-share-price-2000-2024\",\n",
    "#     \"varpit94/microsoft-stock-data\",\n",
    "#     \"guillemservera/amzn-stock-data\",\n",
    "#     \"henryshan/meta-platforms-inc-meta\",\n",
    "#     \"henryshan/google-stock-price\",\n",
    "#     \"guillemservera/tsla-stock-data\"\n",
    "# ]\n",
    "# for dataset in datasets: \n",
    "#     kaggle.api.dataset_download_files(dataset, path='/home/misha/Desktop/data/day_trader/', unzip=True)"
   ]
  },
  {
   "cell_type": "code",
   "execution_count": 3,
   "id": "fca7f0e4-0552-4301-b049-6bb9570db298",
   "metadata": {},
   "outputs": [],
   "source": [
    "df = pd.DataFrame()\n",
    "for file in os.listdir('/home/misha/Desktop/data/day_trader/'):\n",
    "    data = pd.read_csv('/home/misha/Desktop/data/day_trader/' + file)\n",
    "    data['filename'] = file\n",
    "    data.columns = [col.strip().title() for col in data.columns]\n",
    "    df = pd.concat([df, data], axis=0, ignore_index=True)"
   ]
  },
  {
   "cell_type": "code",
   "execution_count": 4,
   "id": "1623740e-ea3d-42e4-926d-231e67cb9092",
   "metadata": {},
   "outputs": [
    {
     "name": "stdout",
     "output_type": "stream",
     "text": [
      "<class 'pandas.core.frame.DataFrame'>\n",
      "RangeIndex: 53862 entries, 0 to 53861\n",
      "Data columns (total 12 columns):\n",
      " #   Column          Non-Null Count  Dtype  \n",
      "---  ------          --------------  -----  \n",
      " 0   Date            53862 non-null  object \n",
      " 1   Open            53862 non-null  float64\n",
      " 2   High            53862 non-null  float64\n",
      " 3   Low             53862 non-null  float64\n",
      " 4   Close           53862 non-null  float64\n",
      " 5   Volume          53862 non-null  int64  \n",
      " 6   Raw_Close       10245 non-null  float64\n",
      " 7   Change_Percent  20486 non-null  float64\n",
      " 8   Avg_Vol_20D     20414 non-null  float64\n",
      " 9   Filename        53862 non-null  object \n",
      " 10  Adj Close       33372 non-null  float64\n",
      " 11  Adjusted_Close  10245 non-null  float64\n",
      "dtypes: float64(9), int64(1), object(2)\n",
      "memory usage: 4.9+ MB\n"
     ]
    }
   ],
   "source": [
    "df.info()"
   ]
  },
  {
   "cell_type": "code",
   "execution_count": 5,
   "id": "9528ade2-241e-42ac-a407-22251b448610",
   "metadata": {},
   "outputs": [],
   "source": [
    "df.drop(['Raw_Close', 'Change_Percent', 'Avg_Vol_20D', 'Adjusted_Close', 'Adj Close'], axis=1, inplace=True)"
   ]
  },
  {
   "cell_type": "code",
   "execution_count": 6,
   "id": "55c7fe5f-8587-4140-bba1-760a5a41c380",
   "metadata": {},
   "outputs": [
    {
     "name": "stdout",
     "output_type": "stream",
     "text": [
      "<class 'pandas.core.frame.DataFrame'>\n",
      "RangeIndex: 53862 entries, 0 to 53861\n",
      "Data columns (total 7 columns):\n",
      " #   Column    Non-Null Count  Dtype  \n",
      "---  ------    --------------  -----  \n",
      " 0   Date      53862 non-null  object \n",
      " 1   Open      53862 non-null  float64\n",
      " 2   High      53862 non-null  float64\n",
      " 3   Low       53862 non-null  float64\n",
      " 4   Close     53862 non-null  float64\n",
      " 5   Volume    53862 non-null  int64  \n",
      " 6   Filename  53862 non-null  object \n",
      "dtypes: float64(4), int64(1), object(2)\n",
      "memory usage: 2.9+ MB\n"
     ]
    }
   ],
   "source": [
    "df.info()"
   ]
  },
  {
   "cell_type": "code",
   "execution_count": 7,
   "id": "5a81c072-1af7-4152-abc0-ad1a2b397e18",
   "metadata": {},
   "outputs": [
    {
     "data": {
      "text/plain": [
       "Date        0\n",
       "Open        0\n",
       "High        0\n",
       "Low         0\n",
       "Close       0\n",
       "Volume      0\n",
       "Filename    0\n",
       "dtype: int64"
      ]
     },
     "execution_count": 7,
     "metadata": {},
     "output_type": "execute_result"
    }
   ],
   "source": [
    "df.isna().sum()"
   ]
  },
  {
   "cell_type": "code",
   "execution_count": 8,
   "id": "da9ab595-a503-461a-9c19-efc979d7e90b",
   "metadata": {},
   "outputs": [],
   "source": [
    "filename_to_ticker_map = {\n",
    "    'tsla_split_adjusted.csv':'TSLA',\n",
    "    'MSFT.csv':'MSFT',\n",
    "    'tsla_raw_data.csv':'TSLA',\n",
    "    'AAPL.csv':'AAPL',\n",
    "    'META.csv':'META',\n",
    "    'NVDA.csv':'NVDA',\n",
    "    'GOOG.csv':'GOOGL',\n",
    "    'amzn_split_adjusted.csv':'AMZN',\n",
    "    'amzn_raw_data.csv':'AMZN'\n",
    "}"
   ]
  },
  {
   "cell_type": "code",
   "execution_count": 9,
   "id": "bd55e9e2-ad8b-4477-9837-b260c6e2b07d",
   "metadata": {},
   "outputs": [],
   "source": [
    "df['Ticker'] = df['Filename'].apply(lambda x: filename_to_ticker_map[x])\n",
    "df.drop('Filename', axis=1, inplace=True)"
   ]
  },
  {
   "cell_type": "code",
   "execution_count": 10,
   "id": "04a65d96-000d-430b-be8c-49b446344865",
   "metadata": {},
   "outputs": [],
   "source": [
    "df['Date'] = pd.to_datetime(df['Date'])"
   ]
  },
  {
   "cell_type": "code",
   "execution_count": 11,
   "id": "4e20f72c-c346-4fb9-b374-8f9fc3d929bd",
   "metadata": {},
   "outputs": [
    {
     "data": {
      "text/plain": [
       "Ticker\n",
       "AMZN     13546\n",
       "AAPL     10409\n",
       "MSFT      9083\n",
       "TSLA      6944\n",
       "NVDA      6116\n",
       "GOOGL     4858\n",
       "META      2906\n",
       "Name: count, dtype: int64"
      ]
     },
     "execution_count": 11,
     "metadata": {},
     "output_type": "execute_result"
    }
   ],
   "source": [
    "df['Ticker'].value_counts()"
   ]
  },
  {
   "cell_type": "code",
   "execution_count": 12,
   "id": "707b654a-1be2-4c44-a805-8e35937880d7",
   "metadata": {},
   "outputs": [
    {
     "data": {
      "text/html": [
       "<div>\n",
       "<style scoped>\n",
       "    .dataframe tbody tr th:only-of-type {\n",
       "        vertical-align: middle;\n",
       "    }\n",
       "\n",
       "    .dataframe tbody tr th {\n",
       "        vertical-align: top;\n",
       "    }\n",
       "\n",
       "    .dataframe thead th {\n",
       "        text-align: right;\n",
       "    }\n",
       "</style>\n",
       "<table border=\"1\" class=\"dataframe\">\n",
       "  <thead>\n",
       "    <tr style=\"text-align: right;\">\n",
       "      <th></th>\n",
       "      <th></th>\n",
       "      <th>Open</th>\n",
       "      <th>High</th>\n",
       "      <th>Low</th>\n",
       "      <th>Close</th>\n",
       "      <th>Volume</th>\n",
       "    </tr>\n",
       "    <tr>\n",
       "      <th>Ticker</th>\n",
       "      <th>Date</th>\n",
       "      <th></th>\n",
       "      <th></th>\n",
       "      <th></th>\n",
       "      <th></th>\n",
       "      <th></th>\n",
       "    </tr>\n",
       "  </thead>\n",
       "  <tbody>\n",
       "    <tr>\n",
       "      <th rowspan=\"5\" valign=\"top\">TSLA</th>\n",
       "      <th>2010-06-29</th>\n",
       "      <td>1.26666</td>\n",
       "      <td>1.66666</td>\n",
       "      <td>1.16934</td>\n",
       "      <td>1.59266</td>\n",
       "      <td>281749173</td>\n",
       "    </tr>\n",
       "    <tr>\n",
       "      <th>2010-06-30</th>\n",
       "      <td>1.71934</td>\n",
       "      <td>2.02794</td>\n",
       "      <td>1.55334</td>\n",
       "      <td>1.58866</td>\n",
       "      <td>257915884</td>\n",
       "    </tr>\n",
       "    <tr>\n",
       "      <th>2010-07-01</th>\n",
       "      <td>1.66666</td>\n",
       "      <td>1.72800</td>\n",
       "      <td>1.35134</td>\n",
       "      <td>1.46400</td>\n",
       "      <td>123447940</td>\n",
       "    </tr>\n",
       "    <tr>\n",
       "      <th>2010-07-02</th>\n",
       "      <td>1.53334</td>\n",
       "      <td>1.54000</td>\n",
       "      <td>1.24734</td>\n",
       "      <td>1.28000</td>\n",
       "      <td>77127102</td>\n",
       "    </tr>\n",
       "    <tr>\n",
       "      <th>2010-07-06</th>\n",
       "      <td>1.33334</td>\n",
       "      <td>1.33334</td>\n",
       "      <td>1.05534</td>\n",
       "      <td>1.07400</td>\n",
       "      <td>103189435</td>\n",
       "    </tr>\n",
       "    <tr>\n",
       "      <th>...</th>\n",
       "      <th>...</th>\n",
       "      <td>...</td>\n",
       "      <td>...</td>\n",
       "      <td>...</td>\n",
       "      <td>...</td>\n",
       "      <td>...</td>\n",
       "    </tr>\n",
       "    <tr>\n",
       "      <th rowspan=\"5\" valign=\"top\">AMZN</th>\n",
       "      <th>2024-04-09</th>\n",
       "      <td>187.24000</td>\n",
       "      <td>187.34000</td>\n",
       "      <td>184.20000</td>\n",
       "      <td>185.67000</td>\n",
       "      <td>36546953</td>\n",
       "    </tr>\n",
       "    <tr>\n",
       "      <th>2024-04-10</th>\n",
       "      <td>182.76500</td>\n",
       "      <td>186.26990</td>\n",
       "      <td>182.67000</td>\n",
       "      <td>185.95000</td>\n",
       "      <td>35879152</td>\n",
       "    </tr>\n",
       "    <tr>\n",
       "      <th>2024-04-11</th>\n",
       "      <td>186.74000</td>\n",
       "      <td>189.77000</td>\n",
       "      <td>185.51000</td>\n",
       "      <td>189.05000</td>\n",
       "      <td>40020738</td>\n",
       "    </tr>\n",
       "    <tr>\n",
       "      <th>2024-04-12</th>\n",
       "      <td>187.72000</td>\n",
       "      <td>188.38000</td>\n",
       "      <td>185.08000</td>\n",
       "      <td>186.13000</td>\n",
       "      <td>38608848</td>\n",
       "    </tr>\n",
       "    <tr>\n",
       "      <th>2024-04-15</th>\n",
       "      <td>187.42500</td>\n",
       "      <td>188.69000</td>\n",
       "      <td>183.00000</td>\n",
       "      <td>183.62000</td>\n",
       "      <td>48052395</td>\n",
       "    </tr>\n",
       "  </tbody>\n",
       "</table>\n",
       "<p>53862 rows × 5 columns</p>\n",
       "</div>"
      ],
      "text/plain": [
       "                        Open       High        Low      Close     Volume\n",
       "Ticker Date                                                             \n",
       "TSLA   2010-06-29    1.26666    1.66666    1.16934    1.59266  281749173\n",
       "       2010-06-30    1.71934    2.02794    1.55334    1.58866  257915884\n",
       "       2010-07-01    1.66666    1.72800    1.35134    1.46400  123447940\n",
       "       2010-07-02    1.53334    1.54000    1.24734    1.28000   77127102\n",
       "       2010-07-06    1.33334    1.33334    1.05534    1.07400  103189435\n",
       "...                      ...        ...        ...        ...        ...\n",
       "AMZN   2024-04-09  187.24000  187.34000  184.20000  185.67000   36546953\n",
       "       2024-04-10  182.76500  186.26990  182.67000  185.95000   35879152\n",
       "       2024-04-11  186.74000  189.77000  185.51000  189.05000   40020738\n",
       "       2024-04-12  187.72000  188.38000  185.08000  186.13000   38608848\n",
       "       2024-04-15  187.42500  188.69000  183.00000  183.62000   48052395\n",
       "\n",
       "[53862 rows x 5 columns]"
      ]
     },
     "execution_count": 12,
     "metadata": {},
     "output_type": "execute_result"
    }
   ],
   "source": [
    "df.set_index(['Ticker', 'Date'], inplace=True)\n",
    "df"
   ]
  },
  {
   "cell_type": "markdown",
   "id": "01565e19-d834-4f12-90eb-2a7d45407d8d",
   "metadata": {},
   "source": [
    "## Feature engineering"
   ]
  },
  {
   "cell_type": "markdown",
   "id": "1de4649a-8cc8-42b5-b4b8-89f8169be709",
   "metadata": {},
   "source": [
    "The target will be a binary classification. 1 means that the close price will be greater than the open price. 0 means that the close price will be smaller than the open price"
   ]
  },
  {
   "cell_type": "code",
   "execution_count": 13,
   "id": "f3a4d7b0-2d25-4970-baee-6ab38befd912",
   "metadata": {},
   "outputs": [],
   "source": [
    "## Target Variable\n",
    "df['Target'] = (df['Close'] > df['Open']).astype(int)"
   ]
  },
  {
   "cell_type": "markdown",
   "id": "986ad790-3cc1-479e-885d-ea3eea7aedc0",
   "metadata": {},
   "source": [
    "### Other indicators/features"
   ]
  },
  {
   "cell_type": "code",
   "execution_count": 14,
   "id": "9c6c36fb-7c4b-4dd4-9ec0-9165b56e5144",
   "metadata": {},
   "outputs": [],
   "source": [
    "## Time based features\n",
    "df['Day Of Week'] = df.index.get_level_values('Date').dayofweek\n",
    "df['Month'] = df.index.get_level_values('Date').month\n",
    "df['Quarter'] = df.index.get_level_values('Date').quarter"
   ]
  },
  {
   "cell_type": "code",
   "execution_count": 15,
   "id": "deca05fa-8da4-4cc1-80e3-be0e750e345b",
   "metadata": {},
   "outputs": [],
   "source": [
    "## Holiday Proximity (How many days until the next holiday)\n",
    "\n",
    "df = df.reset_index()\n",
    "df['Date'] = pd.to_datetime(df['Date'])\n",
    "\n",
    "# Function to calculate proximity to the nearest holiday\n",
    "def holiday_metrics(date):\n",
    "    \"\"\"\n",
    "    Calculate both days until next holiday and days to closest holiday.\n",
    "    \n",
    "    Args:\n",
    "        date: datetime object representing the date to check\n",
    "        \n",
    "    Returns:\n",
    "        tuple: (days_until_next, days_to_closest)\n",
    "            - days_until_next: number of days until the next upcoming holiday\n",
    "            - days_to_closest: number of days to the nearest holiday in any direction\n",
    "    \"\"\"\n",
    "    # Generate holidays for current and next year\n",
    "    us_holidays = holidays.US(years=[date.year, date.year + 1])\n",
    "    holiday_dates = pd.to_datetime(list(us_holidays.keys()))\n",
    "    \n",
    "    # For next holiday\n",
    "    future_holidays = holiday_dates[holiday_dates > date]\n",
    "    if len(future_holidays) > 0:\n",
    "        next_holiday = future_holidays.min()\n",
    "        days_until_next = (next_holiday - date).days\n",
    "    else:\n",
    "        days_until_next = np.nan\n",
    "    \n",
    "    # For closest holiday\n",
    "    if len(holiday_dates) > 0:\n",
    "        days_diff = np.abs((holiday_dates - date).days)\n",
    "        days_to_closest = np.min(days_diff)\n",
    "    else:\n",
    "        days_to_closest = np.nan\n",
    "        \n",
    "    return days_until_next, days_to_closest\n",
    "\n",
    "# Apply the function to each row\n",
    "df['Days Until Next Holiday'], df['Days To Closest Holiday'] = zip(*df['Date'].apply(holiday_metrics))\n",
    "\n",
    "# Set the index back to Ticker and Date if needed\n",
    "df.set_index(['Ticker', 'Date'], inplace=True)"
   ]
  },
  {
   "cell_type": "code",
   "execution_count": 16,
   "id": "4590b9be-e35f-46dc-83a5-5affecca63cf",
   "metadata": {},
   "outputs": [],
   "source": [
    "df['Daily Return'] = (df['Close'] - df['Open']) / df['Open']\n",
    "df['Intraday Range %'] = (df['High'] - df['Low']) / df['Open']\n",
    "df['Prev_Close'] = df.groupby('Ticker')['Close'].shift(1)\n",
    "df['Gap %'] = (df['Open'] - df['Prev_Close']) / df['Prev_Close']\n",
    "df['Volume Change %'] = df.groupby('Ticker')['Volume'].pct_change()\n",
    "df['Volume MA 5'] = df.groupby('Ticker')['Volume'].transform(lambda x: x.rolling(window=5).mean())\n",
    "df['SMA5'] = df.groupby('Ticker')['Close'].transform(lambda x: x.rolling(window=5).mean())\n",
    "df['SMA10'] = df.groupby('Ticker')['Close'].transform(lambda x: x.rolling(window=10).mean())\n",
    "df['Above SMA5'] = (df['Close'] > df['SMA5']).astype(int)\n",
    "df['Volatility 5d'] = df.groupby('Ticker')['Close'].transform(lambda x: x.rolling(window=5).std())\n",
    "df['Price Range %'] = (df['High'] - df['Low']) / df['Open']"
   ]
  },
  {
   "cell_type": "code",
   "execution_count": 17,
   "id": "f5cdabe3-bf32-403b-9e8a-062662955a24",
   "metadata": {},
   "outputs": [],
   "source": [
    "## Remove Null values\n",
    "# Fill forward for values that depend on previous data\n",
    "df['Prev_Close'] = df.groupby('Ticker')['Prev_Close'].ffill()\n",
    "df['Gap %'] = df.groupby('Ticker')['Gap %'].ffill()\n",
    "\n",
    "# Fill first row Volume Change % with 0\n",
    "df['Volume Change %'] = df['Volume Change %'].fillna(0)\n",
    "\n",
    "# Fill rolling-based values with their first available mean\n",
    "rolling_features = ['Volume MA 5', 'SMA5', 'SMA10', 'Volatility 5d']\n",
    "for feature in rolling_features:\n",
    "    df[feature] = df.groupby('Ticker')[feature].transform(lambda x: x.fillna(x.expanding().mean()))\n",
    "\n",
    "# Fill any remaining NaNs (just in case)\n",
    "df = df.fillna(0)\n"
   ]
  },
  {
   "cell_type": "markdown",
   "id": "83179083-0276-4807-8094-7efaee81975e",
   "metadata": {},
   "source": [
    "## Data Preperation"
   ]
  },
  {
   "cell_type": "markdown",
   "id": "ca7112a5-fa01-49aa-a30d-da8879546ad2",
   "metadata": {},
   "source": [
    "Keep in mind that the final day in the series should NOT have the close feature."
   ]
  },
  {
   "cell_type": "code",
   "execution_count": 18,
   "id": "b3274766-196d-46a3-bb6c-24382399b986",
   "metadata": {},
   "outputs": [],
   "source": [
    "from sklearn.preprocessing import StandardScaler, OneHotEncoder\n",
    "from sklearn.model_selection import train_test_split"
   ]
  },
  {
   "cell_type": "code",
   "execution_count": 19,
   "id": "842d8fd0-21f3-4ec5-b95b-cfb45d2a6c85",
   "metadata": {
    "scrolled": true
   },
   "outputs": [],
   "source": [
    "df = df.reset_index()\n",
    "df.drop('Date', axis=1, inplace=True)"
   ]
  },
  {
   "cell_type": "code",
   "execution_count": 20,
   "id": "2f5222b6-b603-433f-af6b-7a33857e8ea3",
   "metadata": {},
   "outputs": [],
   "source": [
    "df.replace([np.inf, -np.inf], 0, inplace=True)"
   ]
  },
  {
   "cell_type": "code",
   "execution_count": 21,
   "id": "b06a04ac-4826-4e16-9521-69125d40ebb5",
   "metadata": {},
   "outputs": [],
   "source": [
    "ticker_encoder = OneHotEncoder(handle_unknown='ignore', sparse_output=False)\n",
    "tickers_encoded = pd.DataFrame(ticker_encoder.fit_transform(df['Ticker'].values.reshape(-1, 1)),\n",
    "                               columns=ticker_encoder.get_feature_names_out())\n",
    "df = pd.concat([df, tickers_encoded], axis=1)"
   ]
  },
  {
   "cell_type": "code",
   "execution_count": 22,
   "id": "bf2682f2-3fad-49c6-b255-97bdebc29dad",
   "metadata": {},
   "outputs": [
    {
     "name": "stdout",
     "output_type": "stream",
     "text": [
      "<class 'pandas.core.frame.DataFrame'>\n",
      "RangeIndex: 53862 entries, 0 to 53861\n",
      "Data columns (total 30 columns):\n",
      " #   Column                   Non-Null Count  Dtype  \n",
      "---  ------                   --------------  -----  \n",
      " 0   Ticker                   53862 non-null  object \n",
      " 1   Open                     53862 non-null  float64\n",
      " 2   High                     53862 non-null  float64\n",
      " 3   Low                      53862 non-null  float64\n",
      " 4   Close                    53862 non-null  float64\n",
      " 5   Volume                   53862 non-null  int64  \n",
      " 6   Target                   53862 non-null  int64  \n",
      " 7   Day Of Week              53862 non-null  int32  \n",
      " 8   Month                    53862 non-null  int32  \n",
      " 9   Quarter                  53862 non-null  int32  \n",
      " 10  Days Until Next Holiday  53862 non-null  int64  \n",
      " 11  Days To Closest Holiday  53862 non-null  int64  \n",
      " 12  Daily Return             53862 non-null  float64\n",
      " 13  Intraday Range %         53862 non-null  float64\n",
      " 14  Prev_Close               53862 non-null  float64\n",
      " 15  Gap %                    53862 non-null  float64\n",
      " 16  Volume Change %          53862 non-null  float64\n",
      " 17  Volume MA 5              53862 non-null  float64\n",
      " 18  SMA5                     53862 non-null  float64\n",
      " 19  SMA10                    53862 non-null  float64\n",
      " 20  Above SMA5               53862 non-null  int64  \n",
      " 21  Volatility 5d            53862 non-null  float64\n",
      " 22  Price Range %            53862 non-null  float64\n",
      " 23  x0_AAPL                  53862 non-null  float64\n",
      " 24  x0_AMZN                  53862 non-null  float64\n",
      " 25  x0_GOOGL                 53862 non-null  float64\n",
      " 26  x0_META                  53862 non-null  float64\n",
      " 27  x0_MSFT                  53862 non-null  float64\n",
      " 28  x0_NVDA                  53862 non-null  float64\n",
      " 29  x0_TSLA                  53862 non-null  float64\n",
      "dtypes: float64(21), int32(3), int64(5), object(1)\n",
      "memory usage: 11.7+ MB\n"
     ]
    }
   ],
   "source": [
    "df.info()"
   ]
  },
  {
   "cell_type": "code",
   "execution_count": 23,
   "id": "ea598d15-a070-457e-9c5f-94c8272d2938",
   "metadata": {},
   "outputs": [],
   "source": [
    "features = [\n",
    "    \"Open\", \"High\", \"Low\", \"Close\", \"Volume\", \"Day Of Week\", \"Month\", \"Quarter\",\n",
    "    \"Days Until Next Holiday\", \"Intraday Range %\", \"Prev_Close\", \"Gap %\", \n",
    "    \"Volume Change %\", \"Volume MA 5\", \"SMA5\", \"SMA10\", \"Above SMA5\", \"Volatility 5d\", \n",
    "    \"Price Range %\", \"x0_AAPL\", \"x0_AMZN\", \"x0_GOOGL\", \"x0_META\", \n",
    "    \"x0_MSFT\", \"x0_NVDA\", \"x0_TSLA\"\n",
    "]"
   ]
  },
  {
   "cell_type": "code",
   "execution_count": 24,
   "id": "ec80170e-bc55-4b62-b2cb-2b21edab9d08",
   "metadata": {},
   "outputs": [],
   "source": [
    "X = df[features].values\n",
    "y = df['Target'].values\n",
    "\n",
    "X_train, X_test, y_train, y_test = train_test_split(X, y, test_size=0.2, random_state=42)\n",
    "X_val, X_test, y_val, y_test = train_test_split(X_test, y_test, test_size=0.5, random_state=42)\n",
    "\n",
    "scaler = StandardScaler()\n",
    "\n",
    "X_train = np.array(scaler.fit_transform(X_train))\n",
    "X_test = np.array(scaler.transform(X_test))\n",
    "X_val = np.array(scaler.transform(X_val))"
   ]
  },
  {
   "cell_type": "code",
   "execution_count": 25,
   "id": "a3fd006d-8b5a-4ccb-ad28-0c6911ebc35e",
   "metadata": {},
   "outputs": [
    {
     "name": "stderr",
     "output_type": "stream",
     "text": [
      "I0000 00:00:1740687642.761012    4429 gpu_device.cc:2022] Created device /job:localhost/replica:0/task:0/device:GPU:0 with 9637 MB memory:  -> device: 0, name: NVIDIA GeForce RTX 3060, pci bus id: 0000:01:00.0, compute capability: 8.6\n"
     ]
    }
   ],
   "source": [
    "seq_len = 10\n",
    "\n",
    "train_ds = tf.keras.utils.timeseries_dataset_from_array(\n",
    "    X_train,\n",
    "    targets=y_train,\n",
    "    sequence_length=seq_len,\n",
    "    batch_size=32,\n",
    "    shuffle=True,\n",
    "    seed=1,\n",
    ")\n",
    "\n",
    "val_ds = tf.keras.utils.timeseries_dataset_from_array(\n",
    "    X_val,\n",
    "    targets=y_val,\n",
    "    sequence_length=seq_len,\n",
    "    batch_size=32,\n",
    "    shuffle=True,\n",
    "    seed=1\n",
    ")\n",
    "\n",
    "test_ds = tf.keras.utils.timeseries_dataset_from_array(\n",
    "    X_test,\n",
    "    targets=y_test,\n",
    "    sequence_length=seq_len,\n",
    "    batch_size=32,\n",
    ")"
   ]
  },
  {
   "cell_type": "code",
   "execution_count": 26,
   "id": "00cdeee5-0c87-45d9-a6ac-502c060c683f",
   "metadata": {},
   "outputs": [
    {
     "data": {
      "text/plain": [
       "(TensorSpec(shape=(None, None, 26), dtype=tf.float64, name=None),\n",
       " TensorSpec(shape=(None,), dtype=tf.int64, name=None))"
      ]
     },
     "execution_count": 26,
     "metadata": {},
     "output_type": "execute_result"
    }
   ],
   "source": [
    "val_ds.element_spec"
   ]
  },
  {
   "cell_type": "code",
   "execution_count": 27,
   "id": "56a5d001-ea08-4fa0-a0ce-0a2a7ccf7f9a",
   "metadata": {
    "scrolled": true
   },
   "outputs": [
    {
     "name": "stdout",
     "output_type": "stream",
     "text": [
      "Shape of sequences: (32, 10, 26)\n",
      "Shape of targets: (32,)\n",
      "Sample sequence:\n",
      " [[-0.33260559 -0.33327206 -0.33212507 -0.3328067  -0.38861426 -1.44404995\n",
      "   0.13277207  0.43492695  0.60176155 -0.21531634 -0.33278794 -0.04423498\n",
      "  -0.41101388 -0.28578973 -0.33286689 -0.33288663  0.92901368 -0.18824827\n",
      "  -0.21531634 -0.49023275 -0.57977104 -0.31595321 -0.23985106  2.22557046\n",
      "  -0.35646831 -0.38446803]\n",
      " [ 0.67093416  0.66134262  0.67717614  0.66841725 -0.58559339 -0.01479376\n",
      "  -0.74177813 -0.46115068  0.51691019 -0.89241225  0.67287692 -0.10298987\n",
      "  -0.38457864 -0.63863407  0.66901144  0.6592559   0.92901368 -0.11554585\n",
      "  -0.89241225 -0.49023275  1.72481883 -0.31595321 -0.23985106 -0.449323\n",
      "  -0.35646831 -0.38446803]\n",
      " [-0.119634   -0.11704187 -0.11826725 -0.11449531 -0.55179967  1.41446243\n",
      "  -0.15874466 -0.46115068 -0.88313728  0.13342216 -0.11883641 -0.22375812\n",
      "   0.1024824  -0.6083795  -0.12339911 -0.12045708  0.92901368 -0.01627521\n",
      "   0.13342216 -0.49023275  1.72481883 -0.31595321 -0.23985106 -0.449323\n",
      "  -0.35646831 -0.38446803]\n",
      " [ 0.13193773  0.12619682  0.13549854  0.13020242 -0.55528044  0.69983434\n",
      "  -0.74177813 -0.46115068  0.77146427 -1.0072152   0.1310848   0.07194668\n",
      "  -0.44882105 -0.58997574  0.12839509  0.12255134  0.92901368 -0.0998366\n",
      "  -1.0072152  -0.49023275 -0.57977104 -0.31595321  4.16925403 -0.449323\n",
      "  -0.35646831 -0.38446803]\n",
      " [-0.32852507 -0.32909085 -0.32799088 -0.32857555 -0.4850297   0.69983434\n",
      "   0.71580555  0.43492695 -0.11947503  0.09196792 -0.32875416  0.45983222\n",
      "   0.21846237 -0.55233406 -0.3288049  -0.32884639  0.92901368 -0.18422785\n",
      "   0.09196792 -0.49023275 -0.57977104 -0.31595321 -0.23985106 -0.449323\n",
      "  -0.35646831  2.60099652]\n",
      " [-0.3331781  -0.33384903 -0.3326931  -0.33339249 -0.53617635 -1.44404995\n",
      "  -0.4502614  -0.46115068 -0.58615751 -1.13784232 -0.33335515 -0.92255985\n",
      "   0.45130873 -0.57994522 -0.33344266 -0.33347452 -1.07641042 -0.1883616\n",
      "  -1.13784232  2.03984739 -0.57977104 -0.31595321 -0.23985106 -0.449323\n",
      "  -0.35646831 -0.38446803]\n",
      " [-0.3250936  -0.3258195  -0.3248275  -0.32546316  0.14813753 -1.44404995\n",
      "   0.13277207  0.43492695  0.89874131  0.40724466 -0.32573868  2.86412364\n",
      "   2.42272961 -0.1710458  -0.32574464 -0.32576459  0.92901368 -0.184388\n",
      "   0.40724466 -0.49023275 -0.57977104 -0.31595321 -0.23985106  2.22557046\n",
      "  -0.35646831 -0.38446803]\n",
      " [-0.24628158 -0.24796396 -0.24598395 -0.24685371 -0.3201562  -0.01479376\n",
      "   0.42428881  0.43492695  0.21993042 -0.69681135 -0.24718173  0.40909022\n",
      "  -0.17064564 -0.32651057 -0.24732424 -0.2456634   0.92901368 -0.17257226\n",
      "  -0.69681135 -0.49023275 -0.57977104 -0.31595321 -0.23985106  2.22557046\n",
      "  -0.35646831 -0.38446803]\n",
      " [ 0.07639557  0.10271421  0.07983259  0.10856302 -0.31595431 -0.01479376\n",
      "   1.29883902  1.33100458 -0.11947503  2.03471759  0.07507337  0.13819303\n",
      "   0.87342029 -0.46049706  0.09084931  0.08394737  0.92901368  0.16482663\n",
      "   2.03471759 -0.49023275 -0.57977104 -0.31595321 -0.23985106 -0.449323\n",
      "   2.80529846 -0.38446803]\n",
      " [-0.29133507 -0.2913793  -0.29088903 -0.2915255   0.22887873  1.41446243\n",
      "   0.71580555  0.43492695 -0.45888047  0.30917665 -0.29141674 -0.1172403\n",
      "  -0.19514306  0.15902355 -0.29269408 -0.29197072  0.92901368 -0.14761998\n",
      "   0.30917665 -0.49023275 -0.57977104 -0.31595321 -0.23985106 -0.449323\n",
      "  -0.35646831  2.60099652]]\n",
      "Sample target:\n",
      " 1\n"
     ]
    },
    {
     "name": "stderr",
     "output_type": "stream",
     "text": [
      "2025-02-27 14:20:43.725048: I tensorflow/core/framework/local_rendezvous.cc:405] Local rendezvous is aborting with status: OUT_OF_RANGE: End of sequence\n"
     ]
    }
   ],
   "source": [
    "for batch in val_ds.take(1):  # Take just one batch for inspection\n",
    "    sequences, targets = batch\n",
    "    print(\"Shape of sequences:\", sequences.shape)\n",
    "    print(\"Shape of targets:\", targets.shape)\n",
    "    print(\"Sample sequence:\\n\", sequences.numpy()[0])  # Print the first sequence in the batch\n",
    "    print(\"Sample target:\\n\", targets.numpy()[0])      # Print the first target in the batch"
   ]
  },
  {
   "cell_type": "markdown",
   "id": "bfad298f-1f88-46b7-90e8-26bb42bcdbd3",
   "metadata": {},
   "source": [
    "## Model "
   ]
  },
  {
   "cell_type": "code",
   "execution_count": 28,
   "id": "058777ba-ceaa-4219-89ef-747f726a3640",
   "metadata": {
    "scrolled": true
   },
   "outputs": [
    {
     "name": "stdout",
     "output_type": "stream",
     "text": [
      "Epoch 1/100\n"
     ]
    },
    {
     "name": "stderr",
     "output_type": "stream",
     "text": [
      "WARNING: All log messages before absl::InitializeLog() is called are written to STDERR\n",
      "I0000 00:00:1740687644.717800    4567 service.cc:148] XLA service 0x7190a0017390 initialized for platform CUDA (this does not guarantee that XLA will be used). Devices:\n",
      "I0000 00:00:1740687644.717952    4567 service.cc:156]   StreamExecutor device (0): NVIDIA GeForce RTX 3060, Compute Capability 8.6\n",
      "2025-02-27 14:20:44.750175: I tensorflow/compiler/mlir/tensorflow/utils/dump_mlir_util.cc:268] disabling MLIR crash reproducer, set env var `MLIR_CRASH_REPRODUCER_DIRECTORY` to enable.\n",
      "I0000 00:00:1740687644.822895    4567 cuda_dnn.cc:529] Loaded cuDNN version 90300\n"
     ]
    },
    {
     "name": "stdout",
     "output_type": "stream",
     "text": [
      "\u001b[1m  90/1347\u001b[0m \u001b[32m━\u001b[0m\u001b[37m━━━━━━━━━━━━━━━━━━━\u001b[0m \u001b[1m1s\u001b[0m 1ms/step - accuracy: 0.4994 - loss: 0.7984"
     ]
    },
    {
     "name": "stderr",
     "output_type": "stream",
     "text": [
      "I0000 00:00:1740687645.088742    4567 device_compiler.h:188] Compiled cluster using XLA!  This line is logged at most once for the lifetime of the process.\n"
     ]
    },
    {
     "name": "stdout",
     "output_type": "stream",
     "text": [
      "\u001b[1m1347/1347\u001b[0m \u001b[32m━━━━━━━━━━━━━━━━━━━━\u001b[0m\u001b[37m\u001b[0m \u001b[1m4s\u001b[0m 2ms/step - accuracy: 0.5007 - loss: 0.7366 - val_accuracy: 0.5077 - val_loss: 0.6995\n",
      "Epoch 2/100\n",
      "\u001b[1m1347/1347\u001b[0m \u001b[32m━━━━━━━━━━━━━━━━━━━━\u001b[0m\u001b[37m\u001b[0m \u001b[1m3s\u001b[0m 2ms/step - accuracy: 0.5055 - loss: 0.6986 - val_accuracy: 0.5099 - val_loss: 0.6970\n",
      "Epoch 3/100\n",
      "\u001b[1m1347/1347\u001b[0m \u001b[32m━━━━━━━━━━━━━━━━━━━━\u001b[0m\u001b[37m\u001b[0m \u001b[1m2s\u001b[0m 2ms/step - accuracy: 0.5072 - loss: 0.6958 - val_accuracy: 0.5085 - val_loss: 0.6959\n",
      "Epoch 4/100\n",
      "\u001b[1m1347/1347\u001b[0m \u001b[32m━━━━━━━━━━━━━━━━━━━━\u001b[0m\u001b[37m\u001b[0m \u001b[1m2s\u001b[0m 1ms/step - accuracy: 0.5108 - loss: 0.6943 - val_accuracy: 0.5139 - val_loss: 0.6951\n",
      "Epoch 5/100\n",
      "\u001b[1m1347/1347\u001b[0m \u001b[32m━━━━━━━━━━━━━━━━━━━━\u001b[0m\u001b[37m\u001b[0m \u001b[1m2s\u001b[0m 1ms/step - accuracy: 0.5168 - loss: 0.6934 - val_accuracy: 0.5126 - val_loss: 0.6947\n",
      "Epoch 6/100\n",
      "\u001b[1m1347/1347\u001b[0m \u001b[32m━━━━━━━━━━━━━━━━━━━━\u001b[0m\u001b[37m\u001b[0m \u001b[1m2s\u001b[0m 1ms/step - accuracy: 0.5170 - loss: 0.6927 - val_accuracy: 0.5155 - val_loss: 0.6944\n",
      "Epoch 7/100\n",
      "\u001b[1m1347/1347\u001b[0m \u001b[32m━━━━━━━━━━━━━━━━━━━━\u001b[0m\u001b[37m\u001b[0m \u001b[1m2s\u001b[0m 1ms/step - accuracy: 0.5211 - loss: 0.6921 - val_accuracy: 0.5165 - val_loss: 0.6941\n",
      "Epoch 8/100\n",
      "\u001b[1m1347/1347\u001b[0m \u001b[32m━━━━━━━━━━━━━━━━━━━━\u001b[0m\u001b[37m\u001b[0m \u001b[1m2s\u001b[0m 1ms/step - accuracy: 0.5228 - loss: 0.6916 - val_accuracy: 0.5170 - val_loss: 0.6938\n",
      "Epoch 9/100\n",
      "\u001b[1m1347/1347\u001b[0m \u001b[32m━━━━━━━━━━━━━━━━━━━━\u001b[0m\u001b[37m\u001b[0m \u001b[1m2s\u001b[0m 1ms/step - accuracy: 0.5247 - loss: 0.6912 - val_accuracy: 0.5178 - val_loss: 0.6935\n",
      "Epoch 10/100\n",
      "\u001b[1m1347/1347\u001b[0m \u001b[32m━━━━━━━━━━━━━━━━━━━━\u001b[0m\u001b[37m\u001b[0m \u001b[1m2s\u001b[0m 1ms/step - accuracy: 0.5272 - loss: 0.6907 - val_accuracy: 0.5155 - val_loss: 0.6931\n",
      "Epoch 11/100\n",
      "\u001b[1m1347/1347\u001b[0m \u001b[32m━━━━━━━━━━━━━━━━━━━━\u001b[0m\u001b[37m\u001b[0m \u001b[1m2s\u001b[0m 2ms/step - accuracy: 0.5316 - loss: 0.6899 - val_accuracy: 0.5192 - val_loss: 0.6923\n",
      "Epoch 12/100\n",
      "\u001b[1m1347/1347\u001b[0m \u001b[32m━━━━━━━━━━━━━━━━━━━━\u001b[0m\u001b[37m\u001b[0m \u001b[1m2s\u001b[0m 1ms/step - accuracy: 0.5370 - loss: 0.6884 - val_accuracy: 0.5295 - val_loss: 0.6894\n",
      "Epoch 13/100\n",
      "\u001b[1m1347/1347\u001b[0m \u001b[32m━━━━━━━━━━━━━━━━━━━━\u001b[0m\u001b[37m\u001b[0m \u001b[1m2s\u001b[0m 1ms/step - accuracy: 0.5569 - loss: 0.6832 - val_accuracy: 0.6042 - val_loss: 0.6659\n",
      "Epoch 14/100\n",
      "\u001b[1m1347/1347\u001b[0m \u001b[32m━━━━━━━━━━━━━━━━━━━━\u001b[0m\u001b[37m\u001b[0m \u001b[1m2s\u001b[0m 1ms/step - accuracy: 0.6324 - loss: 0.6500 - val_accuracy: 0.6807 - val_loss: 0.6166\n",
      "Epoch 15/100\n",
      "\u001b[1m1347/1347\u001b[0m \u001b[32m━━━━━━━━━━━━━━━━━━━━\u001b[0m\u001b[37m\u001b[0m \u001b[1m2s\u001b[0m 1ms/step - accuracy: 0.6914 - loss: 0.6143 - val_accuracy: 0.6998 - val_loss: 0.6069\n",
      "Epoch 16/100\n",
      "\u001b[1m1347/1347\u001b[0m \u001b[32m━━━━━━━━━━━━━━━━━━━━\u001b[0m\u001b[37m\u001b[0m \u001b[1m2s\u001b[0m 1ms/step - accuracy: 0.6997 - loss: 0.6077 - val_accuracy: 0.7049 - val_loss: 0.6032\n",
      "Epoch 17/100\n",
      "\u001b[1m1347/1347\u001b[0m \u001b[32m━━━━━━━━━━━━━━━━━━━━\u001b[0m\u001b[37m\u001b[0m \u001b[1m2s\u001b[0m 1ms/step - accuracy: 0.7035 - loss: 0.6043 - val_accuracy: 0.7034 - val_loss: 0.6026\n",
      "Epoch 18/100\n",
      "\u001b[1m1347/1347\u001b[0m \u001b[32m━━━━━━━━━━━━━━━━━━━━\u001b[0m\u001b[37m\u001b[0m \u001b[1m2s\u001b[0m 1ms/step - accuracy: 0.7042 - loss: 0.6034 - val_accuracy: 0.7045 - val_loss: 0.6027\n",
      "Epoch 19/100\n",
      "\u001b[1m1347/1347\u001b[0m \u001b[32m━━━━━━━━━━━━━━━━━━━━\u001b[0m\u001b[37m\u001b[0m \u001b[1m2s\u001b[0m 1ms/step - accuracy: 0.7046 - loss: 0.6024 - val_accuracy: 0.7054 - val_loss: 0.6020\n",
      "Epoch 20/100\n",
      "\u001b[1m1347/1347\u001b[0m \u001b[32m━━━━━━━━━━━━━━━━━━━━\u001b[0m\u001b[37m\u001b[0m \u001b[1m2s\u001b[0m 1ms/step - accuracy: 0.7065 - loss: 0.6014 - val_accuracy: 0.7069 - val_loss: 0.6027\n",
      "Epoch 21/100\n",
      "\u001b[1m1347/1347\u001b[0m \u001b[32m━━━━━━━━━━━━━━━━━━━━\u001b[0m\u001b[37m\u001b[0m \u001b[1m2s\u001b[0m 1ms/step - accuracy: 0.7055 - loss: 0.6012 - val_accuracy: 0.7054 - val_loss: 0.6021\n",
      "Epoch 22/100\n",
      "\u001b[1m1347/1347\u001b[0m \u001b[32m━━━━━━━━━━━━━━━━━━━━\u001b[0m\u001b[37m\u001b[0m \u001b[1m2s\u001b[0m 1ms/step - accuracy: 0.7069 - loss: 0.6001 - val_accuracy: 0.7047 - val_loss: 0.6032\n",
      "Epoch 23/100\n",
      "\u001b[1m1347/1347\u001b[0m \u001b[32m━━━━━━━━━━━━━━━━━━━━\u001b[0m\u001b[37m\u001b[0m \u001b[1m2s\u001b[0m 1ms/step - accuracy: 0.7060 - loss: 0.6014 - val_accuracy: 0.7069 - val_loss: 0.6013\n",
      "Epoch 24/100\n",
      "\u001b[1m1347/1347\u001b[0m \u001b[32m━━━━━━━━━━━━━━━━━━━━\u001b[0m\u001b[37m\u001b[0m \u001b[1m2s\u001b[0m 2ms/step - accuracy: 0.7079 - loss: 0.5992 - val_accuracy: 0.7050 - val_loss: 0.6028\n",
      "Epoch 25/100\n",
      "\u001b[1m1347/1347\u001b[0m \u001b[32m━━━━━━━━━━━━━━━━━━━━\u001b[0m\u001b[37m\u001b[0m \u001b[1m2s\u001b[0m 1ms/step - accuracy: 0.7078 - loss: 0.5989 - val_accuracy: 0.7086 - val_loss: 0.6015\n",
      "Epoch 26/100\n",
      "\u001b[1m1347/1347\u001b[0m \u001b[32m━━━━━━━━━━━━━━━━━━━━\u001b[0m\u001b[37m\u001b[0m \u001b[1m2s\u001b[0m 1ms/step - accuracy: 0.7076 - loss: 0.5987 - val_accuracy: 0.7076 - val_loss: 0.6004\n",
      "Epoch 27/100\n",
      "\u001b[1m1347/1347\u001b[0m \u001b[32m━━━━━━━━━━━━━━━━━━━━\u001b[0m\u001b[37m\u001b[0m \u001b[1m2s\u001b[0m 1ms/step - accuracy: 0.7080 - loss: 0.5980 - val_accuracy: 0.7065 - val_loss: 0.6032\n",
      "Epoch 28/100\n",
      "\u001b[1m1347/1347\u001b[0m \u001b[32m━━━━━━━━━━━━━━━━━━━━\u001b[0m\u001b[37m\u001b[0m \u001b[1m2s\u001b[0m 1ms/step - accuracy: 0.7084 - loss: 0.5984 - val_accuracy: 0.7071 - val_loss: 0.6010\n",
      "Epoch 29/100\n",
      "\u001b[1m1347/1347\u001b[0m \u001b[32m━━━━━━━━━━━━━━━━━━━━\u001b[0m\u001b[37m\u001b[0m \u001b[1m2s\u001b[0m 1ms/step - accuracy: 0.7092 - loss: 0.5972 - val_accuracy: 0.7071 - val_loss: 0.6029\n",
      "Epoch 30/100\n",
      "\u001b[1m1347/1347\u001b[0m \u001b[32m━━━━━━━━━━━━━━━━━━━━\u001b[0m\u001b[37m\u001b[0m \u001b[1m2s\u001b[0m 1ms/step - accuracy: 0.7073 - loss: 0.5976 - val_accuracy: 0.7082 - val_loss: 0.5994\n",
      "Epoch 31/100\n",
      "\u001b[1m1347/1347\u001b[0m \u001b[32m━━━━━━━━━━━━━━━━━━━━\u001b[0m\u001b[37m\u001b[0m \u001b[1m2s\u001b[0m 1ms/step - accuracy: 0.7093 - loss: 0.5962 - val_accuracy: 0.7019 - val_loss: 0.6068\n",
      "Epoch 32/100\n",
      "\u001b[1m1347/1347\u001b[0m \u001b[32m━━━━━━━━━━━━━━━━━━━━\u001b[0m\u001b[37m\u001b[0m \u001b[1m2s\u001b[0m 1ms/step - accuracy: 0.7058 - loss: 0.5990 - val_accuracy: 0.7084 - val_loss: 0.6003\n",
      "Epoch 33/100\n",
      "\u001b[1m1347/1347\u001b[0m \u001b[32m━━━━━━━━━━━━━━━━━━━━\u001b[0m\u001b[37m\u001b[0m \u001b[1m2s\u001b[0m 1ms/step - accuracy: 0.7100 - loss: 0.5949 - val_accuracy: 0.7073 - val_loss: 0.6004\n",
      "Epoch 34/100\n",
      "\u001b[1m1347/1347\u001b[0m \u001b[32m━━━━━━━━━━━━━━━━━━━━\u001b[0m\u001b[37m\u001b[0m \u001b[1m2s\u001b[0m 1ms/step - accuracy: 0.7104 - loss: 0.5952 - val_accuracy: 0.7060 - val_loss: 0.6014\n",
      "Epoch 35/100\n",
      "\u001b[1m1347/1347\u001b[0m \u001b[32m━━━━━━━━━━━━━━━━━━━━\u001b[0m\u001b[37m\u001b[0m \u001b[1m2s\u001b[0m 1ms/step - accuracy: 0.7096 - loss: 0.5965 - val_accuracy: 0.7063 - val_loss: 0.6018\n",
      "Epoch 36/100\n",
      "\u001b[1m1347/1347\u001b[0m \u001b[32m━━━━━━━━━━━━━━━━━━━━\u001b[0m\u001b[37m\u001b[0m \u001b[1m2s\u001b[0m 1ms/step - accuracy: 0.7096 - loss: 0.5958 - val_accuracy: 0.7086 - val_loss: 0.5987\n",
      "Epoch 37/100\n",
      "\u001b[1m1347/1347\u001b[0m \u001b[32m━━━━━━━━━━━━━━━━━━━━\u001b[0m\u001b[37m\u001b[0m \u001b[1m2s\u001b[0m 1ms/step - accuracy: 0.7101 - loss: 0.5942 - val_accuracy: 0.7089 - val_loss: 0.6003\n",
      "Epoch 38/100\n",
      "\u001b[1m1347/1347\u001b[0m \u001b[32m━━━━━━━━━━━━━━━━━━━━\u001b[0m\u001b[37m\u001b[0m \u001b[1m2s\u001b[0m 1ms/step - accuracy: 0.7076 - loss: 0.5959 - val_accuracy: 0.7095 - val_loss: 0.5986\n",
      "Epoch 39/100\n",
      "\u001b[1m1347/1347\u001b[0m \u001b[32m━━━━━━━━━━━━━━━━━━━━\u001b[0m\u001b[37m\u001b[0m \u001b[1m2s\u001b[0m 1ms/step - accuracy: 0.7098 - loss: 0.5937 - val_accuracy: 0.7110 - val_loss: 0.5980\n",
      "Epoch 40/100\n",
      "\u001b[1m1347/1347\u001b[0m \u001b[32m━━━━━━━━━━━━━━━━━━━━\u001b[0m\u001b[37m\u001b[0m \u001b[1m2s\u001b[0m 1ms/step - accuracy: 0.7092 - loss: 0.5950 - val_accuracy: 0.7101 - val_loss: 0.5984\n",
      "Epoch 41/100\n",
      "\u001b[1m1347/1347\u001b[0m \u001b[32m━━━━━━━━━━━━━━━━━━━━\u001b[0m\u001b[37m\u001b[0m \u001b[1m2s\u001b[0m 1ms/step - accuracy: 0.7121 - loss: 0.5927 - val_accuracy: 0.7086 - val_loss: 0.5983\n",
      "Epoch 42/100\n",
      "\u001b[1m1347/1347\u001b[0m \u001b[32m━━━━━━━━━━━━━━━━━━━━\u001b[0m\u001b[37m\u001b[0m \u001b[1m2s\u001b[0m 1ms/step - accuracy: 0.7110 - loss: 0.5922 - val_accuracy: 0.7076 - val_loss: 0.5981\n",
      "Epoch 43/100\n",
      "\u001b[1m1347/1347\u001b[0m \u001b[32m━━━━━━━━━━━━━━━━━━━━\u001b[0m\u001b[37m\u001b[0m \u001b[1m2s\u001b[0m 1ms/step - accuracy: 0.7093 - loss: 0.5932 - val_accuracy: 0.7073 - val_loss: 0.5971\n",
      "Epoch 44/100\n",
      "\u001b[1m1347/1347\u001b[0m \u001b[32m━━━━━━━━━━━━━━━━━━━━\u001b[0m\u001b[37m\u001b[0m \u001b[1m2s\u001b[0m 1ms/step - accuracy: 0.7111 - loss: 0.5925 - val_accuracy: 0.7093 - val_loss: 0.5970\n",
      "Epoch 45/100\n",
      "\u001b[1m1347/1347\u001b[0m \u001b[32m━━━━━━━━━━━━━━━━━━━━\u001b[0m\u001b[37m\u001b[0m \u001b[1m2s\u001b[0m 1ms/step - accuracy: 0.7113 - loss: 0.5916 - val_accuracy: 0.7067 - val_loss: 0.5982\n",
      "Epoch 46/100\n",
      "\u001b[1m1347/1347\u001b[0m \u001b[32m━━━━━━━━━━━━━━━━━━━━\u001b[0m\u001b[37m\u001b[0m \u001b[1m2s\u001b[0m 1ms/step - accuracy: 0.7104 - loss: 0.5909 - val_accuracy: 0.7080 - val_loss: 0.5977\n",
      "Epoch 47/100\n",
      "\u001b[1m1347/1347\u001b[0m \u001b[32m━━━━━━━━━━━━━━━━━━━━\u001b[0m\u001b[37m\u001b[0m \u001b[1m2s\u001b[0m 1ms/step - accuracy: 0.7100 - loss: 0.5910 - val_accuracy: 0.7101 - val_loss: 0.5988\n",
      "Epoch 48/100\n",
      "\u001b[1m1347/1347\u001b[0m \u001b[32m━━━━━━━━━━━━━━━━━━━━\u001b[0m\u001b[37m\u001b[0m \u001b[1m2s\u001b[0m 1ms/step - accuracy: 0.7104 - loss: 0.5899 - val_accuracy: 0.7047 - val_loss: 0.5992\n",
      "Epoch 49/100\n",
      "\u001b[1m1347/1347\u001b[0m \u001b[32m━━━━━━━━━━━━━━━━━━━━\u001b[0m\u001b[37m\u001b[0m \u001b[1m2s\u001b[0m 1ms/step - accuracy: 0.7101 - loss: 0.5913 - val_accuracy: 0.7073 - val_loss: 0.5983\n",
      "Epoch 50/100\n",
      "\u001b[1m1347/1347\u001b[0m \u001b[32m━━━━━━━━━━━━━━━━━━━━\u001b[0m\u001b[37m\u001b[0m \u001b[1m2s\u001b[0m 1ms/step - accuracy: 0.7115 - loss: 0.5904 - val_accuracy: 0.7119 - val_loss: 0.5969\n",
      "Epoch 51/100\n",
      "\u001b[1m1347/1347\u001b[0m \u001b[32m━━━━━━━━━━━━━━━━━━━━\u001b[0m\u001b[37m\u001b[0m \u001b[1m2s\u001b[0m 1ms/step - accuracy: 0.7106 - loss: 0.5901 - val_accuracy: 0.7106 - val_loss: 0.5950\n",
      "Epoch 52/100\n",
      "\u001b[1m1347/1347\u001b[0m \u001b[32m━━━━━━━━━━━━━━━━━━━━\u001b[0m\u001b[37m\u001b[0m \u001b[1m2s\u001b[0m 1ms/step - accuracy: 0.7109 - loss: 0.5896 - val_accuracy: 0.7073 - val_loss: 0.5979\n",
      "Epoch 53/100\n",
      "\u001b[1m1347/1347\u001b[0m \u001b[32m━━━━━━━━━━━━━━━━━━━━\u001b[0m\u001b[37m\u001b[0m \u001b[1m2s\u001b[0m 1ms/step - accuracy: 0.7115 - loss: 0.5885 - val_accuracy: 0.7080 - val_loss: 0.5969\n",
      "Epoch 54/100\n",
      "\u001b[1m1347/1347\u001b[0m \u001b[32m━━━━━━━━━━━━━━━━━━━━\u001b[0m\u001b[37m\u001b[0m \u001b[1m2s\u001b[0m 1ms/step - accuracy: 0.7125 - loss: 0.5891 - val_accuracy: 0.7125 - val_loss: 0.5946\n",
      "Epoch 55/100\n",
      "\u001b[1m1347/1347\u001b[0m \u001b[32m━━━━━━━━━━━━━━━━━━━━\u001b[0m\u001b[37m\u001b[0m \u001b[1m2s\u001b[0m 1ms/step - accuracy: 0.7121 - loss: 0.5880 - val_accuracy: 0.7102 - val_loss: 0.5949\n",
      "Epoch 56/100\n",
      "\u001b[1m1347/1347\u001b[0m \u001b[32m━━━━━━━━━━━━━━━━━━━━\u001b[0m\u001b[37m\u001b[0m \u001b[1m2s\u001b[0m 1ms/step - accuracy: 0.7131 - loss: 0.5863 - val_accuracy: 0.7099 - val_loss: 0.5931\n",
      "Epoch 57/100\n",
      "\u001b[1m1347/1347\u001b[0m \u001b[32m━━━━━━━━━━━━━━━━━━━━\u001b[0m\u001b[37m\u001b[0m \u001b[1m2s\u001b[0m 1ms/step - accuracy: 0.7115 - loss: 0.5883 - val_accuracy: 0.7136 - val_loss: 0.5933\n",
      "Epoch 58/100\n",
      "\u001b[1m1347/1347\u001b[0m \u001b[32m━━━━━━━━━━━━━━━━━━━━\u001b[0m\u001b[37m\u001b[0m \u001b[1m2s\u001b[0m 1ms/step - accuracy: 0.7113 - loss: 0.5875 - val_accuracy: 0.7063 - val_loss: 0.5978\n",
      "Epoch 59/100\n",
      "\u001b[1m1347/1347\u001b[0m \u001b[32m━━━━━━━━━━━━━━━━━━━━\u001b[0m\u001b[37m\u001b[0m \u001b[1m2s\u001b[0m 1ms/step - accuracy: 0.7091 - loss: 0.5879 - val_accuracy: 0.7039 - val_loss: 0.5977\n",
      "Epoch 60/100\n",
      "\u001b[1m1347/1347\u001b[0m \u001b[32m━━━━━━━━━━━━━━━━━━━━\u001b[0m\u001b[37m\u001b[0m \u001b[1m2s\u001b[0m 1ms/step - accuracy: 0.7112 - loss: 0.5864 - val_accuracy: 0.7106 - val_loss: 0.5943\n",
      "Epoch 61/100\n",
      "\u001b[1m1347/1347\u001b[0m \u001b[32m━━━━━━━━━━━━━━━━━━━━\u001b[0m\u001b[37m\u001b[0m \u001b[1m2s\u001b[0m 1ms/step - accuracy: 0.7134 - loss: 0.5873 - val_accuracy: 0.7082 - val_loss: 0.5930\n",
      "Epoch 62/100\n",
      "\u001b[1m1347/1347\u001b[0m \u001b[32m━━━━━━━━━━━━━━━━━━━━\u001b[0m\u001b[37m\u001b[0m \u001b[1m2s\u001b[0m 1ms/step - accuracy: 0.7133 - loss: 0.5865 - val_accuracy: 0.7084 - val_loss: 0.5943\n",
      "Epoch 63/100\n",
      "\u001b[1m1347/1347\u001b[0m \u001b[32m━━━━━━━━━━━━━━━━━━━━\u001b[0m\u001b[37m\u001b[0m \u001b[1m2s\u001b[0m 1ms/step - accuracy: 0.7119 - loss: 0.5852 - val_accuracy: 0.7099 - val_loss: 0.5943\n",
      "Epoch 64/100\n",
      "\u001b[1m1347/1347\u001b[0m \u001b[32m━━━━━━━━━━━━━━━━━━━━\u001b[0m\u001b[37m\u001b[0m \u001b[1m2s\u001b[0m 1ms/step - accuracy: 0.7110 - loss: 0.5848 - val_accuracy: 0.7136 - val_loss: 0.5890\n",
      "Epoch 65/100\n",
      "\u001b[1m1347/1347\u001b[0m \u001b[32m━━━━━━━━━━━━━━━━━━━━\u001b[0m\u001b[37m\u001b[0m \u001b[1m2s\u001b[0m 1ms/step - accuracy: 0.7117 - loss: 0.5837 - val_accuracy: 0.7101 - val_loss: 0.5893\n",
      "Epoch 66/100\n",
      "\u001b[1m1347/1347\u001b[0m \u001b[32m━━━━━━━━━━━━━━━━━━━━\u001b[0m\u001b[37m\u001b[0m \u001b[1m2s\u001b[0m 1ms/step - accuracy: 0.7121 - loss: 0.5845 - val_accuracy: 0.7143 - val_loss: 0.5915\n",
      "Epoch 67/100\n",
      "\u001b[1m1347/1347\u001b[0m \u001b[32m━━━━━━━━━━━━━━━━━━━━\u001b[0m\u001b[37m\u001b[0m \u001b[1m2s\u001b[0m 1ms/step - accuracy: 0.7111 - loss: 0.5835 - val_accuracy: 0.7073 - val_loss: 0.5954\n",
      "Epoch 68/100\n",
      "\u001b[1m1347/1347\u001b[0m \u001b[32m━━━━━━━━━━━━━━━━━━━━\u001b[0m\u001b[37m\u001b[0m \u001b[1m2s\u001b[0m 1ms/step - accuracy: 0.7102 - loss: 0.5842 - val_accuracy: 0.7153 - val_loss: 0.5876\n",
      "Epoch 69/100\n",
      "\u001b[1m1347/1347\u001b[0m \u001b[32m━━━━━━━━━━━━━━━━━━━━\u001b[0m\u001b[37m\u001b[0m \u001b[1m2s\u001b[0m 1ms/step - accuracy: 0.7110 - loss: 0.5830 - val_accuracy: 0.7104 - val_loss: 0.5937\n",
      "Epoch 70/100\n",
      "\u001b[1m1347/1347\u001b[0m \u001b[32m━━━━━━━━━━━━━━━━━━━━\u001b[0m\u001b[37m\u001b[0m \u001b[1m2s\u001b[0m 1ms/step - accuracy: 0.7104 - loss: 0.5828 - val_accuracy: 0.7108 - val_loss: 0.5896\n",
      "Epoch 71/100\n",
      "\u001b[1m1347/1347\u001b[0m \u001b[32m━━━━━━━━━━━━━━━━━━━━\u001b[0m\u001b[37m\u001b[0m \u001b[1m2s\u001b[0m 1ms/step - accuracy: 0.7129 - loss: 0.5813 - val_accuracy: 0.7155 - val_loss: 0.5857\n",
      "Epoch 72/100\n",
      "\u001b[1m1347/1347\u001b[0m \u001b[32m━━━━━━━━━━━━━━━━━━━━\u001b[0m\u001b[37m\u001b[0m \u001b[1m2s\u001b[0m 1ms/step - accuracy: 0.7114 - loss: 0.5804 - val_accuracy: 0.7097 - val_loss: 0.5906\n",
      "Epoch 73/100\n",
      "\u001b[1m1347/1347\u001b[0m \u001b[32m━━━━━━━━━━━━━━━━━━━━\u001b[0m\u001b[37m\u001b[0m \u001b[1m2s\u001b[0m 1ms/step - accuracy: 0.7101 - loss: 0.5807 - val_accuracy: 0.7054 - val_loss: 0.5913\n",
      "Epoch 74/100\n",
      "\u001b[1m1347/1347\u001b[0m \u001b[32m━━━━━━━━━━━━━━━━━━━━\u001b[0m\u001b[37m\u001b[0m \u001b[1m2s\u001b[0m 1ms/step - accuracy: 0.7097 - loss: 0.5833 - val_accuracy: 0.7138 - val_loss: 0.5835\n",
      "Epoch 75/100\n",
      "\u001b[1m1347/1347\u001b[0m \u001b[32m━━━━━━━━━━━━━━━━━━━━\u001b[0m\u001b[37m\u001b[0m \u001b[1m2s\u001b[0m 1ms/step - accuracy: 0.7127 - loss: 0.5774 - val_accuracy: 0.7050 - val_loss: 0.5873\n",
      "Epoch 76/100\n",
      "\u001b[1m1347/1347\u001b[0m \u001b[32m━━━━━━━━━━━━━━━━━━━━\u001b[0m\u001b[37m\u001b[0m \u001b[1m2s\u001b[0m 1ms/step - accuracy: 0.7096 - loss: 0.5796 - val_accuracy: 0.7102 - val_loss: 0.5855\n",
      "Epoch 77/100\n",
      "\u001b[1m1347/1347\u001b[0m \u001b[32m━━━━━━━━━━━━━━━━━━━━\u001b[0m\u001b[37m\u001b[0m \u001b[1m2s\u001b[0m 1ms/step - accuracy: 0.7119 - loss: 0.5762 - val_accuracy: 0.7112 - val_loss: 0.5886\n",
      "Epoch 78/100\n",
      "\u001b[1m1347/1347\u001b[0m \u001b[32m━━━━━━━━━━━━━━━━━━━━\u001b[0m\u001b[37m\u001b[0m \u001b[1m2s\u001b[0m 1ms/step - accuracy: 0.7120 - loss: 0.5766 - val_accuracy: 0.7093 - val_loss: 0.5852\n",
      "Epoch 79/100\n",
      "\u001b[1m1347/1347\u001b[0m \u001b[32m━━━━━━━━━━━━━━━━━━━━\u001b[0m\u001b[37m\u001b[0m \u001b[1m2s\u001b[0m 1ms/step - accuracy: 0.7118 - loss: 0.5755 - val_accuracy: 0.7102 - val_loss: 0.5849\n",
      "Epoch 80/100\n",
      "\u001b[1m1347/1347\u001b[0m \u001b[32m━━━━━━━━━━━━━━━━━━━━\u001b[0m\u001b[37m\u001b[0m \u001b[1m2s\u001b[0m 1ms/step - accuracy: 0.7092 - loss: 0.5795 - val_accuracy: 0.7112 - val_loss: 0.5808\n",
      "Epoch 81/100\n",
      "\u001b[1m1347/1347\u001b[0m \u001b[32m━━━━━━━━━━━━━━━━━━━━\u001b[0m\u001b[37m\u001b[0m \u001b[1m2s\u001b[0m 1ms/step - accuracy: 0.7133 - loss: 0.5743 - val_accuracy: 0.7086 - val_loss: 0.5849\n",
      "Epoch 82/100\n",
      "\u001b[1m1347/1347\u001b[0m \u001b[32m━━━━━━━━━━━━━━━━━━━━\u001b[0m\u001b[37m\u001b[0m \u001b[1m2s\u001b[0m 1ms/step - accuracy: 0.7126 - loss: 0.5742 - val_accuracy: 0.7115 - val_loss: 0.5811\n",
      "Epoch 83/100\n",
      "\u001b[1m1347/1347\u001b[0m \u001b[32m━━━━━━━━━━━━━━━━━━━━\u001b[0m\u001b[37m\u001b[0m \u001b[1m2s\u001b[0m 1ms/step - accuracy: 0.7124 - loss: 0.5733 - val_accuracy: 0.7108 - val_loss: 0.5812\n",
      "Epoch 84/100\n",
      "\u001b[1m1347/1347\u001b[0m \u001b[32m━━━━━━━━━━━━━━━━━━━━\u001b[0m\u001b[37m\u001b[0m \u001b[1m2s\u001b[0m 1ms/step - accuracy: 0.7122 - loss: 0.5723 - val_accuracy: 0.7119 - val_loss: 0.5808\n",
      "Epoch 85/100\n",
      "\u001b[1m1347/1347\u001b[0m \u001b[32m━━━━━━━━━━━━━━━━━━━━\u001b[0m\u001b[37m\u001b[0m \u001b[1m2s\u001b[0m 1ms/step - accuracy: 0.7135 - loss: 0.5712 - val_accuracy: 0.6983 - val_loss: 0.5936\n",
      "Epoch 86/100\n",
      "\u001b[1m1347/1347\u001b[0m \u001b[32m━━━━━━━━━━━━━━━━━━━━\u001b[0m\u001b[37m\u001b[0m \u001b[1m2s\u001b[0m 1ms/step - accuracy: 0.7086 - loss: 0.5767 - val_accuracy: 0.7097 - val_loss: 0.5796\n",
      "Epoch 87/100\n",
      "\u001b[1m1347/1347\u001b[0m \u001b[32m━━━━━━━━━━━━━━━━━━━━\u001b[0m\u001b[37m\u001b[0m \u001b[1m2s\u001b[0m 1ms/step - accuracy: 0.7114 - loss: 0.5714 - val_accuracy: 0.7095 - val_loss: 0.5817\n",
      "Epoch 88/100\n",
      "\u001b[1m1347/1347\u001b[0m \u001b[32m━━━━━━━━━━━━━━━━━━━━\u001b[0m\u001b[37m\u001b[0m \u001b[1m2s\u001b[0m 1ms/step - accuracy: 0.7115 - loss: 0.5743 - val_accuracy: 0.7060 - val_loss: 0.5866\n",
      "Epoch 89/100\n",
      "\u001b[1m1347/1347\u001b[0m \u001b[32m━━━━━━━━━━━━━━━━━━━━\u001b[0m\u001b[37m\u001b[0m \u001b[1m2s\u001b[0m 1ms/step - accuracy: 0.7123 - loss: 0.5717 - val_accuracy: 0.7089 - val_loss: 0.5843\n",
      "Epoch 90/100\n",
      "\u001b[1m1347/1347\u001b[0m \u001b[32m━━━━━━━━━━━━━━━━━━━━\u001b[0m\u001b[37m\u001b[0m \u001b[1m2s\u001b[0m 1ms/step - accuracy: 0.7138 - loss: 0.5687 - val_accuracy: 0.7110 - val_loss: 0.5778\n",
      "Epoch 91/100\n",
      "\u001b[1m1347/1347\u001b[0m \u001b[32m━━━━━━━━━━━━━━━━━━━━\u001b[0m\u001b[37m\u001b[0m \u001b[1m2s\u001b[0m 1ms/step - accuracy: 0.7138 - loss: 0.5677 - val_accuracy: 0.7102 - val_loss: 0.5811\n",
      "Epoch 92/100\n",
      "\u001b[1m1347/1347\u001b[0m \u001b[32m━━━━━━━━━━━━━━━━━━━━\u001b[0m\u001b[37m\u001b[0m \u001b[1m2s\u001b[0m 1ms/step - accuracy: 0.7108 - loss: 0.5704 - val_accuracy: 0.7132 - val_loss: 0.5765\n",
      "Epoch 93/100\n",
      "\u001b[1m1347/1347\u001b[0m \u001b[32m━━━━━━━━━━━━━━━━━━━━\u001b[0m\u001b[37m\u001b[0m \u001b[1m2s\u001b[0m 1ms/step - accuracy: 0.7144 - loss: 0.5662 - val_accuracy: 0.7125 - val_loss: 0.5756\n",
      "Epoch 94/100\n",
      "\u001b[1m1347/1347\u001b[0m \u001b[32m━━━━━━━━━━━━━━━━━━━━\u001b[0m\u001b[37m\u001b[0m \u001b[1m2s\u001b[0m 1ms/step - accuracy: 0.7127 - loss: 0.5659 - val_accuracy: 0.7000 - val_loss: 0.5855\n",
      "Epoch 95/100\n",
      "\u001b[1m1347/1347\u001b[0m \u001b[32m━━━━━━━━━━━━━━━━━━━━\u001b[0m\u001b[37m\u001b[0m \u001b[1m2s\u001b[0m 1ms/step - accuracy: 0.7128 - loss: 0.5680 - val_accuracy: 0.7080 - val_loss: 0.5811\n",
      "Epoch 96/100\n",
      "\u001b[1m1347/1347\u001b[0m \u001b[32m━━━━━━━━━━━━━━━━━━━━\u001b[0m\u001b[37m\u001b[0m \u001b[1m2s\u001b[0m 1ms/step - accuracy: 0.7156 - loss: 0.5639 - val_accuracy: 0.7110 - val_loss: 0.5755\n"
     ]
    }
   ],
   "source": [
    "basic_rnn = tf.keras.Sequential([\n",
    "    tf.keras.layers.Input((10, 26)),\n",
    "    tf.keras.layers.SimpleRNN(32),\n",
    "    tf.keras.layers.Dense(1, activation='sigmoid')\n",
    "])\n",
    "\n",
    "early_stop = tf.keras.callbacks.EarlyStopping(monitor='val_accuracy', patience=25, restore_best_weights=True)\n",
    "\n",
    "opt = tf.keras.optimizers.SGD(learning_rate=0.001, momentum=0.9)\n",
    "basic_rnn.compile(loss=tf.keras.losses.BinaryCrossentropy(), optimizer=opt, metrics=['accuracy'])\n",
    "history = basic_rnn.fit(train_ds, validation_data=val_ds, epochs=100, callbacks=[early_stop])"
   ]
  },
  {
   "cell_type": "code",
   "execution_count": 29,
   "id": "0dfbf26e-26e1-4b31-b09e-73feef9db7e9",
   "metadata": {},
   "outputs": [
    {
     "name": "stdout",
     "output_type": "stream",
     "text": [
      "\u001b[1m169/169\u001b[0m \u001b[32m━━━━━━━━━━━━━━━━━━━━\u001b[0m\u001b[37m\u001b[0m \u001b[1m0s\u001b[0m 2ms/step - accuracy: 0.7175 - loss: 0.5824 \n",
      "71.68% Accuracy\n"
     ]
    }
   ],
   "source": [
    "test_loss, test_acc = basic_rnn.evaluate(test_ds)\n",
    "print(f\"{round(test_acc * 100, 2)}% Accuracy\")"
   ]
  },
  {
   "cell_type": "code",
   "execution_count": 30,
   "id": "e1018b4e-1093-46ad-9e3f-d30f4029b647",
   "metadata": {
    "scrolled": true
   },
   "outputs": [
    {
     "name": "stdout",
     "output_type": "stream",
     "text": [
      "Epoch 1/100\n",
      "\u001b[1m1347/1347\u001b[0m \u001b[32m━━━━━━━━━━━━━━━━━━━━\u001b[0m\u001b[37m\u001b[0m \u001b[1m7s\u001b[0m 4ms/step - accuracy: 0.5512 - loss: 0.6897 - val_accuracy: 0.6937 - val_loss: 0.6187\n",
      "Epoch 2/100\n",
      "\u001b[1m1347/1347\u001b[0m \u001b[32m━━━━━━━━━━━━━━━━━━━━\u001b[0m\u001b[37m\u001b[0m \u001b[1m6s\u001b[0m 4ms/step - accuracy: 0.6974 - loss: 0.6111 - val_accuracy: 0.7071 - val_loss: 0.6012\n",
      "Epoch 3/100\n",
      "\u001b[1m1347/1347\u001b[0m \u001b[32m━━━━━━━━━━━━━━━━━━━━\u001b[0m\u001b[37m\u001b[0m \u001b[1m6s\u001b[0m 4ms/step - accuracy: 0.7064 - loss: 0.5978 - val_accuracy: 0.7073 - val_loss: 0.5955\n",
      "Epoch 4/100\n",
      "\u001b[1m1347/1347\u001b[0m \u001b[32m━━━━━━━━━━━━━━━━━━━━\u001b[0m\u001b[37m\u001b[0m \u001b[1m6s\u001b[0m 4ms/step - accuracy: 0.7082 - loss: 0.5907 - val_accuracy: 0.7089 - val_loss: 0.5914\n",
      "Epoch 5/100\n",
      "\u001b[1m1347/1347\u001b[0m \u001b[32m━━━━━━━━━━━━━━━━━━━━\u001b[0m\u001b[37m\u001b[0m \u001b[1m6s\u001b[0m 4ms/step - accuracy: 0.7096 - loss: 0.5854 - val_accuracy: 0.7088 - val_loss: 0.5882\n",
      "Epoch 6/100\n",
      "\u001b[1m1347/1347\u001b[0m \u001b[32m━━━━━━━━━━━━━━━━━━━━\u001b[0m\u001b[37m\u001b[0m \u001b[1m6s\u001b[0m 4ms/step - accuracy: 0.7107 - loss: 0.5812 - val_accuracy: 0.7101 - val_loss: 0.5857\n",
      "Epoch 7/100\n",
      "\u001b[1m1347/1347\u001b[0m \u001b[32m━━━━━━━━━━━━━━━━━━━━\u001b[0m\u001b[37m\u001b[0m \u001b[1m6s\u001b[0m 4ms/step - accuracy: 0.7118 - loss: 0.5776 - val_accuracy: 0.7093 - val_loss: 0.5838\n",
      "Epoch 8/100\n",
      "\u001b[1m1347/1347\u001b[0m \u001b[32m━━━━━━━━━━━━━━━━━━━━\u001b[0m\u001b[37m\u001b[0m \u001b[1m6s\u001b[0m 4ms/step - accuracy: 0.7116 - loss: 0.5741 - val_accuracy: 0.7089 - val_loss: 0.5818\n",
      "Epoch 9/100\n",
      "\u001b[1m1347/1347\u001b[0m \u001b[32m━━━━━━━━━━━━━━━━━━━━\u001b[0m\u001b[37m\u001b[0m \u001b[1m6s\u001b[0m 4ms/step - accuracy: 0.7124 - loss: 0.5715 - val_accuracy: 0.7082 - val_loss: 0.5803\n",
      "Epoch 10/100\n",
      "\u001b[1m1347/1347\u001b[0m \u001b[32m━━━━━━━━━━━━━━━━━━━━\u001b[0m\u001b[37m\u001b[0m \u001b[1m6s\u001b[0m 4ms/step - accuracy: 0.7140 - loss: 0.5684 - val_accuracy: 0.7095 - val_loss: 0.5792\n",
      "Epoch 11/100\n",
      "\u001b[1m1347/1347\u001b[0m \u001b[32m━━━━━━━━━━━━━━━━━━━━\u001b[0m\u001b[37m\u001b[0m \u001b[1m6s\u001b[0m 4ms/step - accuracy: 0.7144 - loss: 0.5655 - val_accuracy: 0.7114 - val_loss: 0.5780\n",
      "Epoch 12/100\n",
      "\u001b[1m1347/1347\u001b[0m \u001b[32m━━━━━━━━━━━━━━━━━━━━\u001b[0m\u001b[37m\u001b[0m \u001b[1m6s\u001b[0m 4ms/step - accuracy: 0.7146 - loss: 0.5641 - val_accuracy: 0.7117 - val_loss: 0.5769\n",
      "Epoch 13/100\n",
      "\u001b[1m1347/1347\u001b[0m \u001b[32m━━━━━━━━━━━━━━━━━━━━\u001b[0m\u001b[37m\u001b[0m \u001b[1m6s\u001b[0m 4ms/step - accuracy: 0.7170 - loss: 0.5613 - val_accuracy: 0.7112 - val_loss: 0.5766\n",
      "Epoch 14/100\n",
      "\u001b[1m1347/1347\u001b[0m \u001b[32m━━━━━━━━━━━━━━━━━━━━\u001b[0m\u001b[37m\u001b[0m \u001b[1m6s\u001b[0m 4ms/step - accuracy: 0.7169 - loss: 0.5600 - val_accuracy: 0.7130 - val_loss: 0.5757\n",
      "Epoch 15/100\n",
      "\u001b[1m1347/1347\u001b[0m \u001b[32m━━━━━━━━━━━━━━━━━━━━\u001b[0m\u001b[37m\u001b[0m \u001b[1m6s\u001b[0m 4ms/step - accuracy: 0.7170 - loss: 0.5578 - val_accuracy: 0.7129 - val_loss: 0.5748\n",
      "Epoch 16/100\n",
      "\u001b[1m1347/1347\u001b[0m \u001b[32m━━━━━━━━━━━━━━━━━━━━\u001b[0m\u001b[37m\u001b[0m \u001b[1m6s\u001b[0m 4ms/step - accuracy: 0.7186 - loss: 0.5561 - val_accuracy: 0.7123 - val_loss: 0.5745\n",
      "Epoch 17/100\n",
      "\u001b[1m1347/1347\u001b[0m \u001b[32m━━━━━━━━━━━━━━━━━━━━\u001b[0m\u001b[37m\u001b[0m \u001b[1m6s\u001b[0m 4ms/step - accuracy: 0.7209 - loss: 0.5547 - val_accuracy: 0.7117 - val_loss: 0.5753\n",
      "Epoch 18/100\n",
      "\u001b[1m1347/1347\u001b[0m \u001b[32m━━━━━━━━━━━━━━━━━━━━\u001b[0m\u001b[37m\u001b[0m \u001b[1m6s\u001b[0m 4ms/step - accuracy: 0.7185 - loss: 0.5538 - val_accuracy: 0.7101 - val_loss: 0.5739\n",
      "Epoch 19/100\n",
      "\u001b[1m1347/1347\u001b[0m \u001b[32m━━━━━━━━━━━━━━━━━━━━\u001b[0m\u001b[37m\u001b[0m \u001b[1m6s\u001b[0m 4ms/step - accuracy: 0.7220 - loss: 0.5518 - val_accuracy: 0.7115 - val_loss: 0.5750\n",
      "Epoch 20/100\n",
      "\u001b[1m1347/1347\u001b[0m \u001b[32m━━━━━━━━━━━━━━━━━━━━\u001b[0m\u001b[37m\u001b[0m \u001b[1m6s\u001b[0m 4ms/step - accuracy: 0.7219 - loss: 0.5517 - val_accuracy: 0.7112 - val_loss: 0.5744\n",
      "Epoch 21/100\n",
      "\u001b[1m1347/1347\u001b[0m \u001b[32m━━━━━━━━━━━━━━━━━━━━\u001b[0m\u001b[37m\u001b[0m \u001b[1m6s\u001b[0m 4ms/step - accuracy: 0.7230 - loss: 0.5490 - val_accuracy: 0.7097 - val_loss: 0.5738\n",
      "Epoch 22/100\n",
      "\u001b[1m1347/1347\u001b[0m \u001b[32m━━━━━━━━━━━━━━━━━━━━\u001b[0m\u001b[37m\u001b[0m \u001b[1m6s\u001b[0m 4ms/step - accuracy: 0.7229 - loss: 0.5481 - val_accuracy: 0.7125 - val_loss: 0.5742\n",
      "Epoch 23/100\n",
      "\u001b[1m1347/1347\u001b[0m \u001b[32m━━━━━━━━━━━━━━━━━━━━\u001b[0m\u001b[37m\u001b[0m \u001b[1m6s\u001b[0m 4ms/step - accuracy: 0.7229 - loss: 0.5472 - val_accuracy: 0.7101 - val_loss: 0.5733\n",
      "Epoch 24/100\n",
      "\u001b[1m1347/1347\u001b[0m \u001b[32m━━━━━━━━━━━━━━━━━━━━\u001b[0m\u001b[37m\u001b[0m \u001b[1m6s\u001b[0m 4ms/step - accuracy: 0.7246 - loss: 0.5468 - val_accuracy: 0.7112 - val_loss: 0.5738\n"
     ]
    }
   ],
   "source": [
    "deep_rnn = tf.keras.Sequential([\n",
    "    tf.keras.layers.Input((10, 26)),\n",
    "    tf.keras.layers.Conv1D(filters=64, kernel_size=2, strides=2, activation='relu'),\n",
    "    tf.keras.layers.GRU(32, return_sequences=True),\n",
    "    tf.keras.layers.SimpleRNN(32),\n",
    "    tf.keras.layers.Dense(1, activation='sigmoid')\n",
    "])\n",
    "\n",
    "early_stop = tf.keras.callbacks.EarlyStopping(monitor='val_accuracy', patience=10, restore_best_weights=True)\n",
    "\n",
    "opt = tf.keras.optimizers.SGD(learning_rate=0.001, momentum=0.9)\n",
    "deep_rnn.compile(loss=tf.keras.losses.BinaryCrossentropy(), optimizer=opt, metrics=['accuracy'])\n",
    "history = deep_rnn.fit(train_ds, validation_data=val_ds, epochs=100, callbacks=[early_stop])"
   ]
  },
  {
   "cell_type": "code",
   "execution_count": 31,
   "id": "b34d72c0-fc98-4f70-8a1c-693cf944676d",
   "metadata": {},
   "outputs": [
    {
     "data": {
      "text/plain": [
       "<Axes: >"
      ]
     },
     "execution_count": 31,
     "metadata": {},
     "output_type": "execute_result"
    },
    {
     "data": {
      "image/png": "[encoded data removed]",
      "text/plain": [
       "<Figure size 640x480 with 1 Axes>"
      ]
     },
     "metadata": {},
     "output_type": "display_data"
    }
   ],
   "source": [
    "pd.DataFrame(history.history).plot()"
   ]
  },
  {
   "cell_type": "code",
   "execution_count": 32,
   "id": "a9d350e8-7d55-4b37-bb40-4f2aa4f2f2d5",
   "metadata": {},
   "outputs": [
    {
     "name": "stdout",
     "output_type": "stream",
     "text": [
      "Epoch 1/50\n",
      "\u001b[1m1347/1347\u001b[0m \u001b[32m━━━━━━━━━━━━━━━━━━━━\u001b[0m\u001b[37m\u001b[0m \u001b[1m7s\u001b[0m 4ms/step - accuracy: 0.7185 - loss: 0.5562 - val_accuracy: 0.7119 - val_loss: 0.5751\n",
      "Epoch 2/50\n",
      "\u001b[1m1347/1347\u001b[0m \u001b[32m━━━━━━━━━━━━━━━━━━━━\u001b[0m\u001b[37m\u001b[0m \u001b[1m6s\u001b[0m 4ms/step - accuracy: 0.7194 - loss: 0.5550 - val_accuracy: 0.7129 - val_loss: 0.5750\n",
      "Epoch 3/50\n",
      "\u001b[1m1347/1347\u001b[0m \u001b[32m━━━━━━━━━━━━━━━━━━━━\u001b[0m\u001b[37m\u001b[0m \u001b[1m6s\u001b[0m 4ms/step - accuracy: 0.7201 - loss: 0.5552 - val_accuracy: 0.7121 - val_loss: 0.5750\n",
      "Epoch 4/50\n",
      "\u001b[1m1347/1347\u001b[0m \u001b[32m━━━━━━━━━━━━━━━━━━━━\u001b[0m\u001b[37m\u001b[0m \u001b[1m6s\u001b[0m 4ms/step - accuracy: 0.7202 - loss: 0.5547 - val_accuracy: 0.7115 - val_loss: 0.5750\n",
      "Epoch 5/50\n",
      "\u001b[1m1347/1347\u001b[0m \u001b[32m━━━━━━━━━━━━━━━━━━━━\u001b[0m\u001b[37m\u001b[0m \u001b[1m6s\u001b[0m 4ms/step - accuracy: 0.7200 - loss: 0.5545 - val_accuracy: 0.7115 - val_loss: 0.5750\n",
      "Epoch 6/50\n",
      "\u001b[1m1347/1347\u001b[0m \u001b[32m━━━━━━━━━━━━━━━━━━━━\u001b[0m\u001b[37m\u001b[0m \u001b[1m6s\u001b[0m 4ms/step - accuracy: 0.7204 - loss: 0.5544 - val_accuracy: 0.7121 - val_loss: 0.5750\n",
      "Epoch 7/50\n",
      "\u001b[1m1347/1347\u001b[0m \u001b[32m━━━━━━━━━━━━━━━━━━━━\u001b[0m\u001b[37m\u001b[0m \u001b[1m6s\u001b[0m 4ms/step - accuracy: 0.7207 - loss: 0.5542 - val_accuracy: 0.7121 - val_loss: 0.5750\n",
      "Epoch 8/50\n",
      "\u001b[1m1347/1347\u001b[0m \u001b[32m━━━━━━━━━━━━━━━━━━━━\u001b[0m\u001b[37m\u001b[0m \u001b[1m6s\u001b[0m 4ms/step - accuracy: 0.7208 - loss: 0.5537 - val_accuracy: 0.7119 - val_loss: 0.5750\n",
      "Epoch 9/50\n",
      "\u001b[1m1347/1347\u001b[0m \u001b[32m━━━━━━━━━━━━━━━━━━━━\u001b[0m\u001b[37m\u001b[0m \u001b[1m6s\u001b[0m 4ms/step - accuracy: 0.7209 - loss: 0.5540 - val_accuracy: 0.7123 - val_loss: 0.5750\n",
      "Epoch 10/50\n",
      "\u001b[1m1347/1347\u001b[0m \u001b[32m━━━━━━━━━━━━━━━━━━━━\u001b[0m\u001b[37m\u001b[0m \u001b[1m6s\u001b[0m 4ms/step - accuracy: 0.7203 - loss: 0.5543 - val_accuracy: 0.7127 - val_loss: 0.5750\n",
      "Epoch 11/50\n",
      "\u001b[1m1347/1347\u001b[0m \u001b[32m━━━━━━━━━━━━━━━━━━━━\u001b[0m\u001b[37m\u001b[0m \u001b[1m6s\u001b[0m 4ms/step - accuracy: 0.7205 - loss: 0.5540 - val_accuracy: 0.7125 - val_loss: 0.5749\n",
      "Epoch 12/50\n",
      "\u001b[1m1347/1347\u001b[0m \u001b[32m━━━━━━━━━━━━━━━━━━━━\u001b[0m\u001b[37m\u001b[0m \u001b[1m6s\u001b[0m 4ms/step - accuracy: 0.7206 - loss: 0.5538 - val_accuracy: 0.7119 - val_loss: 0.5749\n"
     ]
    }
   ],
   "source": [
    "early_stop = tf.keras.callbacks.EarlyStopping(monitor='val_accuracy', patience=10, restore_best_weights=True)\n",
    "\n",
    "opt = tf.keras.optimizers.SGD(learning_rate=0.00001, momentum=0.9)\n",
    "deep_rnn.compile(loss=tf.keras.losses.BinaryCrossentropy(), optimizer=opt, metrics=['accuracy'])\n",
    "history = deep_rnn.fit(train_ds, validation_data=val_ds, epochs=50, callbacks=[early_stop])"
   ]
  },
  {
   "cell_type": "code",
   "execution_count": 33,
   "id": "1ce46f95-b6bd-43ed-8117-989640a683b3",
   "metadata": {},
   "outputs": [
    {
     "data": {
      "text/plain": [
       "<Axes: >"
      ]
     },
     "execution_count": 33,
     "metadata": {},
     "output_type": "execute_result"
    },
    {
     "data": {
      "image/png": "[encoded data removed]",
      "text/plain": [
       "<Figure size 640x480 with 1 Axes>"
      ]
     },
     "metadata": {},
     "output_type": "display_data"
    }
   ],
   "source": [
    "pd.DataFrame(history.history).plot()"
   ]
  },
  {
   "cell_type": "markdown",
   "id": "36711b24-2df5-43c2-a4d8-91de2069cb8c",
   "metadata": {},
   "source": [
    "### Fine Tune Model"
   ]
  },
  {
   "cell_type": "code",
   "execution_count": 34,
   "id": "a8483df9-2137-450c-8289-1dd1fda67290",
   "metadata": {},
   "outputs": [],
   "source": [
    "import keras_tuner as kt"
   ]
  },
  {
   "cell_type": "code",
   "execution_count": null,
   "id": "8fa50c47-8002-42bc-94df-6b53897a7a12",
   "metadata": {},
   "outputs": [],
   "source": [
    "def build_model(hp: kt.HyperParameters):\n",
    "    ## Hyperparameters\n",
    "    num_rnn_layers = hp.Int('n_rnn_layers', min_value=1, max_value=5)\n",
    "    n_neurons = hp.Int()\n",
    "\n",
    "    ## Model"
   ]
  }
 ],
 "metadata": {
  "kernelspec": {
   "display_name": "Python 3 (ipykernel)",
   "language": "python",
   "name": "python3"
  },
  "language_info": {
   "codemirror_mode": {
    "name": "ipython",
    "version": 3
   },
   "file_extension": ".py",
   "mimetype": "text/x-python",
   "name": "python",
   "nbconvert_exporter": "python",
   "pygments_lexer": "ipython3",
   "version": "3.12.3"
  }
 },
 "nbformat": 4,
 "nbformat_minor": 5
}
