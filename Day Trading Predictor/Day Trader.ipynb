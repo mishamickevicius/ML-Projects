{
 "cells": [
  {
   "cell_type": "code",
   "execution_count": 1,
   "id": "b8cac174-9690-49bb-8ee2-2ace947e07e3",
   "metadata": {},
   "outputs": [
    {
     "name": "stdout",
     "output_type": "stream",
     "text": [
      "Warning: Your Kaggle API key is readable by other users on this system! To fix this, you can run 'chmod 600 /home/misha/.kaggle/kaggle.json'\n"
     ]
    },
    {
     "name": "stderr",
     "output_type": "stream",
     "text": [
      "2025-03-01 10:49:16.355890: I tensorflow/core/util/port.cc:153] oneDNN custom operations are on. You may see slightly different numerical results due to floating-point round-off errors from different computation orders. To turn them off, set the environment variable `TF_ENABLE_ONEDNN_OPTS=0`.\n",
      "2025-03-01 10:49:16.518108: E external/local_xla/xla/stream_executor/cuda/cuda_fft.cc:477] Unable to register cuFFT factory: Attempting to register factory for plugin cuFFT when one has already been registered\n",
      "WARNING: All log messages before absl::InitializeLog() is called are written to STDERR\n",
      "E0000 00:00:1740847756.569993    4728 cuda_dnn.cc:8310] Unable to register cuDNN factory: Attempting to register factory for plugin cuDNN when one has already been registered\n",
      "E0000 00:00:1740847756.584252    4728 cuda_blas.cc:1418] Unable to register cuBLAS factory: Attempting to register factory for plugin cuBLAS when one has already been registered\n",
      "2025-03-01 10:49:16.713877: I tensorflow/core/platform/cpu_feature_guard.cc:210] This TensorFlow binary is optimized to use available CPU instructions in performance-critical operations.\n",
      "To enable the following instructions: AVX2 AVX512F AVX512_VNNI FMA, in other operations, rebuild TensorFlow with the appropriate compiler flags.\n"
     ]
    }
   ],
   "source": [
    "import numpy as np\n",
    "import pandas as pd\n",
    "import plotly.express as px\n",
    "import kaggle\n",
    "import os\n",
    "import holidays\n",
    "import tensorflow as tf"
   ]
  },
  {
   "cell_type": "markdown",
   "id": "b7909ee4-2b37-49fb-9470-8a6fe6f9bc88",
   "metadata": {},
   "source": [
    "# Model Plan:\n",
    "- Find a api for real time stock data\n",
    "- Find a api for real time news\n",
    "- Feature engineer features\n",
    "- Build Multi-modal model for day trading.\n",
    "- First branch of model will be Time Series analysis model that will take the real time stock data as a sequence\n",
    "- Second branch of model will be a text classifier/sentiment analysis model that can take the real time news\n",
    "- Combine the two branches to make the multi-modal model\n",
    "\n",
    "# Agent Plan:\n",
    "- Use same apis to get input data (This is how agent recieves input)\n",
    "- Use LLM with function calling to helper function and to run the model (Thinking part)\n",
    "- Have the agent output the result or make the trade itself using the api (The action/goal achieving part)\n"
   ]
  },
  {
   "cell_type": "markdown",
   "id": "c49ce748-1316-4a3e-a1b0-dc4a739ba630",
   "metadata": {},
   "source": [
    "## Data Collection"
   ]
  },
  {
   "cell_type": "code",
   "execution_count": 2,
   "id": "b50cc0c9-6793-4de7-ae59-8c8907147a3d",
   "metadata": {},
   "outputs": [],
   "source": [
    "# datasets = [\n",
    "#     \"varpit94/apple-stock-data-updated-till-22jun2021\",\n",
    "#     \"prajwaldongre/nvidia-corp-share-price-2000-2024\",\n",
    "#     \"varpit94/microsoft-stock-data\",\n",
    "#     \"guillemservera/amzn-stock-data\",\n",
    "#     \"henryshan/meta-platforms-inc-meta\",\n",
    "#     \"henryshan/google-stock-price\",\n",
    "#     \"guillemservera/tsla-stock-data\"\n",
    "# ]\n",
    "# for dataset in datasets: \n",
    "#     kaggle.api.dataset_download_files(dataset, path='/home/misha/Desktop/data/day_trader/', unzip=True)"
   ]
  },
  {
   "cell_type": "code",
   "execution_count": 3,
   "id": "fca7f0e4-0552-4301-b049-6bb9570db298",
   "metadata": {},
   "outputs": [],
   "source": [
    "df = pd.DataFrame()\n",
    "for file in os.listdir('/home/misha/Desktop/data/day_trader/'):\n",
    "    data = pd.read_csv('/home/misha/Desktop/data/day_trader/' + file)\n",
    "    data['filename'] = file\n",
    "    data.columns = [col.strip().title() for col in data.columns]\n",
    "    df = pd.concat([df, data], axis=0, ignore_index=True)"
   ]
  },
  {
   "cell_type": "code",
   "execution_count": 4,
   "id": "1623740e-ea3d-42e4-926d-231e67cb9092",
   "metadata": {},
   "outputs": [
    {
     "name": "stdout",
     "output_type": "stream",
     "text": [
      "<class 'pandas.core.frame.DataFrame'>\n",
      "RangeIndex: 53862 entries, 0 to 53861\n",
      "Data columns (total 12 columns):\n",
      " #   Column          Non-Null Count  Dtype  \n",
      "---  ------          --------------  -----  \n",
      " 0   Date            53862 non-null  object \n",
      " 1   Open            53862 non-null  float64\n",
      " 2   High            53862 non-null  float64\n",
      " 3   Low             53862 non-null  float64\n",
      " 4   Close           53862 non-null  float64\n",
      " 5   Volume          53862 non-null  int64  \n",
      " 6   Raw_Close       10245 non-null  float64\n",
      " 7   Change_Percent  20486 non-null  float64\n",
      " 8   Avg_Vol_20D     20414 non-null  float64\n",
      " 9   Filename        53862 non-null  object \n",
      " 10  Adj Close       33372 non-null  float64\n",
      " 11  Adjusted_Close  10245 non-null  float64\n",
      "dtypes: float64(9), int64(1), object(2)\n",
      "memory usage: 4.9+ MB\n"
     ]
    }
   ],
   "source": [
    "df.info()"
   ]
  },
  {
   "cell_type": "code",
   "execution_count": 5,
   "id": "9528ade2-241e-42ac-a407-22251b448610",
   "metadata": {},
   "outputs": [],
   "source": [
    "df.drop(['Raw_Close', 'Change_Percent', 'Avg_Vol_20D', 'Adjusted_Close', 'Adj Close'], axis=1, inplace=True)"
   ]
  },
  {
   "cell_type": "code",
   "execution_count": 6,
   "id": "55c7fe5f-8587-4140-bba1-760a5a41c380",
   "metadata": {},
   "outputs": [
    {
     "name": "stdout",
     "output_type": "stream",
     "text": [
      "<class 'pandas.core.frame.DataFrame'>\n",
      "RangeIndex: 53862 entries, 0 to 53861\n",
      "Data columns (total 7 columns):\n",
      " #   Column    Non-Null Count  Dtype  \n",
      "---  ------    --------------  -----  \n",
      " 0   Date      53862 non-null  object \n",
      " 1   Open      53862 non-null  float64\n",
      " 2   High      53862 non-null  float64\n",
      " 3   Low       53862 non-null  float64\n",
      " 4   Close     53862 non-null  float64\n",
      " 5   Volume    53862 non-null  int64  \n",
      " 6   Filename  53862 non-null  object \n",
      "dtypes: float64(4), int64(1), object(2)\n",
      "memory usage: 2.9+ MB\n"
     ]
    }
   ],
   "source": [
    "df.info()"
   ]
  },
  {
   "cell_type": "code",
   "execution_count": 7,
   "id": "5a81c072-1af7-4152-abc0-ad1a2b397e18",
   "metadata": {},
   "outputs": [
    {
     "data": {
      "text/plain": [
       "Date        0\n",
       "Open        0\n",
       "High        0\n",
       "Low         0\n",
       "Close       0\n",
       "Volume      0\n",
       "Filename    0\n",
       "dtype: int64"
      ]
     },
     "execution_count": 7,
     "metadata": {},
     "output_type": "execute_result"
    }
   ],
   "source": [
    "df.isna().sum()"
   ]
  },
  {
   "cell_type": "code",
   "execution_count": 8,
   "id": "da9ab595-a503-461a-9c19-efc979d7e90b",
   "metadata": {},
   "outputs": [],
   "source": [
    "filename_to_ticker_map = {\n",
    "    'tsla_split_adjusted.csv':'TSLA',\n",
    "    'MSFT.csv':'MSFT',\n",
    "    'tsla_raw_data.csv':'TSLA',\n",
    "    'AAPL.csv':'AAPL',\n",
    "    'META.csv':'META',\n",
    "    'NVDA.csv':'NVDA',\n",
    "    'GOOG.csv':'GOOGL',\n",
    "    'amzn_split_adjusted.csv':'AMZN',\n",
    "    'amzn_raw_data.csv':'AMZN'\n",
    "}"
   ]
  },
  {
   "cell_type": "code",
   "execution_count": 9,
   "id": "bd55e9e2-ad8b-4477-9837-b260c6e2b07d",
   "metadata": {},
   "outputs": [],
   "source": [
    "df['Ticker'] = df['Filename'].apply(lambda x: filename_to_ticker_map[x])\n",
    "df.drop('Filename', axis=1, inplace=True)"
   ]
  },
  {
   "cell_type": "code",
   "execution_count": 10,
   "id": "04a65d96-000d-430b-be8c-49b446344865",
   "metadata": {},
   "outputs": [],
   "source": [
    "df['Date'] = pd.to_datetime(df['Date'])"
   ]
  },
  {
   "cell_type": "code",
   "execution_count": 11,
   "id": "4e20f72c-c346-4fb9-b374-8f9fc3d929bd",
   "metadata": {},
   "outputs": [
    {
     "data": {
      "text/plain": [
       "Ticker\n",
       "AMZN     13546\n",
       "AAPL     10409\n",
       "MSFT      9083\n",
       "TSLA      6944\n",
       "NVDA      6116\n",
       "GOOGL     4858\n",
       "META      2906\n",
       "Name: count, dtype: int64"
      ]
     },
     "execution_count": 11,
     "metadata": {},
     "output_type": "execute_result"
    }
   ],
   "source": [
    "df['Ticker'].value_counts()"
   ]
  },
  {
   "cell_type": "code",
   "execution_count": 12,
   "id": "707b654a-1be2-4c44-a805-8e35937880d7",
   "metadata": {},
   "outputs": [
    {
     "data": {
      "text/html": [
       "<div>\n",
       "<style scoped>\n",
       "    .dataframe tbody tr th:only-of-type {\n",
       "        vertical-align: middle;\n",
       "    }\n",
       "\n",
       "    .dataframe tbody tr th {\n",
       "        vertical-align: top;\n",
       "    }\n",
       "\n",
       "    .dataframe thead th {\n",
       "        text-align: right;\n",
       "    }\n",
       "</style>\n",
       "<table border=\"1\" class=\"dataframe\">\n",
       "  <thead>\n",
       "    <tr style=\"text-align: right;\">\n",
       "      <th></th>\n",
       "      <th></th>\n",
       "      <th>Open</th>\n",
       "      <th>High</th>\n",
       "      <th>Low</th>\n",
       "      <th>Close</th>\n",
       "      <th>Volume</th>\n",
       "    </tr>\n",
       "    <tr>\n",
       "      <th>Ticker</th>\n",
       "      <th>Date</th>\n",
       "      <th></th>\n",
       "      <th></th>\n",
       "      <th></th>\n",
       "      <th></th>\n",
       "      <th></th>\n",
       "    </tr>\n",
       "  </thead>\n",
       "  <tbody>\n",
       "    <tr>\n",
       "      <th rowspan=\"5\" valign=\"top\">TSLA</th>\n",
       "      <th>2010-06-29</th>\n",
       "      <td>1.26666</td>\n",
       "      <td>1.66666</td>\n",
       "      <td>1.16934</td>\n",
       "      <td>1.59266</td>\n",
       "      <td>281749173</td>\n",
       "    </tr>\n",
       "    <tr>\n",
       "      <th>2010-06-30</th>\n",
       "      <td>1.71934</td>\n",
       "      <td>2.02794</td>\n",
       "      <td>1.55334</td>\n",
       "      <td>1.58866</td>\n",
       "      <td>257915884</td>\n",
       "    </tr>\n",
       "    <tr>\n",
       "      <th>2010-07-01</th>\n",
       "      <td>1.66666</td>\n",
       "      <td>1.72800</td>\n",
       "      <td>1.35134</td>\n",
       "      <td>1.46400</td>\n",
       "      <td>123447940</td>\n",
       "    </tr>\n",
       "    <tr>\n",
       "      <th>2010-07-02</th>\n",
       "      <td>1.53334</td>\n",
       "      <td>1.54000</td>\n",
       "      <td>1.24734</td>\n",
       "      <td>1.28000</td>\n",
       "      <td>77127102</td>\n",
       "    </tr>\n",
       "    <tr>\n",
       "      <th>2010-07-06</th>\n",
       "      <td>1.33334</td>\n",
       "      <td>1.33334</td>\n",
       "      <td>1.05534</td>\n",
       "      <td>1.07400</td>\n",
       "      <td>103189435</td>\n",
       "    </tr>\n",
       "    <tr>\n",
       "      <th>...</th>\n",
       "      <th>...</th>\n",
       "      <td>...</td>\n",
       "      <td>...</td>\n",
       "      <td>...</td>\n",
       "      <td>...</td>\n",
       "      <td>...</td>\n",
       "    </tr>\n",
       "    <tr>\n",
       "      <th rowspan=\"5\" valign=\"top\">AMZN</th>\n",
       "      <th>2024-04-09</th>\n",
       "      <td>187.24000</td>\n",
       "      <td>187.34000</td>\n",
       "      <td>184.20000</td>\n",
       "      <td>185.67000</td>\n",
       "      <td>36546953</td>\n",
       "    </tr>\n",
       "    <tr>\n",
       "      <th>2024-04-10</th>\n",
       "      <td>182.76500</td>\n",
       "      <td>186.26990</td>\n",
       "      <td>182.67000</td>\n",
       "      <td>185.95000</td>\n",
       "      <td>35879152</td>\n",
       "    </tr>\n",
       "    <tr>\n",
       "      <th>2024-04-11</th>\n",
       "      <td>186.74000</td>\n",
       "      <td>189.77000</td>\n",
       "      <td>185.51000</td>\n",
       "      <td>189.05000</td>\n",
       "      <td>40020738</td>\n",
       "    </tr>\n",
       "    <tr>\n",
       "      <th>2024-04-12</th>\n",
       "      <td>187.72000</td>\n",
       "      <td>188.38000</td>\n",
       "      <td>185.08000</td>\n",
       "      <td>186.13000</td>\n",
       "      <td>38608848</td>\n",
       "    </tr>\n",
       "    <tr>\n",
       "      <th>2024-04-15</th>\n",
       "      <td>187.42500</td>\n",
       "      <td>188.69000</td>\n",
       "      <td>183.00000</td>\n",
       "      <td>183.62000</td>\n",
       "      <td>48052395</td>\n",
       "    </tr>\n",
       "  </tbody>\n",
       "</table>\n",
       "<p>53862 rows × 5 columns</p>\n",
       "</div>"
      ],
      "text/plain": [
       "                        Open       High        Low      Close     Volume\n",
       "Ticker Date                                                             \n",
       "TSLA   2010-06-29    1.26666    1.66666    1.16934    1.59266  281749173\n",
       "       2010-06-30    1.71934    2.02794    1.55334    1.58866  257915884\n",
       "       2010-07-01    1.66666    1.72800    1.35134    1.46400  123447940\n",
       "       2010-07-02    1.53334    1.54000    1.24734    1.28000   77127102\n",
       "       2010-07-06    1.33334    1.33334    1.05534    1.07400  103189435\n",
       "...                      ...        ...        ...        ...        ...\n",
       "AMZN   2024-04-09  187.24000  187.34000  184.20000  185.67000   36546953\n",
       "       2024-04-10  182.76500  186.26990  182.67000  185.95000   35879152\n",
       "       2024-04-11  186.74000  189.77000  185.51000  189.05000   40020738\n",
       "       2024-04-12  187.72000  188.38000  185.08000  186.13000   38608848\n",
       "       2024-04-15  187.42500  188.69000  183.00000  183.62000   48052395\n",
       "\n",
       "[53862 rows x 5 columns]"
      ]
     },
     "execution_count": 12,
     "metadata": {},
     "output_type": "execute_result"
    }
   ],
   "source": [
    "df.set_index(['Ticker', 'Date'], inplace=True)\n",
    "df"
   ]
  },
  {
   "cell_type": "markdown",
   "id": "01565e19-d834-4f12-90eb-2a7d45407d8d",
   "metadata": {},
   "source": [
    "## Feature engineering"
   ]
  },
  {
   "cell_type": "markdown",
   "id": "1de4649a-8cc8-42b5-b4b8-89f8169be709",
   "metadata": {},
   "source": [
    "The target will be a binary classification. 1 means that the close price will be greater than the open price. 0 means that the close price will be smaller than the open price"
   ]
  },
  {
   "cell_type": "code",
   "execution_count": 13,
   "id": "f3a4d7b0-2d25-4970-baee-6ab38befd912",
   "metadata": {},
   "outputs": [],
   "source": [
    "## Target Variable\n",
    "df['Target'] = (df['Close'] > df['Open']).astype(int)"
   ]
  },
  {
   "cell_type": "markdown",
   "id": "986ad790-3cc1-479e-885d-ea3eea7aedc0",
   "metadata": {},
   "source": [
    "### Other indicators/features"
   ]
  },
  {
   "cell_type": "code",
   "execution_count": 14,
   "id": "9c6c36fb-7c4b-4dd4-9ec0-9165b56e5144",
   "metadata": {},
   "outputs": [],
   "source": [
    "## Time based features\n",
    "df['Day Of Week'] = df.index.get_level_values('Date').dayofweek\n",
    "df['Month'] = df.index.get_level_values('Date').month\n",
    "df['Quarter'] = df.index.get_level_values('Date').quarter"
   ]
  },
  {
   "cell_type": "code",
   "execution_count": 15,
   "id": "deca05fa-8da4-4cc1-80e3-be0e750e345b",
   "metadata": {},
   "outputs": [],
   "source": [
    "## Holiday Proximity (How many days until the next holiday)\n",
    "\n",
    "df = df.reset_index()\n",
    "df['Date'] = pd.to_datetime(df['Date'])\n",
    "\n",
    "# Function to calculate proximity to the nearest holiday\n",
    "def holiday_metrics(date):\n",
    "    \"\"\"\n",
    "    Calculate both days until next holiday and days to closest holiday.\n",
    "    \n",
    "    Args:\n",
    "        date: datetime object representing the date to check\n",
    "        \n",
    "    Returns:\n",
    "        tuple: (days_until_next, days_to_closest)\n",
    "            - days_until_next: number of days until the next upcoming holiday\n",
    "            - days_to_closest: number of days to the nearest holiday in any direction\n",
    "    \"\"\"\n",
    "    # Generate holidays for current and next year\n",
    "    us_holidays = holidays.US(years=[date.year, date.year + 1])\n",
    "    holiday_dates = pd.to_datetime(list(us_holidays.keys()))\n",
    "    \n",
    "    # For next holiday\n",
    "    future_holidays = holiday_dates[holiday_dates > date]\n",
    "    if len(future_holidays) > 0:\n",
    "        next_holiday = future_holidays.min()\n",
    "        days_until_next = (next_holiday - date).days\n",
    "    else:\n",
    "        days_until_next = np.nan\n",
    "    \n",
    "    # For closest holiday\n",
    "    if len(holiday_dates) > 0:\n",
    "        days_diff = np.abs((holiday_dates - date).days)\n",
    "        days_to_closest = np.min(days_diff)\n",
    "    else:\n",
    "        days_to_closest = np.nan\n",
    "        \n",
    "    return days_until_next, days_to_closest\n",
    "\n",
    "# Apply the function to each row\n",
    "df['Days Until Next Holiday'], df['Days To Closest Holiday'] = zip(*df['Date'].apply(holiday_metrics))\n",
    "\n",
    "# Set the index back to Ticker and Date if needed\n",
    "df.set_index(['Ticker', 'Date'], inplace=True)"
   ]
  },
  {
   "cell_type": "code",
   "execution_count": 16,
   "id": "4590b9be-e35f-46dc-83a5-5affecca63cf",
   "metadata": {},
   "outputs": [],
   "source": [
    "df['Daily Return'] = (df['Close'] - df['Open']) / df['Open']\n",
    "df['Intraday Range %'] = (df['High'] - df['Low']) / df['Open']\n",
    "df['Prev_Close'] = df.groupby('Ticker')['Close'].shift(1)\n",
    "df['Gap %'] = (df['Open'] - df['Prev_Close']) / df['Prev_Close']\n",
    "df['Volume Change %'] = df.groupby('Ticker')['Volume'].pct_change()\n",
    "df['Volume MA 5'] = df.groupby('Ticker')['Volume'].transform(lambda x: x.rolling(window=5).mean())\n",
    "df['SMA5'] = df.groupby('Ticker')['Close'].transform(lambda x: x.rolling(window=5).mean())\n",
    "df['SMA10'] = df.groupby('Ticker')['Close'].transform(lambda x: x.rolling(window=10).mean())\n",
    "df['Above SMA5'] = (df['Close'] > df['SMA5']).astype(int)\n",
    "df['Volatility 5d'] = df.groupby('Ticker')['Close'].transform(lambda x: x.rolling(window=5).std())\n",
    "df['Price Range %'] = (df['High'] - df['Low']) / df['Open']"
   ]
  },
  {
   "cell_type": "code",
   "execution_count": 17,
   "id": "f5cdabe3-bf32-403b-9e8a-062662955a24",
   "metadata": {},
   "outputs": [],
   "source": [
    "## Remove Null values\n",
    "# Fill forward for values that depend on previous data\n",
    "df['Prev_Close'] = df.groupby('Ticker')['Prev_Close'].ffill()\n",
    "df['Gap %'] = df.groupby('Ticker')['Gap %'].ffill()\n",
    "\n",
    "# Fill first row Volume Change % with 0\n",
    "df['Volume Change %'] = df['Volume Change %'].fillna(0)\n",
    "\n",
    "# Fill rolling-based values with their first available mean\n",
    "rolling_features = ['Volume MA 5', 'SMA5', 'SMA10', 'Volatility 5d']\n",
    "for feature in rolling_features:\n",
    "    df[feature] = df.groupby('Ticker')[feature].transform(lambda x: x.fillna(x.expanding().mean()))\n",
    "\n",
    "# Fill any remaining NaNs (just in case)\n",
    "df = df.fillna(0)\n"
   ]
  },
  {
   "cell_type": "markdown",
   "id": "83179083-0276-4807-8094-7efaee81975e",
   "metadata": {},
   "source": [
    "## Data Preperation"
   ]
  },
  {
   "cell_type": "markdown",
   "id": "ca7112a5-fa01-49aa-a30d-da8879546ad2",
   "metadata": {},
   "source": [
    "Keep in mind that the final day in the series should NOT have the close feature."
   ]
  },
  {
   "cell_type": "code",
   "execution_count": 18,
   "id": "b3274766-196d-46a3-bb6c-24382399b986",
   "metadata": {},
   "outputs": [],
   "source": [
    "from sklearn.preprocessing import StandardScaler, OneHotEncoder\n",
    "from sklearn.model_selection import train_test_split"
   ]
  },
  {
   "cell_type": "code",
   "execution_count": 19,
   "id": "842d8fd0-21f3-4ec5-b95b-cfb45d2a6c85",
   "metadata": {
    "scrolled": true
   },
   "outputs": [],
   "source": [
    "df = df.reset_index()\n",
    "df.drop('Date', axis=1, inplace=True)"
   ]
  },
  {
   "cell_type": "code",
   "execution_count": 20,
   "id": "2f5222b6-b603-433f-af6b-7a33857e8ea3",
   "metadata": {},
   "outputs": [],
   "source": [
    "df.replace([np.inf, -np.inf], 0, inplace=True)"
   ]
  },
  {
   "cell_type": "code",
   "execution_count": 21,
   "id": "b06a04ac-4826-4e16-9521-69125d40ebb5",
   "metadata": {},
   "outputs": [],
   "source": [
    "ticker_encoder = OneHotEncoder(handle_unknown='ignore', sparse_output=False)\n",
    "tickers_encoded = pd.DataFrame(ticker_encoder.fit_transform(df['Ticker'].values.reshape(-1, 1)),\n",
    "                               columns=ticker_encoder.get_feature_names_out())\n",
    "df = pd.concat([df, tickers_encoded], axis=1)"
   ]
  },
  {
   "cell_type": "code",
   "execution_count": 22,
   "id": "bf2682f2-3fad-49c6-b255-97bdebc29dad",
   "metadata": {},
   "outputs": [
    {
     "name": "stdout",
     "output_type": "stream",
     "text": [
      "<class 'pandas.core.frame.DataFrame'>\n",
      "RangeIndex: 53862 entries, 0 to 53861\n",
      "Data columns (total 30 columns):\n",
      " #   Column                   Non-Null Count  Dtype  \n",
      "---  ------                   --------------  -----  \n",
      " 0   Ticker                   53862 non-null  object \n",
      " 1   Open                     53862 non-null  float64\n",
      " 2   High                     53862 non-null  float64\n",
      " 3   Low                      53862 non-null  float64\n",
      " 4   Close                    53862 non-null  float64\n",
      " 5   Volume                   53862 non-null  int64  \n",
      " 6   Target                   53862 non-null  int64  \n",
      " 7   Day Of Week              53862 non-null  int32  \n",
      " 8   Month                    53862 non-null  int32  \n",
      " 9   Quarter                  53862 non-null  int32  \n",
      " 10  Days Until Next Holiday  53862 non-null  int64  \n",
      " 11  Days To Closest Holiday  53862 non-null  int64  \n",
      " 12  Daily Return             53862 non-null  float64\n",
      " 13  Intraday Range %         53862 non-null  float64\n",
      " 14  Prev_Close               53862 non-null  float64\n",
      " 15  Gap %                    53862 non-null  float64\n",
      " 16  Volume Change %          53862 non-null  float64\n",
      " 17  Volume MA 5              53862 non-null  float64\n",
      " 18  SMA5                     53862 non-null  float64\n",
      " 19  SMA10                    53862 non-null  float64\n",
      " 20  Above SMA5               53862 non-null  int64  \n",
      " 21  Volatility 5d            53862 non-null  float64\n",
      " 22  Price Range %            53862 non-null  float64\n",
      " 23  x0_AAPL                  53862 non-null  float64\n",
      " 24  x0_AMZN                  53862 non-null  float64\n",
      " 25  x0_GOOGL                 53862 non-null  float64\n",
      " 26  x0_META                  53862 non-null  float64\n",
      " 27  x0_MSFT                  53862 non-null  float64\n",
      " 28  x0_NVDA                  53862 non-null  float64\n",
      " 29  x0_TSLA                  53862 non-null  float64\n",
      "dtypes: float64(21), int32(3), int64(5), object(1)\n",
      "memory usage: 11.7+ MB\n"
     ]
    }
   ],
   "source": [
    "df.info()"
   ]
  },
  {
   "cell_type": "code",
   "execution_count": 23,
   "id": "ea598d15-a070-457e-9c5f-94c8272d2938",
   "metadata": {},
   "outputs": [],
   "source": [
    "features = [\n",
    "    \"Open\", \"High\", \"Low\", \"Close\", \"Volume\", \"Day Of Week\", \"Month\", \"Quarter\",\n",
    "    \"Days Until Next Holiday\", \"Intraday Range %\", \"Prev_Close\", \"Gap %\", \n",
    "    \"Volume Change %\", \"Volume MA 5\", \"SMA5\", \"SMA10\", \"Above SMA5\", \"Volatility 5d\", \n",
    "    \"Price Range %\", \"x0_AAPL\", \"x0_AMZN\", \"x0_GOOGL\", \"x0_META\", \n",
    "    \"x0_MSFT\", \"x0_NVDA\", \"x0_TSLA\"\n",
    "]"
   ]
  },
  {
   "cell_type": "code",
   "execution_count": 24,
   "id": "ec80170e-bc55-4b62-b2cb-2b21edab9d08",
   "metadata": {},
   "outputs": [],
   "source": [
    "X = df[features].values\n",
    "y = df['Target'].values\n",
    "\n",
    "X_train, X_test, y_train, y_test = train_test_split(X, y, test_size=0.2, random_state=42)\n",
    "X_val, X_test, y_val, y_test = train_test_split(X_test, y_test, test_size=0.5, random_state=42)\n",
    "\n",
    "scaler = StandardScaler()\n",
    "\n",
    "X_train = np.array(scaler.fit_transform(X_train))\n",
    "X_test = np.array(scaler.transform(X_test))\n",
    "X_val = np.array(scaler.transform(X_val))"
   ]
  },
  {
   "cell_type": "code",
   "execution_count": 25,
   "id": "a3fd006d-8b5a-4ccb-ad28-0c6911ebc35e",
   "metadata": {},
   "outputs": [
    {
     "name": "stderr",
     "output_type": "stream",
     "text": [
      "I0000 00:00:1740847788.241367    4728 gpu_device.cc:2022] Created device /job:localhost/replica:0/task:0/device:GPU:0 with 9696 MB memory:  -> device: 0, name: NVIDIA GeForce RTX 3060, pci bus id: 0000:01:00.0, compute capability: 8.6\n"
     ]
    }
   ],
   "source": [
    "seq_len = 10\n",
    "\n",
    "train_ds = tf.keras.utils.timeseries_dataset_from_array(\n",
    "    X_train,\n",
    "    targets=y_train,\n",
    "    sequence_length=seq_len,\n",
    "    batch_size=32,\n",
    "    shuffle=True,\n",
    "    seed=1,\n",
    ")\n",
    "\n",
    "val_ds = tf.keras.utils.timeseries_dataset_from_array(\n",
    "    X_val,\n",
    "    targets=y_val,\n",
    "    sequence_length=seq_len,\n",
    "    batch_size=32,\n",
    "    shuffle=True,\n",
    "    seed=1\n",
    ")\n",
    "\n",
    "test_ds = tf.keras.utils.timeseries_dataset_from_array(\n",
    "    X_test,\n",
    "    targets=y_test,\n",
    "    sequence_length=seq_len,\n",
    "    batch_size=32,\n",
    ")"
   ]
  },
  {
   "cell_type": "code",
   "execution_count": 26,
   "id": "00cdeee5-0c87-45d9-a6ac-502c060c683f",
   "metadata": {},
   "outputs": [
    {
     "data": {
      "text/plain": [
       "(TensorSpec(shape=(None, None, 26), dtype=tf.float64, name=None),\n",
       " TensorSpec(shape=(None,), dtype=tf.int64, name=None))"
      ]
     },
     "execution_count": 26,
     "metadata": {},
     "output_type": "execute_result"
    }
   ],
   "source": [
    "val_ds.element_spec"
   ]
  },
  {
   "cell_type": "code",
   "execution_count": 27,
   "id": "56a5d001-ea08-4fa0-a0ce-0a2a7ccf7f9a",
   "metadata": {
    "scrolled": true
   },
   "outputs": [
    {
     "name": "stdout",
     "output_type": "stream",
     "text": [
      "Shape of sequences: (32, 10, 26)\n",
      "Shape of targets: (32,)\n",
      "Sample sequence:\n",
      " [[-0.33260559 -0.33327206 -0.33212507 -0.3328067  -0.38861426 -1.44404995\n",
      "   0.13277207  0.43492695  0.60176155 -0.21531634 -0.33278794 -0.04423498\n",
      "  -0.41101388 -0.28578973 -0.33286689 -0.33288663  0.92901368 -0.18824827\n",
      "  -0.21531634 -0.49023275 -0.57977104 -0.31595321 -0.23985106  2.22557046\n",
      "  -0.35646831 -0.38446803]\n",
      " [ 0.67093416  0.66134262  0.67717614  0.66841725 -0.58559339 -0.01479376\n",
      "  -0.74177813 -0.46115068  0.51691019 -0.89241225  0.67287692 -0.10298987\n",
      "  -0.38457864 -0.63863407  0.66901144  0.6592559   0.92901368 -0.11554585\n",
      "  -0.89241225 -0.49023275  1.72481883 -0.31595321 -0.23985106 -0.449323\n",
      "  -0.35646831 -0.38446803]\n",
      " [-0.119634   -0.11704187 -0.11826725 -0.11449531 -0.55179967  1.41446243\n",
      "  -0.15874466 -0.46115068 -0.88313728  0.13342216 -0.11883641 -0.22375812\n",
      "   0.1024824  -0.6083795  -0.12339911 -0.12045708  0.92901368 -0.01627521\n",
      "   0.13342216 -0.49023275  1.72481883 -0.31595321 -0.23985106 -0.449323\n",
      "  -0.35646831 -0.38446803]\n",
      " [ 0.13193773  0.12619682  0.13549854  0.13020242 -0.55528044  0.69983434\n",
      "  -0.74177813 -0.46115068  0.77146427 -1.0072152   0.1310848   0.07194668\n",
      "  -0.44882105 -0.58997574  0.12839509  0.12255134  0.92901368 -0.0998366\n",
      "  -1.0072152  -0.49023275 -0.57977104 -0.31595321  4.16925403 -0.449323\n",
      "  -0.35646831 -0.38446803]\n",
      " [-0.32852507 -0.32909085 -0.32799088 -0.32857555 -0.4850297   0.69983434\n",
      "   0.71580555  0.43492695 -0.11947503  0.09196792 -0.32875416  0.45983222\n",
      "   0.21846237 -0.55233406 -0.3288049  -0.32884639  0.92901368 -0.18422785\n",
      "   0.09196792 -0.49023275 -0.57977104 -0.31595321 -0.23985106 -0.449323\n",
      "  -0.35646831  2.60099652]\n",
      " [-0.3331781  -0.33384903 -0.3326931  -0.33339249 -0.53617635 -1.44404995\n",
      "  -0.4502614  -0.46115068 -0.58615751 -1.13784232 -0.33335515 -0.92255985\n",
      "   0.45130873 -0.57994522 -0.33344266 -0.33347452 -1.07641042 -0.1883616\n",
      "  -1.13784232  2.03984739 -0.57977104 -0.31595321 -0.23985106 -0.449323\n",
      "  -0.35646831 -0.38446803]\n",
      " [-0.3250936  -0.3258195  -0.3248275  -0.32546316  0.14813753 -1.44404995\n",
      "   0.13277207  0.43492695  0.89874131  0.40724466 -0.32573868  2.86412364\n",
      "   2.42272961 -0.1710458  -0.32574464 -0.32576459  0.92901368 -0.184388\n",
      "   0.40724466 -0.49023275 -0.57977104 -0.31595321 -0.23985106  2.22557046\n",
      "  -0.35646831 -0.38446803]\n",
      " [-0.24628158 -0.24796396 -0.24598395 -0.24685371 -0.3201562  -0.01479376\n",
      "   0.42428881  0.43492695  0.21993042 -0.69681135 -0.24718173  0.40909022\n",
      "  -0.17064564 -0.32651057 -0.24732424 -0.2456634   0.92901368 -0.17257226\n",
      "  -0.69681135 -0.49023275 -0.57977104 -0.31595321 -0.23985106  2.22557046\n",
      "  -0.35646831 -0.38446803]\n",
      " [ 0.07639557  0.10271421  0.07983259  0.10856302 -0.31595431 -0.01479376\n",
      "   1.29883902  1.33100458 -0.11947503  2.03471759  0.07507337  0.13819303\n",
      "   0.87342029 -0.46049706  0.09084931  0.08394737  0.92901368  0.16482663\n",
      "   2.03471759 -0.49023275 -0.57977104 -0.31595321 -0.23985106 -0.449323\n",
      "   2.80529846 -0.38446803]\n",
      " [-0.29133507 -0.2913793  -0.29088903 -0.2915255   0.22887873  1.41446243\n",
      "   0.71580555  0.43492695 -0.45888047  0.30917665 -0.29141674 -0.1172403\n",
      "  -0.19514306  0.15902355 -0.29269408 -0.29197072  0.92901368 -0.14761998\n",
      "   0.30917665 -0.49023275 -0.57977104 -0.31595321 -0.23985106 -0.449323\n",
      "  -0.35646831  2.60099652]]\n",
      "Sample target:\n",
      " 1\n"
     ]
    },
    {
     "name": "stderr",
     "output_type": "stream",
     "text": [
      "2025-03-01 10:49:49.173648: I tensorflow/core/framework/local_rendezvous.cc:405] Local rendezvous is aborting with status: OUT_OF_RANGE: End of sequence\n"
     ]
    }
   ],
   "source": [
    "for batch in val_ds.take(1):  # Take just one batch for inspection\n",
    "    sequences, targets = batch\n",
    "    print(\"Shape of sequences:\", sequences.shape)\n",
    "    print(\"Shape of targets:\", targets.shape)\n",
    "    print(\"Sample sequence:\\n\", sequences.numpy()[0])  # Print the first sequence in the batch\n",
    "    print(\"Sample target:\\n\", targets.numpy()[0])      # Print the first target in the batch"
   ]
  },
  {
   "cell_type": "markdown",
   "id": "bfad298f-1f88-46b7-90e8-26bb42bcdbd3",
   "metadata": {},
   "source": [
    "## Model "
   ]
  },
  {
   "cell_type": "code",
   "execution_count": 28,
   "id": "058777ba-ceaa-4219-89ef-747f726a3640",
   "metadata": {
    "scrolled": true
   },
   "outputs": [
    {
     "name": "stdout",
     "output_type": "stream",
     "text": [
      "Epoch 1/100\n"
     ]
    },
    {
     "name": "stderr",
     "output_type": "stream",
     "text": [
      "WARNING: All log messages before absl::InitializeLog() is called are written to STDERR\n",
      "I0000 00:00:1740847790.120128    4843 service.cc:148] XLA service 0x786f0c0d13d0 initialized for platform CUDA (this does not guarantee that XLA will be used). Devices:\n",
      "I0000 00:00:1740847790.120304    4843 service.cc:156]   StreamExecutor device (0): NVIDIA GeForce RTX 3060, Compute Capability 8.6\n",
      "2025-03-01 10:49:50.148172: I tensorflow/compiler/mlir/tensorflow/utils/dump_mlir_util.cc:268] disabling MLIR crash reproducer, set env var `MLIR_CRASH_REPRODUCER_DIRECTORY` to enable.\n",
      "I0000 00:00:1740847790.218462    4843 cuda_dnn.cc:529] Loaded cuDNN version 90300\n"
     ]
    },
    {
     "name": "stdout",
     "output_type": "stream",
     "text": [
      "\u001b[1m  83/1347\u001b[0m \u001b[32m━\u001b[0m\u001b[37m━━━━━━━━━━━━━━━━━━━\u001b[0m \u001b[1m1s\u001b[0m 1ms/step - accuracy: 0.5152 - loss: 0.7884"
     ]
    },
    {
     "name": "stderr",
     "output_type": "stream",
     "text": [
      "I0000 00:00:1740847790.464054    4843 device_compiler.h:188] Compiled cluster using XLA!  This line is logged at most once for the lifetime of the process.\n"
     ]
    },
    {
     "name": "stdout",
     "output_type": "stream",
     "text": [
      "\u001b[1m1347/1347\u001b[0m \u001b[32m━━━━━━━━━━━━━━━━━━━━\u001b[0m\u001b[37m\u001b[0m \u001b[1m4s\u001b[0m 2ms/step - accuracy: 0.5005 - loss: 0.7352 - val_accuracy: 0.4919 - val_loss: 0.7004\n",
      "Epoch 2/100\n",
      "\u001b[1m1347/1347\u001b[0m \u001b[32m━━━━━━━━━━━━━━━━━━━━\u001b[0m\u001b[37m\u001b[0m \u001b[1m2s\u001b[0m 1ms/step - accuracy: 0.5060 - loss: 0.6976 - val_accuracy: 0.4967 - val_loss: 0.6981\n",
      "Epoch 3/100\n",
      "\u001b[1m1347/1347\u001b[0m \u001b[32m━━━━━━━━━━━━━━━━━━━━\u001b[0m\u001b[37m\u001b[0m \u001b[1m2s\u001b[0m 1ms/step - accuracy: 0.5090 - loss: 0.6951 - val_accuracy: 0.4980 - val_loss: 0.6970\n",
      "Epoch 4/100\n",
      "\u001b[1m1347/1347\u001b[0m \u001b[32m━━━━━━━━━━━━━━━━━━━━\u001b[0m\u001b[37m\u001b[0m \u001b[1m2s\u001b[0m 1ms/step - accuracy: 0.5128 - loss: 0.6939 - val_accuracy: 0.4993 - val_loss: 0.6963\n",
      "Epoch 5/100\n",
      "\u001b[1m1347/1347\u001b[0m \u001b[32m━━━━━━━━━━━━━━━━━━━━\u001b[0m\u001b[37m\u001b[0m \u001b[1m2s\u001b[0m 1ms/step - accuracy: 0.5154 - loss: 0.6931 - val_accuracy: 0.5018 - val_loss: 0.6958\n",
      "Epoch 6/100\n",
      "\u001b[1m1347/1347\u001b[0m \u001b[32m━━━━━━━━━━━━━━━━━━━━\u001b[0m\u001b[37m\u001b[0m \u001b[1m2s\u001b[0m 1ms/step - accuracy: 0.5189 - loss: 0.6926 - val_accuracy: 0.5027 - val_loss: 0.6955\n",
      "Epoch 7/100\n",
      "\u001b[1m1347/1347\u001b[0m \u001b[32m━━━━━━━━━━━━━━━━━━━━\u001b[0m\u001b[37m\u001b[0m \u001b[1m2s\u001b[0m 1ms/step - accuracy: 0.5197 - loss: 0.6921 - val_accuracy: 0.5003 - val_loss: 0.6952\n",
      "Epoch 8/100\n",
      "\u001b[1m1347/1347\u001b[0m \u001b[32m━━━━━━━━━━━━━━━━━━━━\u001b[0m\u001b[37m\u001b[0m \u001b[1m2s\u001b[0m 1ms/step - accuracy: 0.5197 - loss: 0.6917 - val_accuracy: 0.5023 - val_loss: 0.6950\n",
      "Epoch 9/100\n",
      "\u001b[1m1347/1347\u001b[0m \u001b[32m━━━━━━━━━━━━━━━━━━━━\u001b[0m\u001b[37m\u001b[0m \u001b[1m2s\u001b[0m 1ms/step - accuracy: 0.5226 - loss: 0.6913 - val_accuracy: 0.5023 - val_loss: 0.6948\n",
      "Epoch 10/100\n",
      "\u001b[1m1347/1347\u001b[0m \u001b[32m━━━━━━━━━━━━━━━━━━━━\u001b[0m\u001b[37m\u001b[0m \u001b[1m2s\u001b[0m 1ms/step - accuracy: 0.5225 - loss: 0.6911 - val_accuracy: 0.5053 - val_loss: 0.6946\n",
      "Epoch 11/100\n",
      "\u001b[1m1347/1347\u001b[0m \u001b[32m━━━━━━━━━━━━━━━━━━━━\u001b[0m\u001b[37m\u001b[0m \u001b[1m2s\u001b[0m 1ms/step - accuracy: 0.5261 - loss: 0.6907 - val_accuracy: 0.5099 - val_loss: 0.6944\n",
      "Epoch 12/100\n",
      "\u001b[1m1347/1347\u001b[0m \u001b[32m━━━━━━━━━━━━━━━━━━━━\u001b[0m\u001b[37m\u001b[0m \u001b[1m2s\u001b[0m 1ms/step - accuracy: 0.5278 - loss: 0.6903 - val_accuracy: 0.5124 - val_loss: 0.6941\n",
      "Epoch 13/100\n",
      "\u001b[1m1347/1347\u001b[0m \u001b[32m━━━━━━━━━━━━━━━━━━━━\u001b[0m\u001b[37m\u001b[0m \u001b[1m2s\u001b[0m 1ms/step - accuracy: 0.5320 - loss: 0.6897 - val_accuracy: 0.5126 - val_loss: 0.6937\n",
      "Epoch 14/100\n",
      "\u001b[1m1347/1347\u001b[0m \u001b[32m━━━━━━━━━━━━━━━━━━━━\u001b[0m\u001b[37m\u001b[0m \u001b[1m2s\u001b[0m 1ms/step - accuracy: 0.5352 - loss: 0.6888 - val_accuracy: 0.5228 - val_loss: 0.6926\n",
      "Epoch 15/100\n",
      "\u001b[1m1347/1347\u001b[0m \u001b[32m━━━━━━━━━━━━━━━━━━━━\u001b[0m\u001b[37m\u001b[0m \u001b[1m2s\u001b[0m 1ms/step - accuracy: 0.5449 - loss: 0.6869 - val_accuracy: 0.5328 - val_loss: 0.6893\n",
      "Epoch 16/100\n",
      "\u001b[1m1347/1347\u001b[0m \u001b[32m━━━━━━━━━━━━━━━━━━━━\u001b[0m\u001b[37m\u001b[0m \u001b[1m2s\u001b[0m 1ms/step - accuracy: 0.5665 - loss: 0.6806 - val_accuracy: 0.5966 - val_loss: 0.6668\n",
      "Epoch 17/100\n",
      "\u001b[1m1347/1347\u001b[0m \u001b[32m━━━━━━━━━━━━━━━━━━━━\u001b[0m\u001b[37m\u001b[0m \u001b[1m2s\u001b[0m 1ms/step - accuracy: 0.6302 - loss: 0.6488 - val_accuracy: 0.6822 - val_loss: 0.6221\n",
      "Epoch 18/100\n",
      "\u001b[1m1347/1347\u001b[0m \u001b[32m━━━━━━━━━━━━━━━━━━━━\u001b[0m\u001b[37m\u001b[0m \u001b[1m2s\u001b[0m 1ms/step - accuracy: 0.6848 - loss: 0.6193 - val_accuracy: 0.6969 - val_loss: 0.6120\n",
      "Epoch 19/100\n",
      "\u001b[1m1347/1347\u001b[0m \u001b[32m━━━━━━━━━━━━━━━━━━━━\u001b[0m\u001b[37m\u001b[0m \u001b[1m2s\u001b[0m 1ms/step - accuracy: 0.6955 - loss: 0.6114 - val_accuracy: 0.6993 - val_loss: 0.6069\n",
      "Epoch 20/100\n",
      "\u001b[1m1347/1347\u001b[0m \u001b[32m━━━━━━━━━━━━━━━━━━━━\u001b[0m\u001b[37m\u001b[0m \u001b[1m2s\u001b[0m 1ms/step - accuracy: 0.6998 - loss: 0.6065 - val_accuracy: 0.7004 - val_loss: 0.6035\n",
      "Epoch 21/100\n",
      "\u001b[1m1347/1347\u001b[0m \u001b[32m━━━━━━━━━━━━━━━━━━━━\u001b[0m\u001b[37m\u001b[0m \u001b[1m2s\u001b[0m 1ms/step - accuracy: 0.7027 - loss: 0.6033 - val_accuracy: 0.7052 - val_loss: 0.6017\n",
      "Epoch 22/100\n",
      "\u001b[1m1347/1347\u001b[0m \u001b[32m━━━━━━━━━━━━━━━━━━━━\u001b[0m\u001b[37m\u001b[0m \u001b[1m2s\u001b[0m 1ms/step - accuracy: 0.7049 - loss: 0.6010 - val_accuracy: 0.7039 - val_loss: 0.6007\n",
      "Epoch 23/100\n",
      "\u001b[1m1347/1347\u001b[0m \u001b[32m━━━━━━━━━━━━━━━━━━━━\u001b[0m\u001b[37m\u001b[0m \u001b[1m2s\u001b[0m 1ms/step - accuracy: 0.7051 - loss: 0.5994 - val_accuracy: 0.7062 - val_loss: 0.5985\n",
      "Epoch 24/100\n",
      "\u001b[1m1347/1347\u001b[0m \u001b[32m━━━━━━━━━━━━━━━━━━━━\u001b[0m\u001b[37m\u001b[0m \u001b[1m2s\u001b[0m 1ms/step - accuracy: 0.7061 - loss: 0.5974 - val_accuracy: 0.7058 - val_loss: 0.5981\n",
      "Epoch 25/100\n",
      "\u001b[1m1347/1347\u001b[0m \u001b[32m━━━━━━━━━━━━━━━━━━━━\u001b[0m\u001b[37m\u001b[0m \u001b[1m2s\u001b[0m 1ms/step - accuracy: 0.7063 - loss: 0.5966 - val_accuracy: 0.7036 - val_loss: 0.5974\n",
      "Epoch 26/100\n",
      "\u001b[1m1347/1347\u001b[0m \u001b[32m━━━━━━━━━━━━━━━━━━━━\u001b[0m\u001b[37m\u001b[0m \u001b[1m2s\u001b[0m 1ms/step - accuracy: 0.7064 - loss: 0.5955 - val_accuracy: 0.7058 - val_loss: 0.5962\n",
      "Epoch 27/100\n",
      "\u001b[1m1347/1347\u001b[0m \u001b[32m━━━━━━━━━━━━━━━━━━━━\u001b[0m\u001b[37m\u001b[0m \u001b[1m2s\u001b[0m 1ms/step - accuracy: 0.7067 - loss: 0.5945 - val_accuracy: 0.7045 - val_loss: 0.5964\n",
      "Epoch 28/100\n",
      "\u001b[1m1347/1347\u001b[0m \u001b[32m━━━━━━━━━━━━━━━━━━━━\u001b[0m\u001b[37m\u001b[0m \u001b[1m2s\u001b[0m 1ms/step - accuracy: 0.7065 - loss: 0.5932 - val_accuracy: 0.7024 - val_loss: 0.5977\n",
      "Epoch 29/100\n",
      "\u001b[1m1347/1347\u001b[0m \u001b[32m━━━━━━━━━━━━━━━━━━━━\u001b[0m\u001b[37m\u001b[0m \u001b[1m2s\u001b[0m 1ms/step - accuracy: 0.7085 - loss: 0.5923 - val_accuracy: 0.7039 - val_loss: 0.5953\n",
      "Epoch 30/100\n",
      "\u001b[1m1347/1347\u001b[0m \u001b[32m━━━━━━━━━━━━━━━━━━━━\u001b[0m\u001b[37m\u001b[0m \u001b[1m2s\u001b[0m 1ms/step - accuracy: 0.7091 - loss: 0.5906 - val_accuracy: 0.7050 - val_loss: 0.5944\n",
      "Epoch 31/100\n",
      "\u001b[1m1347/1347\u001b[0m \u001b[32m━━━━━━━━━━━━━━━━━━━━\u001b[0m\u001b[37m\u001b[0m \u001b[1m2s\u001b[0m 1ms/step - accuracy: 0.7084 - loss: 0.5897 - val_accuracy: 0.7039 - val_loss: 0.5936\n",
      "Epoch 32/100\n",
      "\u001b[1m1347/1347\u001b[0m \u001b[32m━━━━━━━━━━━━━━━━━━━━\u001b[0m\u001b[37m\u001b[0m \u001b[1m2s\u001b[0m 1ms/step - accuracy: 0.7086 - loss: 0.5889 - val_accuracy: 0.7030 - val_loss: 0.5927\n",
      "Epoch 33/100\n",
      "\u001b[1m1347/1347\u001b[0m \u001b[32m━━━━━━━━━━━━━━━━━━━━\u001b[0m\u001b[37m\u001b[0m \u001b[1m2s\u001b[0m 1ms/step - accuracy: 0.7071 - loss: 0.5876 - val_accuracy: 0.7054 - val_loss: 0.5917\n",
      "Epoch 34/100\n",
      "\u001b[1m1347/1347\u001b[0m \u001b[32m━━━━━━━━━━━━━━━━━━━━\u001b[0m\u001b[37m\u001b[0m \u001b[1m2s\u001b[0m 1ms/step - accuracy: 0.7078 - loss: 0.5877 - val_accuracy: 0.7043 - val_loss: 0.5919\n",
      "Epoch 35/100\n",
      "\u001b[1m1347/1347\u001b[0m \u001b[32m━━━━━━━━━━━━━━━━━━━━\u001b[0m\u001b[37m\u001b[0m \u001b[1m2s\u001b[0m 1ms/step - accuracy: 0.7084 - loss: 0.5868 - val_accuracy: 0.7032 - val_loss: 0.5910\n",
      "Epoch 36/100\n",
      "\u001b[1m1347/1347\u001b[0m \u001b[32m━━━━━━━━━━━━━━━━━━━━\u001b[0m\u001b[37m\u001b[0m \u001b[1m2s\u001b[0m 1ms/step - accuracy: 0.7096 - loss: 0.5853 - val_accuracy: 0.7041 - val_loss: 0.5901\n",
      "Epoch 37/100\n",
      "\u001b[1m1347/1347\u001b[0m \u001b[32m━━━━━━━━━━━━━━━━━━━━\u001b[0m\u001b[37m\u001b[0m \u001b[1m2s\u001b[0m 1ms/step - accuracy: 0.7101 - loss: 0.5842 - val_accuracy: 0.7045 - val_loss: 0.5909\n",
      "Epoch 38/100\n",
      "\u001b[1m1347/1347\u001b[0m \u001b[32m━━━━━━━━━━━━━━━━━━━━\u001b[0m\u001b[37m\u001b[0m \u001b[1m2s\u001b[0m 1ms/step - accuracy: 0.7099 - loss: 0.5833 - val_accuracy: 0.7052 - val_loss: 0.5898\n",
      "Epoch 39/100\n",
      "\u001b[1m1347/1347\u001b[0m \u001b[32m━━━━━━━━━━━━━━━━━━━━\u001b[0m\u001b[37m\u001b[0m \u001b[1m2s\u001b[0m 1ms/step - accuracy: 0.7098 - loss: 0.5824 - val_accuracy: 0.7047 - val_loss: 0.5892\n",
      "Epoch 40/100\n",
      "\u001b[1m1347/1347\u001b[0m \u001b[32m━━━━━━━━━━━━━━━━━━━━\u001b[0m\u001b[37m\u001b[0m \u001b[1m2s\u001b[0m 1ms/step - accuracy: 0.7104 - loss: 0.5815 - val_accuracy: 0.7036 - val_loss: 0.5887\n",
      "Epoch 41/100\n",
      "\u001b[1m1347/1347\u001b[0m \u001b[32m━━━━━━━━━━━━━━━━━━━━\u001b[0m\u001b[37m\u001b[0m \u001b[1m2s\u001b[0m 1ms/step - accuracy: 0.7111 - loss: 0.5811 - val_accuracy: 0.7041 - val_loss: 0.5883\n",
      "Epoch 42/100\n",
      "\u001b[1m1347/1347\u001b[0m \u001b[32m━━━━━━━━━━━━━━━━━━━━\u001b[0m\u001b[37m\u001b[0m \u001b[1m2s\u001b[0m 1ms/step - accuracy: 0.7096 - loss: 0.5804 - val_accuracy: 0.7030 - val_loss: 0.5899\n",
      "Epoch 43/100\n",
      "\u001b[1m1347/1347\u001b[0m \u001b[32m━━━━━━━━━━━━━━━━━━━━\u001b[0m\u001b[37m\u001b[0m \u001b[1m2s\u001b[0m 1ms/step - accuracy: 0.7106 - loss: 0.5793 - val_accuracy: 0.7063 - val_loss: 0.5873\n",
      "Epoch 44/100\n",
      "\u001b[1m1347/1347\u001b[0m \u001b[32m━━━━━━━━━━━━━━━━━━━━\u001b[0m\u001b[37m\u001b[0m \u001b[1m2s\u001b[0m 1ms/step - accuracy: 0.7112 - loss: 0.5783 - val_accuracy: 0.7045 - val_loss: 0.5859\n",
      "Epoch 45/100\n",
      "\u001b[1m1347/1347\u001b[0m \u001b[32m━━━━━━━━━━━━━━━━━━━━\u001b[0m\u001b[37m\u001b[0m \u001b[1m2s\u001b[0m 1ms/step - accuracy: 0.7116 - loss: 0.5769 - val_accuracy: 0.7037 - val_loss: 0.5878\n",
      "Epoch 46/100\n",
      "\u001b[1m1347/1347\u001b[0m \u001b[32m━━━━━━━━━━━━━━━━━━━━\u001b[0m\u001b[37m\u001b[0m \u001b[1m2s\u001b[0m 1ms/step - accuracy: 0.7112 - loss: 0.5766 - val_accuracy: 0.7069 - val_loss: 0.5873\n",
      "Epoch 47/100\n",
      "\u001b[1m1347/1347\u001b[0m \u001b[32m━━━━━━━━━━━━━━━━━━━━\u001b[0m\u001b[37m\u001b[0m \u001b[1m2s\u001b[0m 1ms/step - accuracy: 0.7118 - loss: 0.5763 - val_accuracy: 0.7050 - val_loss: 0.5867\n",
      "Epoch 48/100\n",
      "\u001b[1m1347/1347\u001b[0m \u001b[32m━━━━━━━━━━━━━━━━━━━━\u001b[0m\u001b[37m\u001b[0m \u001b[1m2s\u001b[0m 1ms/step - accuracy: 0.7123 - loss: 0.5749 - val_accuracy: 0.7034 - val_loss: 0.5884\n",
      "Epoch 49/100\n",
      "\u001b[1m1347/1347\u001b[0m \u001b[32m━━━━━━━━━━━━━━━━━━━━\u001b[0m\u001b[37m\u001b[0m \u001b[1m2s\u001b[0m 1ms/step - accuracy: 0.7123 - loss: 0.5748 - val_accuracy: 0.7052 - val_loss: 0.5865\n",
      "Epoch 50/100\n",
      "\u001b[1m1347/1347\u001b[0m \u001b[32m━━━━━━━━━━━━━━━━━━━━\u001b[0m\u001b[37m\u001b[0m \u001b[1m2s\u001b[0m 1ms/step - accuracy: 0.7120 - loss: 0.5741 - val_accuracy: 0.7041 - val_loss: 0.5876\n",
      "Epoch 51/100\n",
      "\u001b[1m1347/1347\u001b[0m \u001b[32m━━━━━━━━━━━━━━━━━━━━\u001b[0m\u001b[37m\u001b[0m \u001b[1m2s\u001b[0m 1ms/step - accuracy: 0.7126 - loss: 0.5732 - val_accuracy: 0.7023 - val_loss: 0.5876\n",
      "Epoch 52/100\n",
      "\u001b[1m1347/1347\u001b[0m \u001b[32m━━━━━━━━━━━━━━━━━━━━\u001b[0m\u001b[37m\u001b[0m \u001b[1m2s\u001b[0m 1ms/step - accuracy: 0.7128 - loss: 0.5727 - val_accuracy: 0.7021 - val_loss: 0.5864\n",
      "Epoch 53/100\n",
      "\u001b[1m1347/1347\u001b[0m \u001b[32m━━━━━━━━━━━━━━━━━━━━\u001b[0m\u001b[37m\u001b[0m \u001b[1m2s\u001b[0m 1ms/step - accuracy: 0.7131 - loss: 0.5719 - val_accuracy: 0.6998 - val_loss: 0.5883\n",
      "Epoch 54/100\n",
      "\u001b[1m1347/1347\u001b[0m \u001b[32m━━━━━━━━━━━━━━━━━━━━\u001b[0m\u001b[37m\u001b[0m \u001b[1m2s\u001b[0m 1ms/step - accuracy: 0.7138 - loss: 0.5708 - val_accuracy: 0.7017 - val_loss: 0.5877\n",
      "Epoch 55/100\n",
      "\u001b[1m1347/1347\u001b[0m \u001b[32m━━━━━━━━━━━━━━━━━━━━\u001b[0m\u001b[37m\u001b[0m \u001b[1m2s\u001b[0m 1ms/step - accuracy: 0.7133 - loss: 0.5704 - val_accuracy: 0.7004 - val_loss: 0.5889\n",
      "Epoch 56/100\n",
      "\u001b[1m1347/1347\u001b[0m \u001b[32m━━━━━━━━━━━━━━━━━━━━\u001b[0m\u001b[37m\u001b[0m \u001b[1m2s\u001b[0m 1ms/step - accuracy: 0.7142 - loss: 0.5702 - val_accuracy: 0.6983 - val_loss: 0.5900\n",
      "Epoch 57/100\n",
      "\u001b[1m1347/1347\u001b[0m \u001b[32m━━━━━━━━━━━━━━━━━━━━\u001b[0m\u001b[37m\u001b[0m \u001b[1m2s\u001b[0m 1ms/step - accuracy: 0.7135 - loss: 0.5697 - val_accuracy: 0.6980 - val_loss: 0.5905\n",
      "Epoch 58/100\n",
      "\u001b[1m1347/1347\u001b[0m \u001b[32m━━━━━━━━━━━━━━━━━━━━\u001b[0m\u001b[37m\u001b[0m \u001b[1m2s\u001b[0m 1ms/step - accuracy: 0.7143 - loss: 0.5698 - val_accuracy: 0.6996 - val_loss: 0.5898\n",
      "Epoch 59/100\n",
      "\u001b[1m1347/1347\u001b[0m \u001b[32m━━━━━━━━━━━━━━━━━━━━\u001b[0m\u001b[37m\u001b[0m \u001b[1m2s\u001b[0m 1ms/step - accuracy: 0.7128 - loss: 0.5690 - val_accuracy: 0.7017 - val_loss: 0.5884\n",
      "Epoch 60/100\n",
      "\u001b[1m1347/1347\u001b[0m \u001b[32m━━━━━━━━━━━━━━━━━━━━\u001b[0m\u001b[37m\u001b[0m \u001b[1m2s\u001b[0m 1ms/step - accuracy: 0.7136 - loss: 0.5679 - val_accuracy: 0.7013 - val_loss: 0.5879\n",
      "Epoch 61/100\n",
      "\u001b[1m1347/1347\u001b[0m \u001b[32m━━━━━━━━━━━━━━━━━━━━\u001b[0m\u001b[37m\u001b[0m \u001b[1m2s\u001b[0m 1ms/step - accuracy: 0.7153 - loss: 0.5676 - val_accuracy: 0.7017 - val_loss: 0.5874\n",
      "Epoch 62/100\n",
      "\u001b[1m1347/1347\u001b[0m \u001b[32m━━━━━━━━━━━━━━━━━━━━\u001b[0m\u001b[37m\u001b[0m \u001b[1m2s\u001b[0m 1ms/step - accuracy: 0.7154 - loss: 0.5666 - val_accuracy: 0.7006 - val_loss: 0.5894\n",
      "Epoch 63/100\n",
      "\u001b[1m1347/1347\u001b[0m \u001b[32m━━━━━━━━━━━━━━━━━━━━\u001b[0m\u001b[37m\u001b[0m \u001b[1m2s\u001b[0m 2ms/step - accuracy: 0.7148 - loss: 0.5662 - val_accuracy: 0.6939 - val_loss: 0.5927\n",
      "Epoch 64/100\n",
      "\u001b[1m1347/1347\u001b[0m \u001b[32m━━━━━━━━━━━━━━━━━━━━\u001b[0m\u001b[37m\u001b[0m \u001b[1m2s\u001b[0m 1ms/step - accuracy: 0.7143 - loss: 0.5678 - val_accuracy: 0.7004 - val_loss: 0.5880\n",
      "Epoch 65/100\n",
      "\u001b[1m1347/1347\u001b[0m \u001b[32m━━━━━━━━━━━━━━━━━━━━\u001b[0m\u001b[37m\u001b[0m \u001b[1m2s\u001b[0m 1ms/step - accuracy: 0.7138 - loss: 0.5666 - val_accuracy: 0.7013 - val_loss: 0.5876\n",
      "Epoch 66/100\n",
      "\u001b[1m1347/1347\u001b[0m \u001b[32m━━━━━━━━━━━━━━━━━━━━\u001b[0m\u001b[37m\u001b[0m \u001b[1m2s\u001b[0m 1ms/step - accuracy: 0.7148 - loss: 0.5662 - val_accuracy: 0.7000 - val_loss: 0.5876\n",
      "Epoch 67/100\n",
      "\u001b[1m1347/1347\u001b[0m \u001b[32m━━━━━━━━━━━━━━━━━━━━\u001b[0m\u001b[37m\u001b[0m \u001b[1m2s\u001b[0m 1ms/step - accuracy: 0.7156 - loss: 0.5653 - val_accuracy: 0.7013 - val_loss: 0.5871\n",
      "Epoch 68/100\n",
      "\u001b[1m1347/1347\u001b[0m \u001b[32m━━━━━━━━━━━━━━━━━━━━\u001b[0m\u001b[37m\u001b[0m \u001b[1m2s\u001b[0m 1ms/step - accuracy: 0.7159 - loss: 0.5651 - val_accuracy: 0.6982 - val_loss: 0.5870\n",
      "Epoch 69/100\n",
      "\u001b[1m1347/1347\u001b[0m \u001b[32m━━━━━━━━━━━━━━━━━━━━\u001b[0m\u001b[37m\u001b[0m \u001b[1m2s\u001b[0m 2ms/step - accuracy: 0.7164 - loss: 0.5648 - val_accuracy: 0.6996 - val_loss: 0.5874\n",
      "Epoch 70/100\n",
      "\u001b[1m1347/1347\u001b[0m \u001b[32m━━━━━━━━━━━━━━━━━━━━\u001b[0m\u001b[37m\u001b[0m \u001b[1m2s\u001b[0m 2ms/step - accuracy: 0.7166 - loss: 0.5641 - val_accuracy: 0.6987 - val_loss: 0.5876\n",
      "Epoch 71/100\n",
      "\u001b[1m1347/1347\u001b[0m \u001b[32m━━━━━━━━━━━━━━━━━━━━\u001b[0m\u001b[37m\u001b[0m \u001b[1m2s\u001b[0m 1ms/step - accuracy: 0.7169 - loss: 0.5636 - val_accuracy: 0.6982 - val_loss: 0.5863\n"
     ]
    }
   ],
   "source": [
    "basic_rnn = tf.keras.Sequential([\n",
    "    tf.keras.layers.Input((10, 26)),\n",
    "    tf.keras.layers.SimpleRNN(32),\n",
    "    tf.keras.layers.Dense(1, activation='sigmoid')\n",
    "])\n",
    "\n",
    "early_stop = tf.keras.callbacks.EarlyStopping(monitor='val_accuracy', patience=25, restore_best_weights=True)\n",
    "\n",
    "opt = tf.keras.optimizers.SGD(learning_rate=0.001, momentum=0.9)\n",
    "basic_rnn.compile(loss=tf.keras.losses.BinaryCrossentropy(), optimizer=opt, metrics=['accuracy'])\n",
    "history = basic_rnn.fit(train_ds, validation_data=val_ds, epochs=100, callbacks=[early_stop])"
   ]
  },
  {
   "cell_type": "code",
   "execution_count": 29,
   "id": "0dfbf26e-26e1-4b31-b09e-73feef9db7e9",
   "metadata": {},
   "outputs": [
    {
     "name": "stdout",
     "output_type": "stream",
     "text": [
      "\u001b[1m169/169\u001b[0m \u001b[32m━━━━━━━━━━━━━━━━━━━━\u001b[0m\u001b[37m\u001b[0m \u001b[1m0s\u001b[0m 2ms/step - accuracy: 0.7158 - loss: 0.5837 \n",
      "71.81% Accuracy\n"
     ]
    }
   ],
   "source": [
    "test_loss, test_acc = basic_rnn.evaluate(test_ds)\n",
    "print(f\"{round(test_acc * 100, 2)}% Accuracy\")"
   ]
  },
  {
   "cell_type": "code",
   "execution_count": 30,
   "id": "e1018b4e-1093-46ad-9e3f-d30f4029b647",
   "metadata": {
    "scrolled": true
   },
   "outputs": [
    {
     "name": "stdout",
     "output_type": "stream",
     "text": [
      "Epoch 1/100\n",
      "\u001b[1m1347/1347\u001b[0m \u001b[32m━━━━━━━━━━━━━━━━━━━━\u001b[0m\u001b[37m\u001b[0m \u001b[1m8s\u001b[0m 5ms/step - accuracy: 0.5213 - loss: 0.6962 - val_accuracy: 0.6465 - val_loss: 0.6540\n",
      "Epoch 2/100\n",
      "\u001b[1m1347/1347\u001b[0m \u001b[32m━━━━━━━━━━━━━━━━━━━━\u001b[0m\u001b[37m\u001b[0m \u001b[1m6s\u001b[0m 4ms/step - accuracy: 0.6692 - loss: 0.6320 - val_accuracy: 0.7049 - val_loss: 0.5982\n",
      "Epoch 3/100\n",
      "\u001b[1m1347/1347\u001b[0m \u001b[32m━━━━━━━━━━━━━━━━━━━━\u001b[0m\u001b[37m\u001b[0m \u001b[1m6s\u001b[0m 4ms/step - accuracy: 0.7065 - loss: 0.5970 - val_accuracy: 0.7086 - val_loss: 0.5920\n",
      "Epoch 4/100\n",
      "\u001b[1m1347/1347\u001b[0m \u001b[32m━━━━━━━━━━━━━━━━━━━━\u001b[0m\u001b[37m\u001b[0m \u001b[1m6s\u001b[0m 4ms/step - accuracy: 0.7083 - loss: 0.5900 - val_accuracy: 0.7095 - val_loss: 0.5887\n",
      "Epoch 5/100\n",
      "\u001b[1m1347/1347\u001b[0m \u001b[32m━━━━━━━━━━━━━━━━━━━━\u001b[0m\u001b[37m\u001b[0m \u001b[1m6s\u001b[0m 4ms/step - accuracy: 0.7097 - loss: 0.5850 - val_accuracy: 0.7114 - val_loss: 0.5864\n",
      "Epoch 6/100\n",
      "\u001b[1m1347/1347\u001b[0m \u001b[32m━━━━━━━━━━━━━━━━━━━━\u001b[0m\u001b[37m\u001b[0m \u001b[1m6s\u001b[0m 4ms/step - accuracy: 0.7116 - loss: 0.5812 - val_accuracy: 0.7114 - val_loss: 0.5845\n",
      "Epoch 7/100\n",
      "\u001b[1m1347/1347\u001b[0m \u001b[32m━━━━━━━━━━━━━━━━━━━━\u001b[0m\u001b[37m\u001b[0m \u001b[1m6s\u001b[0m 4ms/step - accuracy: 0.7113 - loss: 0.5778 - val_accuracy: 0.7132 - val_loss: 0.5826\n",
      "Epoch 8/100\n",
      "\u001b[1m1347/1347\u001b[0m \u001b[32m━━━━━━━━━━━━━━━━━━━━\u001b[0m\u001b[37m\u001b[0m \u001b[1m6s\u001b[0m 4ms/step - accuracy: 0.7133 - loss: 0.5751 - val_accuracy: 0.7115 - val_loss: 0.5812\n",
      "Epoch 9/100\n",
      "\u001b[1m1347/1347\u001b[0m \u001b[32m━━━━━━━━━━━━━━━━━━━━\u001b[0m\u001b[37m\u001b[0m \u001b[1m6s\u001b[0m 4ms/step - accuracy: 0.7139 - loss: 0.5715 - val_accuracy: 0.7104 - val_loss: 0.5795\n",
      "Epoch 10/100\n",
      "\u001b[1m1347/1347\u001b[0m \u001b[32m━━━━━━━━━━━━━━━━━━━━\u001b[0m\u001b[37m\u001b[0m \u001b[1m6s\u001b[0m 4ms/step - accuracy: 0.7149 - loss: 0.5683 - val_accuracy: 0.7099 - val_loss: 0.5788\n",
      "Epoch 11/100\n",
      "\u001b[1m1347/1347\u001b[0m \u001b[32m━━━━━━━━━━━━━━━━━━━━\u001b[0m\u001b[37m\u001b[0m \u001b[1m6s\u001b[0m 4ms/step - accuracy: 0.7145 - loss: 0.5656 - val_accuracy: 0.7110 - val_loss: 0.5767\n",
      "Epoch 12/100\n",
      "\u001b[1m1347/1347\u001b[0m \u001b[32m━━━━━━━━━━━━━━━━━━━━\u001b[0m\u001b[37m\u001b[0m \u001b[1m6s\u001b[0m 4ms/step - accuracy: 0.7158 - loss: 0.5633 - val_accuracy: 0.7129 - val_loss: 0.5761\n",
      "Epoch 13/100\n",
      "\u001b[1m1347/1347\u001b[0m \u001b[32m━━━━━━━━━━━━━━━━━━━━\u001b[0m\u001b[37m\u001b[0m \u001b[1m6s\u001b[0m 4ms/step - accuracy: 0.7158 - loss: 0.5614 - val_accuracy: 0.7127 - val_loss: 0.5756\n",
      "Epoch 14/100\n",
      "\u001b[1m1347/1347\u001b[0m \u001b[32m━━━━━━━━━━━━━━━━━━━━\u001b[0m\u001b[37m\u001b[0m \u001b[1m6s\u001b[0m 4ms/step - accuracy: 0.7178 - loss: 0.5592 - val_accuracy: 0.7121 - val_loss: 0.5755\n",
      "Epoch 15/100\n",
      "\u001b[1m1347/1347\u001b[0m \u001b[32m━━━━━━━━━━━━━━━━━━━━\u001b[0m\u001b[37m\u001b[0m \u001b[1m6s\u001b[0m 5ms/step - accuracy: 0.7171 - loss: 0.5580 - val_accuracy: 0.7102 - val_loss: 0.5752\n",
      "Epoch 16/100\n",
      "\u001b[1m1347/1347\u001b[0m \u001b[32m━━━━━━━━━━━━━━━━━━━━\u001b[0m\u001b[37m\u001b[0m \u001b[1m6s\u001b[0m 4ms/step - accuracy: 0.7190 - loss: 0.5569 - val_accuracy: 0.7097 - val_loss: 0.5751\n",
      "Epoch 17/100\n",
      "\u001b[1m1347/1347\u001b[0m \u001b[32m━━━━━━━━━━━━━━━━━━━━\u001b[0m\u001b[37m\u001b[0m \u001b[1m6s\u001b[0m 4ms/step - accuracy: 0.7184 - loss: 0.5546 - val_accuracy: 0.7082 - val_loss: 0.5747\n"
     ]
    }
   ],
   "source": [
    "deep_rnn = tf.keras.Sequential([\n",
    "    tf.keras.layers.Input((10, 26)),\n",
    "    tf.keras.layers.Conv1D(filters=64, kernel_size=2, strides=2, activation='relu'),\n",
    "    tf.keras.layers.GRU(32, return_sequences=True),\n",
    "    tf.keras.layers.SimpleRNN(32),\n",
    "    tf.keras.layers.Dense(1, activation='sigmoid')\n",
    "])\n",
    "\n",
    "early_stop = tf.keras.callbacks.EarlyStopping(monitor='val_accuracy', patience=10, restore_best_weights=True)\n",
    "\n",
    "opt = tf.keras.optimizers.SGD(learning_rate=0.001, momentum=0.9)\n",
    "deep_rnn.compile(loss=tf.keras.losses.BinaryCrossentropy(), optimizer=opt, metrics=['accuracy'])\n",
    "history = deep_rnn.fit(train_ds, validation_data=val_ds, epochs=100, callbacks=[early_stop])"
   ]
  },
  {
   "cell_type": "code",
   "execution_count": 31,
   "id": "b34d72c0-fc98-4f70-8a1c-693cf944676d",
   "metadata": {},
   "outputs": [
    {
     "data": {
      "text/plain": [
       "<Axes: >"
      ]
     },
     "execution_count": 31,
     "metadata": {},
     "output_type": "execute_result"
    },
    {
     "data": {
      "image/png": "[encoded data removed]",
      "text/plain": [
       "<Figure size 640x480 with 1 Axes>"
      ]
     },
     "metadata": {},
     "output_type": "display_data"
    }
   ],
   "source": [
    "pd.DataFrame(history.history).plot()"
   ]
  },
  {
   "cell_type": "code",
   "execution_count": 32,
   "id": "a9d350e8-7d55-4b37-bb40-4f2aa4f2f2d5",
   "metadata": {},
   "outputs": [
    {
     "name": "stdout",
     "output_type": "stream",
     "text": [
      "Epoch 1/50\n",
      "\u001b[1m1347/1347\u001b[0m \u001b[32m━━━━━━━━━━━━━━━━━━━━\u001b[0m\u001b[37m\u001b[0m \u001b[1m7s\u001b[0m 5ms/step - accuracy: 0.7140 - loss: 0.5739 - val_accuracy: 0.7102 - val_loss: 0.5823\n",
      "Epoch 2/50\n",
      "\u001b[1m1347/1347\u001b[0m \u001b[32m━━━━━━━━━━━━━━━━━━━━\u001b[0m\u001b[37m\u001b[0m \u001b[1m6s\u001b[0m 4ms/step - accuracy: 0.7154 - loss: 0.5731 - val_accuracy: 0.7097 - val_loss: 0.5824\n",
      "Epoch 3/50\n",
      "\u001b[1m1347/1347\u001b[0m \u001b[32m━━━━━━━━━━━━━━━━━━━━\u001b[0m\u001b[37m\u001b[0m \u001b[1m6s\u001b[0m 5ms/step - accuracy: 0.7156 - loss: 0.5736 - val_accuracy: 0.7093 - val_loss: 0.5824\n",
      "Epoch 4/50\n",
      "\u001b[1m1347/1347\u001b[0m \u001b[32m━━━━━━━━━━━━━━━━━━━━\u001b[0m\u001b[37m\u001b[0m \u001b[1m6s\u001b[0m 4ms/step - accuracy: 0.7154 - loss: 0.5736 - val_accuracy: 0.7086 - val_loss: 0.5824\n",
      "Epoch 5/50\n",
      "\u001b[1m1347/1347\u001b[0m \u001b[32m━━━━━━━━━━━━━━━━━━━━\u001b[0m\u001b[37m\u001b[0m \u001b[1m6s\u001b[0m 4ms/step - accuracy: 0.7158 - loss: 0.5731 - val_accuracy: 0.7086 - val_loss: 0.5824\n",
      "Epoch 6/50\n",
      "\u001b[1m1347/1347\u001b[0m \u001b[32m━━━━━━━━━━━━━━━━━━━━\u001b[0m\u001b[37m\u001b[0m \u001b[1m6s\u001b[0m 4ms/step - accuracy: 0.7159 - loss: 0.5729 - val_accuracy: 0.7084 - val_loss: 0.5824\n",
      "Epoch 7/50\n",
      "\u001b[1m1347/1347\u001b[0m \u001b[32m━━━━━━━━━━━━━━━━━━━━\u001b[0m\u001b[37m\u001b[0m \u001b[1m6s\u001b[0m 4ms/step - accuracy: 0.7155 - loss: 0.5731 - val_accuracy: 0.7088 - val_loss: 0.5824\n",
      "Epoch 8/50\n",
      "\u001b[1m1347/1347\u001b[0m \u001b[32m━━━━━━━━━━━━━━━━━━━━\u001b[0m\u001b[37m\u001b[0m \u001b[1m6s\u001b[0m 4ms/step - accuracy: 0.7156 - loss: 0.5730 - val_accuracy: 0.7089 - val_loss: 0.5824\n",
      "Epoch 9/50\n",
      "\u001b[1m1347/1347\u001b[0m \u001b[32m━━━━━━━━━━━━━━━━━━━━\u001b[0m\u001b[37m\u001b[0m \u001b[1m6s\u001b[0m 5ms/step - accuracy: 0.7155 - loss: 0.5726 - val_accuracy: 0.7093 - val_loss: 0.5824\n",
      "Epoch 10/50\n",
      "\u001b[1m1347/1347\u001b[0m \u001b[32m━━━━━━━━━━━━━━━━━━━━\u001b[0m\u001b[37m\u001b[0m \u001b[1m6s\u001b[0m 5ms/step - accuracy: 0.7155 - loss: 0.5727 - val_accuracy: 0.7093 - val_loss: 0.5824\n",
      "Epoch 11/50\n",
      "\u001b[1m1347/1347\u001b[0m \u001b[32m━━━━━━━━━━━━━━━━━━━━\u001b[0m\u001b[37m\u001b[0m \u001b[1m7s\u001b[0m 5ms/step - accuracy: 0.7154 - loss: 0.5725 - val_accuracy: 0.7095 - val_loss: 0.5824\n"
     ]
    }
   ],
   "source": [
    "early_stop = tf.keras.callbacks.EarlyStopping(monitor='val_accuracy', patience=10, restore_best_weights=True)\n",
    "\n",
    "opt = tf.keras.optimizers.SGD(learning_rate=0.00001, momentum=0.9)\n",
    "deep_rnn.compile(loss=tf.keras.losses.BinaryCrossentropy(), optimizer=opt, metrics=['accuracy'])\n",
    "history = deep_rnn.fit(train_ds, validation_data=val_ds, epochs=50, callbacks=[early_stop])"
   ]
  },
  {
   "cell_type": "code",
   "execution_count": 33,
   "id": "1ce46f95-b6bd-43ed-8117-989640a683b3",
   "metadata": {},
   "outputs": [
    {
     "data": {
      "text/plain": [
       "<Axes: >"
      ]
     },
     "execution_count": 33,
     "metadata": {},
     "output_type": "execute_result"
    },
    {
     "data": {
      "image/png": "[encoded data removed]",
      "text/plain": [
       "<Figure size 640x480 with 1 Axes>"
      ]
     },
     "metadata": {},
     "output_type": "display_data"
    }
   ],
   "source": [
    "pd.DataFrame(history.history).plot()"
   ]
  },
  {
   "cell_type": "markdown",
   "id": "36711b24-2df5-43c2-a4d8-91de2069cb8c",
   "metadata": {},
   "source": [
    "### Fine Tune Model"
   ]
  },
  {
   "cell_type": "code",
   "execution_count": 34,
   "id": "a8483df9-2137-450c-8289-1dd1fda67290",
   "metadata": {},
   "outputs": [],
   "source": [
    "import keras_tuner as kt"
   ]
  },
  {
   "cell_type": "code",
   "execution_count": 36,
   "id": "8fa50c47-8002-42bc-94df-6b53897a7a12",
   "metadata": {},
   "outputs": [],
   "source": [
    "def build_model(hp: kt.HyperParameters):\n",
    "    ## Hyperparameters\n",
    "    num_rnn_layers = hp.Int('n_rnn_layers', min_value=1, max_value=4)\n",
    "    n_neurons = hp.Int('n_neurons', min_value=32, max_value=256, sampling='log')\n",
    "    learning_rate = hp.Float('learning_rate', min_value=1e-4, max_value=2e-2, sampling='log')\n",
    "    optimizer = hp.Choice('optimizer', values=['sgd', 'adam'])\n",
    "    if optimizer == 'sgd':\n",
    "        optimizer = tf.keras.optimizers.SGD(learning_rate=learning_rate, momentum=0.9)\n",
    "    else:\n",
    "        optimizer = tf.keras.optimizers.Adam(learning_rate=learning_rate)\n",
    "\n",
    "    ## Model\n",
    "    model = tf.keras.Sequential()\n",
    "    model.add(tf.keras.layers.Input((10, 26)))\n",
    "    for _ in range(num_rnn_layers):\n",
    "        model.add(tf.keras.layers.GRU(n_neurons, return_sequences=True))\n",
    "    model.add(tf.keras.layers.Dense(1, activation='sigmoid'))\n",
    "    model.compile(loss=tf.keras.losses.BinaryCrossentropy(), optimizer=opt, metrics=['accuracy'])\n",
    "    \n",
    "    return model"
   ]
  },
  {
   "cell_type": "code",
   "execution_count": 37,
   "id": "0a6b6cfa-0d29-4de7-9824-dbb5be334552",
   "metadata": {},
   "outputs": [
    {
     "name": "stdout",
     "output_type": "stream",
     "text": [
      "Trial 2 Complete [00h 00m 00s]\n",
      "\n",
      "Best val_accuracy So Far: None\n",
      "Total elapsed time: 00h 00m 01s\n",
      "\n",
      "Search: Running Trial #3\n",
      "\n",
      "Value             |Best Value So Far |Hyperparameter\n",
      "1                 |1                 |n_rnn_layers\n",
      "32                |32                |n_neurons\n",
      "0.00022139        |0.0001            |learning_rate\n",
      "sgd               |sgd               |optimizer\n",
      "\n",
      "Epoch 1/75\n"
     ]
    },
    {
     "name": "stderr",
     "output_type": "stream",
     "text": [
      "Traceback (most recent call last):\n",
      "  File \"/home/misha/Desktop/env/lib/python3.12/site-packages/keras_tuner/src/engine/base_tuner.py\", line 274, in _try_run_and_update_trial\n",
      "    self._run_and_update_trial(trial, *fit_args, **fit_kwargs)\n",
      "  File \"/home/misha/Desktop/env/lib/python3.12/site-packages/keras_tuner/src/engine/base_tuner.py\", line 239, in _run_and_update_trial\n",
      "    results = self.run_trial(trial, *fit_args, **fit_kwargs)\n",
      "              ^^^^^^^^^^^^^^^^^^^^^^^^^^^^^^^^^^^^^^^^^^^^^^\n",
      "  File \"/home/misha/Desktop/env/lib/python3.12/site-packages/keras_tuner/src/engine/tuner.py\", line 314, in run_trial\n",
      "    obj_value = self._build_and_fit_model(trial, *args, **copied_kwargs)\n",
      "                ^^^^^^^^^^^^^^^^^^^^^^^^^^^^^^^^^^^^^^^^^^^^^^^^^^^^^^^^\n",
      "  File \"/home/misha/Desktop/env/lib/python3.12/site-packages/keras_tuner/src/engine/tuner.py\", line 233, in _build_and_fit_model\n",
      "    results = self.hypermodel.fit(hp, model, *args, **kwargs)\n",
      "              ^^^^^^^^^^^^^^^^^^^^^^^^^^^^^^^^^^^^^^^^^^^^^^^\n",
      "  File \"/home/misha/Desktop/env/lib/python3.12/site-packages/keras_tuner/src/engine/hypermodel.py\", line 149, in fit\n",
      "    return model.fit(*args, **kwargs)\n",
      "           ^^^^^^^^^^^^^^^^^^^^^^^^^^\n",
      "  File \"/home/misha/Desktop/env/lib/python3.12/site-packages/keras/src/utils/traceback_utils.py\", line 122, in error_handler\n",
      "    raise e.with_traceback(filtered_tb) from None\n",
      "  File \"/home/misha/Desktop/env/lib/python3.12/site-packages/keras/src/backend/tensorflow/nn.py\", line 737, in binary_crossentropy\n",
      "    raise ValueError(\n",
      "ValueError: Arguments `target` and `output` must have the same rank (ndim). Received: target.shape=(None,), output.shape=(None, None, 1)\n"
     ]
    },
    {
     "ename": "RuntimeError",
     "evalue": "Number of consecutive failures exceeded the limit of 3.\nTraceback (most recent call last):\n  File \"/home/misha/Desktop/env/lib/python3.12/site-packages/keras_tuner/src/engine/base_tuner.py\", line 274, in _try_run_and_update_trial\n    self._run_and_update_trial(trial, *fit_args, **fit_kwargs)\n  File \"/home/misha/Desktop/env/lib/python3.12/site-packages/keras_tuner/src/engine/base_tuner.py\", line 239, in _run_and_update_trial\n    results = self.run_trial(trial, *fit_args, **fit_kwargs)\n              ^^^^^^^^^^^^^^^^^^^^^^^^^^^^^^^^^^^^^^^^^^^^^^\n  File \"/home/misha/Desktop/env/lib/python3.12/site-packages/keras_tuner/src/engine/tuner.py\", line 314, in run_trial\n    obj_value = self._build_and_fit_model(trial, *args, **copied_kwargs)\n                ^^^^^^^^^^^^^^^^^^^^^^^^^^^^^^^^^^^^^^^^^^^^^^^^^^^^^^^^\n  File \"/home/misha/Desktop/env/lib/python3.12/site-packages/keras_tuner/src/engine/tuner.py\", line 233, in _build_and_fit_model\n    results = self.hypermodel.fit(hp, model, *args, **kwargs)\n              ^^^^^^^^^^^^^^^^^^^^^^^^^^^^^^^^^^^^^^^^^^^^^^^\n  File \"/home/misha/Desktop/env/lib/python3.12/site-packages/keras_tuner/src/engine/hypermodel.py\", line 149, in fit\n    return model.fit(*args, **kwargs)\n           ^^^^^^^^^^^^^^^^^^^^^^^^^^\n  File \"/home/misha/Desktop/env/lib/python3.12/site-packages/keras/src/utils/traceback_utils.py\", line 122, in error_handler\n    raise e.with_traceback(filtered_tb) from None\n  File \"/home/misha/Desktop/env/lib/python3.12/site-packages/keras/src/backend/tensorflow/nn.py\", line 737, in binary_crossentropy\n    raise ValueError(\nValueError: Arguments `target` and `output` must have the same rank (ndim). Received: target.shape=(None,), output.shape=(None, None, 1)\n",
     "output_type": "error",
     "traceback": [
      "\u001b[0;31m---------------------------------------------------------------------------\u001b[0m",
      "\u001b[0;31mRuntimeError\u001b[0m                              Traceback (most recent call last)",
      "Cell \u001b[0;32mIn[37], line 6\u001b[0m\n\u001b[1;32m      1\u001b[0m early_stop \u001b[38;5;241m=\u001b[39m tf\u001b[38;5;241m.\u001b[39mkeras\u001b[38;5;241m.\u001b[39mcallbacks\u001b[38;5;241m.\u001b[39mEarlyStopping(monitor\u001b[38;5;241m=\u001b[39m\u001b[38;5;124m'\u001b[39m\u001b[38;5;124mval_accuracy\u001b[39m\u001b[38;5;124m'\u001b[39m, patience\u001b[38;5;241m=\u001b[39m\u001b[38;5;241m5\u001b[39m)\n\u001b[1;32m      2\u001b[0m grid_search_tuner \u001b[38;5;241m=\u001b[39m kt\u001b[38;5;241m.\u001b[39mGridSearch(\n\u001b[1;32m      3\u001b[0m     build_model, objective\u001b[38;5;241m=\u001b[39m\u001b[38;5;124m'\u001b[39m\u001b[38;5;124mval_accuracy\u001b[39m\u001b[38;5;124m'\u001b[39m, max_trials\u001b[38;5;241m=\u001b[39m\u001b[38;5;241m10\u001b[39m,\n\u001b[1;32m      4\u001b[0m     directory\u001b[38;5;241m=\u001b[39m\u001b[38;5;124m'\u001b[39m\u001b[38;5;124mstock_rnn_tuner\u001b[39m\u001b[38;5;124m'\u001b[39m, seed\u001b[38;5;241m=\u001b[39m\u001b[38;5;241m1\u001b[39m\n\u001b[1;32m      5\u001b[0m )\n\u001b[0;32m----> 6\u001b[0m \u001b[43mgrid_search_tuner\u001b[49m\u001b[38;5;241;43m.\u001b[39;49m\u001b[43msearch\u001b[49m\u001b[43m(\u001b[49m\u001b[43mtrain_ds\u001b[49m\u001b[43m,\u001b[49m\u001b[43m \u001b[49m\u001b[43mvalidation_data\u001b[49m\u001b[38;5;241;43m=\u001b[39;49m\u001b[43mval_ds\u001b[49m\u001b[43m,\u001b[49m\u001b[43m \u001b[49m\u001b[43mepochs\u001b[49m\u001b[38;5;241;43m=\u001b[39;49m\u001b[38;5;241;43m75\u001b[39;49m\u001b[43m,\u001b[49m\u001b[43m \u001b[49m\u001b[43mcallbacks\u001b[49m\u001b[38;5;241;43m=\u001b[39;49m\u001b[43m[\u001b[49m\u001b[43mearly_stop\u001b[49m\u001b[43m]\u001b[49m\u001b[43m)\u001b[49m\n",
      "File \u001b[0;32m~/Desktop/env/lib/python3.12/site-packages/keras_tuner/src/engine/base_tuner.py:235\u001b[0m, in \u001b[0;36mBaseTuner.search\u001b[0;34m(self, *fit_args, **fit_kwargs)\u001b[0m\n\u001b[1;32m    233\u001b[0m     \u001b[38;5;28mself\u001b[39m\u001b[38;5;241m.\u001b[39mon_trial_begin(trial)\n\u001b[1;32m    234\u001b[0m     \u001b[38;5;28mself\u001b[39m\u001b[38;5;241m.\u001b[39m_try_run_and_update_trial(trial, \u001b[38;5;241m*\u001b[39mfit_args, \u001b[38;5;241m*\u001b[39m\u001b[38;5;241m*\u001b[39mfit_kwargs)\n\u001b[0;32m--> 235\u001b[0m     \u001b[38;5;28;43mself\u001b[39;49m\u001b[38;5;241;43m.\u001b[39;49m\u001b[43mon_trial_end\u001b[49m\u001b[43m(\u001b[49m\u001b[43mtrial\u001b[49m\u001b[43m)\u001b[49m\n\u001b[1;32m    236\u001b[0m \u001b[38;5;28mself\u001b[39m\u001b[38;5;241m.\u001b[39mon_search_end()\n",
      "File \u001b[0;32m~/Desktop/env/lib/python3.12/site-packages/keras_tuner/src/engine/base_tuner.py:339\u001b[0m, in \u001b[0;36mBaseTuner.on_trial_end\u001b[0;34m(self, trial)\u001b[0m\n\u001b[1;32m    333\u001b[0m \u001b[38;5;28;01mdef\u001b[39;00m \u001b[38;5;21mon_trial_end\u001b[39m(\u001b[38;5;28mself\u001b[39m, trial):\n\u001b[1;32m    334\u001b[0m \u001b[38;5;250m    \u001b[39m\u001b[38;5;124;03m\"\"\"Called at the end of a trial.\u001b[39;00m\n\u001b[1;32m    335\u001b[0m \n\u001b[1;32m    336\u001b[0m \u001b[38;5;124;03m    Args:\u001b[39;00m\n\u001b[1;32m    337\u001b[0m \u001b[38;5;124;03m        trial: A `Trial` instance.\u001b[39;00m\n\u001b[1;32m    338\u001b[0m \u001b[38;5;124;03m    \"\"\"\u001b[39;00m\n\u001b[0;32m--> 339\u001b[0m     \u001b[38;5;28;43mself\u001b[39;49m\u001b[38;5;241;43m.\u001b[39;49m\u001b[43moracle\u001b[49m\u001b[38;5;241;43m.\u001b[39;49m\u001b[43mend_trial\u001b[49m\u001b[43m(\u001b[49m\u001b[43mtrial\u001b[49m\u001b[43m)\u001b[49m\n\u001b[1;32m    340\u001b[0m     \u001b[38;5;28mself\u001b[39m\u001b[38;5;241m.\u001b[39msave()\n",
      "File \u001b[0;32m~/Desktop/env/lib/python3.12/site-packages/keras_tuner/src/engine/oracle.py:108\u001b[0m, in \u001b[0;36msynchronized.<locals>.wrapped_func\u001b[0;34m(*args, **kwargs)\u001b[0m\n\u001b[1;32m    106\u001b[0m     LOCKS[oracle]\u001b[38;5;241m.\u001b[39macquire()\n\u001b[1;32m    107\u001b[0m     THREADS[oracle] \u001b[38;5;241m=\u001b[39m thread_name\n\u001b[0;32m--> 108\u001b[0m ret_val \u001b[38;5;241m=\u001b[39m \u001b[43mfunc\u001b[49m\u001b[43m(\u001b[49m\u001b[38;5;241;43m*\u001b[39;49m\u001b[43margs\u001b[49m\u001b[43m,\u001b[49m\u001b[43m \u001b[49m\u001b[38;5;241;43m*\u001b[39;49m\u001b[38;5;241;43m*\u001b[39;49m\u001b[43mkwargs\u001b[49m\u001b[43m)\u001b[49m\n\u001b[1;32m    109\u001b[0m \u001b[38;5;28;01mif\u001b[39;00m need_acquire:\n\u001b[1;32m    110\u001b[0m     THREADS[oracle] \u001b[38;5;241m=\u001b[39m \u001b[38;5;28;01mNone\u001b[39;00m\n",
      "File \u001b[0;32m~/Desktop/env/lib/python3.12/site-packages/keras_tuner/src/tuners/gridsearch.py:317\u001b[0m, in \u001b[0;36mGridSearchOracle.end_trial\u001b[0;34m(self, trial)\u001b[0m\n\u001b[1;32m    315\u001b[0m \u001b[38;5;129m@oracle_module\u001b[39m\u001b[38;5;241m.\u001b[39msynchronized\n\u001b[1;32m    316\u001b[0m \u001b[38;5;28;01mdef\u001b[39;00m \u001b[38;5;21mend_trial\u001b[39m(\u001b[38;5;28mself\u001b[39m, trial):\n\u001b[0;32m--> 317\u001b[0m     \u001b[38;5;28;43msuper\u001b[39;49m\u001b[43m(\u001b[49m\u001b[43m)\u001b[49m\u001b[38;5;241;43m.\u001b[39;49m\u001b[43mend_trial\u001b[49m\u001b[43m(\u001b[49m\u001b[43mtrial\u001b[49m\u001b[43m)\u001b[49m\n\u001b[1;32m    318\u001b[0m     \u001b[38;5;66;03m# It is OK for a trial_id to be pushed into _populate_next multiple\u001b[39;00m\n\u001b[1;32m    319\u001b[0m     \u001b[38;5;66;03m# times. It will be skipped during _populate_space if its next\u001b[39;00m\n\u001b[1;32m    320\u001b[0m     \u001b[38;5;66;03m# combination has been tried.\u001b[39;00m\n\u001b[1;32m    321\u001b[0m \n\u001b[1;32m    322\u001b[0m     \u001b[38;5;66;03m# For not blocking _populate_space, we push it regardless of the status.\u001b[39;00m\n\u001b[1;32m    323\u001b[0m     \u001b[38;5;28mself\u001b[39m\u001b[38;5;241m.\u001b[39m_populate_next\u001b[38;5;241m.\u001b[39mappend(trial\u001b[38;5;241m.\u001b[39mtrial_id)\n",
      "File \u001b[0;32m~/Desktop/env/lib/python3.12/site-packages/keras_tuner/src/engine/oracle.py:108\u001b[0m, in \u001b[0;36msynchronized.<locals>.wrapped_func\u001b[0;34m(*args, **kwargs)\u001b[0m\n\u001b[1;32m    106\u001b[0m     LOCKS[oracle]\u001b[38;5;241m.\u001b[39macquire()\n\u001b[1;32m    107\u001b[0m     THREADS[oracle] \u001b[38;5;241m=\u001b[39m thread_name\n\u001b[0;32m--> 108\u001b[0m ret_val \u001b[38;5;241m=\u001b[39m \u001b[43mfunc\u001b[49m\u001b[43m(\u001b[49m\u001b[38;5;241;43m*\u001b[39;49m\u001b[43margs\u001b[49m\u001b[43m,\u001b[49m\u001b[43m \u001b[49m\u001b[38;5;241;43m*\u001b[39;49m\u001b[38;5;241;43m*\u001b[39;49m\u001b[43mkwargs\u001b[49m\u001b[43m)\u001b[49m\n\u001b[1;32m    109\u001b[0m \u001b[38;5;28;01mif\u001b[39;00m need_acquire:\n\u001b[1;32m    110\u001b[0m     THREADS[oracle] \u001b[38;5;241m=\u001b[39m \u001b[38;5;28;01mNone\u001b[39;00m\n",
      "File \u001b[0;32m~/Desktop/env/lib/python3.12/site-packages/keras_tuner/src/engine/oracle.py:588\u001b[0m, in \u001b[0;36mOracle.end_trial\u001b[0;34m(self, trial)\u001b[0m\n\u001b[1;32m    586\u001b[0m \u001b[38;5;28;01mif\u001b[39;00m \u001b[38;5;129;01mnot\u001b[39;00m \u001b[38;5;28mself\u001b[39m\u001b[38;5;241m.\u001b[39m_retry(trial):\n\u001b[1;32m    587\u001b[0m     \u001b[38;5;28mself\u001b[39m\u001b[38;5;241m.\u001b[39mend_order\u001b[38;5;241m.\u001b[39mappend(trial\u001b[38;5;241m.\u001b[39mtrial_id)\n\u001b[0;32m--> 588\u001b[0m     \u001b[38;5;28;43mself\u001b[39;49m\u001b[38;5;241;43m.\u001b[39;49m\u001b[43m_check_consecutive_failures\u001b[49m\u001b[43m(\u001b[49m\u001b[43m)\u001b[49m\n\u001b[1;32m    590\u001b[0m \u001b[38;5;28mself\u001b[39m\u001b[38;5;241m.\u001b[39m_save_trial(trial)\n\u001b[1;32m    591\u001b[0m \u001b[38;5;28mself\u001b[39m\u001b[38;5;241m.\u001b[39msave()\n",
      "File \u001b[0;32m~/Desktop/env/lib/python3.12/site-packages/keras_tuner/src/engine/oracle.py:545\u001b[0m, in \u001b[0;36mOracle._check_consecutive_failures\u001b[0;34m(self)\u001b[0m\n\u001b[1;32m    543\u001b[0m     consecutive_failures \u001b[38;5;241m=\u001b[39m \u001b[38;5;241m0\u001b[39m\n\u001b[1;32m    544\u001b[0m \u001b[38;5;28;01mif\u001b[39;00m consecutive_failures \u001b[38;5;241m==\u001b[39m \u001b[38;5;28mself\u001b[39m\u001b[38;5;241m.\u001b[39mmax_consecutive_failed_trials:\n\u001b[0;32m--> 545\u001b[0m     \u001b[38;5;28;01mraise\u001b[39;00m \u001b[38;5;167;01mRuntimeError\u001b[39;00m(\n\u001b[1;32m    546\u001b[0m         \u001b[38;5;124m\"\u001b[39m\u001b[38;5;124mNumber of consecutive failures exceeded the limit \u001b[39m\u001b[38;5;124m\"\u001b[39m\n\u001b[1;32m    547\u001b[0m         \u001b[38;5;124mf\u001b[39m\u001b[38;5;124m\"\u001b[39m\u001b[38;5;124mof \u001b[39m\u001b[38;5;132;01m{\u001b[39;00m\u001b[38;5;28mself\u001b[39m\u001b[38;5;241m.\u001b[39mmax_consecutive_failed_trials\u001b[38;5;132;01m}\u001b[39;00m\u001b[38;5;124m.\u001b[39m\u001b[38;5;130;01m\\n\u001b[39;00m\u001b[38;5;124m\"\u001b[39m\n\u001b[1;32m    548\u001b[0m         \u001b[38;5;241m+\u001b[39m (trial\u001b[38;5;241m.\u001b[39mmessage \u001b[38;5;129;01mor\u001b[39;00m \u001b[38;5;124m\"\u001b[39m\u001b[38;5;124m\"\u001b[39m)\n\u001b[1;32m    549\u001b[0m     )\n",
      "\u001b[0;31mRuntimeError\u001b[0m: Number of consecutive failures exceeded the limit of 3.\nTraceback (most recent call last):\n  File \"/home/misha/Desktop/env/lib/python3.12/site-packages/keras_tuner/src/engine/base_tuner.py\", line 274, in _try_run_and_update_trial\n    self._run_and_update_trial(trial, *fit_args, **fit_kwargs)\n  File \"/home/misha/Desktop/env/lib/python3.12/site-packages/keras_tuner/src/engine/base_tuner.py\", line 239, in _run_and_update_trial\n    results = self.run_trial(trial, *fit_args, **fit_kwargs)\n              ^^^^^^^^^^^^^^^^^^^^^^^^^^^^^^^^^^^^^^^^^^^^^^\n  File \"/home/misha/Desktop/env/lib/python3.12/site-packages/keras_tuner/src/engine/tuner.py\", line 314, in run_trial\n    obj_value = self._build_and_fit_model(trial, *args, **copied_kwargs)\n                ^^^^^^^^^^^^^^^^^^^^^^^^^^^^^^^^^^^^^^^^^^^^^^^^^^^^^^^^\n  File \"/home/misha/Desktop/env/lib/python3.12/site-packages/keras_tuner/src/engine/tuner.py\", line 233, in _build_and_fit_model\n    results = self.hypermodel.fit(hp, model, *args, **kwargs)\n              ^^^^^^^^^^^^^^^^^^^^^^^^^^^^^^^^^^^^^^^^^^^^^^^\n  File \"/home/misha/Desktop/env/lib/python3.12/site-packages/keras_tuner/src/engine/hypermodel.py\", line 149, in fit\n    return model.fit(*args, **kwargs)\n           ^^^^^^^^^^^^^^^^^^^^^^^^^^\n  File \"/home/misha/Desktop/env/lib/python3.12/site-packages/keras/src/utils/traceback_utils.py\", line 122, in error_handler\n    raise e.with_traceback(filtered_tb) from None\n  File \"/home/misha/Desktop/env/lib/python3.12/site-packages/keras/src/backend/tensorflow/nn.py\", line 737, in binary_crossentropy\n    raise ValueError(\nValueError: Arguments `target` and `output` must have the same rank (ndim). Received: target.shape=(None,), output.shape=(None, None, 1)\n"
     ]
    }
   ],
   "source": [
    "early_stop = tf.keras.callbacks.EarlyStopping(monitor='val_accuracy', patience=5)\n",
    "grid_search_tuner = kt.GridSearch(\n",
    "    build_model, objective='val_accuracy', max_trials=10,\n",
    "    directory='stock_rnn_tuner', seed=1\n",
    ")\n",
    "grid_search_tuner.search(train_ds, validation_data=val_ds, epochs=75, callbacks=[early_stop])"
   ]
  },
  {
   "cell_type": "code",
   "execution_count": null,
   "id": "d1096a7e-472e-4b4e-b9bc-b005d1db0114",
   "metadata": {},
   "outputs": [],
   "source": []
  }
 ],
 "metadata": {
  "kernelspec": {
   "display_name": "Python 3 (ipykernel)",
   "language": "python",
   "name": "python3"
  },
  "language_info": {
   "codemirror_mode": {
    "name": "ipython",
    "version": 3
   },
   "file_extension": ".py",
   "mimetype": "text/x-python",
   "name": "python",
   "nbconvert_exporter": "python",
   "pygments_lexer": "ipython3",
   "version": "3.12.3"
  }
 },
 "nbformat": 4,
 "nbformat_minor": 5
}
