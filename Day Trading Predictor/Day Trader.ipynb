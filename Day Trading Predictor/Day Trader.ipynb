{
 "cells": [
  {
   "cell_type": "code",
   "execution_count": 15,
   "id": "b8cac174-9690-49bb-8ee2-2ace947e07e3",
   "metadata": {},
   "outputs": [],
   "source": [
    "import numpy as np\n",
    "import pandas as pd\n",
    "import plotly.express as px\n",
    "import requests as rq\n",
    "import tensorflow as tf"
   ]
  },
  {
   "cell_type": "markdown",
   "id": "b7909ee4-2b37-49fb-9470-8a6fe6f9bc88",
   "metadata": {},
   "source": [
    "# Model Plan:\n",
    "- Find a api for real time stock data\n",
    "- Find a api for real time news\n",
    "- Feature engineer features\n",
    "- Build Multi-modal model for day trading.\n",
    "- First branch of model will be Time Series analysis model that will take the real time stock data as a sequence\n",
    "- Second branch of model will be a text classifier/sentiment analysis model that can take the real time news\n",
    "- Combine the two branches to make the multi-modal model\n",
    "\n",
    "# Agent Plan:\n",
    "- Use same apis to get input data (This is how agent recieves input)\n",
    "- Use LLM with function calling to helper function and to run the model (Thinking part)\n",
    "- Have the agent output the result or make the trade itself using the api (The action/goal achieving part)\n"
   ]
  },
  {
   "cell_type": "markdown",
   "id": "c49ce748-1316-4a3e-a1b0-dc4a739ba630",
   "metadata": {},
   "source": [
    "## Data Collection"
   ]
  },
  {
   "cell_type": "code",
   "execution_count": 74,
   "id": "3c79188b-dc58-45ec-9c66-3b76c95bd307",
   "metadata": {},
   "outputs": [],
   "source": [
    "url = 'https://api.finage.co.uk/last/stock/AAPL?apikey=API_KEY74ZH0ZHKYB7FTLA6HZOGVL4IJXTKK531'"
   ]
  },
  {
   "cell_type": "code",
   "execution_count": 75,
   "id": "f3ae0690-5210-47c2-b38c-4235ed64a928",
   "metadata": {},
   "outputs": [],
   "source": [
    "res = rq.get(url)"
   ]
  },
  {
   "cell_type": "code",
   "execution_count": 76,
   "id": "6ae232c2-2bfa-4236-9d6f-c9dc061b59db",
   "metadata": {},
   "outputs": [
    {
     "data": {
      "text/plain": [
       "{'symbol': 'AAPL',\n",
       " 'ask': 227.289,\n",
       " 'asize': 3,\n",
       " 'bid': 227.25,\n",
       " 'bsize': 9,\n",
       " 'timestamp': 1738976373920}"
      ]
     },
     "execution_count": 76,
     "metadata": {},
     "output_type": "execute_result"
    }
   ],
   "source": [
    "res.json()"
   ]
  },
  {
   "cell_type": "code",
   "execution_count": null,
   "id": "96d9f8d6-4fb9-4deb-83b1-509cdedcbf43",
   "metadata": {},
   "outputs": [],
   "source": []
  },
  {
   "cell_type": "code",
   "execution_count": null,
   "id": "a8357085-6dd1-4478-8f96-2b08420089da",
   "metadata": {},
   "outputs": [],
   "source": []
  },
  {
   "cell_type": "code",
   "execution_count": 51,
   "id": "006d2609-c47e-47bf-8406-1d14b1382170",
   "metadata": {},
   "outputs": [],
   "source": [
    "list_of_tickers = ['AAPL', 'NVDA', 'MSFT', 'AMZN', 'META', 'GOOGL', 'TSLA']"
   ]
  },
  {
   "cell_type": "code",
   "execution_count": 67,
   "id": "e053b4e1-27ad-4ef9-8bf1-33eaf4d200fa",
   "metadata": {
    "scrolled": true
   },
   "outputs": [],
   "source": [
    "df = pd.DataFrame()\n",
    "for ticker in list_of_tickers:\n",
    "    tick = yf.Ticker(ticker)\n",
    "    data = tick.history(interval='5m', start='2025-01-01', end='2025-02-08').head()\n",
    "    data['Ticker'] = tick.ticker\n",
    "    df = pd.concat([df, data], axis=0)"
   ]
  },
  {
   "cell_type": "code",
   "execution_count": null,
   "id": "473c295e-d95d-40a2-8101-7543507d184a",
   "metadata": {},
   "outputs": [],
   "source": []
  }
 ],
 "metadata": {
  "kernelspec": {
   "display_name": "Python 3 (ipykernel)",
   "language": "python",
   "name": "python3"
  },
  "language_info": {
   "codemirror_mode": {
    "name": "ipython",
    "version": 3
   },
   "file_extension": ".py",
   "mimetype": "text/x-python",
   "name": "python",
   "nbconvert_exporter": "python",
   "pygments_lexer": "ipython3",
   "version": "3.12.3"
  }
 },
 "nbformat": 4,
 "nbformat_minor": 5
}
