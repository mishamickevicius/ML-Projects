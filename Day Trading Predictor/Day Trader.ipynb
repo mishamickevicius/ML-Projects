{
 "cells": [
  {
   "cell_type": "code",
   "execution_count": 3,
   "id": "b8cac174-9690-49bb-8ee2-2ace947e07e3",
   "metadata": {},
   "outputs": [],
   "source": [
    "import numpy as np\n",
    "import pandas as pd\n",
    "import plotly.express as px\n",
    "import requests as rq\n",
    "import tensorflow as tf"
   ]
  },
  {
   "cell_type": "markdown",
   "id": "b7909ee4-2b37-49fb-9470-8a6fe6f9bc88",
   "metadata": {},
   "source": [
    "# Model Plan:\n",
    "- Find a api for real time stock data\n",
    "- Find a api for real time news\n",
    "- Feature engineer features\n",
    "- Build Multi-modal model for day trading.\n",
    "- First branch of model will be Time Series analysis model that will take the real time stock data as a sequence\n",
    "- Second branch of model will be a text classifier/sentiment analysis model that can take the real time news\n",
    "- Combine the two branches to make the multi-modal model\n",
    "\n",
    "# Agent Plan:\n",
    "- Use same apis to get input data (This is how agent recieves input)\n",
    "- Use LLM with function calling to helper function and to run the model (Thinking part)\n",
    "- Have the agent output the result or make the trade itself using the api (The action/goal achieving part)\n"
   ]
  },
  {
   "cell_type": "markdown",
   "id": "c49ce748-1316-4a3e-a1b0-dc4a739ba630",
   "metadata": {},
   "source": [
    "## Data Collection"
   ]
  },
  {
   "cell_type": "code",
   "execution_count": 4,
   "id": "1943ddf1-8010-4831-bbb9-47e88c9e3b22",
   "metadata": {},
   "outputs": [],
   "source": [
    "url = 'https://www.alphavantage.co/query?function=TIME_SERIES_INTRADAY&symbol=IBM&interval=5min&apikey=YWK0V0LYMQ4AD03I'"
   ]
  },
  {
   "cell_type": "code",
   "execution_count": 13,
   "id": "8f58b976-091c-4274-888b-29a186aed46d",
   "metadata": {},
   "outputs": [
    {
     "data": {
      "text/plain": [
       "{'1. Information': 'Intraday (5min) open, high, low, close prices and volume',\n",
       " '2. Symbol': 'IBM',\n",
       " '3. Last Refreshed': '2025-02-07 19:55:00',\n",
       " '4. Interval': '5min',\n",
       " '5. Output Size': 'Compact',\n",
       " '6. Time Zone': 'US/Eastern'}"
      ]
     },
     "execution_count": 13,
     "metadata": {},
     "output_type": "execute_result"
    }
   ],
   "source": [
    "response = rq.get(url)\n",
    "data = response.json()\n",
    "data.pop('Meta Data')"
   ]
  },
  {
   "cell_type": "code",
   "execution_count": 15,
   "id": "53dca25b-a693-460c-90d6-96a79951b59b",
   "metadata": {},
   "outputs": [],
   "source": [
    "df = pd.DataFrame(data)"
   ]
  },
  {
   "cell_type": "code",
   "execution_count": null,
   "id": "279ccd82-609d-40f0-9029-8e768ffc2a49",
   "metadata": {},
   "outputs": [],
   "source": []
  }
 ],
 "metadata": {
  "kernelspec": {
   "display_name": "Python 3 (ipykernel)",
   "language": "python",
   "name": "python3"
  },
  "language_info": {
   "codemirror_mode": {
    "name": "ipython",
    "version": 3
   },
   "file_extension": ".py",
   "mimetype": "text/x-python",
   "name": "python",
   "nbconvert_exporter": "python",
   "pygments_lexer": "ipython3",
   "version": "3.12.4"
  }
 },
 "nbformat": 4,
 "nbformat_minor": 5
}
