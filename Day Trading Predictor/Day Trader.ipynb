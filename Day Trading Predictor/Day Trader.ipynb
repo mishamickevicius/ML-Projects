{
 "cells": [
  {
   "cell_type": "code",
   "execution_count": 1,
   "id": "b8cac174-9690-49bb-8ee2-2ace947e07e3",
   "metadata": {},
   "outputs": [
    {
     "name": "stdout",
     "output_type": "stream",
     "text": [
      "Warning: Your Kaggle API key is readable by other users on this system! To fix this, you can run 'chmod 600 /home/misha/.kaggle/kaggle.json'\n"
     ]
    },
    {
     "name": "stderr",
     "output_type": "stream",
     "text": [
      "2025-03-01 16:43:38.463508: I tensorflow/core/util/port.cc:153] oneDNN custom operations are on. You may see slightly different numerical results due to floating-point round-off errors from different computation orders. To turn them off, set the environment variable `TF_ENABLE_ONEDNN_OPTS=0`.\n",
      "2025-03-01 16:43:38.597756: E external/local_xla/xla/stream_executor/cuda/cuda_fft.cc:477] Unable to register cuFFT factory: Attempting to register factory for plugin cuFFT when one has already been registered\n",
      "WARNING: All log messages before absl::InitializeLog() is called are written to STDERR\n",
      "E0000 00:00:1740869018.650044    4281 cuda_dnn.cc:8310] Unable to register cuDNN factory: Attempting to register factory for plugin cuDNN when one has already been registered\n",
      "E0000 00:00:1740869018.664415    4281 cuda_blas.cc:1418] Unable to register cuBLAS factory: Attempting to register factory for plugin cuBLAS when one has already been registered\n",
      "2025-03-01 16:43:38.794356: I tensorflow/core/platform/cpu_feature_guard.cc:210] This TensorFlow binary is optimized to use available CPU instructions in performance-critical operations.\n",
      "To enable the following instructions: AVX2 AVX512F AVX512_VNNI FMA, in other operations, rebuild TensorFlow with the appropriate compiler flags.\n"
     ]
    }
   ],
   "source": [
    "import numpy as np\n",
    "import pandas as pd\n",
    "import plotly.express as px\n",
    "import kaggle\n",
    "import os\n",
    "import holidays\n",
    "import tensorflow as tf"
   ]
  },
  {
   "cell_type": "markdown",
   "id": "b7909ee4-2b37-49fb-9470-8a6fe6f9bc88",
   "metadata": {},
   "source": [
    "# Model Plan:\n",
    "- Find a api for real time stock data\n",
    "- Find a api for real time news\n",
    "- Feature engineer features\n",
    "- Build Multi-modal model for day trading.\n",
    "- First branch of model will be Time Series analysis model that will take the real time stock data as a sequence\n",
    "- Second branch of model will be a text classifier/sentiment analysis model that can take the real time news\n",
    "- Combine the two branches to make the multi-modal model\n",
    "\n",
    "# Agent Plan:\n",
    "- Use same apis to get input data (This is how agent recieves input)\n",
    "- Use LLM with function calling to helper function and to run the model (Thinking part)\n",
    "- Have the agent output the result or make the trade itself using the api (The action/goal achieving part)\n"
   ]
  },
  {
   "cell_type": "markdown",
   "id": "c49ce748-1316-4a3e-a1b0-dc4a739ba630",
   "metadata": {},
   "source": [
    "## Data Collection"
   ]
  },
  {
   "cell_type": "code",
   "execution_count": 2,
   "id": "b50cc0c9-6793-4de7-ae59-8c8907147a3d",
   "metadata": {},
   "outputs": [],
   "source": [
    "# datasets = [\n",
    "#     \"varpit94/apple-stock-data-updated-till-22jun2021\",\n",
    "#     \"prajwaldongre/nvidia-corp-share-price-2000-2024\",\n",
    "#     \"varpit94/microsoft-stock-data\",\n",
    "#     \"guillemservera/amzn-stock-data\",\n",
    "#     \"henryshan/meta-platforms-inc-meta\",\n",
    "#     \"henryshan/google-stock-price\",\n",
    "#     \"guillemservera/tsla-stock-data\"\n",
    "# ]\n",
    "# for dataset in datasets: \n",
    "#     kaggle.api.dataset_download_files(dataset, path='/home/misha/Desktop/data/day_trader/', unzip=True)"
   ]
  },
  {
   "cell_type": "code",
   "execution_count": 3,
   "id": "fca7f0e4-0552-4301-b049-6bb9570db298",
   "metadata": {},
   "outputs": [],
   "source": [
    "df = pd.DataFrame()\n",
    "for file in os.listdir('/home/misha/Desktop/data/day_trader/'):\n",
    "    data = pd.read_csv('/home/misha/Desktop/data/day_trader/' + file)\n",
    "    data['filename'] = file\n",
    "    data.columns = [col.strip().title() for col in data.columns]\n",
    "    df = pd.concat([df, data], axis=0, ignore_index=True)"
   ]
  },
  {
   "cell_type": "code",
   "execution_count": 4,
   "id": "1623740e-ea3d-42e4-926d-231e67cb9092",
   "metadata": {},
   "outputs": [
    {
     "name": "stdout",
     "output_type": "stream",
     "text": [
      "<class 'pandas.core.frame.DataFrame'>\n",
      "RangeIndex: 53862 entries, 0 to 53861\n",
      "Data columns (total 12 columns):\n",
      " #   Column          Non-Null Count  Dtype  \n",
      "---  ------          --------------  -----  \n",
      " 0   Date            53862 non-null  object \n",
      " 1   Open            53862 non-null  float64\n",
      " 2   High            53862 non-null  float64\n",
      " 3   Low             53862 non-null  float64\n",
      " 4   Close           53862 non-null  float64\n",
      " 5   Volume          53862 non-null  int64  \n",
      " 6   Raw_Close       10245 non-null  float64\n",
      " 7   Change_Percent  20486 non-null  float64\n",
      " 8   Avg_Vol_20D     20414 non-null  float64\n",
      " 9   Filename        53862 non-null  object \n",
      " 10  Adj Close       33372 non-null  float64\n",
      " 11  Adjusted_Close  10245 non-null  float64\n",
      "dtypes: float64(9), int64(1), object(2)\n",
      "memory usage: 4.9+ MB\n"
     ]
    }
   ],
   "source": [
    "df.info()"
   ]
  },
  {
   "cell_type": "code",
   "execution_count": 5,
   "id": "9528ade2-241e-42ac-a407-22251b448610",
   "metadata": {},
   "outputs": [],
   "source": [
    "df.drop(['Raw_Close', 'Change_Percent', 'Avg_Vol_20D', 'Adjusted_Close', 'Adj Close'], axis=1, inplace=True)"
   ]
  },
  {
   "cell_type": "code",
   "execution_count": 6,
   "id": "55c7fe5f-8587-4140-bba1-760a5a41c380",
   "metadata": {},
   "outputs": [
    {
     "name": "stdout",
     "output_type": "stream",
     "text": [
      "<class 'pandas.core.frame.DataFrame'>\n",
      "RangeIndex: 53862 entries, 0 to 53861\n",
      "Data columns (total 7 columns):\n",
      " #   Column    Non-Null Count  Dtype  \n",
      "---  ------    --------------  -----  \n",
      " 0   Date      53862 non-null  object \n",
      " 1   Open      53862 non-null  float64\n",
      " 2   High      53862 non-null  float64\n",
      " 3   Low       53862 non-null  float64\n",
      " 4   Close     53862 non-null  float64\n",
      " 5   Volume    53862 non-null  int64  \n",
      " 6   Filename  53862 non-null  object \n",
      "dtypes: float64(4), int64(1), object(2)\n",
      "memory usage: 2.9+ MB\n"
     ]
    }
   ],
   "source": [
    "df.info()"
   ]
  },
  {
   "cell_type": "code",
   "execution_count": 7,
   "id": "5a81c072-1af7-4152-abc0-ad1a2b397e18",
   "metadata": {},
   "outputs": [
    {
     "data": {
      "text/plain": [
       "Date        0\n",
       "Open        0\n",
       "High        0\n",
       "Low         0\n",
       "Close       0\n",
       "Volume      0\n",
       "Filename    0\n",
       "dtype: int64"
      ]
     },
     "execution_count": 7,
     "metadata": {},
     "output_type": "execute_result"
    }
   ],
   "source": [
    "df.isna().sum()"
   ]
  },
  {
   "cell_type": "code",
   "execution_count": 8,
   "id": "da9ab595-a503-461a-9c19-efc979d7e90b",
   "metadata": {},
   "outputs": [],
   "source": [
    "filename_to_ticker_map = {\n",
    "    'tsla_split_adjusted.csv':'TSLA',\n",
    "    'MSFT.csv':'MSFT',\n",
    "    'tsla_raw_data.csv':'TSLA',\n",
    "    'AAPL.csv':'AAPL',\n",
    "    'META.csv':'META',\n",
    "    'NVDA.csv':'NVDA',\n",
    "    'GOOG.csv':'GOOGL',\n",
    "    'amzn_split_adjusted.csv':'AMZN',\n",
    "    'amzn_raw_data.csv':'AMZN'\n",
    "}"
   ]
  },
  {
   "cell_type": "code",
   "execution_count": 9,
   "id": "bd55e9e2-ad8b-4477-9837-b260c6e2b07d",
   "metadata": {},
   "outputs": [],
   "source": [
    "df['Ticker'] = df['Filename'].apply(lambda x: filename_to_ticker_map[x])\n",
    "df.drop('Filename', axis=1, inplace=True)"
   ]
  },
  {
   "cell_type": "code",
   "execution_count": 10,
   "id": "04a65d96-000d-430b-be8c-49b446344865",
   "metadata": {},
   "outputs": [],
   "source": [
    "df['Date'] = pd.to_datetime(df['Date'])"
   ]
  },
  {
   "cell_type": "code",
   "execution_count": 11,
   "id": "4e20f72c-c346-4fb9-b374-8f9fc3d929bd",
   "metadata": {},
   "outputs": [
    {
     "data": {
      "text/plain": [
       "Ticker\n",
       "AMZN     13546\n",
       "AAPL     10409\n",
       "MSFT      9083\n",
       "TSLA      6944\n",
       "NVDA      6116\n",
       "GOOGL     4858\n",
       "META      2906\n",
       "Name: count, dtype: int64"
      ]
     },
     "execution_count": 11,
     "metadata": {},
     "output_type": "execute_result"
    }
   ],
   "source": [
    "df['Ticker'].value_counts()"
   ]
  },
  {
   "cell_type": "code",
   "execution_count": 12,
   "id": "707b654a-1be2-4c44-a805-8e35937880d7",
   "metadata": {},
   "outputs": [
    {
     "data": {
      "text/html": [
       "<div>\n",
       "<style scoped>\n",
       "    .dataframe tbody tr th:only-of-type {\n",
       "        vertical-align: middle;\n",
       "    }\n",
       "\n",
       "    .dataframe tbody tr th {\n",
       "        vertical-align: top;\n",
       "    }\n",
       "\n",
       "    .dataframe thead th {\n",
       "        text-align: right;\n",
       "    }\n",
       "</style>\n",
       "<table border=\"1\" class=\"dataframe\">\n",
       "  <thead>\n",
       "    <tr style=\"text-align: right;\">\n",
       "      <th></th>\n",
       "      <th></th>\n",
       "      <th>Open</th>\n",
       "      <th>High</th>\n",
       "      <th>Low</th>\n",
       "      <th>Close</th>\n",
       "      <th>Volume</th>\n",
       "    </tr>\n",
       "    <tr>\n",
       "      <th>Ticker</th>\n",
       "      <th>Date</th>\n",
       "      <th></th>\n",
       "      <th></th>\n",
       "      <th></th>\n",
       "      <th></th>\n",
       "      <th></th>\n",
       "    </tr>\n",
       "  </thead>\n",
       "  <tbody>\n",
       "    <tr>\n",
       "      <th rowspan=\"5\" valign=\"top\">TSLA</th>\n",
       "      <th>2010-06-29</th>\n",
       "      <td>1.26666</td>\n",
       "      <td>1.66666</td>\n",
       "      <td>1.16934</td>\n",
       "      <td>1.59266</td>\n",
       "      <td>281749173</td>\n",
       "    </tr>\n",
       "    <tr>\n",
       "      <th>2010-06-30</th>\n",
       "      <td>1.71934</td>\n",
       "      <td>2.02794</td>\n",
       "      <td>1.55334</td>\n",
       "      <td>1.58866</td>\n",
       "      <td>257915884</td>\n",
       "    </tr>\n",
       "    <tr>\n",
       "      <th>2010-07-01</th>\n",
       "      <td>1.66666</td>\n",
       "      <td>1.72800</td>\n",
       "      <td>1.35134</td>\n",
       "      <td>1.46400</td>\n",
       "      <td>123447940</td>\n",
       "    </tr>\n",
       "    <tr>\n",
       "      <th>2010-07-02</th>\n",
       "      <td>1.53334</td>\n",
       "      <td>1.54000</td>\n",
       "      <td>1.24734</td>\n",
       "      <td>1.28000</td>\n",
       "      <td>77127102</td>\n",
       "    </tr>\n",
       "    <tr>\n",
       "      <th>2010-07-06</th>\n",
       "      <td>1.33334</td>\n",
       "      <td>1.33334</td>\n",
       "      <td>1.05534</td>\n",
       "      <td>1.07400</td>\n",
       "      <td>103189435</td>\n",
       "    </tr>\n",
       "    <tr>\n",
       "      <th>...</th>\n",
       "      <th>...</th>\n",
       "      <td>...</td>\n",
       "      <td>...</td>\n",
       "      <td>...</td>\n",
       "      <td>...</td>\n",
       "      <td>...</td>\n",
       "    </tr>\n",
       "    <tr>\n",
       "      <th rowspan=\"5\" valign=\"top\">AMZN</th>\n",
       "      <th>2024-04-09</th>\n",
       "      <td>187.24000</td>\n",
       "      <td>187.34000</td>\n",
       "      <td>184.20000</td>\n",
       "      <td>185.67000</td>\n",
       "      <td>36546953</td>\n",
       "    </tr>\n",
       "    <tr>\n",
       "      <th>2024-04-10</th>\n",
       "      <td>182.76500</td>\n",
       "      <td>186.26990</td>\n",
       "      <td>182.67000</td>\n",
       "      <td>185.95000</td>\n",
       "      <td>35879152</td>\n",
       "    </tr>\n",
       "    <tr>\n",
       "      <th>2024-04-11</th>\n",
       "      <td>186.74000</td>\n",
       "      <td>189.77000</td>\n",
       "      <td>185.51000</td>\n",
       "      <td>189.05000</td>\n",
       "      <td>40020738</td>\n",
       "    </tr>\n",
       "    <tr>\n",
       "      <th>2024-04-12</th>\n",
       "      <td>187.72000</td>\n",
       "      <td>188.38000</td>\n",
       "      <td>185.08000</td>\n",
       "      <td>186.13000</td>\n",
       "      <td>38608848</td>\n",
       "    </tr>\n",
       "    <tr>\n",
       "      <th>2024-04-15</th>\n",
       "      <td>187.42500</td>\n",
       "      <td>188.69000</td>\n",
       "      <td>183.00000</td>\n",
       "      <td>183.62000</td>\n",
       "      <td>48052395</td>\n",
       "    </tr>\n",
       "  </tbody>\n",
       "</table>\n",
       "<p>53862 rows × 5 columns</p>\n",
       "</div>"
      ],
      "text/plain": [
       "                        Open       High        Low      Close     Volume\n",
       "Ticker Date                                                             \n",
       "TSLA   2010-06-29    1.26666    1.66666    1.16934    1.59266  281749173\n",
       "       2010-06-30    1.71934    2.02794    1.55334    1.58866  257915884\n",
       "       2010-07-01    1.66666    1.72800    1.35134    1.46400  123447940\n",
       "       2010-07-02    1.53334    1.54000    1.24734    1.28000   77127102\n",
       "       2010-07-06    1.33334    1.33334    1.05534    1.07400  103189435\n",
       "...                      ...        ...        ...        ...        ...\n",
       "AMZN   2024-04-09  187.24000  187.34000  184.20000  185.67000   36546953\n",
       "       2024-04-10  182.76500  186.26990  182.67000  185.95000   35879152\n",
       "       2024-04-11  186.74000  189.77000  185.51000  189.05000   40020738\n",
       "       2024-04-12  187.72000  188.38000  185.08000  186.13000   38608848\n",
       "       2024-04-15  187.42500  188.69000  183.00000  183.62000   48052395\n",
       "\n",
       "[53862 rows x 5 columns]"
      ]
     },
     "execution_count": 12,
     "metadata": {},
     "output_type": "execute_result"
    }
   ],
   "source": [
    "df.set_index(['Ticker', 'Date'], inplace=True)\n",
    "df"
   ]
  },
  {
   "cell_type": "markdown",
   "id": "01565e19-d834-4f12-90eb-2a7d45407d8d",
   "metadata": {},
   "source": [
    "## Feature engineering"
   ]
  },
  {
   "cell_type": "markdown",
   "id": "1de4649a-8cc8-42b5-b4b8-89f8169be709",
   "metadata": {},
   "source": [
    "The target will be a binary classification. 1 means that the close price will be greater than the open price. 0 means that the close price will be smaller than the open price"
   ]
  },
  {
   "cell_type": "code",
   "execution_count": 13,
   "id": "f3a4d7b0-2d25-4970-baee-6ab38befd912",
   "metadata": {},
   "outputs": [],
   "source": [
    "## Target Variable\n",
    "df['Target'] = (df['Close'] > df['Open']).astype(int)"
   ]
  },
  {
   "cell_type": "markdown",
   "id": "986ad790-3cc1-479e-885d-ea3eea7aedc0",
   "metadata": {},
   "source": [
    "### Other indicators/features"
   ]
  },
  {
   "cell_type": "code",
   "execution_count": 14,
   "id": "9c6c36fb-7c4b-4dd4-9ec0-9165b56e5144",
   "metadata": {},
   "outputs": [],
   "source": [
    "## Time based features\n",
    "df['Day Of Week'] = df.index.get_level_values('Date').dayofweek\n",
    "df['Month'] = df.index.get_level_values('Date').month\n",
    "df['Quarter'] = df.index.get_level_values('Date').quarter"
   ]
  },
  {
   "cell_type": "code",
   "execution_count": 15,
   "id": "deca05fa-8da4-4cc1-80e3-be0e750e345b",
   "metadata": {},
   "outputs": [],
   "source": [
    "## Holiday Proximity (How many days until the next holiday)\n",
    "\n",
    "df = df.reset_index()\n",
    "df['Date'] = pd.to_datetime(df['Date'])\n",
    "\n",
    "# Function to calculate proximity to the nearest holiday\n",
    "def holiday_metrics(date):\n",
    "    \"\"\"\n",
    "    Calculate both days until next holiday and days to closest holiday.\n",
    "    \n",
    "    Args:\n",
    "        date: datetime object representing the date to check\n",
    "        \n",
    "    Returns:\n",
    "        tuple: (days_until_next, days_to_closest)\n",
    "            - days_until_next: number of days until the next upcoming holiday\n",
    "            - days_to_closest: number of days to the nearest holiday in any direction\n",
    "    \"\"\"\n",
    "    # Generate holidays for current and next year\n",
    "    us_holidays = holidays.US(years=[date.year, date.year + 1])\n",
    "    holiday_dates = pd.to_datetime(list(us_holidays.keys()))\n",
    "    \n",
    "    # For next holiday\n",
    "    future_holidays = holiday_dates[holiday_dates > date]\n",
    "    if len(future_holidays) > 0:\n",
    "        next_holiday = future_holidays.min()\n",
    "        days_until_next = (next_holiday - date).days\n",
    "    else:\n",
    "        days_until_next = np.nan\n",
    "    \n",
    "    # For closest holiday\n",
    "    if len(holiday_dates) > 0:\n",
    "        days_diff = np.abs((holiday_dates - date).days)\n",
    "        days_to_closest = np.min(days_diff)\n",
    "    else:\n",
    "        days_to_closest = np.nan\n",
    "        \n",
    "    return days_until_next, days_to_closest\n",
    "\n",
    "# Apply the function to each row\n",
    "df['Days Until Next Holiday'], df['Days To Closest Holiday'] = zip(*df['Date'].apply(holiday_metrics))\n",
    "\n",
    "# Set the index back to Ticker and Date if needed\n",
    "df.set_index(['Ticker', 'Date'], inplace=True)"
   ]
  },
  {
   "cell_type": "code",
   "execution_count": 16,
   "id": "4590b9be-e35f-46dc-83a5-5affecca63cf",
   "metadata": {},
   "outputs": [],
   "source": [
    "df['Daily Return'] = (df['Close'] - df['Open']) / df['Open']\n",
    "df['Intraday Range %'] = (df['High'] - df['Low']) / df['Open']\n",
    "df['Prev_Close'] = df.groupby('Ticker')['Close'].shift(1)\n",
    "df['Gap %'] = (df['Open'] - df['Prev_Close']) / df['Prev_Close']\n",
    "df['Volume Change %'] = df.groupby('Ticker')['Volume'].pct_change()\n",
    "df['Volume MA 5'] = df.groupby('Ticker')['Volume'].transform(lambda x: x.rolling(window=5).mean())\n",
    "df['SMA5'] = df.groupby('Ticker')['Close'].transform(lambda x: x.rolling(window=5).mean())\n",
    "df['SMA10'] = df.groupby('Ticker')['Close'].transform(lambda x: x.rolling(window=10).mean())\n",
    "df['Above SMA5'] = (df['Close'] > df['SMA5']).astype(int)\n",
    "df['Volatility 5d'] = df.groupby('Ticker')['Close'].transform(lambda x: x.rolling(window=5).std())\n",
    "df['Price Range %'] = (df['High'] - df['Low']) / df['Open']"
   ]
  },
  {
   "cell_type": "code",
   "execution_count": 17,
   "id": "f5cdabe3-bf32-403b-9e8a-062662955a24",
   "metadata": {},
   "outputs": [],
   "source": [
    "## Remove Null values\n",
    "# Fill forward for values that depend on previous data\n",
    "df['Prev_Close'] = df.groupby('Ticker')['Prev_Close'].ffill()\n",
    "df['Gap %'] = df.groupby('Ticker')['Gap %'].ffill()\n",
    "\n",
    "# Fill first row Volume Change % with 0\n",
    "df['Volume Change %'] = df['Volume Change %'].fillna(0)\n",
    "\n",
    "# Fill rolling-based values with their first available mean\n",
    "rolling_features = ['Volume MA 5', 'SMA5', 'SMA10', 'Volatility 5d']\n",
    "for feature in rolling_features:\n",
    "    df[feature] = df.groupby('Ticker')[feature].transform(lambda x: x.fillna(x.expanding().mean()))\n",
    "\n",
    "# Fill any remaining NaNs (just in case)\n",
    "df = df.fillna(0)\n"
   ]
  },
  {
   "cell_type": "markdown",
   "id": "83179083-0276-4807-8094-7efaee81975e",
   "metadata": {},
   "source": [
    "## Data Preperation"
   ]
  },
  {
   "cell_type": "markdown",
   "id": "ca7112a5-fa01-49aa-a30d-da8879546ad2",
   "metadata": {},
   "source": [
    "Keep in mind that the final day in the series should NOT have the close feature."
   ]
  },
  {
   "cell_type": "code",
   "execution_count": 18,
   "id": "b3274766-196d-46a3-bb6c-24382399b986",
   "metadata": {},
   "outputs": [],
   "source": [
    "from sklearn.preprocessing import StandardScaler, OneHotEncoder\n",
    "from sklearn.model_selection import train_test_split"
   ]
  },
  {
   "cell_type": "code",
   "execution_count": 19,
   "id": "842d8fd0-21f3-4ec5-b95b-cfb45d2a6c85",
   "metadata": {
    "scrolled": true
   },
   "outputs": [],
   "source": [
    "df = df.reset_index()\n",
    "df.drop('Date', axis=1, inplace=True)"
   ]
  },
  {
   "cell_type": "code",
   "execution_count": 20,
   "id": "2f5222b6-b603-433f-af6b-7a33857e8ea3",
   "metadata": {},
   "outputs": [],
   "source": [
    "df.replace([np.inf, -np.inf], 0, inplace=True)"
   ]
  },
  {
   "cell_type": "code",
   "execution_count": 21,
   "id": "b06a04ac-4826-4e16-9521-69125d40ebb5",
   "metadata": {},
   "outputs": [],
   "source": [
    "ticker_encoder = OneHotEncoder(handle_unknown='ignore', sparse_output=False)\n",
    "tickers_encoded = pd.DataFrame(ticker_encoder.fit_transform(df['Ticker'].values.reshape(-1, 1)),\n",
    "                               columns=ticker_encoder.get_feature_names_out())\n",
    "df = pd.concat([df, tickers_encoded], axis=1)"
   ]
  },
  {
   "cell_type": "code",
   "execution_count": 22,
   "id": "bf2682f2-3fad-49c6-b255-97bdebc29dad",
   "metadata": {},
   "outputs": [
    {
     "name": "stdout",
     "output_type": "stream",
     "text": [
      "<class 'pandas.core.frame.DataFrame'>\n",
      "RangeIndex: 53862 entries, 0 to 53861\n",
      "Data columns (total 30 columns):\n",
      " #   Column                   Non-Null Count  Dtype  \n",
      "---  ------                   --------------  -----  \n",
      " 0   Ticker                   53862 non-null  object \n",
      " 1   Open                     53862 non-null  float64\n",
      " 2   High                     53862 non-null  float64\n",
      " 3   Low                      53862 non-null  float64\n",
      " 4   Close                    53862 non-null  float64\n",
      " 5   Volume                   53862 non-null  int64  \n",
      " 6   Target                   53862 non-null  int64  \n",
      " 7   Day Of Week              53862 non-null  int32  \n",
      " 8   Month                    53862 non-null  int32  \n",
      " 9   Quarter                  53862 non-null  int32  \n",
      " 10  Days Until Next Holiday  53862 non-null  int64  \n",
      " 11  Days To Closest Holiday  53862 non-null  int64  \n",
      " 12  Daily Return             53862 non-null  float64\n",
      " 13  Intraday Range %         53862 non-null  float64\n",
      " 14  Prev_Close               53862 non-null  float64\n",
      " 15  Gap %                    53862 non-null  float64\n",
      " 16  Volume Change %          53862 non-null  float64\n",
      " 17  Volume MA 5              53862 non-null  float64\n",
      " 18  SMA5                     53862 non-null  float64\n",
      " 19  SMA10                    53862 non-null  float64\n",
      " 20  Above SMA5               53862 non-null  int64  \n",
      " 21  Volatility 5d            53862 non-null  float64\n",
      " 22  Price Range %            53862 non-null  float64\n",
      " 23  x0_AAPL                  53862 non-null  float64\n",
      " 24  x0_AMZN                  53862 non-null  float64\n",
      " 25  x0_GOOGL                 53862 non-null  float64\n",
      " 26  x0_META                  53862 non-null  float64\n",
      " 27  x0_MSFT                  53862 non-null  float64\n",
      " 28  x0_NVDA                  53862 non-null  float64\n",
      " 29  x0_TSLA                  53862 non-null  float64\n",
      "dtypes: float64(21), int32(3), int64(5), object(1)\n",
      "memory usage: 11.7+ MB\n"
     ]
    }
   ],
   "source": [
    "df.info()"
   ]
  },
  {
   "cell_type": "code",
   "execution_count": 23,
   "id": "ea598d15-a070-457e-9c5f-94c8272d2938",
   "metadata": {},
   "outputs": [],
   "source": [
    "features = [\n",
    "    \"Open\", \"High\", \"Low\", \"Close\", \"Volume\", \"Day Of Week\", \"Month\", \"Quarter\",\n",
    "    \"Days Until Next Holiday\", \"Intraday Range %\", \"Prev_Close\", \"Gap %\", \n",
    "    \"Volume Change %\", \"Volume MA 5\", \"SMA5\", \"SMA10\", \"Above SMA5\", \"Volatility 5d\", \n",
    "    \"Price Range %\", \"x0_AAPL\", \"x0_AMZN\", \"x0_GOOGL\", \"x0_META\", \n",
    "    \"x0_MSFT\", \"x0_NVDA\", \"x0_TSLA\"\n",
    "]"
   ]
  },
  {
   "cell_type": "code",
   "execution_count": 24,
   "id": "ec80170e-bc55-4b62-b2cb-2b21edab9d08",
   "metadata": {},
   "outputs": [],
   "source": [
    "X = df[features].values\n",
    "y = df['Target'].values\n",
    "\n",
    "X_train, X_test, y_train, y_test = train_test_split(X, y, test_size=0.2, random_state=42)\n",
    "X_val, X_test, y_val, y_test = train_test_split(X_test, y_test, test_size=0.5, random_state=42)\n",
    "\n",
    "scaler = StandardScaler()\n",
    "\n",
    "X_train = np.array(scaler.fit_transform(X_train))\n",
    "X_test = np.array(scaler.transform(X_test))\n",
    "X_val = np.array(scaler.transform(X_val))"
   ]
  },
  {
   "cell_type": "code",
   "execution_count": 25,
   "id": "a3fd006d-8b5a-4ccb-ad28-0c6911ebc35e",
   "metadata": {},
   "outputs": [
    {
     "name": "stderr",
     "output_type": "stream",
     "text": [
      "I0000 00:00:1740869051.618169    4281 gpu_device.cc:2022] Created device /job:localhost/replica:0/task:0/device:GPU:0 with 9661 MB memory:  -> device: 0, name: NVIDIA GeForce RTX 3060, pci bus id: 0000:01:00.0, compute capability: 8.6\n"
     ]
    }
   ],
   "source": [
    "seq_len = 10\n",
    "\n",
    "train_ds = tf.keras.utils.timeseries_dataset_from_array(\n",
    "    X_train,\n",
    "    targets=y_train,\n",
    "    sequence_length=seq_len,\n",
    "    batch_size=32,\n",
    "    shuffle=True,\n",
    "    seed=1,\n",
    ")\n",
    "\n",
    "val_ds = tf.keras.utils.timeseries_dataset_from_array(\n",
    "    X_val,\n",
    "    targets=y_val,\n",
    "    sequence_length=seq_len,\n",
    "    batch_size=32,\n",
    "    shuffle=True,\n",
    "    seed=1\n",
    ")\n",
    "\n",
    "test_ds = tf.keras.utils.timeseries_dataset_from_array(\n",
    "    X_test,\n",
    "    targets=y_test,\n",
    "    sequence_length=seq_len,\n",
    "    batch_size=32,\n",
    ")"
   ]
  },
  {
   "cell_type": "code",
   "execution_count": 26,
   "id": "00cdeee5-0c87-45d9-a6ac-502c060c683f",
   "metadata": {},
   "outputs": [
    {
     "data": {
      "text/plain": [
       "(TensorSpec(shape=(None, None, 26), dtype=tf.float64, name=None),\n",
       " TensorSpec(shape=(None,), dtype=tf.int64, name=None))"
      ]
     },
     "execution_count": 26,
     "metadata": {},
     "output_type": "execute_result"
    }
   ],
   "source": [
    "val_ds.element_spec"
   ]
  },
  {
   "cell_type": "code",
   "execution_count": 27,
   "id": "56a5d001-ea08-4fa0-a0ce-0a2a7ccf7f9a",
   "metadata": {
    "scrolled": true
   },
   "outputs": [
    {
     "name": "stdout",
     "output_type": "stream",
     "text": [
      "Shape of sequences: (32, 10, 26)\n",
      "Shape of targets: (32,)\n",
      "Sample sequence:\n",
      " [[-0.33260559 -0.33327206 -0.33212507 -0.3328067  -0.38861426 -1.44404995\n",
      "   0.13277207  0.43492695  0.60176155 -0.21531634 -0.33278794 -0.04423498\n",
      "  -0.41101388 -0.28578973 -0.33286689 -0.33288663  0.92901368 -0.18824827\n",
      "  -0.21531634 -0.49023275 -0.57977104 -0.31595321 -0.23985106  2.22557046\n",
      "  -0.35646831 -0.38446803]\n",
      " [ 0.67093416  0.66134262  0.67717614  0.66841725 -0.58559339 -0.01479376\n",
      "  -0.74177813 -0.46115068  0.51691019 -0.89241225  0.67287692 -0.10298987\n",
      "  -0.38457864 -0.63863407  0.66901144  0.6592559   0.92901368 -0.11554585\n",
      "  -0.89241225 -0.49023275  1.72481883 -0.31595321 -0.23985106 -0.449323\n",
      "  -0.35646831 -0.38446803]\n",
      " [-0.119634   -0.11704187 -0.11826725 -0.11449531 -0.55179967  1.41446243\n",
      "  -0.15874466 -0.46115068 -0.88313728  0.13342216 -0.11883641 -0.22375812\n",
      "   0.1024824  -0.6083795  -0.12339911 -0.12045708  0.92901368 -0.01627521\n",
      "   0.13342216 -0.49023275  1.72481883 -0.31595321 -0.23985106 -0.449323\n",
      "  -0.35646831 -0.38446803]\n",
      " [ 0.13193773  0.12619682  0.13549854  0.13020242 -0.55528044  0.69983434\n",
      "  -0.74177813 -0.46115068  0.77146427 -1.0072152   0.1310848   0.07194668\n",
      "  -0.44882105 -0.58997574  0.12839509  0.12255134  0.92901368 -0.0998366\n",
      "  -1.0072152  -0.49023275 -0.57977104 -0.31595321  4.16925403 -0.449323\n",
      "  -0.35646831 -0.38446803]\n",
      " [-0.32852507 -0.32909085 -0.32799088 -0.32857555 -0.4850297   0.69983434\n",
      "   0.71580555  0.43492695 -0.11947503  0.09196792 -0.32875416  0.45983222\n",
      "   0.21846237 -0.55233406 -0.3288049  -0.32884639  0.92901368 -0.18422785\n",
      "   0.09196792 -0.49023275 -0.57977104 -0.31595321 -0.23985106 -0.449323\n",
      "  -0.35646831  2.60099652]\n",
      " [-0.3331781  -0.33384903 -0.3326931  -0.33339249 -0.53617635 -1.44404995\n",
      "  -0.4502614  -0.46115068 -0.58615751 -1.13784232 -0.33335515 -0.92255985\n",
      "   0.45130873 -0.57994522 -0.33344266 -0.33347452 -1.07641042 -0.1883616\n",
      "  -1.13784232  2.03984739 -0.57977104 -0.31595321 -0.23985106 -0.449323\n",
      "  -0.35646831 -0.38446803]\n",
      " [-0.3250936  -0.3258195  -0.3248275  -0.32546316  0.14813753 -1.44404995\n",
      "   0.13277207  0.43492695  0.89874131  0.40724466 -0.32573868  2.86412364\n",
      "   2.42272961 -0.1710458  -0.32574464 -0.32576459  0.92901368 -0.184388\n",
      "   0.40724466 -0.49023275 -0.57977104 -0.31595321 -0.23985106  2.22557046\n",
      "  -0.35646831 -0.38446803]\n",
      " [-0.24628158 -0.24796396 -0.24598395 -0.24685371 -0.3201562  -0.01479376\n",
      "   0.42428881  0.43492695  0.21993042 -0.69681135 -0.24718173  0.40909022\n",
      "  -0.17064564 -0.32651057 -0.24732424 -0.2456634   0.92901368 -0.17257226\n",
      "  -0.69681135 -0.49023275 -0.57977104 -0.31595321 -0.23985106  2.22557046\n",
      "  -0.35646831 -0.38446803]\n",
      " [ 0.07639557  0.10271421  0.07983259  0.10856302 -0.31595431 -0.01479376\n",
      "   1.29883902  1.33100458 -0.11947503  2.03471759  0.07507337  0.13819303\n",
      "   0.87342029 -0.46049706  0.09084931  0.08394737  0.92901368  0.16482663\n",
      "   2.03471759 -0.49023275 -0.57977104 -0.31595321 -0.23985106 -0.449323\n",
      "   2.80529846 -0.38446803]\n",
      " [-0.29133507 -0.2913793  -0.29088903 -0.2915255   0.22887873  1.41446243\n",
      "   0.71580555  0.43492695 -0.45888047  0.30917665 -0.29141674 -0.1172403\n",
      "  -0.19514306  0.15902355 -0.29269408 -0.29197072  0.92901368 -0.14761998\n",
      "   0.30917665 -0.49023275 -0.57977104 -0.31595321 -0.23985106 -0.449323\n",
      "  -0.35646831  2.60099652]]\n",
      "Sample target:\n",
      " 1\n"
     ]
    },
    {
     "name": "stderr",
     "output_type": "stream",
     "text": [
      "2025-03-01 16:44:12.598594: I tensorflow/core/framework/local_rendezvous.cc:405] Local rendezvous is aborting with status: OUT_OF_RANGE: End of sequence\n"
     ]
    }
   ],
   "source": [
    "for batch in val_ds.take(1):  # Take just one batch for inspection\n",
    "    sequences, targets = batch\n",
    "    print(\"Shape of sequences:\", sequences.shape)\n",
    "    print(\"Shape of targets:\", targets.shape)\n",
    "    print(\"Sample sequence:\\n\", sequences.numpy()[0])  # Print the first sequence in the batch\n",
    "    print(\"Sample target:\\n\", targets.numpy()[0])      # Print the first target in the batch"
   ]
  },
  {
   "cell_type": "markdown",
   "id": "bfad298f-1f88-46b7-90e8-26bb42bcdbd3",
   "metadata": {},
   "source": [
    "## Model "
   ]
  },
  {
   "cell_type": "code",
   "execution_count": 28,
   "id": "058777ba-ceaa-4219-89ef-747f726a3640",
   "metadata": {
    "scrolled": true
   },
   "outputs": [
    {
     "name": "stdout",
     "output_type": "stream",
     "text": [
      "Epoch 1/100\n"
     ]
    },
    {
     "name": "stderr",
     "output_type": "stream",
     "text": [
      "WARNING: All log messages before absl::InitializeLog() is called are written to STDERR\n",
      "I0000 00:00:1740869053.654626    4608 service.cc:148] XLA service 0x7b89040d4870 initialized for platform CUDA (this does not guarantee that XLA will be used). Devices:\n",
      "I0000 00:00:1740869053.654772    4608 service.cc:156]   StreamExecutor device (0): NVIDIA GeForce RTX 3060, Compute Capability 8.6\n",
      "2025-03-01 16:44:13.692504: I tensorflow/compiler/mlir/tensorflow/utils/dump_mlir_util.cc:268] disabling MLIR crash reproducer, set env var `MLIR_CRASH_REPRODUCER_DIRECTORY` to enable.\n",
      "I0000 00:00:1740869053.776724    4608 cuda_dnn.cc:529] Loaded cuDNN version 90300\n"
     ]
    },
    {
     "name": "stdout",
     "output_type": "stream",
     "text": [
      "\u001b[1m  79/1347\u001b[0m \u001b[32m━\u001b[0m\u001b[37m━━━━━━━━━━━━━━━━━━━\u001b[0m \u001b[1m1s\u001b[0m 1ms/step - accuracy: 0.5098 - loss: 0.7650"
     ]
    },
    {
     "name": "stderr",
     "output_type": "stream",
     "text": [
      "I0000 00:00:1740869054.049533    4608 device_compiler.h:188] Compiled cluster using XLA!  This line is logged at most once for the lifetime of the process.\n"
     ]
    },
    {
     "name": "stdout",
     "output_type": "stream",
     "text": [
      "\u001b[1m1347/1347\u001b[0m \u001b[32m━━━━━━━━━━━━━━━━━━━━\u001b[0m\u001b[37m\u001b[0m \u001b[1m4s\u001b[0m 2ms/step - accuracy: 0.5037 - loss: 0.7274 - val_accuracy: 0.5029 - val_loss: 0.6988\n",
      "Epoch 2/100\n",
      "\u001b[1m1347/1347\u001b[0m \u001b[32m━━━━━━━━━━━━━━━━━━━━\u001b[0m\u001b[37m\u001b[0m \u001b[1m2s\u001b[0m 1ms/step - accuracy: 0.5086 - loss: 0.6970 - val_accuracy: 0.5051 - val_loss: 0.6962\n",
      "Epoch 3/100\n",
      "\u001b[1m1347/1347\u001b[0m \u001b[32m━━━━━━━━━━━━━━━━━━━━\u001b[0m\u001b[37m\u001b[0m \u001b[1m2s\u001b[0m 2ms/step - accuracy: 0.5090 - loss: 0.6950 - val_accuracy: 0.5042 - val_loss: 0.6952\n",
      "Epoch 4/100\n",
      "\u001b[1m1347/1347\u001b[0m \u001b[32m━━━━━━━━━━━━━━━━━━━━\u001b[0m\u001b[37m\u001b[0m \u001b[1m2s\u001b[0m 2ms/step - accuracy: 0.5125 - loss: 0.6939 - val_accuracy: 0.5083 - val_loss: 0.6946\n",
      "Epoch 5/100\n",
      "\u001b[1m1347/1347\u001b[0m \u001b[32m━━━━━━━━━━━━━━━━━━━━\u001b[0m\u001b[37m\u001b[0m \u001b[1m2s\u001b[0m 2ms/step - accuracy: 0.5121 - loss: 0.6933 - val_accuracy: 0.5051 - val_loss: 0.6943\n",
      "Epoch 6/100\n",
      "\u001b[1m1347/1347\u001b[0m \u001b[32m━━━━━━━━━━━━━━━━━━━━\u001b[0m\u001b[37m\u001b[0m \u001b[1m2s\u001b[0m 1ms/step - accuracy: 0.5141 - loss: 0.6929 - val_accuracy: 0.5068 - val_loss: 0.6940\n",
      "Epoch 7/100\n",
      "\u001b[1m1347/1347\u001b[0m \u001b[32m━━━━━━━━━━━━━━━━━━━━\u001b[0m\u001b[37m\u001b[0m \u001b[1m2s\u001b[0m 1ms/step - accuracy: 0.5168 - loss: 0.6926 - val_accuracy: 0.5057 - val_loss: 0.6938\n",
      "Epoch 8/100\n",
      "\u001b[1m1347/1347\u001b[0m \u001b[32m━━━━━━━━━━━━━━━━━━━━\u001b[0m\u001b[37m\u001b[0m \u001b[1m2s\u001b[0m 1ms/step - accuracy: 0.5173 - loss: 0.6923 - val_accuracy: 0.5064 - val_loss: 0.6937\n",
      "Epoch 9/100\n",
      "\u001b[1m1347/1347\u001b[0m \u001b[32m━━━━━━━━━━━━━━━━━━━━\u001b[0m\u001b[37m\u001b[0m \u001b[1m2s\u001b[0m 1ms/step - accuracy: 0.5196 - loss: 0.6921 - val_accuracy: 0.5047 - val_loss: 0.6935\n",
      "Epoch 10/100\n",
      "\u001b[1m1347/1347\u001b[0m \u001b[32m━━━━━━━━━━━━━━━━━━━━\u001b[0m\u001b[37m\u001b[0m \u001b[1m2s\u001b[0m 1ms/step - accuracy: 0.5224 - loss: 0.6918 - val_accuracy: 0.5081 - val_loss: 0.6933\n",
      "Epoch 11/100\n",
      "\u001b[1m1347/1347\u001b[0m \u001b[32m━━━━━━━━━━━━━━━━━━━━\u001b[0m\u001b[37m\u001b[0m \u001b[1m2s\u001b[0m 1ms/step - accuracy: 0.5224 - loss: 0.6915 - val_accuracy: 0.5135 - val_loss: 0.6930\n",
      "Epoch 12/100\n",
      "\u001b[1m1347/1347\u001b[0m \u001b[32m━━━━━━━━━━━━━━━━━━━━\u001b[0m\u001b[37m\u001b[0m \u001b[1m2s\u001b[0m 1ms/step - accuracy: 0.5247 - loss: 0.6910 - val_accuracy: 0.5168 - val_loss: 0.6925\n",
      "Epoch 13/100\n",
      "\u001b[1m1347/1347\u001b[0m \u001b[32m━━━━━━━━━━━━━━━━━━━━\u001b[0m\u001b[37m\u001b[0m \u001b[1m2s\u001b[0m 1ms/step - accuracy: 0.5305 - loss: 0.6902 - val_accuracy: 0.5233 - val_loss: 0.6910\n",
      "Epoch 14/100\n",
      "\u001b[1m1347/1347\u001b[0m \u001b[32m━━━━━━━━━━━━━━━━━━━━\u001b[0m\u001b[37m\u001b[0m \u001b[1m2s\u001b[0m 1ms/step - accuracy: 0.5400 - loss: 0.6877 - val_accuracy: 0.5553 - val_loss: 0.6834\n",
      "Epoch 15/100\n",
      "\u001b[1m1347/1347\u001b[0m \u001b[32m━━━━━━━━━━━━━━━━━━━━\u001b[0m\u001b[37m\u001b[0m \u001b[1m2s\u001b[0m 1ms/step - accuracy: 0.5841 - loss: 0.6723 - val_accuracy: 0.6401 - val_loss: 0.6452\n",
      "Epoch 16/100\n",
      "\u001b[1m1347/1347\u001b[0m \u001b[32m━━━━━━━━━━━━━━━━━━━━\u001b[0m\u001b[37m\u001b[0m \u001b[1m2s\u001b[0m 1ms/step - accuracy: 0.6566 - loss: 0.6360 - val_accuracy: 0.6807 - val_loss: 0.6212\n",
      "Epoch 17/100\n",
      "\u001b[1m1347/1347\u001b[0m \u001b[32m━━━━━━━━━━━━━━━━━━━━\u001b[0m\u001b[37m\u001b[0m \u001b[1m2s\u001b[0m 1ms/step - accuracy: 0.6866 - loss: 0.6182 - val_accuracy: 0.6898 - val_loss: 0.6157\n",
      "Epoch 18/100\n",
      "\u001b[1m1347/1347\u001b[0m \u001b[32m━━━━━━━━━━━━━━━━━━━━\u001b[0m\u001b[37m\u001b[0m \u001b[1m2s\u001b[0m 1ms/step - accuracy: 0.6990 - loss: 0.6100 - val_accuracy: 0.7045 - val_loss: 0.6058\n",
      "Epoch 19/100\n",
      "\u001b[1m1347/1347\u001b[0m \u001b[32m━━━━━━━━━━━━━━━━━━━━\u001b[0m\u001b[37m\u001b[0m \u001b[1m2s\u001b[0m 1ms/step - accuracy: 0.6965 - loss: 0.6118 - val_accuracy: 0.7015 - val_loss: 0.6092\n",
      "Epoch 20/100\n",
      "\u001b[1m1347/1347\u001b[0m \u001b[32m━━━━━━━━━━━━━━━━━━━━\u001b[0m\u001b[37m\u001b[0m \u001b[1m2s\u001b[0m 1ms/step - accuracy: 0.7001 - loss: 0.6091 - val_accuracy: 0.6740 - val_loss: 0.6276\n",
      "Epoch 21/100\n",
      "\u001b[1m1347/1347\u001b[0m \u001b[32m━━━━━━━━━━━━━━━━━━━━\u001b[0m\u001b[37m\u001b[0m \u001b[1m2s\u001b[0m 1ms/step - accuracy: 0.6785 - loss: 0.6224 - val_accuracy: 0.6797 - val_loss: 0.6239\n",
      "Epoch 22/100\n",
      "\u001b[1m1347/1347\u001b[0m \u001b[32m━━━━━━━━━━━━━━━━━━━━\u001b[0m\u001b[37m\u001b[0m \u001b[1m2s\u001b[0m 1ms/step - accuracy: 0.6796 - loss: 0.6221 - val_accuracy: 0.6876 - val_loss: 0.6176\n",
      "Epoch 23/100\n",
      "\u001b[1m1347/1347\u001b[0m \u001b[32m━━━━━━━━━━━━━━━━━━━━\u001b[0m\u001b[37m\u001b[0m \u001b[1m2s\u001b[0m 1ms/step - accuracy: 0.6916 - loss: 0.6143 - val_accuracy: 0.7080 - val_loss: 0.6029\n",
      "Epoch 24/100\n",
      "\u001b[1m1347/1347\u001b[0m \u001b[32m━━━━━━━━━━━━━━━━━━━━\u001b[0m\u001b[37m\u001b[0m \u001b[1m2s\u001b[0m 1ms/step - accuracy: 0.7023 - loss: 0.6071 - val_accuracy: 0.6918 - val_loss: 0.6170\n",
      "Epoch 25/100\n",
      "\u001b[1m1347/1347\u001b[0m \u001b[32m━━━━━━━━━━━━━━━━━━━━\u001b[0m\u001b[37m\u001b[0m \u001b[1m2s\u001b[0m 1ms/step - accuracy: 0.6974 - loss: 0.6117 - val_accuracy: 0.7041 - val_loss: 0.6068\n",
      "Epoch 26/100\n",
      "\u001b[1m1347/1347\u001b[0m \u001b[32m━━━━━━━━━━━━━━━━━━━━\u001b[0m\u001b[37m\u001b[0m \u001b[1m2s\u001b[0m 1ms/step - accuracy: 0.7037 - loss: 0.6059 - val_accuracy: 0.7062 - val_loss: 0.6046\n",
      "Epoch 27/100\n",
      "\u001b[1m1347/1347\u001b[0m \u001b[32m━━━━━━━━━━━━━━━━━━━━\u001b[0m\u001b[37m\u001b[0m \u001b[1m2s\u001b[0m 1ms/step - accuracy: 0.7057 - loss: 0.6039 - val_accuracy: 0.7082 - val_loss: 0.6026\n",
      "Epoch 28/100\n",
      "\u001b[1m1347/1347\u001b[0m \u001b[32m━━━━━━━━━━━━━━━━━━━━\u001b[0m\u001b[37m\u001b[0m \u001b[1m2s\u001b[0m 1ms/step - accuracy: 0.7050 - loss: 0.6042 - val_accuracy: 0.7049 - val_loss: 0.6052\n",
      "Epoch 29/100\n",
      "\u001b[1m1347/1347\u001b[0m \u001b[32m━━━━━━━━━━━━━━━━━━━━\u001b[0m\u001b[37m\u001b[0m \u001b[1m2s\u001b[0m 1ms/step - accuracy: 0.7037 - loss: 0.6055 - val_accuracy: 0.7054 - val_loss: 0.6050\n",
      "Epoch 30/100\n",
      "\u001b[1m1347/1347\u001b[0m \u001b[32m━━━━━━━━━━━━━━━━━━━━\u001b[0m\u001b[37m\u001b[0m \u001b[1m2s\u001b[0m 1ms/step - accuracy: 0.6930 - loss: 0.6153 - val_accuracy: 0.6974 - val_loss: 0.6124\n",
      "Epoch 31/100\n",
      "\u001b[1m1347/1347\u001b[0m \u001b[32m━━━━━━━━━━━━━━━━━━━━\u001b[0m\u001b[37m\u001b[0m \u001b[1m2s\u001b[0m 1ms/step - accuracy: 0.7025 - loss: 0.6068 - val_accuracy: 0.7065 - val_loss: 0.6044\n",
      "Epoch 32/100\n",
      "\u001b[1m1347/1347\u001b[0m \u001b[32m━━━━━━━━━━━━━━━━━━━━\u001b[0m\u001b[37m\u001b[0m \u001b[1m2s\u001b[0m 1ms/step - accuracy: 0.7048 - loss: 0.6046 - val_accuracy: 0.7002 - val_loss: 0.6102\n",
      "Epoch 33/100\n",
      "\u001b[1m1347/1347\u001b[0m \u001b[32m━━━━━━━━━━━━━━━━━━━━\u001b[0m\u001b[37m\u001b[0m \u001b[1m2s\u001b[0m 1ms/step - accuracy: 0.6974 - loss: 0.6113 - val_accuracy: 0.6628 - val_loss: 0.6375\n",
      "Epoch 34/100\n",
      "\u001b[1m1347/1347\u001b[0m \u001b[32m━━━━━━━━━━━━━━━━━━━━\u001b[0m\u001b[37m\u001b[0m \u001b[1m2s\u001b[0m 1ms/step - accuracy: 0.6755 - loss: 0.6287 - val_accuracy: 0.6952 - val_loss: 0.6148\n",
      "Epoch 35/100\n",
      "\u001b[1m1347/1347\u001b[0m \u001b[32m━━━━━━━━━━━━━━━━━━━━\u001b[0m\u001b[37m\u001b[0m \u001b[1m2s\u001b[0m 1ms/step - accuracy: 0.6970 - loss: 0.6120 - val_accuracy: 0.6967 - val_loss: 0.6134\n",
      "Epoch 36/100\n",
      "\u001b[1m1347/1347\u001b[0m \u001b[32m━━━━━━━━━━━━━━━━━━━━\u001b[0m\u001b[37m\u001b[0m \u001b[1m2s\u001b[0m 1ms/step - accuracy: 0.6859 - loss: 0.6183 - val_accuracy: 0.6868 - val_loss: 0.6189\n",
      "Epoch 37/100\n",
      "\u001b[1m1347/1347\u001b[0m \u001b[32m━━━━━━━━━━━━━━━━━━━━\u001b[0m\u001b[37m\u001b[0m \u001b[1m2s\u001b[0m 1ms/step - accuracy: 0.6944 - loss: 0.6125 - val_accuracy: 0.6935 - val_loss: 0.6157\n",
      "Epoch 38/100\n",
      "\u001b[1m1347/1347\u001b[0m \u001b[32m━━━━━━━━━━━━━━━━━━━━\u001b[0m\u001b[37m\u001b[0m \u001b[1m2s\u001b[0m 1ms/step - accuracy: 0.6711 - loss: 0.6304 - val_accuracy: 0.6556 - val_loss: 0.6423\n",
      "Epoch 39/100\n",
      "\u001b[1m1347/1347\u001b[0m \u001b[32m━━━━━━━━━━━━━━━━━━━━\u001b[0m\u001b[37m\u001b[0m \u001b[1m2s\u001b[0m 1ms/step - accuracy: 0.6649 - loss: 0.6360 - val_accuracy: 0.6736 - val_loss: 0.6310\n",
      "Epoch 40/100\n",
      "\u001b[1m1347/1347\u001b[0m \u001b[32m━━━━━━━━━━━━━━━━━━━━\u001b[0m\u001b[37m\u001b[0m \u001b[1m2s\u001b[0m 1ms/step - accuracy: 0.6620 - loss: 0.6382 - val_accuracy: 0.6489 - val_loss: 0.6476\n",
      "Epoch 41/100\n",
      "\u001b[1m1347/1347\u001b[0m \u001b[32m━━━━━━━━━━━━━━━━━━━━\u001b[0m\u001b[37m\u001b[0m \u001b[1m2s\u001b[0m 1ms/step - accuracy: 0.6575 - loss: 0.6415 - val_accuracy: 0.6744 - val_loss: 0.6303\n",
      "Epoch 42/100\n",
      "\u001b[1m1347/1347\u001b[0m \u001b[32m━━━━━━━━━━━━━━━━━━━━\u001b[0m\u001b[37m\u001b[0m \u001b[1m2s\u001b[0m 1ms/step - accuracy: 0.6763 - loss: 0.6282 - val_accuracy: 0.6857 - val_loss: 0.6212\n",
      "Epoch 43/100\n",
      "\u001b[1m1347/1347\u001b[0m \u001b[32m━━━━━━━━━━━━━━━━━━━━\u001b[0m\u001b[37m\u001b[0m \u001b[1m2s\u001b[0m 1ms/step - accuracy: 0.6836 - loss: 0.6217 - val_accuracy: 0.6850 - val_loss: 0.6216\n",
      "Epoch 44/100\n",
      "\u001b[1m1347/1347\u001b[0m \u001b[32m━━━━━━━━━━━━━━━━━━━━\u001b[0m\u001b[37m\u001b[0m \u001b[1m2s\u001b[0m 1ms/step - accuracy: 0.6916 - loss: 0.6161 - val_accuracy: 0.6814 - val_loss: 0.6253\n",
      "Epoch 45/100\n",
      "\u001b[1m1347/1347\u001b[0m \u001b[32m━━━━━━━━━━━━━━━━━━━━\u001b[0m\u001b[37m\u001b[0m \u001b[1m2s\u001b[0m 1ms/step - accuracy: 0.6784 - loss: 0.6253 - val_accuracy: 0.6861 - val_loss: 0.6221\n",
      "Epoch 46/100\n",
      "\u001b[1m1347/1347\u001b[0m \u001b[32m━━━━━━━━━━━━━━━━━━━━\u001b[0m\u001b[37m\u001b[0m \u001b[1m2s\u001b[0m 1ms/step - accuracy: 0.6823 - loss: 0.6228 - val_accuracy: 0.6876 - val_loss: 0.6218\n",
      "Epoch 47/100\n",
      "\u001b[1m1347/1347\u001b[0m \u001b[32m━━━━━━━━━━━━━━━━━━━━\u001b[0m\u001b[37m\u001b[0m \u001b[1m2s\u001b[0m 1ms/step - accuracy: 0.6894 - loss: 0.6174 - val_accuracy: 0.6957 - val_loss: 0.6147\n",
      "Epoch 48/100\n",
      "\u001b[1m1347/1347\u001b[0m \u001b[32m━━━━━━━━━━━━━━━━━━━━\u001b[0m\u001b[37m\u001b[0m \u001b[1m2s\u001b[0m 1ms/step - accuracy: 0.6957 - loss: 0.6121 - val_accuracy: 0.6996 - val_loss: 0.6114\n",
      "Epoch 49/100\n",
      "\u001b[1m1347/1347\u001b[0m \u001b[32m━━━━━━━━━━━━━━━━━━━━\u001b[0m\u001b[37m\u001b[0m \u001b[1m2s\u001b[0m 1ms/step - accuracy: 0.6995 - loss: 0.6095 - val_accuracy: 0.7015 - val_loss: 0.6095\n",
      "Epoch 50/100\n",
      "\u001b[1m1347/1347\u001b[0m \u001b[32m━━━━━━━━━━━━━━━━━━━━\u001b[0m\u001b[37m\u001b[0m \u001b[1m2s\u001b[0m 1ms/step - accuracy: 0.7015 - loss: 0.6076 - val_accuracy: 0.7032 - val_loss: 0.6082\n",
      "Epoch 51/100\n",
      "\u001b[1m1347/1347\u001b[0m \u001b[32m━━━━━━━━━━━━━━━━━━━━\u001b[0m\u001b[37m\u001b[0m \u001b[1m2s\u001b[0m 1ms/step - accuracy: 0.7013 - loss: 0.6072 - val_accuracy: 0.6954 - val_loss: 0.6146\n",
      "Epoch 52/100\n",
      "\u001b[1m1347/1347\u001b[0m \u001b[32m━━━━━━━━━━━━━━━━━━━━\u001b[0m\u001b[37m\u001b[0m \u001b[1m2s\u001b[0m 1ms/step - accuracy: 0.6964 - loss: 0.6114 - val_accuracy: 0.6915 - val_loss: 0.6170\n"
     ]
    }
   ],
   "source": [
    "basic_rnn = tf.keras.Sequential([\n",
    "    tf.keras.layers.Input((10, 26)),\n",
    "    tf.keras.layers.SimpleRNN(32),\n",
    "    tf.keras.layers.Dense(1, activation='sigmoid')\n",
    "])\n",
    "\n",
    "early_stop = tf.keras.callbacks.EarlyStopping(monitor='val_accuracy', patience=25, restore_best_weights=True)\n",
    "\n",
    "opt = tf.keras.optimizers.SGD(learning_rate=0.001, momentum=0.9)\n",
    "basic_rnn.compile(loss=tf.keras.losses.BinaryCrossentropy(), optimizer=opt, metrics=['accuracy'])\n",
    "history = basic_rnn.fit(train_ds, validation_data=val_ds, epochs=100, callbacks=[early_stop])"
   ]
  },
  {
   "cell_type": "code",
   "execution_count": 29,
   "id": "0dfbf26e-26e1-4b31-b09e-73feef9db7e9",
   "metadata": {},
   "outputs": [
    {
     "name": "stdout",
     "output_type": "stream",
     "text": [
      "\u001b[1m169/169\u001b[0m \u001b[32m━━━━━━━━━━━━━━━━━━━━\u001b[0m\u001b[37m\u001b[0m \u001b[1m0s\u001b[0m 2ms/step - accuracy: 0.7225 - loss: 0.5909 \n",
      "71.92% Accuracy\n"
     ]
    }
   ],
   "source": [
    "test_loss, test_acc = basic_rnn.evaluate(test_ds)\n",
    "print(f\"{round(test_acc * 100, 2)}% Accuracy\")"
   ]
  },
  {
   "cell_type": "code",
   "execution_count": 30,
   "id": "e1018b4e-1093-46ad-9e3f-d30f4029b647",
   "metadata": {
    "scrolled": true
   },
   "outputs": [
    {
     "name": "stdout",
     "output_type": "stream",
     "text": [
      "Epoch 1/100\n",
      "\u001b[1m1347/1347\u001b[0m \u001b[32m━━━━━━━━━━━━━━━━━━━━\u001b[0m\u001b[37m\u001b[0m \u001b[1m7s\u001b[0m 4ms/step - accuracy: 0.5435 - loss: 0.6897 - val_accuracy: 0.6890 - val_loss: 0.6168\n",
      "Epoch 2/100\n",
      "\u001b[1m1347/1347\u001b[0m \u001b[32m━━━━━━━━━━━━━━━━━━━━\u001b[0m\u001b[37m\u001b[0m \u001b[1m6s\u001b[0m 4ms/step - accuracy: 0.6953 - loss: 0.6075 - val_accuracy: 0.7054 - val_loss: 0.5995\n",
      "Epoch 3/100\n",
      "\u001b[1m1347/1347\u001b[0m \u001b[32m━━━━━━━━━━━━━━━━━━━━\u001b[0m\u001b[37m\u001b[0m \u001b[1m6s\u001b[0m 4ms/step - accuracy: 0.7060 - loss: 0.5952 - val_accuracy: 0.7075 - val_loss: 0.5941\n",
      "Epoch 4/100\n",
      "\u001b[1m1347/1347\u001b[0m \u001b[32m━━━━━━━━━━━━━━━━━━━━\u001b[0m\u001b[37m\u001b[0m \u001b[1m6s\u001b[0m 4ms/step - accuracy: 0.7072 - loss: 0.5891 - val_accuracy: 0.7091 - val_loss: 0.5906\n",
      "Epoch 5/100\n",
      "\u001b[1m1347/1347\u001b[0m \u001b[32m━━━━━━━━━━━━━━━━━━━━\u001b[0m\u001b[37m\u001b[0m \u001b[1m6s\u001b[0m 4ms/step - accuracy: 0.7092 - loss: 0.5842 - val_accuracy: 0.7088 - val_loss: 0.5877\n",
      "Epoch 6/100\n",
      "\u001b[1m1347/1347\u001b[0m \u001b[32m━━━━━━━━━━━━━━━━━━━━\u001b[0m\u001b[37m\u001b[0m \u001b[1m6s\u001b[0m 4ms/step - accuracy: 0.7089 - loss: 0.5806 - val_accuracy: 0.7102 - val_loss: 0.5851\n",
      "Epoch 7/100\n",
      "\u001b[1m1347/1347\u001b[0m \u001b[32m━━━━━━━━━━━━━━━━━━━━\u001b[0m\u001b[37m\u001b[0m \u001b[1m5s\u001b[0m 4ms/step - accuracy: 0.7096 - loss: 0.5765 - val_accuracy: 0.7119 - val_loss: 0.5825\n",
      "Epoch 8/100\n",
      "\u001b[1m1347/1347\u001b[0m \u001b[32m━━━━━━━━━━━━━━━━━━━━\u001b[0m\u001b[37m\u001b[0m \u001b[1m6s\u001b[0m 4ms/step - accuracy: 0.7112 - loss: 0.5724 - val_accuracy: 0.7108 - val_loss: 0.5807\n",
      "Epoch 9/100\n",
      "\u001b[1m1347/1347\u001b[0m \u001b[32m━━━━━━━━━━━━━━━━━━━━\u001b[0m\u001b[37m\u001b[0m \u001b[1m5s\u001b[0m 4ms/step - accuracy: 0.7121 - loss: 0.5695 - val_accuracy: 0.7138 - val_loss: 0.5788\n",
      "Epoch 10/100\n",
      "\u001b[1m1347/1347\u001b[0m \u001b[32m━━━━━━━━━━━━━━━━━━━━\u001b[0m\u001b[37m\u001b[0m \u001b[1m6s\u001b[0m 4ms/step - accuracy: 0.7131 - loss: 0.5662 - val_accuracy: 0.7104 - val_loss: 0.5781\n",
      "Epoch 11/100\n",
      "\u001b[1m1347/1347\u001b[0m \u001b[32m━━━━━━━━━━━━━━━━━━━━\u001b[0m\u001b[37m\u001b[0m \u001b[1m6s\u001b[0m 4ms/step - accuracy: 0.7139 - loss: 0.5637 - val_accuracy: 0.7101 - val_loss: 0.5768\n",
      "Epoch 12/100\n",
      "\u001b[1m1347/1347\u001b[0m \u001b[32m━━━━━━━━━━━━━━━━━━━━\u001b[0m\u001b[37m\u001b[0m \u001b[1m6s\u001b[0m 4ms/step - accuracy: 0.7151 - loss: 0.5618 - val_accuracy: 0.7091 - val_loss: 0.5760\n",
      "Epoch 13/100\n",
      "\u001b[1m1347/1347\u001b[0m \u001b[32m━━━━━━━━━━━━━━━━━━━━\u001b[0m\u001b[37m\u001b[0m \u001b[1m6s\u001b[0m 4ms/step - accuracy: 0.7153 - loss: 0.5601 - val_accuracy: 0.7112 - val_loss: 0.5753\n",
      "Epoch 14/100\n",
      "\u001b[1m1347/1347\u001b[0m \u001b[32m━━━━━━━━━━━━━━━━━━━━\u001b[0m\u001b[37m\u001b[0m \u001b[1m6s\u001b[0m 4ms/step - accuracy: 0.7155 - loss: 0.5583 - val_accuracy: 0.7080 - val_loss: 0.5751\n",
      "Epoch 15/100\n",
      "\u001b[1m1347/1347\u001b[0m \u001b[32m━━━━━━━━━━━━━━━━━━━━\u001b[0m\u001b[37m\u001b[0m \u001b[1m6s\u001b[0m 4ms/step - accuracy: 0.7173 - loss: 0.5566 - val_accuracy: 0.7082 - val_loss: 0.5745\n",
      "Epoch 16/100\n",
      "\u001b[1m1347/1347\u001b[0m \u001b[32m━━━━━━━━━━━━━━━━━━━━\u001b[0m\u001b[37m\u001b[0m \u001b[1m6s\u001b[0m 4ms/step - accuracy: 0.7177 - loss: 0.5553 - val_accuracy: 0.7075 - val_loss: 0.5746\n",
      "Epoch 17/100\n",
      "\u001b[1m1347/1347\u001b[0m \u001b[32m━━━━━━━━━━━━━━━━━━━━\u001b[0m\u001b[37m\u001b[0m \u001b[1m6s\u001b[0m 4ms/step - accuracy: 0.7198 - loss: 0.5539 - val_accuracy: 0.7089 - val_loss: 0.5742\n",
      "Epoch 18/100\n",
      "\u001b[1m1347/1347\u001b[0m \u001b[32m━━━━━━━━━━━━━━━━━━━━\u001b[0m\u001b[37m\u001b[0m \u001b[1m6s\u001b[0m 4ms/step - accuracy: 0.7193 - loss: 0.5527 - val_accuracy: 0.7091 - val_loss: 0.5743\n",
      "Epoch 19/100\n",
      "\u001b[1m1347/1347\u001b[0m \u001b[32m━━━━━━━━━━━━━━━━━━━━\u001b[0m\u001b[37m\u001b[0m \u001b[1m6s\u001b[0m 4ms/step - accuracy: 0.7190 - loss: 0.5519 - val_accuracy: 0.7080 - val_loss: 0.5742\n"
     ]
    }
   ],
   "source": [
    "deep_rnn = tf.keras.Sequential([\n",
    "    tf.keras.layers.Input((10, 26)),\n",
    "    tf.keras.layers.Conv1D(filters=64, kernel_size=2, strides=2, activation='relu'),\n",
    "    tf.keras.layers.GRU(32, return_sequences=True),\n",
    "    tf.keras.layers.SimpleRNN(32),\n",
    "    tf.keras.layers.Dense(1, activation='sigmoid')\n",
    "])\n",
    "\n",
    "early_stop = tf.keras.callbacks.EarlyStopping(monitor='val_accuracy', patience=10, restore_best_weights=True)\n",
    "\n",
    "opt = tf.keras.optimizers.SGD(learning_rate=0.001, momentum=0.9)\n",
    "deep_rnn.compile(loss=tf.keras.losses.BinaryCrossentropy(), optimizer=opt, metrics=['accuracy'])\n",
    "history = deep_rnn.fit(train_ds, validation_data=val_ds, epochs=100, callbacks=[early_stop])"
   ]
  },
  {
   "cell_type": "code",
   "execution_count": 31,
   "id": "b34d72c0-fc98-4f70-8a1c-693cf944676d",
   "metadata": {},
   "outputs": [
    {
     "data": {
      "text/plain": [
       "<Axes: >"
      ]
     },
     "execution_count": 31,
     "metadata": {},
     "output_type": "execute_result"
    },
    {
     "data": {
      "image/png": "[encoded data removed]",
      "text/plain": [
       "<Figure size 640x480 with 1 Axes>"
      ]
     },
     "metadata": {},
     "output_type": "display_data"
    }
   ],
   "source": [
    "pd.DataFrame(history.history).plot()"
   ]
  },
  {
   "cell_type": "code",
   "execution_count": 32,
   "id": "a9d350e8-7d55-4b37-bb40-4f2aa4f2f2d5",
   "metadata": {
    "scrolled": true
   },
   "outputs": [
    {
     "name": "stdout",
     "output_type": "stream",
     "text": [
      "Epoch 1/50\n",
      "\u001b[1m1347/1347\u001b[0m \u001b[32m━━━━━━━━━━━━━━━━━━━━\u001b[0m\u001b[37m\u001b[0m \u001b[1m7s\u001b[0m 4ms/step - accuracy: 0.7133 - loss: 0.5654 - val_accuracy: 0.7134 - val_loss: 0.5787\n",
      "Epoch 2/50\n",
      "\u001b[1m1347/1347\u001b[0m \u001b[32m━━━━━━━━━━━━━━━━━━━━\u001b[0m\u001b[37m\u001b[0m \u001b[1m6s\u001b[0m 4ms/step - accuracy: 0.7133 - loss: 0.5654 - val_accuracy: 0.7127 - val_loss: 0.5787\n",
      "Epoch 3/50\n",
      "\u001b[1m1347/1347\u001b[0m \u001b[32m━━━━━━━━━━━━━━━━━━━━\u001b[0m\u001b[37m\u001b[0m \u001b[1m6s\u001b[0m 4ms/step - accuracy: 0.7142 - loss: 0.5646 - val_accuracy: 0.7123 - val_loss: 0.5787\n",
      "Epoch 4/50\n",
      "\u001b[1m1347/1347\u001b[0m \u001b[32m━━━━━━━━━━━━━━━━━━━━\u001b[0m\u001b[37m\u001b[0m \u001b[1m6s\u001b[0m 4ms/step - accuracy: 0.7142 - loss: 0.5646 - val_accuracy: 0.7125 - val_loss: 0.5786\n",
      "Epoch 5/50\n",
      "\u001b[1m1347/1347\u001b[0m \u001b[32m━━━━━━━━━━━━━━━━━━━━\u001b[0m\u001b[37m\u001b[0m \u001b[1m6s\u001b[0m 4ms/step - accuracy: 0.7143 - loss: 0.5642 - val_accuracy: 0.7121 - val_loss: 0.5786\n",
      "Epoch 6/50\n",
      "\u001b[1m1347/1347\u001b[0m \u001b[32m━━━━━━━━━━━━━━━━━━━━\u001b[0m\u001b[37m\u001b[0m \u001b[1m6s\u001b[0m 4ms/step - accuracy: 0.7142 - loss: 0.5640 - val_accuracy: 0.7121 - val_loss: 0.5786\n",
      "Epoch 7/50\n",
      "\u001b[1m1347/1347\u001b[0m \u001b[32m━━━━━━━━━━━━━━━━━━━━\u001b[0m\u001b[37m\u001b[0m \u001b[1m6s\u001b[0m 4ms/step - accuracy: 0.7143 - loss: 0.5642 - val_accuracy: 0.7127 - val_loss: 0.5786\n",
      "Epoch 8/50\n",
      "\u001b[1m1347/1347\u001b[0m \u001b[32m━━━━━━━━━━━━━━━━━━━━\u001b[0m\u001b[37m\u001b[0m \u001b[1m6s\u001b[0m 4ms/step - accuracy: 0.7138 - loss: 0.5644 - val_accuracy: 0.7129 - val_loss: 0.5786\n",
      "Epoch 9/50\n",
      "\u001b[1m1347/1347\u001b[0m \u001b[32m━━━━━━━━━━━━━━━━━━━━\u001b[0m\u001b[37m\u001b[0m \u001b[1m6s\u001b[0m 4ms/step - accuracy: 0.7143 - loss: 0.5639 - val_accuracy: 0.7138 - val_loss: 0.5785\n",
      "Epoch 10/50\n",
      "\u001b[1m1347/1347\u001b[0m \u001b[32m━━━━━━━━━━━━━━━━━━━━\u001b[0m\u001b[37m\u001b[0m \u001b[1m6s\u001b[0m 4ms/step - accuracy: 0.7149 - loss: 0.5636 - val_accuracy: 0.7140 - val_loss: 0.5785\n",
      "Epoch 11/50\n",
      "\u001b[1m1347/1347\u001b[0m \u001b[32m━━━━━━━━━━━━━━━━━━━━\u001b[0m\u001b[37m\u001b[0m \u001b[1m6s\u001b[0m 4ms/step - accuracy: 0.7149 - loss: 0.5638 - val_accuracy: 0.7138 - val_loss: 0.5785\n",
      "Epoch 12/50\n",
      "\u001b[1m1347/1347\u001b[0m \u001b[32m━━━━━━━━━━━━━━━━━━━━\u001b[0m\u001b[37m\u001b[0m \u001b[1m6s\u001b[0m 4ms/step - accuracy: 0.7144 - loss: 0.5638 - val_accuracy: 0.7140 - val_loss: 0.5785\n",
      "Epoch 13/50\n",
      "\u001b[1m1347/1347\u001b[0m \u001b[32m━━━━━━━━━━━━━━━━━━━━\u001b[0m\u001b[37m\u001b[0m \u001b[1m6s\u001b[0m 4ms/step - accuracy: 0.7143 - loss: 0.5640 - val_accuracy: 0.7138 - val_loss: 0.5785\n",
      "Epoch 14/50\n",
      "\u001b[1m1347/1347\u001b[0m \u001b[32m━━━━━━━━━━━━━━━━━━━━\u001b[0m\u001b[37m\u001b[0m \u001b[1m6s\u001b[0m 4ms/step - accuracy: 0.7150 - loss: 0.5635 - val_accuracy: 0.7140 - val_loss: 0.5785\n",
      "Epoch 15/50\n",
      "\u001b[1m1347/1347\u001b[0m \u001b[32m━━━━━━━━━━━━━━━━━━━━\u001b[0m\u001b[37m\u001b[0m \u001b[1m6s\u001b[0m 4ms/step - accuracy: 0.7146 - loss: 0.5637 - val_accuracy: 0.7142 - val_loss: 0.5784\n",
      "Epoch 16/50\n",
      "\u001b[1m1347/1347\u001b[0m \u001b[32m━━━━━━━━━━━━━━━━━━━━\u001b[0m\u001b[37m\u001b[0m \u001b[1m6s\u001b[0m 4ms/step - accuracy: 0.7145 - loss: 0.5638 - val_accuracy: 0.7142 - val_loss: 0.5784\n",
      "Epoch 17/50\n",
      "\u001b[1m1347/1347\u001b[0m \u001b[32m━━━━━━━━━━━━━━━━━━━━\u001b[0m\u001b[37m\u001b[0m \u001b[1m6s\u001b[0m 4ms/step - accuracy: 0.7153 - loss: 0.5628 - val_accuracy: 0.7142 - val_loss: 0.5784\n",
      "Epoch 18/50\n",
      "\u001b[1m1347/1347\u001b[0m \u001b[32m━━━━━━━━━━━━━━━━━━━━\u001b[0m\u001b[37m\u001b[0m \u001b[1m6s\u001b[0m 4ms/step - accuracy: 0.7151 - loss: 0.5632 - val_accuracy: 0.7142 - val_loss: 0.5784\n",
      "Epoch 19/50\n",
      "\u001b[1m1347/1347\u001b[0m \u001b[32m━━━━━━━━━━━━━━━━━━━━\u001b[0m\u001b[37m\u001b[0m \u001b[1m6s\u001b[0m 4ms/step - accuracy: 0.7154 - loss: 0.5627 - val_accuracy: 0.7145 - val_loss: 0.5784\n",
      "Epoch 20/50\n",
      "\u001b[1m1347/1347\u001b[0m \u001b[32m━━━━━━━━━━━━━━━━━━━━\u001b[0m\u001b[37m\u001b[0m \u001b[1m6s\u001b[0m 4ms/step - accuracy: 0.7147 - loss: 0.5635 - val_accuracy: 0.7145 - val_loss: 0.5783\n",
      "Epoch 21/50\n",
      "\u001b[1m1347/1347\u001b[0m \u001b[32m━━━━━━━━━━━━━━━━━━━━\u001b[0m\u001b[37m\u001b[0m \u001b[1m6s\u001b[0m 4ms/step - accuracy: 0.7146 - loss: 0.5635 - val_accuracy: 0.7143 - val_loss: 0.5783\n",
      "Epoch 22/50\n",
      "\u001b[1m1347/1347\u001b[0m \u001b[32m━━━━━━━━━━━━━━━━━━━━\u001b[0m\u001b[37m\u001b[0m \u001b[1m6s\u001b[0m 4ms/step - accuracy: 0.7149 - loss: 0.5630 - val_accuracy: 0.7142 - val_loss: 0.5783\n",
      "Epoch 23/50\n",
      "\u001b[1m1347/1347\u001b[0m \u001b[32m━━━━━━━━━━━━━━━━━━━━\u001b[0m\u001b[37m\u001b[0m \u001b[1m6s\u001b[0m 4ms/step - accuracy: 0.7150 - loss: 0.5629 - val_accuracy: 0.7140 - val_loss: 0.5783\n",
      "Epoch 24/50\n",
      "\u001b[1m1347/1347\u001b[0m \u001b[32m━━━━━━━━━━━━━━━━━━━━\u001b[0m\u001b[37m\u001b[0m \u001b[1m6s\u001b[0m 4ms/step - accuracy: 0.7148 - loss: 0.5630 - val_accuracy: 0.7138 - val_loss: 0.5783\n",
      "Epoch 25/50\n",
      "\u001b[1m1347/1347\u001b[0m \u001b[32m━━━━━━━━━━━━━━━━━━━━\u001b[0m\u001b[37m\u001b[0m \u001b[1m6s\u001b[0m 4ms/step - accuracy: 0.7149 - loss: 0.5629 - val_accuracy: 0.7140 - val_loss: 0.5783\n",
      "Epoch 26/50\n",
      "\u001b[1m1347/1347\u001b[0m \u001b[32m━━━━━━━━━━━━━━━━━━━━\u001b[0m\u001b[37m\u001b[0m \u001b[1m6s\u001b[0m 4ms/step - accuracy: 0.7151 - loss: 0.5627 - val_accuracy: 0.7136 - val_loss: 0.5782\n",
      "Epoch 27/50\n",
      "\u001b[1m1347/1347\u001b[0m \u001b[32m━━━━━━━━━━━━━━━━━━━━\u001b[0m\u001b[37m\u001b[0m \u001b[1m6s\u001b[0m 4ms/step - accuracy: 0.7147 - loss: 0.5629 - val_accuracy: 0.7138 - val_loss: 0.5782\n",
      "Epoch 28/50\n",
      "\u001b[1m1347/1347\u001b[0m \u001b[32m━━━━━━━━━━━━━━━━━━━━\u001b[0m\u001b[37m\u001b[0m \u001b[1m6s\u001b[0m 4ms/step - accuracy: 0.7150 - loss: 0.5626 - val_accuracy: 0.7136 - val_loss: 0.5782\n",
      "Epoch 29/50\n",
      "\u001b[1m1347/1347\u001b[0m \u001b[32m━━━━━━━━━━━━━━━━━━━━\u001b[0m\u001b[37m\u001b[0m \u001b[1m6s\u001b[0m 4ms/step - accuracy: 0.7148 - loss: 0.5625 - val_accuracy: 0.7136 - val_loss: 0.5782\n"
     ]
    }
   ],
   "source": [
    "early_stop = tf.keras.callbacks.EarlyStopping(monitor='val_accuracy', patience=10, restore_best_weights=True)\n",
    "\n",
    "opt = tf.keras.optimizers.SGD(learning_rate=0.00001, momentum=0.9)\n",
    "deep_rnn.compile(loss=tf.keras.losses.BinaryCrossentropy(), optimizer=opt, metrics=['accuracy'])\n",
    "history = deep_rnn.fit(train_ds, validation_data=val_ds, epochs=50, callbacks=[early_stop])"
   ]
  },
  {
   "cell_type": "code",
   "execution_count": 33,
   "id": "1ce46f95-b6bd-43ed-8117-989640a683b3",
   "metadata": {},
   "outputs": [
    {
     "data": {
      "text/plain": [
       "<Axes: >"
      ]
     },
     "execution_count": 33,
     "metadata": {},
     "output_type": "execute_result"
    },
    {
     "data": {
      "image/png": "[encoded data removed]",
      "text/plain": [
       "<Figure size 640x480 with 1 Axes>"
      ]
     },
     "metadata": {},
     "output_type": "display_data"
    }
   ],
   "source": [
    "pd.DataFrame(history.history).plot()"
   ]
  },
  {
   "cell_type": "markdown",
   "id": "36711b24-2df5-43c2-a4d8-91de2069cb8c",
   "metadata": {},
   "source": [
    "### Fine Tune Model"
   ]
  },
  {
   "cell_type": "code",
   "execution_count": 41,
   "id": "a8483df9-2137-450c-8289-1dd1fda67290",
   "metadata": {},
   "outputs": [],
   "source": [
    "import keras_tuner as kt"
   ]
  },
  {
   "cell_type": "code",
   "execution_count": 62,
   "id": "8fa50c47-8002-42bc-94df-6b53897a7a12",
   "metadata": {},
   "outputs": [],
   "source": [
    "def build_model(hp: kt.HyperParameters):\n",
    "    ## Hyperparameters\n",
    "    num_rnn_layers = hp.Int('n_rnn_layers', min_value=1, max_value=4)\n",
    "    n_neurons = hp.Int('n_neurons', min_value=32, max_value=256, sampling='log')\n",
    "    learning_rate = hp.Float('learning_rate', min_value=1e-4, max_value=2e-2, sampling='log')\n",
    "    # optimizer = hp.Choice('optimizer', values=['sgd', 'adam'])\n",
    "    # if optimizer == 'sgd':\n",
    "    #     optimizer = tf.keras.optimizers.SGD(learning_rate=learning_rate, momentum=0.9)\n",
    "    # else:\n",
    "    optimizer = tf.keras.optimizers.Adam(learning_rate=learning_rate)\n",
    "\n",
    "    ## Model\n",
    "    model = tf.keras.Sequential()\n",
    "    model.add(tf.keras.layers.Input((10, 26)))\n",
    "    for _ in range(num_rnn_layers - 1):\n",
    "        model.add(tf.keras.layers.GRU(n_neurons, return_sequences=True))\n",
    "    model.add(tf.keras.layers.GRU(n_neurons, return_sequences=False))  ## Last RNN layer shouldn't return sequences\n",
    "    model.add(tf.keras.layers.Dense(1, activation='sigmoid'))\n",
    "    model.compile(loss=tf.keras.losses.BinaryCrossentropy(), optimizer=optimizer, metrics=['accuracy'])\n",
    "    \n",
    "    return model"
   ]
  },
  {
   "cell_type": "code",
   "execution_count": 63,
   "id": "0a6b6cfa-0d29-4de7-9824-dbb5be334552",
   "metadata": {
    "scrolled": true
   },
   "outputs": [
    {
     "name": "stdout",
     "output_type": "stream",
     "text": [
      "Reloading Tuner from stock_rnn_tuner/untitled_project/tuner0.json\n"
     ]
    }
   ],
   "source": [
    "early_stop = tf.keras.callbacks.EarlyStopping(monitor='val_accuracy', patience=10)\n",
    "grid_search_tuner = kt.GridSearch(\n",
    "    build_model, objective='val_accuracy', max_trials=5,\n",
    "    directory='stock_rnn_tuner', seed=1\n",
    ")\n",
    "grid_search_tuner.search(train_ds, validation_data=val_ds, epochs=75, callbacks=[early_stop])"
   ]
  },
  {
   "cell_type": "markdown",
   "id": "0ec6954a-eb78-4d0d-b2ae-67f7bfae81e1",
   "metadata": {},
   "source": [
    "### Best Params so Far:\n",
    "- Best Optimizer looks to be Adam"
   ]
  },
  {
   "cell_type": "code",
   "execution_count": 64,
   "id": "d1096a7e-472e-4b4e-b9bc-b005d1db0114",
   "metadata": {},
   "outputs": [],
   "source": [
    "best_params = grid_search_tuner.get_best_hyperparameters(num_trials=10)"
   ]
  },
  {
   "cell_type": "code",
   "execution_count": 65,
   "id": "96594f26-46d9-4ffa-ab71-6af95cc24d5b",
   "metadata": {},
   "outputs": [
    {
     "name": "stdout",
     "output_type": "stream",
     "text": [
      "{'n_rnn_layers': 1, 'n_neurons': 32, 'learning_rate': 0.015345409980218515, 'optimizer': 'adam'}\n",
      "{'n_rnn_layers': 1, 'n_neurons': 32, 'learning_rate': 0.00022138821534568864, 'optimizer': 'adam'}\n",
      "{'n_rnn_layers': 1, 'n_neurons': 32, 'learning_rate': 0.009033904523224431, 'optimizer': 'adam'}\n",
      "{'n_rnn_layers': 1, 'n_neurons': 32, 'learning_rate': 0.0010850843457100234, 'optimizer': 'adam'}\n",
      "{'n_rnn_layers': 1, 'n_neurons': 32, 'learning_rate': 0.005318295896944992, 'optimizer': 'adam'}\n",
      "{'n_rnn_layers': 1, 'n_neurons': 32, 'learning_rate': 0.005318295896944992, 'optimizer': 'sgd'}\n",
      "{'n_rnn_layers': 1, 'n_neurons': 32, 'learning_rate': 0.015345409980218515, 'optimizer': 'sgd'}\n",
      "{'n_rnn_layers': 1, 'n_neurons': 32, 'learning_rate': 0.0018431746876702967, 'optimizer': 'adam'}\n",
      "{'n_rnn_layers': 1, 'n_neurons': 32, 'learning_rate': 0.003130902166914484, 'optimizer': 'adam'}\n",
      "{'n_rnn_layers': 1, 'n_neurons': 32, 'learning_rate': 0.003130902166914484, 'optimizer': 'sgd'}\n"
     ]
    }
   ],
   "source": [
    "for params in best_params:\n",
    "    print(params.values)"
   ]
  },
  {
   "cell_type": "code",
   "execution_count": null,
   "id": "02136446-5469-4b0f-8cb0-cbf39d7ba6da",
   "metadata": {},
   "outputs": [],
   "source": []
  }
 ],
 "metadata": {
  "kernelspec": {
   "display_name": "Python 3 (ipykernel)",
   "language": "python",
   "name": "python3"
  },
  "language_info": {
   "codemirror_mode": {
    "name": "ipython",
    "version": 3
   },
   "file_extension": ".py",
   "mimetype": "text/x-python",
   "name": "python",
   "nbconvert_exporter": "python",
   "pygments_lexer": "ipython3",
   "version": "3.12.3"
  }
 },
 "nbformat": 4,
 "nbformat_minor": 5
}
