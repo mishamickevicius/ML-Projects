{
 "cells": [
  {
   "cell_type": "code",
   "execution_count": 56,
   "id": "b8cac174-9690-49bb-8ee2-2ace947e07e3",
   "metadata": {},
   "outputs": [],
   "source": [
    "import numpy as np\n",
    "import pandas as pd\n",
    "import plotly.express as px\n",
    "import kaggle\n",
    "import os\n",
    "import tensorflow as tf"
   ]
  },
  {
   "cell_type": "markdown",
   "id": "b7909ee4-2b37-49fb-9470-8a6fe6f9bc88",
   "metadata": {},
   "source": [
    "# Model Plan:\n",
    "- Find a api for real time stock data\n",
    "- Find a api for real time news\n",
    "- Feature engineer features\n",
    "- Build Multi-modal model for day trading.\n",
    "- First branch of model will be Time Series analysis model that will take the real time stock data as a sequence\n",
    "- Second branch of model will be a text classifier/sentiment analysis model that can take the real time news\n",
    "- Combine the two branches to make the multi-modal model\n",
    "\n",
    "# Agent Plan:\n",
    "- Use same apis to get input data (This is how agent recieves input)\n",
    "- Use LLM with function calling to helper function and to run the model (Thinking part)\n",
    "- Have the agent output the result or make the trade itself using the api (The action/goal achieving part)\n"
   ]
  },
  {
   "cell_type": "markdown",
   "id": "c49ce748-1316-4a3e-a1b0-dc4a739ba630",
   "metadata": {},
   "source": [
    "## Data Collection"
   ]
  },
  {
   "cell_type": "code",
   "execution_count": 26,
   "id": "006d2609-c47e-47bf-8406-1d14b1382170",
   "metadata": {},
   "outputs": [],
   "source": [
    "list_of_tickers = ['AAPL', 'NVDA', 'MSFT', 'AMZN', 'META', 'GOOGL', 'TSLA']"
   ]
  },
  {
   "cell_type": "code",
   "execution_count": 55,
   "id": "b50cc0c9-6793-4de7-ae59-8c8907147a3d",
   "metadata": {},
   "outputs": [
    {
     "name": "stdout",
     "output_type": "stream",
     "text": [
      "Dataset URL: https://www.kaggle.com/datasets/varpit94/apple-stock-data-updated-till-22jun2021\n",
      "Dataset URL: https://www.kaggle.com/datasets/prajwaldongre/nvidia-corp-share-price-2000-2024\n",
      "Dataset URL: https://www.kaggle.com/datasets/varpit94/microsoft-stock-data\n",
      "Dataset URL: https://www.kaggle.com/datasets/guillemservera/amzn-stock-data\n",
      "Dataset URL: https://www.kaggle.com/datasets/henryshan/meta-platforms-inc-meta\n",
      "Dataset URL: https://www.kaggle.com/datasets/henryshan/google-stock-price\n",
      "Dataset URL: https://www.kaggle.com/datasets/guillemservera/tsla-stock-data\n"
     ]
    }
   ],
   "source": [
    "datasets = [\n",
    "    \"varpit94/apple-stock-data-updated-till-22jun2021\",\n",
    "    \"prajwaldongre/nvidia-corp-share-price-2000-2024\",\n",
    "    \"varpit94/microsoft-stock-data\",\n",
    "    \"guillemservera/amzn-stock-data\",\n",
    "    \"henryshan/meta-platforms-inc-meta\",\n",
    "    \"henryshan/google-stock-price\",\n",
    "    \"guillemservera/tsla-stock-data\"\n",
    "]\n",
    "for dataset in datasets: \n",
    "    kaggle.api.dataset_download_files(dataset, path='/home/misha/Desktop/data/day_trader/', unzip=True)"
   ]
  },
  {
   "cell_type": "code",
   "execution_count": 73,
   "id": "fca7f0e4-0552-4301-b049-6bb9570db298",
   "metadata": {},
   "outputs": [],
   "source": [
    "df = pd.DataFrame()\n",
    "for file in os.listdir('/home/misha/Desktop/data/day_trader/'):\n",
    "    data = pd.read_csv('/home/misha/Desktop/data/day_trader/' + file)\n",
    "    data['filename'] = file\n",
    "    df = pd.concat([df, data], axis=0, ignore_index=True)"
   ]
  },
  {
   "cell_type": "code",
   "execution_count": 74,
   "id": "9528ade2-241e-42ac-a407-22251b448610",
   "metadata": {},
   "outputs": [],
   "source": [
    "df.drop(['raw_close', 'change_percent', 'avg_vol_20d', 'adjusted_close', 'Adj Close'], axis=1, inplace=True)"
   ]
  },
  {
   "cell_type": "code",
   "execution_count": 76,
   "id": "6410d195-67ed-492f-9346-e12990de91ff",
   "metadata": {},
   "outputs": [],
   "source": [
    "df_cleaned = df.drop(columns=['Date', 'Open', 'High', 'Low', 'Close', 'Adj Close', 'Volume.1'], errors='ignore')\n",
    "\n",
    "# Optional: Rename columns to capitalize if needed\n",
    "df_cleaned.rename(columns={\n",
    "    'date': 'Date',\n",
    "    'open': 'Open',\n",
    "    'high': 'High',\n",
    "    'low': 'Low',\n",
    "    'close': 'Close',\n",
    "    'volume': 'Volume'\n",
    "}, inplace=True)\n"
   ]
  },
  {
   "cell_type": "code",
   "execution_count": 78,
   "id": "55c7fe5f-8587-4140-bba1-760a5a41c380",
   "metadata": {},
   "outputs": [
    {
     "name": "stdout",
     "output_type": "stream",
     "text": [
      "<class 'pandas.core.frame.DataFrame'>\n",
      "RangeIndex: 53862 entries, 0 to 53861\n",
      "Data columns (total 13 columns):\n",
      " #   Column    Non-Null Count  Dtype  \n",
      "---  ------    --------------  -----  \n",
      " 0   date      20490 non-null  object \n",
      " 1   open      20490 non-null  float64\n",
      " 2   high      20490 non-null  float64\n",
      " 3   low       20490 non-null  float64\n",
      " 4   close     20490 non-null  float64\n",
      " 5   volume    20490 non-null  float64\n",
      " 6   filename  53862 non-null  object \n",
      " 7   Date      33372 non-null  object \n",
      " 8   Open      33372 non-null  float64\n",
      " 9   High      33372 non-null  float64\n",
      " 10  Low       33372 non-null  float64\n",
      " 11  Close     33372 non-null  float64\n",
      " 12  Volume    33372 non-null  float64\n",
      "dtypes: float64(10), object(3)\n",
      "memory usage: 5.3+ MB\n"
     ]
    }
   ],
   "source": [
    "df.info()"
   ]
  },
  {
   "cell_type": "code",
   "execution_count": null,
   "id": "5a81c072-1af7-4152-abc0-ad1a2b397e18",
   "metadata": {},
   "outputs": [],
   "source": []
  }
 ],
 "metadata": {
  "kernelspec": {
   "display_name": "Python 3 (ipykernel)",
   "language": "python",
   "name": "python3"
  },
  "language_info": {
   "codemirror_mode": {
    "name": "ipython",
    "version": 3
   },
   "file_extension": ".py",
   "mimetype": "text/x-python",
   "name": "python",
   "nbconvert_exporter": "python",
   "pygments_lexer": "ipython3",
   "version": "3.12.3"
  }
 },
 "nbformat": 4,
 "nbformat_minor": 5
}
