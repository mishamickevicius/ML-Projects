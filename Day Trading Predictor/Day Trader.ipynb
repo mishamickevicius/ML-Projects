{
 "cells": [
  {
   "cell_type": "code",
   "execution_count": 1,
   "id": "b8cac174-9690-49bb-8ee2-2ace947e07e3",
   "metadata": {},
   "outputs": [
    {
     "name": "stdout",
     "output_type": "stream",
     "text": [
      "Warning: Your Kaggle API key is readable by other users on this system! To fix this, you can run 'chmod 600 /home/misha/.kaggle/kaggle.json'\n"
     ]
    },
    {
     "name": "stderr",
     "output_type": "stream",
     "text": [
      "2025-02-10 17:44:19.944140: I tensorflow/core/util/port.cc:153] oneDNN custom operations are on. You may see slightly different numerical results due to floating-point round-off errors from different computation orders. To turn them off, set the environment variable `TF_ENABLE_ONEDNN_OPTS=0`.\n",
      "2025-02-10 17:44:19.953148: E external/local_xla/xla/stream_executor/cuda/cuda_fft.cc:477] Unable to register cuFFT factory: Attempting to register factory for plugin cuFFT when one has already been registered\n",
      "WARNING: All log messages before absl::InitializeLog() is called are written to STDERR\n",
      "E0000 00:00:1739231059.964121   11140 cuda_dnn.cc:8310] Unable to register cuDNN factory: Attempting to register factory for plugin cuDNN when one has already been registered\n",
      "E0000 00:00:1739231059.967496   11140 cuda_blas.cc:1418] Unable to register cuBLAS factory: Attempting to register factory for plugin cuBLAS when one has already been registered\n",
      "2025-02-10 17:44:19.978631: I tensorflow/core/platform/cpu_feature_guard.cc:210] This TensorFlow binary is optimized to use available CPU instructions in performance-critical operations.\n",
      "To enable the following instructions: AVX2 AVX512F AVX512_VNNI FMA, in other operations, rebuild TensorFlow with the appropriate compiler flags.\n"
     ]
    }
   ],
   "source": [
    "import numpy as np\n",
    "import pandas as pd\n",
    "import plotly.express as px\n",
    "import kaggle\n",
    "import os\n",
    "import holidays\n",
    "import tensorflow as tf"
   ]
  },
  {
   "cell_type": "markdown",
   "id": "b7909ee4-2b37-49fb-9470-8a6fe6f9bc88",
   "metadata": {},
   "source": [
    "# Model Plan:\n",
    "- Find a api for real time stock data\n",
    "- Find a api for real time news\n",
    "- Feature engineer features\n",
    "- Build Multi-modal model for day trading.\n",
    "- First branch of model will be Time Series analysis model that will take the real time stock data as a sequence\n",
    "- Second branch of model will be a text classifier/sentiment analysis model that can take the real time news\n",
    "- Combine the two branches to make the multi-modal model\n",
    "\n",
    "# Agent Plan:\n",
    "- Use same apis to get input data (This is how agent recieves input)\n",
    "- Use LLM with function calling to helper function and to run the model (Thinking part)\n",
    "- Have the agent output the result or make the trade itself using the api (The action/goal achieving part)\n"
   ]
  },
  {
   "cell_type": "markdown",
   "id": "c49ce748-1316-4a3e-a1b0-dc4a739ba630",
   "metadata": {},
   "source": [
    "## Data Collection"
   ]
  },
  {
   "cell_type": "code",
   "execution_count": 2,
   "id": "b50cc0c9-6793-4de7-ae59-8c8907147a3d",
   "metadata": {},
   "outputs": [],
   "source": [
    "# datasets = [\n",
    "#     \"varpit94/apple-stock-data-updated-till-22jun2021\",\n",
    "#     \"prajwaldongre/nvidia-corp-share-price-2000-2024\",\n",
    "#     \"varpit94/microsoft-stock-data\",\n",
    "#     \"guillemservera/amzn-stock-data\",\n",
    "#     \"henryshan/meta-platforms-inc-meta\",\n",
    "#     \"henryshan/google-stock-price\",\n",
    "#     \"guillemservera/tsla-stock-data\"\n",
    "# ]\n",
    "# for dataset in datasets: \n",
    "#     kaggle.api.dataset_download_files(dataset, path='/home/misha/Desktop/data/day_trader/', unzip=True)"
   ]
  },
  {
   "cell_type": "code",
   "execution_count": 3,
   "id": "fca7f0e4-0552-4301-b049-6bb9570db298",
   "metadata": {},
   "outputs": [],
   "source": [
    "df = pd.DataFrame()\n",
    "for file in os.listdir('/home/misha/Desktop/data/day_trader/'):\n",
    "    data = pd.read_csv('/home/misha/Desktop/data/day_trader/' + file)\n",
    "    data['filename'] = file\n",
    "    data.columns = [col.strip().title() for col in data.columns]\n",
    "    df = pd.concat([df, data], axis=0, ignore_index=True)"
   ]
  },
  {
   "cell_type": "code",
   "execution_count": 4,
   "id": "1623740e-ea3d-42e4-926d-231e67cb9092",
   "metadata": {},
   "outputs": [
    {
     "name": "stdout",
     "output_type": "stream",
     "text": [
      "<class 'pandas.core.frame.DataFrame'>\n",
      "RangeIndex: 53862 entries, 0 to 53861\n",
      "Data columns (total 12 columns):\n",
      " #   Column          Non-Null Count  Dtype  \n",
      "---  ------          --------------  -----  \n",
      " 0   Date            53862 non-null  object \n",
      " 1   Open            53862 non-null  float64\n",
      " 2   High            53862 non-null  float64\n",
      " 3   Low             53862 non-null  float64\n",
      " 4   Close           53862 non-null  float64\n",
      " 5   Volume          53862 non-null  int64  \n",
      " 6   Raw_Close       10245 non-null  float64\n",
      " 7   Change_Percent  20486 non-null  float64\n",
      " 8   Avg_Vol_20D     20414 non-null  float64\n",
      " 9   Filename        53862 non-null  object \n",
      " 10  Adj Close       33372 non-null  float64\n",
      " 11  Adjusted_Close  10245 non-null  float64\n",
      "dtypes: float64(9), int64(1), object(2)\n",
      "memory usage: 4.9+ MB\n"
     ]
    }
   ],
   "source": [
    "df.info()"
   ]
  },
  {
   "cell_type": "code",
   "execution_count": 5,
   "id": "9528ade2-241e-42ac-a407-22251b448610",
   "metadata": {},
   "outputs": [],
   "source": [
    "df.drop(['Raw_Close', 'Change_Percent', 'Avg_Vol_20D', 'Adjusted_Close', 'Adj Close'], axis=1, inplace=True)"
   ]
  },
  {
   "cell_type": "code",
   "execution_count": 6,
   "id": "55c7fe5f-8587-4140-bba1-760a5a41c380",
   "metadata": {},
   "outputs": [
    {
     "name": "stdout",
     "output_type": "stream",
     "text": [
      "<class 'pandas.core.frame.DataFrame'>\n",
      "RangeIndex: 53862 entries, 0 to 53861\n",
      "Data columns (total 7 columns):\n",
      " #   Column    Non-Null Count  Dtype  \n",
      "---  ------    --------------  -----  \n",
      " 0   Date      53862 non-null  object \n",
      " 1   Open      53862 non-null  float64\n",
      " 2   High      53862 non-null  float64\n",
      " 3   Low       53862 non-null  float64\n",
      " 4   Close     53862 non-null  float64\n",
      " 5   Volume    53862 non-null  int64  \n",
      " 6   Filename  53862 non-null  object \n",
      "dtypes: float64(4), int64(1), object(2)\n",
      "memory usage: 2.9+ MB\n"
     ]
    }
   ],
   "source": [
    "df.info()"
   ]
  },
  {
   "cell_type": "code",
   "execution_count": 7,
   "id": "5a81c072-1af7-4152-abc0-ad1a2b397e18",
   "metadata": {},
   "outputs": [
    {
     "data": {
      "text/plain": [
       "Date        0\n",
       "Open        0\n",
       "High        0\n",
       "Low         0\n",
       "Close       0\n",
       "Volume      0\n",
       "Filename    0\n",
       "dtype: int64"
      ]
     },
     "execution_count": 7,
     "metadata": {},
     "output_type": "execute_result"
    }
   ],
   "source": [
    "df.isna().sum()"
   ]
  },
  {
   "cell_type": "code",
   "execution_count": 8,
   "id": "da9ab595-a503-461a-9c19-efc979d7e90b",
   "metadata": {},
   "outputs": [],
   "source": [
    "filename_to_ticker_map = {\n",
    "    'tsla_split_adjusted.csv':'TSLA',\n",
    "    'MSFT.csv':'MSFT',\n",
    "    'tsla_raw_data.csv':'TSLA',\n",
    "    'AAPL.csv':'AAPL',\n",
    "    'META.csv':'META',\n",
    "    'NVDA.csv':'NVDA',\n",
    "    'GOOG.csv':'GOOGL',\n",
    "    'amzn_split_adjusted.csv':'AMZN',\n",
    "    'amzn_raw_data.csv':'AMZN'\n",
    "}"
   ]
  },
  {
   "cell_type": "code",
   "execution_count": 9,
   "id": "bd55e9e2-ad8b-4477-9837-b260c6e2b07d",
   "metadata": {},
   "outputs": [],
   "source": [
    "df['Ticker'] = df['Filename'].apply(lambda x: filename_to_ticker_map[x])\n",
    "df.drop('Filename', axis=1, inplace=True)"
   ]
  },
  {
   "cell_type": "code",
   "execution_count": 10,
   "id": "04a65d96-000d-430b-be8c-49b446344865",
   "metadata": {},
   "outputs": [],
   "source": [
    "df['Date'] = pd.to_datetime(df['Date'])"
   ]
  },
  {
   "cell_type": "code",
   "execution_count": 11,
   "id": "4e20f72c-c346-4fb9-b374-8f9fc3d929bd",
   "metadata": {},
   "outputs": [
    {
     "data": {
      "text/plain": [
       "Ticker\n",
       "AMZN     13546\n",
       "AAPL     10409\n",
       "MSFT      9083\n",
       "TSLA      6944\n",
       "NVDA      6116\n",
       "GOOGL     4858\n",
       "META      2906\n",
       "Name: count, dtype: int64"
      ]
     },
     "execution_count": 11,
     "metadata": {},
     "output_type": "execute_result"
    }
   ],
   "source": [
    "df['Ticker'].value_counts()"
   ]
  },
  {
   "cell_type": "code",
   "execution_count": 12,
   "id": "707b654a-1be2-4c44-a805-8e35937880d7",
   "metadata": {},
   "outputs": [
    {
     "data": {
      "text/html": [
       "<div>\n",
       "<style scoped>\n",
       "    .dataframe tbody tr th:only-of-type {\n",
       "        vertical-align: middle;\n",
       "    }\n",
       "\n",
       "    .dataframe tbody tr th {\n",
       "        vertical-align: top;\n",
       "    }\n",
       "\n",
       "    .dataframe thead th {\n",
       "        text-align: right;\n",
       "    }\n",
       "</style>\n",
       "<table border=\"1\" class=\"dataframe\">\n",
       "  <thead>\n",
       "    <tr style=\"text-align: right;\">\n",
       "      <th></th>\n",
       "      <th></th>\n",
       "      <th>Open</th>\n",
       "      <th>High</th>\n",
       "      <th>Low</th>\n",
       "      <th>Close</th>\n",
       "      <th>Volume</th>\n",
       "    </tr>\n",
       "    <tr>\n",
       "      <th>Ticker</th>\n",
       "      <th>Date</th>\n",
       "      <th></th>\n",
       "      <th></th>\n",
       "      <th></th>\n",
       "      <th></th>\n",
       "      <th></th>\n",
       "    </tr>\n",
       "  </thead>\n",
       "  <tbody>\n",
       "    <tr>\n",
       "      <th rowspan=\"5\" valign=\"top\">TSLA</th>\n",
       "      <th>2010-06-29</th>\n",
       "      <td>1.26666</td>\n",
       "      <td>1.66666</td>\n",
       "      <td>1.16934</td>\n",
       "      <td>1.59266</td>\n",
       "      <td>281749173</td>\n",
       "    </tr>\n",
       "    <tr>\n",
       "      <th>2010-06-30</th>\n",
       "      <td>1.71934</td>\n",
       "      <td>2.02794</td>\n",
       "      <td>1.55334</td>\n",
       "      <td>1.58866</td>\n",
       "      <td>257915884</td>\n",
       "    </tr>\n",
       "    <tr>\n",
       "      <th>2010-07-01</th>\n",
       "      <td>1.66666</td>\n",
       "      <td>1.72800</td>\n",
       "      <td>1.35134</td>\n",
       "      <td>1.46400</td>\n",
       "      <td>123447940</td>\n",
       "    </tr>\n",
       "    <tr>\n",
       "      <th>2010-07-02</th>\n",
       "      <td>1.53334</td>\n",
       "      <td>1.54000</td>\n",
       "      <td>1.24734</td>\n",
       "      <td>1.28000</td>\n",
       "      <td>77127102</td>\n",
       "    </tr>\n",
       "    <tr>\n",
       "      <th>2010-07-06</th>\n",
       "      <td>1.33334</td>\n",
       "      <td>1.33334</td>\n",
       "      <td>1.05534</td>\n",
       "      <td>1.07400</td>\n",
       "      <td>103189435</td>\n",
       "    </tr>\n",
       "    <tr>\n",
       "      <th>...</th>\n",
       "      <th>...</th>\n",
       "      <td>...</td>\n",
       "      <td>...</td>\n",
       "      <td>...</td>\n",
       "      <td>...</td>\n",
       "      <td>...</td>\n",
       "    </tr>\n",
       "    <tr>\n",
       "      <th rowspan=\"5\" valign=\"top\">AMZN</th>\n",
       "      <th>2024-04-09</th>\n",
       "      <td>187.24000</td>\n",
       "      <td>187.34000</td>\n",
       "      <td>184.20000</td>\n",
       "      <td>185.67000</td>\n",
       "      <td>36546953</td>\n",
       "    </tr>\n",
       "    <tr>\n",
       "      <th>2024-04-10</th>\n",
       "      <td>182.76500</td>\n",
       "      <td>186.26990</td>\n",
       "      <td>182.67000</td>\n",
       "      <td>185.95000</td>\n",
       "      <td>35879152</td>\n",
       "    </tr>\n",
       "    <tr>\n",
       "      <th>2024-04-11</th>\n",
       "      <td>186.74000</td>\n",
       "      <td>189.77000</td>\n",
       "      <td>185.51000</td>\n",
       "      <td>189.05000</td>\n",
       "      <td>40020738</td>\n",
       "    </tr>\n",
       "    <tr>\n",
       "      <th>2024-04-12</th>\n",
       "      <td>187.72000</td>\n",
       "      <td>188.38000</td>\n",
       "      <td>185.08000</td>\n",
       "      <td>186.13000</td>\n",
       "      <td>38608848</td>\n",
       "    </tr>\n",
       "    <tr>\n",
       "      <th>2024-04-15</th>\n",
       "      <td>187.42500</td>\n",
       "      <td>188.69000</td>\n",
       "      <td>183.00000</td>\n",
       "      <td>183.62000</td>\n",
       "      <td>48052395</td>\n",
       "    </tr>\n",
       "  </tbody>\n",
       "</table>\n",
       "<p>53862 rows × 5 columns</p>\n",
       "</div>"
      ],
      "text/plain": [
       "                        Open       High        Low      Close     Volume\n",
       "Ticker Date                                                             \n",
       "TSLA   2010-06-29    1.26666    1.66666    1.16934    1.59266  281749173\n",
       "       2010-06-30    1.71934    2.02794    1.55334    1.58866  257915884\n",
       "       2010-07-01    1.66666    1.72800    1.35134    1.46400  123447940\n",
       "       2010-07-02    1.53334    1.54000    1.24734    1.28000   77127102\n",
       "       2010-07-06    1.33334    1.33334    1.05534    1.07400  103189435\n",
       "...                      ...        ...        ...        ...        ...\n",
       "AMZN   2024-04-09  187.24000  187.34000  184.20000  185.67000   36546953\n",
       "       2024-04-10  182.76500  186.26990  182.67000  185.95000   35879152\n",
       "       2024-04-11  186.74000  189.77000  185.51000  189.05000   40020738\n",
       "       2024-04-12  187.72000  188.38000  185.08000  186.13000   38608848\n",
       "       2024-04-15  187.42500  188.69000  183.00000  183.62000   48052395\n",
       "\n",
       "[53862 rows x 5 columns]"
      ]
     },
     "execution_count": 12,
     "metadata": {},
     "output_type": "execute_result"
    }
   ],
   "source": [
    "df.set_index(['Ticker', 'Date'], inplace=True)\n",
    "df"
   ]
  },
  {
   "cell_type": "markdown",
   "id": "01565e19-d834-4f12-90eb-2a7d45407d8d",
   "metadata": {},
   "source": [
    "## Feature engineering"
   ]
  },
  {
   "cell_type": "markdown",
   "id": "1de4649a-8cc8-42b5-b4b8-89f8169be709",
   "metadata": {},
   "source": [
    "The target will be a binary classification. 1 means that the close price will be greater than the open price. 0 means that the close price will be smaller than the open price"
   ]
  },
  {
   "cell_type": "code",
   "execution_count": 13,
   "id": "f3a4d7b0-2d25-4970-baee-6ab38befd912",
   "metadata": {},
   "outputs": [],
   "source": [
    "## Target Variable\n",
    "df['Target'] = (df['Close'] > df['Open']).astype(int)"
   ]
  },
  {
   "cell_type": "markdown",
   "id": "986ad790-3cc1-479e-885d-ea3eea7aedc0",
   "metadata": {},
   "source": [
    "### Other indicators/features"
   ]
  },
  {
   "cell_type": "code",
   "execution_count": 14,
   "id": "9c6c36fb-7c4b-4dd4-9ec0-9165b56e5144",
   "metadata": {},
   "outputs": [],
   "source": [
    "## Time based features\n",
    "df['Day Of Week'] = df.index.get_level_values('Date').dayofweek\n",
    "df['Month'] = df.index.get_level_values('Date').month\n",
    "df['Quarter'] = df.index.get_level_values('Date').quarter"
   ]
  },
  {
   "cell_type": "code",
   "execution_count": 15,
   "id": "deca05fa-8da4-4cc1-80e3-be0e750e345b",
   "metadata": {},
   "outputs": [],
   "source": [
    "## Holiday Proximity (How many days until the next holiday)\n",
    "\n",
    "df = df.reset_index()\n",
    "df['Date'] = pd.to_datetime(df['Date'])\n",
    "\n",
    "# Function to calculate proximity to the nearest holiday\n",
    "def holiday_metrics(date):\n",
    "    \"\"\"\n",
    "    Calculate both days until next holiday and days to closest holiday.\n",
    "    \n",
    "    Args:\n",
    "        date: datetime object representing the date to check\n",
    "        \n",
    "    Returns:\n",
    "        tuple: (days_until_next, days_to_closest)\n",
    "            - days_until_next: number of days until the next upcoming holiday\n",
    "            - days_to_closest: number of days to the nearest holiday in any direction\n",
    "    \"\"\"\n",
    "    # Generate holidays for current and next year\n",
    "    us_holidays = holidays.US(years=[date.year, date.year + 1])\n",
    "    holiday_dates = pd.to_datetime(list(us_holidays.keys()))\n",
    "    \n",
    "    # For next holiday\n",
    "    future_holidays = holiday_dates[holiday_dates > date]\n",
    "    if len(future_holidays) > 0:\n",
    "        next_holiday = future_holidays.min()\n",
    "        days_until_next = (next_holiday - date).days\n",
    "    else:\n",
    "        days_until_next = np.nan\n",
    "    \n",
    "    # For closest holiday\n",
    "    if len(holiday_dates) > 0:\n",
    "        days_diff = np.abs((holiday_dates - date).days)\n",
    "        days_to_closest = np.min(days_diff)\n",
    "    else:\n",
    "        days_to_closest = np.nan\n",
    "        \n",
    "    return days_until_next, days_to_closest\n",
    "\n",
    "# Apply the function to each row\n",
    "df['Days Until Next Holiday'], df['Days To Closest Holiday'] = zip(*df['Date'].apply(holiday_metrics))\n",
    "\n",
    "# Set the index back to Ticker and Date if needed\n",
    "df.set_index(['Ticker', 'Date'], inplace=True)"
   ]
  },
  {
   "cell_type": "code",
   "execution_count": null,
   "id": "3fed2dd5-5d44-422c-b43d-227b87c86152",
   "metadata": {},
   "outputs": [],
   "source": []
  },
  {
   "cell_type": "code",
   "execution_count": null,
   "id": "4590b9be-e35f-46dc-83a5-5affecca63cf",
   "metadata": {},
   "outputs": [],
   "source": []
  },
  {
   "cell_type": "code",
   "execution_count": null,
   "id": "f5cdabe3-bf32-403b-9e8a-062662955a24",
   "metadata": {},
   "outputs": [],
   "source": []
  },
  {
   "cell_type": "code",
   "execution_count": null,
   "id": "1ebe3a72-c7dd-452c-828a-03e9ca339c06",
   "metadata": {},
   "outputs": [],
   "source": []
  },
  {
   "cell_type": "markdown",
   "id": "83179083-0276-4807-8094-7efaee81975e",
   "metadata": {},
   "source": [
    "## Data Preperation"
   ]
  },
  {
   "cell_type": "markdown",
   "id": "ca7112a5-fa01-49aa-a30d-da8879546ad2",
   "metadata": {},
   "source": [
    "Keep in mind that the final day in the series should NOT have the close feature."
   ]
  },
  {
   "cell_type": "code",
   "execution_count": null,
   "id": "978f7973-fec3-408a-b25b-62d805370aad",
   "metadata": {},
   "outputs": [],
   "source": []
  }
 ],
 "metadata": {
  "kernelspec": {
   "display_name": "Python 3 (ipykernel)",
   "language": "python",
   "name": "python3"
  },
  "language_info": {
   "codemirror_mode": {
    "name": "ipython",
    "version": 3
   },
   "file_extension": ".py",
   "mimetype": "text/x-python",
   "name": "python",
   "nbconvert_exporter": "python",
   "pygments_lexer": "ipython3",
   "version": "3.12.3"
  }
 },
 "nbformat": 4,
 "nbformat_minor": 5
}
