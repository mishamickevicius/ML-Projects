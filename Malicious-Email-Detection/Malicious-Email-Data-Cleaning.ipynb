{
 "cells": [
  {
   "cell_type": "code",
   "execution_count": 27,
   "id": "6ffbcdee-fe1f-4dce-bd28-8bfaff1eaf49",
   "metadata": {},
   "outputs": [],
   "source": [
    "import pandas as pd\n",
    "import numpy as np\n",
    "import os\n",
    "import json\n",
    "\n",
    "from datasets import load_dataset, get_dataset_split_names"
   ]
  },
  {
   "cell_type": "code",
   "execution_count": 2,
   "id": "4dce0950-06c8-4041-b8e9-8ea004a122a7",
   "metadata": {},
   "outputs": [],
   "source": [
    "BASE_DIR = \"/home/dude/Desktop/data/email_data/\""
   ]
  },
  {
   "cell_type": "code",
   "execution_count": 4,
   "id": "a4c16bd9-06b2-4b58-90d1-240e67f80f2a",
   "metadata": {},
   "outputs": [
    {
     "data": {
      "application/vnd.jupyter.widget-view+json": {
       "model_id": "e9c6f0bd7a7e4e5ca8fe146f1e97b132",
       "version_major": 2,
       "version_minor": 0
      },
      "text/plain": [
       "Downloading readme:   0%|          | 0.00/2.33k [00:00<?, ?B/s]"
      ]
     },
     "metadata": {},
     "output_type": "display_data"
    },
    {
     "data": {
      "application/vnd.jupyter.widget-view+json": {
       "model_id": "7afbc886c22740548697c16d56d67a89",
       "version_major": 2,
       "version_minor": 0
      },
      "text/plain": [
       "Downloading data:   0%|          | 0.00/75.7k [00:00<?, ?B/s]"
      ]
     },
     "metadata": {},
     "output_type": "display_data"
    },
    {
     "data": {
      "application/vnd.jupyter.widget-view+json": {
       "model_id": "ac9e1640a6fd4ddfb22e72ef7ab59403",
       "version_major": 2,
       "version_minor": 0
      },
      "text/plain": [
       "Generating train split:   0%|          | 0/84 [00:00<?, ? examples/s]"
      ]
     },
     "metadata": {},
     "output_type": "display_data"
    }
   ],
   "source": [
    "ds = load_dataset(\"TrainingDataPro/email-spam-classification\")"
   ]
  },
  {
   "cell_type": "code",
   "execution_count": 11,
   "id": "641e0851-b2f1-4ad3-8070-b6a2e1928ad9",
   "metadata": {},
   "outputs": [],
   "source": [
    "df = pd.DataFrame(dict(ds)['train'])"
   ]
  },
  {
   "cell_type": "code",
   "execution_count": 15,
   "id": "88e8083a-8935-4bc7-9aa8-6bb794081d93",
   "metadata": {},
   "outputs": [],
   "source": [
    "df.to_csv(BASE_DIR + \"email-spam-classification-dataset.csv\", index=False, index_label=False)"
   ]
  },
  {
   "cell_type": "code",
   "execution_count": 17,
   "id": "dc5b0d51-3beb-4f28-960c-1bf5d429ee68",
   "metadata": {},
   "outputs": [],
   "source": [
    "JSON_DATA_BASE_DIR = \"/home/dude/Desktop/data/email_data/data/emails/\""
   ]
  },
  {
   "cell_type": "code",
   "execution_count": 20,
   "id": "5f5d2bb1-50b8-41b0-a76d-853b4a256a83",
   "metadata": {},
   "outputs": [],
   "source": [
    "folders = os.listdir(JSON_DATA_BASE_DIR)"
   ]
  },
  {
   "cell_type": "code",
   "execution_count": 21,
   "id": "006c5816-102c-49fa-be23-b93541b547ab",
   "metadata": {},
   "outputs": [],
   "source": [
    "folders.remove('.DS_Store')"
   ]
  },
  {
   "cell_type": "code",
   "execution_count": 31,
   "id": "27425fc1-599e-442a-8d18-1a6cfbc2030e",
   "metadata": {},
   "outputs": [
    {
     "name": "stdout",
     "output_type": "stream",
     "text": [
      "{'email_subject': 'Re: #30', 'email_body': 'Kay & Neal, Thanks for remembering my birthday. You beat my parents by one day. The family is doing fine. Grace is really smiling. She is a very happy baby as long as she is being held. It sounds like your house is coming along fast. I think my folks are ready to start building. We will probably visit in late June or July. May is busy. We are taking the kids to Disney for their birthdays. Good luck on the house. Keith', 'id': '16945_1075855671306_JavaMail_evans_thyme'}\n"
     ]
    }
   ],
   "source": [
    "with open(JSON_DATA_BASE_DIR + folders[0] + \"/16945_1075855671306_JavaMail_evans_thyme.json\") as json_file:\n",
    "    data = json.load(json_file)\n",
    "\n",
    "print(data)"
   ]
  },
  {
   "cell_type": "code",
   "execution_count": 54,
   "id": "4a28db3a-2a87-4520-869f-a3bac6cb3da8",
   "metadata": {},
   "outputs": [],
   "source": [
    "file_list = os.listdir(os.path.join(JSON_DATA_BASE_DIR, 'enron_ham'))"
   ]
  },
  {
   "cell_type": "code",
   "execution_count": 55,
   "id": "b7ee3232-fa91-446a-a817-292f999c291f",
   "metadata": {},
   "outputs": [],
   "source": [
    "ham_emails = []\n",
    "for file in file_list:\n",
    "    with open(os.path.join(JSON_DATA_BASE_DIR, 'enron_ham', file), mode='r') as json_file:\n",
    "        ham_emails.append(json.load(json_file))"
   ]
  },
  {
   "cell_type": "code",
   "execution_count": 56,
   "id": "b4006e9d-cfdf-4a36-9254-d35596bd1f66",
   "metadata": {},
   "outputs": [],
   "source": [
    "file_list = os.listdir(os.path.join(JSON_DATA_BASE_DIR, 'hard_ham'))"
   ]
  },
  {
   "cell_type": "code",
   "execution_count": 57,
   "id": "4e6af3c6-9910-4426-8837-9afa9e92f762",
   "metadata": {},
   "outputs": [
    {
     "name": "stdout",
     "output_type": "stream",
     "text": [
      "/home/dude/Desktop/data/email_data/data/emails/hard_ham/00113.1d37bdbcad4975b5012cc6d87a048ecf.json\n",
      "Expecting value: line 1 column 1 (char 0)\n"
     ]
    }
   ],
   "source": [
    "for file in file_list:\n",
    "    with open(os.path.join(JSON_DATA_BASE_DIR, 'hard_ham', file), mode='r') as json_file:\n",
    "        try:\n",
    "            ham_emails.append(json.load(json_file))\n",
    "        except Exception as err:\n",
    "            print(os.path.join(JSON_DATA_BASE_DIR, 'hard_ham', file))\n",
    "            print(err)"
   ]
  },
  {
   "cell_type": "code",
   "execution_count": 58,
   "id": "d9d61800-e646-464c-83ae-f9359e3b63b8",
   "metadata": {},
   "outputs": [
    {
     "data": {
      "text/plain": [
       "3489"
      ]
     },
     "execution_count": 58,
     "metadata": {},
     "output_type": "execute_result"
    }
   ],
   "source": [
    "len(ham_emails)"
   ]
  },
  {
   "cell_type": "code",
   "execution_count": 59,
   "id": "1b13a0e3-5e3d-40e3-a7df-410edae9b022",
   "metadata": {},
   "outputs": [],
   "source": [
    "phishing_emails = []"
   ]
  },
  {
   "cell_type": "code",
   "execution_count": 60,
   "id": "83ef3bba-706f-463c-ad4b-b3b0b6a140be",
   "metadata": {},
   "outputs": [],
   "source": [
    "file_list = os.listdir(os.path.join(JSON_DATA_BASE_DIR, 'spear_phishing'))\n",
    "for file in file_list:\n",
    "    with open(os.path.join(JSON_DATA_BASE_DIR, 'spear_phishing', file), mode='r') as json_file:\n",
    "        try:\n",
    "            phishing_emails.append(json.load(json_file))\n",
    "        except Exception as err:\n",
    "            print(os.path.join(JSON_DATA_BASE_DIR, 'spear_phishing', file))\n",
    "            print(err)"
   ]
  },
  {
   "cell_type": "code",
   "execution_count": 62,
   "id": "fa85935d-1a29-4678-a561-aae2c851a9cd",
   "metadata": {},
   "outputs": [],
   "source": [
    "file_list = os.listdir(os.path.join(JSON_DATA_BASE_DIR, 'traditional_phishing'))\n",
    "for file in file_list:\n",
    "    with open(os.path.join(JSON_DATA_BASE_DIR, 'traditional_phishing', file), mode='r') as json_file:\n",
    "        try:\n",
    "            phishing_emails.append(json.load(json_file))\n",
    "        except Exception as err:\n",
    "            print(os.path.join(JSON_DATA_BASE_DIR, 'traditional_phishing', file))\n",
    "            print(err)"
   ]
  },
  {
   "cell_type": "code",
   "execution_count": 63,
   "id": "89e46de8-438c-41d2-9c21-fa1fd75ae7f2",
   "metadata": {},
   "outputs": [
    {
     "data": {
      "text/plain": [
       "3666"
      ]
     },
     "execution_count": 63,
     "metadata": {},
     "output_type": "execute_result"
    }
   ],
   "source": [
    "len(phishing_emails)"
   ]
  },
  {
   "cell_type": "code",
   "execution_count": 64,
   "id": "13a29d2a-9733-4ce4-b930-bb547f426500",
   "metadata": {},
   "outputs": [],
   "source": [
    "for email in ham_emails:\n",
    "    email['label'] = 0"
   ]
  },
  {
   "cell_type": "code",
   "execution_count": 65,
   "id": "d3eda412-9515-4f5b-8419-6a6a8b59960d",
   "metadata": {},
   "outputs": [],
   "source": [
    "for email in phishing_emails:\n",
    "    email['label'] = 1"
   ]
  },
  {
   "cell_type": "code",
   "execution_count": 67,
   "id": "4006db61-1fa6-4d12-9633-d7319f5d2eeb",
   "metadata": {},
   "outputs": [],
   "source": [
    "total_emails = ham_emails + phishing_emails"
   ]
  },
  {
   "cell_type": "code",
   "execution_count": 69,
   "id": "7b8d0063-ef11-40ae-b300-d09834cb4c9b",
   "metadata": {},
   "outputs": [],
   "source": [
    "df = pd.DataFrame(total_emails)"
   ]
  },
  {
   "cell_type": "code",
   "execution_count": 72,
   "id": "aac1ea18-a71e-49a6-b02a-764b1db1649f",
   "metadata": {},
   "outputs": [],
   "source": [
    "df.drop(\"id\", axis=1, inplace=True)"
   ]
  },
  {
   "cell_type": "code",
   "execution_count": 74,
   "id": "0a73ba83-d409-4122-953c-70ca9f385c11",
   "metadata": {},
   "outputs": [],
   "source": [
    "df.drop(['body', 'sender_name'],axis=1, inplace=True)"
   ]
  },
  {
   "cell_type": "code",
   "execution_count": 78,
   "id": "dc2206fc-fb79-486f-ada4-2518d87ad953",
   "metadata": {},
   "outputs": [
    {
     "data": {
      "text/plain": [
       "label\n",
       "1    3666\n",
       "0    3489\n",
       "Name: count, dtype: int64"
      ]
     },
     "execution_count": 78,
     "metadata": {},
     "output_type": "execute_result"
    }
   ],
   "source": [
    "df['label'].value_counts()"
   ]
  },
  {
   "cell_type": "code",
   "execution_count": 79,
   "id": "70e6c159-d53f-4ad2-b28e-f546be3017b4",
   "metadata": {},
   "outputs": [],
   "source": [
    "df = df.sample(frac=1).reset_index(drop=True)"
   ]
  },
  {
   "cell_type": "code",
   "execution_count": 81,
   "id": "7af13fcc-4f96-4027-9b04-7e315b497414",
   "metadata": {},
   "outputs": [],
   "source": [
    "df.to_csv(BASE_DIR + \"phishing_emails.csv\", index_label=False, index=False)"
   ]
  },
  {
   "cell_type": "code",
   "execution_count": null,
   "id": "c806d472-ad3e-4002-88b1-fcb8c14bb97e",
   "metadata": {},
   "outputs": [],
   "source": []
  }
 ],
 "metadata": {
  "kernelspec": {
   "display_name": "Python 3 (ipykernel)",
   "language": "python",
   "name": "python3"
  },
  "language_info": {
   "codemirror_mode": {
    "name": "ipython",
    "version": 3
   },
   "file_extension": ".py",
   "mimetype": "text/x-python",
   "name": "python",
   "nbconvert_exporter": "python",
   "pygments_lexer": "ipython3",
   "version": "3.11.6"
  }
 },
 "nbformat": 4,
 "nbformat_minor": 5
}
