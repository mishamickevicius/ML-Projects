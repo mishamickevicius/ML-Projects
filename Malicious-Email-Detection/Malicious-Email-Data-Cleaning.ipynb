{
 "cells": [
  {
   "cell_type": "code",
   "execution_count": 1,
   "id": "6ffbcdee-fe1f-4dce-bd28-8bfaff1eaf49",
   "metadata": {},
   "outputs": [],
   "source": [
    "import pandas as pd\n",
    "import numpy as np\n",
    "import os\n",
    "import json\n",
    "\n",
    "from datasets import load_dataset, get_dataset_split_names"
   ]
  },
  {
   "cell_type": "code",
   "execution_count": 2,
   "id": "4dce0950-06c8-4041-b8e9-8ea004a122a7",
   "metadata": {},
   "outputs": [],
   "source": [
    "BASE_DIR = \"/home/dude/Desktop/data/email_data/\""
   ]
  },
  {
   "cell_type": "code",
   "execution_count": 4,
   "id": "a4c16bd9-06b2-4b58-90d1-240e67f80f2a",
   "metadata": {},
   "outputs": [
    {
     "data": {
      "application/vnd.jupyter.widget-view+json": {
       "model_id": "e9c6f0bd7a7e4e5ca8fe146f1e97b132",
       "version_major": 2,
       "version_minor": 0
      },
      "text/plain": [
       "Downloading readme:   0%|          | 0.00/2.33k [00:00<?, ?B/s]"
      ]
     },
     "metadata": {},
     "output_type": "display_data"
    },
    {
     "data": {
      "application/vnd.jupyter.widget-view+json": {
       "model_id": "7afbc886c22740548697c16d56d67a89",
       "version_major": 2,
       "version_minor": 0
      },
      "text/plain": [
       "Downloading data:   0%|          | 0.00/75.7k [00:00<?, ?B/s]"
      ]
     },
     "metadata": {},
     "output_type": "display_data"
    },
    {
     "data": {
      "application/vnd.jupyter.widget-view+json": {
       "model_id": "ac9e1640a6fd4ddfb22e72ef7ab59403",
       "version_major": 2,
       "version_minor": 0
      },
      "text/plain": [
       "Generating train split:   0%|          | 0/84 [00:00<?, ? examples/s]"
      ]
     },
     "metadata": {},
     "output_type": "display_data"
    }
   ],
   "source": [
    "ds = load_dataset(\"TrainingDataPro/email-spam-classification\")"
   ]
  },
  {
   "cell_type": "code",
   "execution_count": 11,
   "id": "641e0851-b2f1-4ad3-8070-b6a2e1928ad9",
   "metadata": {},
   "outputs": [],
   "source": [
    "df = pd.DataFrame(dict(ds)['train'])"
   ]
  },
  {
   "cell_type": "code",
   "execution_count": 15,
   "id": "88e8083a-8935-4bc7-9aa8-6bb794081d93",
   "metadata": {},
   "outputs": [],
   "source": [
    "df.to_csv(BASE_DIR + \"email-spam-classification-dataset.csv\", index=False, index_label=False)"
   ]
  },
  {
   "cell_type": "code",
   "execution_count": 17,
   "id": "dc5b0d51-3beb-4f28-960c-1bf5d429ee68",
   "metadata": {},
   "outputs": [],
   "source": [
    "JSON_DATA_BASE_DIR = \"/home/dude/Desktop/data/email_data/data/emails/\""
   ]
  },
  {
   "cell_type": "code",
   "execution_count": 20,
   "id": "5f5d2bb1-50b8-41b0-a76d-853b4a256a83",
   "metadata": {},
   "outputs": [],
   "source": [
    "folders = os.listdir(JSON_DATA_BASE_DIR)"
   ]
  },
  {
   "cell_type": "code",
   "execution_count": 21,
   "id": "006c5816-102c-49fa-be23-b93541b547ab",
   "metadata": {},
   "outputs": [],
   "source": [
    "folders.remove('.DS_Store')"
   ]
  },
  {
   "cell_type": "code",
   "execution_count": 31,
   "id": "27425fc1-599e-442a-8d18-1a6cfbc2030e",
   "metadata": {},
   "outputs": [
    {
     "name": "stdout",
     "output_type": "stream",
     "text": [
      "{'email_subject': 'Re: #30', 'email_body': 'Kay & Neal, Thanks for remembering my birthday. You beat my parents by one day. The family is doing fine. Grace is really smiling. She is a very happy baby as long as she is being held. It sounds like your house is coming along fast. I think my folks are ready to start building. We will probably visit in late June or July. May is busy. We are taking the kids to Disney for their birthdays. Good luck on the house. Keith', 'id': '16945_1075855671306_JavaMail_evans_thyme'}\n"
     ]
    }
   ],
   "source": [
    "with open(JSON_DATA_BASE_DIR + folders[0] + \"/16945_1075855671306_JavaMail_evans_thyme.json\") as json_file:\n",
    "    data = json.load(json_file)\n",
    "\n",
    "print(data)"
   ]
  },
  {
   "cell_type": "code",
   "execution_count": 54,
   "id": "4a28db3a-2a87-4520-869f-a3bac6cb3da8",
   "metadata": {},
   "outputs": [],
   "source": [
    "file_list = os.listdir(os.path.join(JSON_DATA_BASE_DIR, 'enron_ham'))"
   ]
  },
  {
   "cell_type": "code",
   "execution_count": 55,
   "id": "b7ee3232-fa91-446a-a817-292f999c291f",
   "metadata": {},
   "outputs": [],
   "source": [
    "ham_emails = []\n",
    "for file in file_list:\n",
    "    with open(os.path.join(JSON_DATA_BASE_DIR, 'enron_ham', file), mode='r') as json_file:\n",
    "        ham_emails.append(json.load(json_file))"
   ]
  },
  {
   "cell_type": "code",
   "execution_count": 56,
   "id": "b4006e9d-cfdf-4a36-9254-d35596bd1f66",
   "metadata": {},
   "outputs": [],
   "source": [
    "file_list = os.listdir(os.path.join(JSON_DATA_BASE_DIR, 'hard_ham'))"
   ]
  },
  {
   "cell_type": "code",
   "execution_count": 57,
   "id": "4e6af3c6-9910-4426-8837-9afa9e92f762",
   "metadata": {},
   "outputs": [
    {
     "name": "stdout",
     "output_type": "stream",
     "text": [
      "/home/dude/Desktop/data/email_data/data/emails/hard_ham/00113.1d37bdbcad4975b5012cc6d87a048ecf.json\n",
      "Expecting value: line 1 column 1 (char 0)\n"
     ]
    }
   ],
   "source": [
    "for file in file_list:\n",
    "    with open(os.path.join(JSON_DATA_BASE_DIR, 'hard_ham', file), mode='r') as json_file:\n",
    "        try:\n",
    "            ham_emails.append(json.load(json_file))\n",
    "        except Exception as err:\n",
    "            print(os.path.join(JSON_DATA_BASE_DIR, 'hard_ham', file))\n",
    "            print(err)"
   ]
  },
  {
   "cell_type": "code",
   "execution_count": 58,
   "id": "d9d61800-e646-464c-83ae-f9359e3b63b8",
   "metadata": {},
   "outputs": [
    {
     "data": {
      "text/plain": [
       "3489"
      ]
     },
     "execution_count": 58,
     "metadata": {},
     "output_type": "execute_result"
    }
   ],
   "source": [
    "len(ham_emails)"
   ]
  },
  {
   "cell_type": "code",
   "execution_count": 59,
   "id": "1b13a0e3-5e3d-40e3-a7df-410edae9b022",
   "metadata": {},
   "outputs": [],
   "source": [
    "phishing_emails = []"
   ]
  },
  {
   "cell_type": "code",
   "execution_count": 60,
   "id": "83ef3bba-706f-463c-ad4b-b3b0b6a140be",
   "metadata": {},
   "outputs": [],
   "source": [
    "file_list = os.listdir(os.path.join(JSON_DATA_BASE_DIR, 'spear_phishing'))\n",
    "for file in file_list:\n",
    "    with open(os.path.join(JSON_DATA_BASE_DIR, 'spear_phishing', file), mode='r') as json_file:\n",
    "        try:\n",
    "            phishing_emails.append(json.load(json_file))\n",
    "        except Exception as err:\n",
    "            print(os.path.join(JSON_DATA_BASE_DIR, 'spear_phishing', file))\n",
    "            print(err)"
   ]
  },
  {
   "cell_type": "code",
   "execution_count": 62,
   "id": "fa85935d-1a29-4678-a561-aae2c851a9cd",
   "metadata": {},
   "outputs": [],
   "source": [
    "file_list = os.listdir(os.path.join(JSON_DATA_BASE_DIR, 'traditional_phishing'))\n",
    "for file in file_list:\n",
    "    with open(os.path.join(JSON_DATA_BASE_DIR, 'traditional_phishing', file), mode='r') as json_file:\n",
    "        try:\n",
    "            phishing_emails.append(json.load(json_file))\n",
    "        except Exception as err:\n",
    "            print(os.path.join(JSON_DATA_BASE_DIR, 'traditional_phishing', file))\n",
    "            print(err)"
   ]
  },
  {
   "cell_type": "code",
   "execution_count": 63,
   "id": "89e46de8-438c-41d2-9c21-fa1fd75ae7f2",
   "metadata": {},
   "outputs": [
    {
     "data": {
      "text/plain": [
       "3666"
      ]
     },
     "execution_count": 63,
     "metadata": {},
     "output_type": "execute_result"
    }
   ],
   "source": [
    "len(phishing_emails)"
   ]
  },
  {
   "cell_type": "code",
   "execution_count": 64,
   "id": "13a29d2a-9733-4ce4-b930-bb547f426500",
   "metadata": {},
   "outputs": [],
   "source": [
    "for email in ham_emails:\n",
    "    email['label'] = 0"
   ]
  },
  {
   "cell_type": "code",
   "execution_count": 65,
   "id": "d3eda412-9515-4f5b-8419-6a6a8b59960d",
   "metadata": {},
   "outputs": [],
   "source": [
    "for email in phishing_emails:\n",
    "    email['label'] = 1"
   ]
  },
  {
   "cell_type": "code",
   "execution_count": 67,
   "id": "4006db61-1fa6-4d12-9633-d7319f5d2eeb",
   "metadata": {},
   "outputs": [],
   "source": [
    "total_emails = ham_emails + phishing_emails"
   ]
  },
  {
   "cell_type": "code",
   "execution_count": 69,
   "id": "7b8d0063-ef11-40ae-b300-d09834cb4c9b",
   "metadata": {},
   "outputs": [],
   "source": [
    "df = pd.DataFrame(total_emails)"
   ]
  },
  {
   "cell_type": "code",
   "execution_count": 72,
   "id": "aac1ea18-a71e-49a6-b02a-764b1db1649f",
   "metadata": {},
   "outputs": [],
   "source": [
    "df.drop(\"id\", axis=1, inplace=True)"
   ]
  },
  {
   "cell_type": "code",
   "execution_count": 74,
   "id": "0a73ba83-d409-4122-953c-70ca9f385c11",
   "metadata": {},
   "outputs": [],
   "source": [
    "df.drop(['body', 'sender_name'],axis=1, inplace=True)"
   ]
  },
  {
   "cell_type": "code",
   "execution_count": 78,
   "id": "dc2206fc-fb79-486f-ada4-2518d87ad953",
   "metadata": {},
   "outputs": [
    {
     "data": {
      "text/plain": [
       "label\n",
       "1    3666\n",
       "0    3489\n",
       "Name: count, dtype: int64"
      ]
     },
     "execution_count": 78,
     "metadata": {},
     "output_type": "execute_result"
    }
   ],
   "source": [
    "df['label'].value_counts()"
   ]
  },
  {
   "cell_type": "code",
   "execution_count": 79,
   "id": "70e6c159-d53f-4ad2-b28e-f546be3017b4",
   "metadata": {},
   "outputs": [],
   "source": [
    "df = df.sample(frac=1).reset_index(drop=True)"
   ]
  },
  {
   "cell_type": "code",
   "execution_count": 81,
   "id": "7af13fcc-4f96-4027-9b04-7e315b497414",
   "metadata": {},
   "outputs": [],
   "source": [
    "df.to_csv(BASE_DIR + \"phishing_emails.csv\", index_label=False, index=False)"
   ]
  },
  {
   "cell_type": "code",
   "execution_count": null,
   "id": "c806d472-ad3e-4002-88b1-fcb8c14bb97e",
   "metadata": {},
   "outputs": [],
   "source": []
  },
  {
   "cell_type": "code",
   "execution_count": null,
   "id": "c78a8221-e43d-4be4-84d7-6ffdc4a2eba1",
   "metadata": {},
   "outputs": [],
   "source": []
  },
  {
   "cell_type": "code",
   "execution_count": null,
   "id": "345239b0-715b-4f5c-abb3-26d79dab5602",
   "metadata": {},
   "outputs": [],
   "source": []
  },
  {
   "cell_type": "code",
   "execution_count": 16,
   "id": "f8334d69-06ff-4f59-8b55-76492e89aaed",
   "metadata": {},
   "outputs": [
    {
     "data": {
      "text/plain": [
       "['Ling.csv',\n",
       " 'Assassin.csv',\n",
       " 'spam email dataset.csv',\n",
       " 'email spam.csv',\n",
       " 'email-spam-classification-dataset.csv',\n",
       " 'spam_ham_dataset.csv',\n",
       " 'data_generated-e-mail-spam.csv',\n",
       " 'phishing_emails.csv']"
      ]
     },
     "execution_count": 16,
     "metadata": {},
     "output_type": "execute_result"
    }
   ],
   "source": [
    "files = list(os.listdir(BASE_DIR))\n",
    "files.remove(\"data_links.txt\")\n",
    "files"
   ]
  },
  {
   "cell_type": "code",
   "execution_count": 17,
   "id": "975f2939-c9ec-463b-ae0d-d4cbf24df878",
   "metadata": {},
   "outputs": [
    {
     "name": "stdout",
     "output_type": "stream",
     "text": [
      "File: Ling.csv Columns: ['subject', 'body', 'label']\n",
      "File: Assassin.csv Columns: ['sender', 'receiver', 'date', 'subject', 'body', 'label', 'urls']\n",
      "File: spam email dataset.csv Columns: ['text', 'spam']\n",
      "File: email spam.csv Columns: ['Category', 'Message']\n",
      "File: email-spam-classification-dataset.csv Columns: ['title', 'text', 'type']\n",
      "File: spam_ham_dataset.csv Columns: ['Unnamed: 0', 'label', 'text', 'label_num']\n",
      "File:data_generated-e-mail-spam.csv,  Error:'utf-8' codec can't decode byte 0x95 in position 1612: invalid start byte\n",
      "File: phishing_emails.csv Columns: ['email_subject', 'email_body', 'label']\n"
     ]
    }
   ],
   "source": [
    "for file in files:\n",
    "    try:\n",
    "        df = pd.read_csv(BASE_DIR + file)\n",
    "        print(f\"File: {file} Columns: {list(df.columns)}\")\n",
    "    except Exception as err:\n",
    "        print(f\"File:{file},  Error:{err}\")"
   ]
  },
  {
   "cell_type": "code",
   "execution_count": 133,
   "id": "63b52734-e751-4927-afa0-9bf61a275df3",
   "metadata": {},
   "outputs": [],
   "source": [
    "full_df = pd.DataFrame(columns=['subject', 'body', 'label'])"
   ]
  },
  {
   "cell_type": "code",
   "execution_count": 134,
   "id": "730d88c3-cba5-4373-ab92-81cd56aab1ec",
   "metadata": {},
   "outputs": [],
   "source": [
    "df = pd.read_csv(BASE_DIR + \"Ling.csv\")"
   ]
  },
  {
   "cell_type": "code",
   "execution_count": 135,
   "id": "b2359af8-644a-4a96-8482-0865b69e2535",
   "metadata": {},
   "outputs": [],
   "source": [
    "full_df = pd.concat([full_df, df], ignore_index=True)"
   ]
  },
  {
   "cell_type": "code",
   "execution_count": 136,
   "id": "ce6a6c19-b5bd-47d0-af0a-fa227c1b3ef1",
   "metadata": {
    "scrolled": true
   },
   "outputs": [
    {
     "data": {
      "text/html": [
       "<div>\n",
       "<style scoped>\n",
       "    .dataframe tbody tr th:only-of-type {\n",
       "        vertical-align: middle;\n",
       "    }\n",
       "\n",
       "    .dataframe tbody tr th {\n",
       "        vertical-align: top;\n",
       "    }\n",
       "\n",
       "    .dataframe thead th {\n",
       "        text-align: right;\n",
       "    }\n",
       "</style>\n",
       "<table border=\"1\" class=\"dataframe\">\n",
       "  <thead>\n",
       "    <tr style=\"text-align: right;\">\n",
       "      <th></th>\n",
       "      <th>subject</th>\n",
       "      <th>body</th>\n",
       "      <th>label</th>\n",
       "    </tr>\n",
       "  </thead>\n",
       "  <tbody>\n",
       "    <tr>\n",
       "      <th>0</th>\n",
       "      <td>job posting - apple-iss research center</td>\n",
       "      <td>content - length : 3386 apple-iss research cen...</td>\n",
       "      <td>0</td>\n",
       "    </tr>\n",
       "    <tr>\n",
       "      <th>1</th>\n",
       "      <td>NaN</td>\n",
       "      <td>lang classification grimes , joseph e . and ba...</td>\n",
       "      <td>0</td>\n",
       "    </tr>\n",
       "    <tr>\n",
       "      <th>2</th>\n",
       "      <td>query : letter frequencies for text identifica...</td>\n",
       "      <td>i am posting this inquiry for sergei atamas ( ...</td>\n",
       "      <td>0</td>\n",
       "    </tr>\n",
       "    <tr>\n",
       "      <th>3</th>\n",
       "      <td>risk</td>\n",
       "      <td>a colleague and i are researching the differin...</td>\n",
       "      <td>0</td>\n",
       "    </tr>\n",
       "    <tr>\n",
       "      <th>4</th>\n",
       "      <td>request book information</td>\n",
       "      <td>earlier this morning i was on the phone with a...</td>\n",
       "      <td>0</td>\n",
       "    </tr>\n",
       "  </tbody>\n",
       "</table>\n",
       "</div>"
      ],
      "text/plain": [
       "                                             subject  \\\n",
       "0            job posting - apple-iss research center   \n",
       "1                                                NaN   \n",
       "2  query : letter frequencies for text identifica...   \n",
       "3                                               risk   \n",
       "4                           request book information   \n",
       "\n",
       "                                                body label  \n",
       "0  content - length : 3386 apple-iss research cen...     0  \n",
       "1  lang classification grimes , joseph e . and ba...     0  \n",
       "2  i am posting this inquiry for sergei atamas ( ...     0  \n",
       "3  a colleague and i are researching the differin...     0  \n",
       "4  earlier this morning i was on the phone with a...     0  "
      ]
     },
     "execution_count": 136,
     "metadata": {},
     "output_type": "execute_result"
    }
   ],
   "source": [
    "full_df.head()"
   ]
  },
  {
   "cell_type": "code",
   "execution_count": 137,
   "id": "bf4cf611-d3a0-4728-9c51-4bb689339c52",
   "metadata": {},
   "outputs": [
    {
     "data": {
      "text/plain": [
       "['spam email dataset.csv',\n",
       " 'email spam.csv',\n",
       " 'email-spam-classification-dataset.csv',\n",
       " 'spam_ham_dataset.csv',\n",
       " 'data_generated-e-mail-spam.csv',\n",
       " 'phishing_emails.csv']"
      ]
     },
     "execution_count": 137,
     "metadata": {},
     "output_type": "execute_result"
    }
   ],
   "source": [
    "files"
   ]
  },
  {
   "cell_type": "code",
   "execution_count": 138,
   "id": "17d7f92f-c000-43ca-ada1-49662c099d30",
   "metadata": {},
   "outputs": [],
   "source": [
    "df = pd.read_csv(BASE_DIR + \"Assassin.csv\")"
   ]
  },
  {
   "cell_type": "code",
   "execution_count": 139,
   "id": "c6338a2e-4062-4cb3-8014-4fac040d107d",
   "metadata": {},
   "outputs": [],
   "source": [
    "df.drop(['sender', 'receiver', 'date', 'urls'], axis=1, inplace=True)"
   ]
  },
  {
   "cell_type": "code",
   "execution_count": 140,
   "id": "50e3682e-9d1c-4496-8bc3-1fc1de8bcfc0",
   "metadata": {},
   "outputs": [
    {
     "data": {
      "text/html": [
       "<div>\n",
       "<style scoped>\n",
       "    .dataframe tbody tr th:only-of-type {\n",
       "        vertical-align: middle;\n",
       "    }\n",
       "\n",
       "    .dataframe tbody tr th {\n",
       "        vertical-align: top;\n",
       "    }\n",
       "\n",
       "    .dataframe thead th {\n",
       "        text-align: right;\n",
       "    }\n",
       "</style>\n",
       "<table border=\"1\" class=\"dataframe\">\n",
       "  <thead>\n",
       "    <tr style=\"text-align: right;\">\n",
       "      <th></th>\n",
       "      <th>subject</th>\n",
       "      <th>body</th>\n",
       "      <th>label</th>\n",
       "    </tr>\n",
       "  </thead>\n",
       "  <tbody>\n",
       "    <tr>\n",
       "      <th>0</th>\n",
       "      <td>Re: New Sequences Window</td>\n",
       "      <td>Date:        Wed, 21 Aug 2002 10:54:46 -0500  ...</td>\n",
       "      <td>0</td>\n",
       "    </tr>\n",
       "    <tr>\n",
       "      <th>1</th>\n",
       "      <td>[zzzzteana] RE: Alexander</td>\n",
       "      <td>Martin A posted:\\nTassos Papadopoulos, the Gre...</td>\n",
       "      <td>0</td>\n",
       "    </tr>\n",
       "    <tr>\n",
       "      <th>2</th>\n",
       "      <td>[zzzzteana] Moscow bomber</td>\n",
       "      <td>Man Threatens Explosion In Moscow \\n\\nThursday...</td>\n",
       "      <td>0</td>\n",
       "    </tr>\n",
       "    <tr>\n",
       "      <th>3</th>\n",
       "      <td>[IRR] Klez: The Virus That  Won't Die</td>\n",
       "      <td>Klez: The Virus That Won't Die\\n \\nAlready the...</td>\n",
       "      <td>0</td>\n",
       "    </tr>\n",
       "    <tr>\n",
       "      <th>4</th>\n",
       "      <td>Re: [zzzzteana] Nothing like mama used to make</td>\n",
       "      <td>&gt;  in adding cream to spaghetti carbonara, whi...</td>\n",
       "      <td>0</td>\n",
       "    </tr>\n",
       "  </tbody>\n",
       "</table>\n",
       "</div>"
      ],
      "text/plain": [
       "                                          subject  \\\n",
       "0                        Re: New Sequences Window   \n",
       "1                       [zzzzteana] RE: Alexander   \n",
       "2                       [zzzzteana] Moscow bomber   \n",
       "3           [IRR] Klez: The Virus That  Won't Die   \n",
       "4  Re: [zzzzteana] Nothing like mama used to make   \n",
       "\n",
       "                                                body  label  \n",
       "0  Date:        Wed, 21 Aug 2002 10:54:46 -0500  ...      0  \n",
       "1  Martin A posted:\\nTassos Papadopoulos, the Gre...      0  \n",
       "2  Man Threatens Explosion In Moscow \\n\\nThursday...      0  \n",
       "3  Klez: The Virus That Won't Die\\n \\nAlready the...      0  \n",
       "4  >  in adding cream to spaghetti carbonara, whi...      0  "
      ]
     },
     "execution_count": 140,
     "metadata": {},
     "output_type": "execute_result"
    }
   ],
   "source": [
    "df.head()"
   ]
  },
  {
   "cell_type": "code",
   "execution_count": 142,
   "id": "881e2a80-d21e-4938-8731-baae32b4f9f4",
   "metadata": {},
   "outputs": [],
   "source": [
    "full_df = pd.concat([full_df, df], ignore_index=True)"
   ]
  },
  {
   "cell_type": "code",
   "execution_count": 143,
   "id": "c3ee1863-2591-4cf0-b4ce-8ca465a1cde5",
   "metadata": {},
   "outputs": [
    {
     "data": {
      "text/html": [
       "<div>\n",
       "<style scoped>\n",
       "    .dataframe tbody tr th:only-of-type {\n",
       "        vertical-align: middle;\n",
       "    }\n",
       "\n",
       "    .dataframe tbody tr th {\n",
       "        vertical-align: top;\n",
       "    }\n",
       "\n",
       "    .dataframe thead th {\n",
       "        text-align: right;\n",
       "    }\n",
       "</style>\n",
       "<table border=\"1\" class=\"dataframe\">\n",
       "  <thead>\n",
       "    <tr style=\"text-align: right;\">\n",
       "      <th></th>\n",
       "      <th>subject</th>\n",
       "      <th>body</th>\n",
       "      <th>label</th>\n",
       "    </tr>\n",
       "  </thead>\n",
       "  <tbody>\n",
       "    <tr>\n",
       "      <th>0</th>\n",
       "      <td>job posting - apple-iss research center</td>\n",
       "      <td>content - length : 3386 apple-iss research cen...</td>\n",
       "      <td>0</td>\n",
       "    </tr>\n",
       "    <tr>\n",
       "      <th>1</th>\n",
       "      <td>NaN</td>\n",
       "      <td>lang classification grimes , joseph e . and ba...</td>\n",
       "      <td>0</td>\n",
       "    </tr>\n",
       "    <tr>\n",
       "      <th>2</th>\n",
       "      <td>query : letter frequencies for text identifica...</td>\n",
       "      <td>i am posting this inquiry for sergei atamas ( ...</td>\n",
       "      <td>0</td>\n",
       "    </tr>\n",
       "    <tr>\n",
       "      <th>3</th>\n",
       "      <td>risk</td>\n",
       "      <td>a colleague and i are researching the differin...</td>\n",
       "      <td>0</td>\n",
       "    </tr>\n",
       "    <tr>\n",
       "      <th>4</th>\n",
       "      <td>request book information</td>\n",
       "      <td>earlier this morning i was on the phone with a...</td>\n",
       "      <td>0</td>\n",
       "    </tr>\n",
       "    <tr>\n",
       "      <th>...</th>\n",
       "      <td>...</td>\n",
       "      <td>...</td>\n",
       "      <td>...</td>\n",
       "    </tr>\n",
       "    <tr>\n",
       "      <th>8663</th>\n",
       "      <td>Busy? Home Study Makes Sense!</td>\n",
       "      <td>\\n\\n  \\n---  \\n![](http://images.pcdi-homestud...</td>\n",
       "      <td>1</td>\n",
       "    </tr>\n",
       "    <tr>\n",
       "      <th>8664</th>\n",
       "      <td>Preferred Non-Smoker Rates for Smokers</td>\n",
       "      <td>This is a multi-part message in MIME format. -...</td>\n",
       "      <td>1</td>\n",
       "    </tr>\n",
       "    <tr>\n",
       "      <th>8665</th>\n",
       "      <td>How to get 10,000 FREE hits per day to any web...</td>\n",
       "      <td>Dear Subscriber,\\n\\nIf I could show you a way ...</td>\n",
       "      <td>1</td>\n",
       "    </tr>\n",
       "    <tr>\n",
       "      <th>8666</th>\n",
       "      <td>Cannabis Difference</td>\n",
       "      <td>****Mid-Summer Customer Appreciation SALE!****...</td>\n",
       "      <td>1</td>\n",
       "    </tr>\n",
       "    <tr>\n",
       "      <th>8667</th>\n",
       "      <td>[ILUG] WILSON  KAMELA</td>\n",
       "      <td>ATTN:SIR/MADAN      \\n\\n                      ...</td>\n",
       "      <td>1</td>\n",
       "    </tr>\n",
       "  </tbody>\n",
       "</table>\n",
       "<p>8668 rows × 3 columns</p>\n",
       "</div>"
      ],
      "text/plain": [
       "                                                subject  \\\n",
       "0               job posting - apple-iss research center   \n",
       "1                                                   NaN   \n",
       "2     query : letter frequencies for text identifica...   \n",
       "3                                                  risk   \n",
       "4                              request book information   \n",
       "...                                                 ...   \n",
       "8663                      Busy? Home Study Makes Sense!   \n",
       "8664             Preferred Non-Smoker Rates for Smokers   \n",
       "8665  How to get 10,000 FREE hits per day to any web...   \n",
       "8666                                Cannabis Difference   \n",
       "8667                              [ILUG] WILSON  KAMELA   \n",
       "\n",
       "                                                   body label  \n",
       "0     content - length : 3386 apple-iss research cen...     0  \n",
       "1     lang classification grimes , joseph e . and ba...     0  \n",
       "2     i am posting this inquiry for sergei atamas ( ...     0  \n",
       "3     a colleague and i are researching the differin...     0  \n",
       "4     earlier this morning i was on the phone with a...     0  \n",
       "...                                                 ...   ...  \n",
       "8663  \\n\\n  \\n---  \\n![](http://images.pcdi-homestud...     1  \n",
       "8664  This is a multi-part message in MIME format. -...     1  \n",
       "8665  Dear Subscriber,\\n\\nIf I could show you a way ...     1  \n",
       "8666  ****Mid-Summer Customer Appreciation SALE!****...     1  \n",
       "8667  ATTN:SIR/MADAN      \\n\\n                      ...     1  \n",
       "\n",
       "[8668 rows x 3 columns]"
      ]
     },
     "execution_count": 143,
     "metadata": {},
     "output_type": "execute_result"
    }
   ],
   "source": [
    "full_df"
   ]
  },
  {
   "cell_type": "code",
   "execution_count": 144,
   "id": "2e6af773-78e0-4ae3-b235-d3ee2bb98576",
   "metadata": {},
   "outputs": [
    {
     "data": {
      "text/plain": [
       "['spam email dataset.csv',\n",
       " 'email spam.csv',\n",
       " 'email-spam-classification-dataset.csv',\n",
       " 'spam_ham_dataset.csv',\n",
       " 'data_generated-e-mail-spam.csv',\n",
       " 'phishing_emails.csv']"
      ]
     },
     "execution_count": 144,
     "metadata": {},
     "output_type": "execute_result"
    }
   ],
   "source": [
    "files"
   ]
  },
  {
   "cell_type": "code",
   "execution_count": 145,
   "id": "099de71d-7fef-40bd-8dd5-59e1f3d2a673",
   "metadata": {},
   "outputs": [],
   "source": [
    "df = pd.read_csv(BASE_DIR + 'spam email dataset.csv')"
   ]
  },
  {
   "cell_type": "code",
   "execution_count": 146,
   "id": "31529c25-157b-4f3a-8085-e4e6d59ae291",
   "metadata": {},
   "outputs": [],
   "source": [
    "import re"
   ]
  },
  {
   "cell_type": "code",
   "execution_count": 147,
   "id": "6ee5cd37-3bea-413a-8cdd-d77cc4fb3fed",
   "metadata": {},
   "outputs": [],
   "source": [
    "regex_str = r'Subject:\\s*(.*?)\\s\\s'"
   ]
  },
  {
   "cell_type": "code",
   "execution_count": 148,
   "id": "70e91cf1-b135-4451-8136-75a4f6d90f91",
   "metadata": {},
   "outputs": [],
   "source": [
    "extract_subject = lambda x: re.search(regex_str, x).group(1) if isinstance(x, str) and re.search(regex_str, x) else None\n",
    "df['subject'] = df['text'].apply(extract_subject)"
   ]
  },
  {
   "cell_type": "code",
   "execution_count": 149,
   "id": "7f6d9250-21a2-476a-a934-32895989ca55",
   "metadata": {},
   "outputs": [],
   "source": [
    "df = df.rename(columns={\n",
    "    'text':'body',\n",
    "    'spam':'label'\n",
    "})"
   ]
  },
  {
   "cell_type": "code",
   "execution_count": 150,
   "id": "e97ea6c6-a00d-42c5-95db-efd5577f56ac",
   "metadata": {},
   "outputs": [
    {
     "name": "stdout",
     "output_type": "stream",
     "text": [
      "<class 'pandas.core.frame.DataFrame'>\n",
      "RangeIndex: 5736 entries, 0 to 5735\n",
      "Data columns (total 3 columns):\n",
      " #   Column   Non-Null Count  Dtype \n",
      "---  ------   --------------  ----- \n",
      " 0   body     5730 non-null   object\n",
      " 1   label    5728 non-null   object\n",
      " 2   subject  5725 non-null   object\n",
      "dtypes: object(3)\n",
      "memory usage: 134.6+ KB\n"
     ]
    }
   ],
   "source": [
    "df.info()"
   ]
  },
  {
   "cell_type": "code",
   "execution_count": 154,
   "id": "ef6a667e-c420-479d-85ac-bd0f1fa271a6",
   "metadata": {},
   "outputs": [],
   "source": [
    "df['label'] = pd.to_numeric(df['label'], errors='coerce').astype('Int64')"
   ]
  },
  {
   "cell_type": "code",
   "execution_count": 155,
   "id": "ec2d3de6-5522-42e8-a987-003b667d65cc",
   "metadata": {},
   "outputs": [],
   "source": [
    "full_df = pd.concat([full_df, df], ignore_index=True)"
   ]
  },
  {
   "cell_type": "code",
   "execution_count": 156,
   "id": "9767b77b-d07d-4be0-9801-d15c7dd1bcc2",
   "metadata": {},
   "outputs": [
    {
     "data": {
      "text/plain": [
       "label\n",
       "0    10851\n",
       "1     3543\n",
       "Name: count, dtype: int64"
      ]
     },
     "execution_count": 156,
     "metadata": {},
     "output_type": "execute_result"
    }
   ],
   "source": [
    "full_df['label'].value_counts()"
   ]
  },
  {
   "cell_type": "code",
   "execution_count": 160,
   "id": "5ca62601-cd73-4e0b-adfd-f1f2ffdd982b",
   "metadata": {},
   "outputs": [],
   "source": [
    "files.remove('spam email dataset.csv')"
   ]
  },
  {
   "cell_type": "code",
   "execution_count": 161,
   "id": "066bc6ad-9897-46c3-990b-f26a7a92c892",
   "metadata": {},
   "outputs": [
    {
     "data": {
      "text/plain": [
       "['email spam.csv',\n",
       " 'email-spam-classification-dataset.csv',\n",
       " 'spam_ham_dataset.csv',\n",
       " 'data_generated-e-mail-spam.csv',\n",
       " 'phishing_emails.csv']"
      ]
     },
     "execution_count": 161,
     "metadata": {},
     "output_type": "execute_result"
    }
   ],
   "source": [
    "files"
   ]
  },
  {
   "cell_type": "code",
   "execution_count": 162,
   "id": "78a34a41-6498-4158-8417-d23ada641e9d",
   "metadata": {},
   "outputs": [],
   "source": [
    "df = pd.read_csv(BASE_DIR + 'email spam.csv')"
   ]
  },
  {
   "cell_type": "code",
   "execution_count": 164,
   "id": "8ceaa580-7fd1-4245-85ca-0e4b01beea5f",
   "metadata": {},
   "outputs": [],
   "source": [
    "df = df.rename(columns={\n",
    "    'Message':'body',\n",
    "    'Category':'label'\n",
    "})"
   ]
  },
  {
   "cell_type": "code",
   "execution_count": 167,
   "id": "c98ab54a-41a1-45d7-840c-45757dcaf810",
   "metadata": {},
   "outputs": [],
   "source": [
    "df['label'] = df['label'].apply(lambda x: 0 if x == 'ham' else 1)"
   ]
  },
  {
   "cell_type": "code",
   "execution_count": 171,
   "id": "6bfa6b66-739e-4cd6-b5bf-0ac42c723f0c",
   "metadata": {},
   "outputs": [],
   "source": [
    "df['subject'] = df['body'].apply(lambda x: \" \")"
   ]
  },
  {
   "cell_type": "code",
   "execution_count": 173,
   "id": "e1f462c1-9779-46ed-9382-5262ce3cd284",
   "metadata": {},
   "outputs": [],
   "source": [
    "full_df = pd.concat([full_df, df], ignore_index=True)"
   ]
  },
  {
   "cell_type": "code",
   "execution_count": 177,
   "id": "a9d0bfe3-d3d3-43b0-85a9-eb6c7a1040fa",
   "metadata": {},
   "outputs": [],
   "source": [
    "files.remove('email spam.csv')"
   ]
  },
  {
   "cell_type": "code",
   "execution_count": 179,
   "id": "5df4895d-21ce-499c-be2d-9c286749a0bf",
   "metadata": {},
   "outputs": [
    {
     "data": {
      "text/plain": [
       "['email-spam-classification-dataset.csv',\n",
       " 'spam_ham_dataset.csv',\n",
       " 'data_generated-e-mail-spam.csv',\n",
       " 'phishing_emails.csv']"
      ]
     },
     "execution_count": 179,
     "metadata": {},
     "output_type": "execute_result"
    }
   ],
   "source": [
    "files"
   ]
  },
  {
   "cell_type": "code",
   "execution_count": 180,
   "id": "3537a27d-d51f-4a7d-a7f5-e948a6b5328c",
   "metadata": {},
   "outputs": [],
   "source": [
    "df = pd.read_csv(BASE_DIR + 'email-spam-classification-dataset.csv')"
   ]
  },
  {
   "cell_type": "code",
   "execution_count": 182,
   "id": "b79c2164-326b-4710-b16d-2d254a6d9c50",
   "metadata": {},
   "outputs": [],
   "source": [
    "df = df.rename(columns={\n",
    "    'text':'body',\n",
    "    'type':'label',\n",
    "    'title':'subject'\n",
    "})"
   ]
  },
  {
   "cell_type": "code",
   "execution_count": 184,
   "id": "b961f118-5720-4427-bc35-8ffb2eceadf6",
   "metadata": {},
   "outputs": [],
   "source": [
    "df['label'] = df['label'].apply(lambda x: 0 if x == 'not spam' else 1)"
   ]
  },
  {
   "cell_type": "code",
   "execution_count": 185,
   "id": "46adaa38-f322-47ac-9484-1bd086130720",
   "metadata": {},
   "outputs": [
    {
     "data": {
      "text/html": [
       "<div>\n",
       "<style scoped>\n",
       "    .dataframe tbody tr th:only-of-type {\n",
       "        vertical-align: middle;\n",
       "    }\n",
       "\n",
       "    .dataframe tbody tr th {\n",
       "        vertical-align: top;\n",
       "    }\n",
       "\n",
       "    .dataframe thead th {\n",
       "        text-align: right;\n",
       "    }\n",
       "</style>\n",
       "<table border=\"1\" class=\"dataframe\">\n",
       "  <thead>\n",
       "    <tr style=\"text-align: right;\">\n",
       "      <th></th>\n",
       "      <th>subject</th>\n",
       "      <th>body</th>\n",
       "      <th>label</th>\n",
       "    </tr>\n",
       "  </thead>\n",
       "  <tbody>\n",
       "    <tr>\n",
       "      <th>0</th>\n",
       "      <td>?? the secrets to SUCCESS</td>\n",
       "      <td>Hi James,\\n\\nHave you claim your complimentary...</td>\n",
       "      <td>1</td>\n",
       "    </tr>\n",
       "    <tr>\n",
       "      <th>1</th>\n",
       "      <td>?? You Earned 500 GCLoot Points</td>\n",
       "      <td>\\nalt_text\\nCongratulations, you just earned\\n...</td>\n",
       "      <td>0</td>\n",
       "    </tr>\n",
       "    <tr>\n",
       "      <th>2</th>\n",
       "      <td>?? Your GitHub launch code</td>\n",
       "      <td>Here's your GitHub launch code, @Mortyj420!\\n ...</td>\n",
       "      <td>0</td>\n",
       "    </tr>\n",
       "    <tr>\n",
       "      <th>3</th>\n",
       "      <td>[The Virtual Reward Center] Re: ** Clarifications</td>\n",
       "      <td>Hello,\\n \\nThank you for contacting the Virtua...</td>\n",
       "      <td>0</td>\n",
       "    </tr>\n",
       "    <tr>\n",
       "      <th>4</th>\n",
       "      <td>10-1 MLB Expert Inside, Plus Everything You Ne...</td>\n",
       "      <td>Hey Prachanda Rawal,\\n\\nToday's newsletter is ...</td>\n",
       "      <td>1</td>\n",
       "    </tr>\n",
       "    <tr>\n",
       "      <th>...</th>\n",
       "      <td>...</td>\n",
       "      <td>...</td>\n",
       "      <td>...</td>\n",
       "    </tr>\n",
       "    <tr>\n",
       "      <th>79</th>\n",
       "      <td>Your application for the position of  Child Pr...</td>\n",
       "      <td>Dear Maryam, \\n\\n \\n\\nI would like to thank yo...</td>\n",
       "      <td>0</td>\n",
       "    </tr>\n",
       "    <tr>\n",
       "      <th>80</th>\n",
       "      <td>Your Kilimall Account is Ready - Shopping Now!</td>\n",
       "      <td>Dear Customer,\\n\\nWelcome to Kilimall, Thanks ...</td>\n",
       "      <td>0</td>\n",
       "    </tr>\n",
       "    <tr>\n",
       "      <th>81</th>\n",
       "      <td>Your Steam account: Access from new web or mob...</td>\n",
       "      <td>Dear vladis163rus,\\nHere is the Steam Guard co...</td>\n",
       "      <td>0</td>\n",
       "    </tr>\n",
       "    <tr>\n",
       "      <th>82</th>\n",
       "      <td>Your uploaded document is rejected</td>\n",
       "      <td>View In Browser | Log in\\n \\n \\n\\nSkrill logo\\...</td>\n",
       "      <td>0</td>\n",
       "    </tr>\n",
       "    <tr>\n",
       "      <th>83</th>\n",
       "      <td>You've Earned a Reward from Bard Explorers India</td>\n",
       "      <td>You've received a gift!\\nSign in to your Bard ...</td>\n",
       "      <td>0</td>\n",
       "    </tr>\n",
       "  </tbody>\n",
       "</table>\n",
       "<p>84 rows × 3 columns</p>\n",
       "</div>"
      ],
      "text/plain": [
       "                                              subject  \\\n",
       "0                           ?? the secrets to SUCCESS   \n",
       "1                     ?? You Earned 500 GCLoot Points   \n",
       "2                          ?? Your GitHub launch code   \n",
       "3   [The Virtual Reward Center] Re: ** Clarifications   \n",
       "4   10-1 MLB Expert Inside, Plus Everything You Ne...   \n",
       "..                                                ...   \n",
       "79  Your application for the position of  Child Pr...   \n",
       "80     Your Kilimall Account is Ready - Shopping Now!   \n",
       "81  Your Steam account: Access from new web or mob...   \n",
       "82                 Your uploaded document is rejected   \n",
       "83   You've Earned a Reward from Bard Explorers India   \n",
       "\n",
       "                                                 body  label  \n",
       "0   Hi James,\\n\\nHave you claim your complimentary...      1  \n",
       "1   \\nalt_text\\nCongratulations, you just earned\\n...      0  \n",
       "2   Here's your GitHub launch code, @Mortyj420!\\n ...      0  \n",
       "3   Hello,\\n \\nThank you for contacting the Virtua...      0  \n",
       "4   Hey Prachanda Rawal,\\n\\nToday's newsletter is ...      1  \n",
       "..                                                ...    ...  \n",
       "79  Dear Maryam, \\n\\n \\n\\nI would like to thank yo...      0  \n",
       "80  Dear Customer,\\n\\nWelcome to Kilimall, Thanks ...      0  \n",
       "81  Dear vladis163rus,\\nHere is the Steam Guard co...      0  \n",
       "82  View In Browser | Log in\\n \\n \\n\\nSkrill logo\\...      0  \n",
       "83  You've received a gift!\\nSign in to your Bard ...      0  \n",
       "\n",
       "[84 rows x 3 columns]"
      ]
     },
     "execution_count": 185,
     "metadata": {},
     "output_type": "execute_result"
    }
   ],
   "source": [
    "df"
   ]
  },
  {
   "cell_type": "code",
   "execution_count": 187,
   "id": "553723f9-3f37-472d-8d6d-4a47ec0d8d0c",
   "metadata": {},
   "outputs": [],
   "source": [
    "full_df = pd.concat([full_df, df], ignore_index=True)"
   ]
  },
  {
   "cell_type": "code",
   "execution_count": 190,
   "id": "314129eb-8ab5-4b3e-b862-76a7108dc97a",
   "metadata": {},
   "outputs": [
    {
     "data": {
      "text/plain": [
       "label\n",
       "0    15734\n",
       "1     4316\n",
       "Name: count, dtype: int64"
      ]
     },
     "execution_count": 190,
     "metadata": {},
     "output_type": "execute_result"
    }
   ],
   "source": [
    "full_df['label'].value_counts()"
   ]
  },
  {
   "cell_type": "code",
   "execution_count": 192,
   "id": "4feb2231-7edd-4bb0-8b35-219e4834643f",
   "metadata": {},
   "outputs": [],
   "source": [
    "files.remove(\"email-spam-classification-dataset.csv\")"
   ]
  },
  {
   "cell_type": "code",
   "execution_count": 207,
   "id": "7313706a-2d89-44d4-a3a2-30b21e0f1761",
   "metadata": {},
   "outputs": [],
   "source": [
    "files.remove('spam_ham_dataset.csv')"
   ]
  },
  {
   "cell_type": "code",
   "execution_count": 208,
   "id": "8ab3e96c-a586-43c5-87f6-b1b4d3317802",
   "metadata": {},
   "outputs": [
    {
     "data": {
      "text/plain": [
       "['data_generated-e-mail-spam.csv', 'phishing_emails.csv']"
      ]
     },
     "execution_count": 208,
     "metadata": {},
     "output_type": "execute_result"
    }
   ],
   "source": [
    "files"
   ]
  },
  {
   "cell_type": "code",
   "execution_count": 210,
   "id": "58c7a259-e941-4992-b81a-535898aee676",
   "metadata": {
    "scrolled": true
   },
   "outputs": [],
   "source": [
    "df = pd.read_csv(BASE_DIR + 'phishing_emails.csv')"
   ]
  },
  {
   "cell_type": "code",
   "execution_count": 212,
   "id": "185641db-c2ed-4067-a15b-d530ed53666a",
   "metadata": {},
   "outputs": [],
   "source": [
    "df = df.rename(columns={\n",
    "    'email_body':'body',\n",
    "    'email_subject':'subject'\n",
    "})"
   ]
  },
  {
   "cell_type": "code",
   "execution_count": 213,
   "id": "ca73055e-1acb-49b5-a283-22fcfc5b26be",
   "metadata": {},
   "outputs": [
    {
     "data": {
      "text/html": [
       "<div>\n",
       "<style scoped>\n",
       "    .dataframe tbody tr th:only-of-type {\n",
       "        vertical-align: middle;\n",
       "    }\n",
       "\n",
       "    .dataframe tbody tr th {\n",
       "        vertical-align: top;\n",
       "    }\n",
       "\n",
       "    .dataframe thead th {\n",
       "        text-align: right;\n",
       "    }\n",
       "</style>\n",
       "<table border=\"1\" class=\"dataframe\">\n",
       "  <thead>\n",
       "    <tr style=\"text-align: right;\">\n",
       "      <th></th>\n",
       "      <th>subject</th>\n",
       "      <th>body</th>\n",
       "      <th>label</th>\n",
       "    </tr>\n",
       "  </thead>\n",
       "  <tbody>\n",
       "    <tr>\n",
       "      <th>0</th>\n",
       "      <td>From Mr. Al_hadji,</td>\n",
       "      <td>Mr.Al_hadji Azizi.\\ncomputer manager citibank\\...</td>\n",
       "      <td>1</td>\n",
       "    </tr>\n",
       "    <tr>\n",
       "      <th>1</th>\n",
       "      <td>Western Strategy Briefing Materials</td>\n",
       "      <td>---------------------- Forwarded by Phillip K ...</td>\n",
       "      <td>0</td>\n",
       "    </tr>\n",
       "    <tr>\n",
       "      <th>2</th>\n",
       "      <td>family in need of  assistance</td>\n",
       "      <td>From: Ahmed Williams\\nTel: 0027-72-5870-437\\n\\...</td>\n",
       "      <td>1</td>\n",
       "    </tr>\n",
       "    <tr>\n",
       "      <th>3</th>\n",
       "      <td>Xscale disappoints in Toshiba's e740</td>\n",
       "      <td>When reviewing the Toshiba Pocket PC e740, I s...</td>\n",
       "      <td>0</td>\n",
       "    </tr>\n",
       "    <tr>\n",
       "      <th>4</th>\n",
       "      <td>Re: The date</td>\n",
       "      <td>it just wasn't the same without you. how was e...</td>\n",
       "      <td>0</td>\n",
       "    </tr>\n",
       "    <tr>\n",
       "      <th>...</th>\n",
       "      <td>...</td>\n",
       "      <td>...</td>\n",
       "      <td>...</td>\n",
       "    </tr>\n",
       "    <tr>\n",
       "      <th>7150</th>\n",
       "      <td>RESPONSE</td>\n",
       "      <td>MR ABATO GRINO\\n\\nTel:0039-3396463456\\n\\npleas...</td>\n",
       "      <td>1</td>\n",
       "    </tr>\n",
       "    <tr>\n",
       "      <th>7151</th>\n",
       "      <td>INQUIRE,</td>\n",
       "      <td>&gt;From Mrs. Lydia Johnson\\n\\n\\nDear I know this...</td>\n",
       "      <td>1</td>\n",
       "    </tr>\n",
       "    <tr>\n",
       "      <th>7152</th>\n",
       "      <td>REQUEST FOR YOUR UNRESERVED ASSISTANCE</td>\n",
       "      <td>&gt;From :The Desk Of : Mr James \\nNigerian Natio...</td>\n",
       "      <td>1</td>\n",
       "    </tr>\n",
       "    <tr>\n",
       "      <th>7153</th>\n",
       "      <td>Your Opinion.</td>\n",
       "      <td>\\nDear Friend,\\n\\nI am Honourable Barrister Em...</td>\n",
       "      <td>1</td>\n",
       "    </tr>\n",
       "    <tr>\n",
       "      <th>7154</th>\n",
       "      <td>Receive up to $500 in Grocery Savings</td>\n",
       "      <td>[IMAGE] [IMAGE] [IMAGE] [IMAGE] has been place...</td>\n",
       "      <td>0</td>\n",
       "    </tr>\n",
       "  </tbody>\n",
       "</table>\n",
       "<p>7155 rows × 3 columns</p>\n",
       "</div>"
      ],
      "text/plain": [
       "                                     subject  \\\n",
       "0                         From Mr. Al_hadji,   \n",
       "1        Western Strategy Briefing Materials   \n",
       "2              family in need of  assistance   \n",
       "3       Xscale disappoints in Toshiba's e740   \n",
       "4                               Re: The date   \n",
       "...                                      ...   \n",
       "7150                                RESPONSE   \n",
       "7151                                INQUIRE,   \n",
       "7152  REQUEST FOR YOUR UNRESERVED ASSISTANCE   \n",
       "7153                           Your Opinion.   \n",
       "7154   Receive up to $500 in Grocery Savings   \n",
       "\n",
       "                                                   body  label  \n",
       "0     Mr.Al_hadji Azizi.\\ncomputer manager citibank\\...      1  \n",
       "1     ---------------------- Forwarded by Phillip K ...      0  \n",
       "2     From: Ahmed Williams\\nTel: 0027-72-5870-437\\n\\...      1  \n",
       "3     When reviewing the Toshiba Pocket PC e740, I s...      0  \n",
       "4     it just wasn't the same without you. how was e...      0  \n",
       "...                                                 ...    ...  \n",
       "7150  MR ABATO GRINO\\n\\nTel:0039-3396463456\\n\\npleas...      1  \n",
       "7151  >From Mrs. Lydia Johnson\\n\\n\\nDear I know this...      1  \n",
       "7152  >From :The Desk Of : Mr James \\nNigerian Natio...      1  \n",
       "7153  \\nDear Friend,\\n\\nI am Honourable Barrister Em...      1  \n",
       "7154  [IMAGE] [IMAGE] [IMAGE] [IMAGE] has been place...      0  \n",
       "\n",
       "[7155 rows x 3 columns]"
      ]
     },
     "execution_count": 213,
     "metadata": {},
     "output_type": "execute_result"
    }
   ],
   "source": [
    "df"
   ]
  },
  {
   "cell_type": "code",
   "execution_count": 214,
   "id": "45b536b3-a15a-4cf0-95bf-c10f86cee594",
   "metadata": {},
   "outputs": [],
   "source": [
    "full_df = pd.concat([full_df, df], ignore_index=True)"
   ]
  },
  {
   "cell_type": "code",
   "execution_count": 217,
   "id": "60519f55-ba5b-467f-9edf-a3107fb437b4",
   "metadata": {},
   "outputs": [
    {
     "data": {
      "text/plain": [
       "label\n",
       "0    19223\n",
       "1     7982\n",
       "Name: count, dtype: int64"
      ]
     },
     "execution_count": 217,
     "metadata": {},
     "output_type": "execute_result"
    }
   ],
   "source": [
    "full_df['label'].value_counts()"
   ]
  },
  {
   "cell_type": "code",
   "execution_count": 218,
   "id": "5d79ec65-6923-4614-9171-d8c771e8fca2",
   "metadata": {},
   "outputs": [],
   "source": [
    "files.remove('phishing_emails.csv')"
   ]
  },
  {
   "cell_type": "code",
   "execution_count": 237,
   "id": "d1608dae-a3a5-4e2d-8cd1-1da6e81400bf",
   "metadata": {},
   "outputs": [],
   "source": [
    "full_df.to_csv(BASE_DIR + 'full_dataset.csv', index_label=False, index=False)"
   ]
  },
  {
   "cell_type": "code",
   "execution_count": null,
   "id": "406b5934-4013-4193-aa4b-90ca8c81e39f",
   "metadata": {},
   "outputs": [],
   "source": []
  }
 ],
 "metadata": {
  "kernelspec": {
   "display_name": "Python 3 (ipykernel)",
   "language": "python",
   "name": "python3"
  },
  "language_info": {
   "codemirror_mode": {
    "name": "ipython",
    "version": 3
   },
   "file_extension": ".py",
   "mimetype": "text/x-python",
   "name": "python",
   "nbconvert_exporter": "python",
   "pygments_lexer": "ipython3",
   "version": "3.11.6"
  }
 },
 "nbformat": 4,
 "nbformat_minor": 5
}
