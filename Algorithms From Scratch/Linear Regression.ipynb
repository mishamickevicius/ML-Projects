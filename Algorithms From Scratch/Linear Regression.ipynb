{
 "cells": [
  {
   "cell_type": "markdown",
   "id": "3b3fe176-b34f-402b-92f2-da4c3ef3e296",
   "metadata": {},
   "source": [
    "# Linear Regression From Scratch"
   ]
  },
  {
   "cell_type": "code",
   "execution_count": 5,
   "id": "4420b635-5d75-427f-be7d-316a55e73e8e",
   "metadata": {},
   "outputs": [],
   "source": [
    "def mean_squared_error(y_true, predictions):\n",
    "    \"\"\"\n",
    "    Function to calculate the mean squared error of a model\n",
    "    Parameters:\n",
    "    - y_true --- vector/array of true y values\n",
    "    - predictions --- vector/array of predicted y values (y hat)\n",
    "\n",
    "    Returns: MSE score as a float\n",
    "    \"\"\"\n",
    "    ## Check if lengths don't match\n",
    "    if len(y_true) != len(predictions):\n",
    "        raise Exception(\"Lengths don't match\")\n",
    "    \n",
    "    total = 0\n",
    "    for i in range(len(y_true)):\n",
    "        total += (y_true[i] - predictions[i]) ** 2\n",
    "\n",
    "    return total / len(y_true)\n",
    " "
   ]
  },
  {
   "cell_type": "code",
   "execution_count": 6,
   "id": "b84c3c31-436e-494c-918d-8c0b2ce3ee70",
   "metadata": {},
   "outputs": [
    {
     "name": "stdout",
     "output_type": "stream",
     "text": [
      "Dataset 1: MSE = 0.11000000000000006\n",
      "Dataset 2: MSE = 0.0\n",
      "Dataset 3: MSE = 0.176\n",
      "Dataset 4: MSE = 7.6\n"
     ]
    }
   ],
   "source": [
    "## MSE Test cases\n",
    "# Test data\n",
    "datasets = [\n",
    "    {\n",
    "        \"num_instances\": 3,\n",
    "        \"y_true\": [2.0, 3.0, 5.0],\n",
    "        \"y_pred\": [2.5, 2.8, 5.2]\n",
    "    },\n",
    "    {\n",
    "        \"num_instances\": 4,\n",
    "        \"y_true\": [1.0, 4.0, 7.0, 10.0],\n",
    "        \"y_pred\": [1.0, 4.0, 7.0, 10.0]\n",
    "    },\n",
    "    {\n",
    "        \"num_instances\": 5,\n",
    "        \"y_true\": [-3.0, 0.0, 3.0, 6.0, 9.0],\n",
    "        \"y_pred\": [-2.5, 0.5, 3.2, 6.3, 8.5]\n",
    "    },\n",
    "    {\n",
    "        \"num_instances\": 10,\n",
    "        \"y_true\": [10.0, 20.0, 30.0, 40.0, 50.0, 60.0, 70.0, 80.0, 90.0, 100.0],\n",
    "        \"y_pred\": [12.0, 18.0, 33.0, 37.0, 52.0, 62.0, 68.0, 85.0, 92.0, 97.0]\n",
    "    }\n",
    "]\n",
    "\n",
    "# Test each dataset\n",
    "for i, dataset in enumerate(datasets, 1):\n",
    "    mse = custom_mean_squared_error(dataset['y_true'], dataset['y_pred'])\n",
    "    print(f\"Dataset {i}: MSE = {mse}\")"
   ]
  },
  {
   "cell_type": "code",
   "execution_count": null,
   "id": "47bc02b6-a6c8-4272-b027-7a519e8183df",
   "metadata": {},
   "outputs": [],
   "source": []
  }
 ],
 "metadata": {
  "kernelspec": {
   "display_name": "Python 3 (ipykernel)",
   "language": "python",
   "name": "python3"
  },
  "language_info": {
   "codemirror_mode": {
    "name": "ipython",
    "version": 3
   },
   "file_extension": ".py",
   "mimetype": "text/x-python",
   "name": "python",
   "nbconvert_exporter": "python",
   "pygments_lexer": "ipython3",
   "version": "3.11.6"
  }
 },
 "nbformat": 4,
 "nbformat_minor": 5
}
