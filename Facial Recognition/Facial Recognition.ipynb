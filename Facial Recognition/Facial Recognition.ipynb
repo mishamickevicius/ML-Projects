{
 "cells": [
  {
   "cell_type": "code",
   "execution_count": 3,
   "id": "bf47b4cc-ac8f-4698-a258-a164c4596915",
   "metadata": {},
   "outputs": [],
   "source": [
    "import numpy as np\n",
    "import matplotlib.pyplot as plt\n",
    "import tensorflow as tf"
   ]
  },
  {
   "cell_type": "markdown",
   "id": "3168d596-c5dc-435c-9aa4-aa9ac3eb6a57",
   "metadata": {},
   "source": [
    "# Plan\n",
    "- Build Facial Detection model first\n",
    "- Then build Facial Recognition model"
   ]
  },
  {
   "cell_type": "markdown",
   "id": "9b59179d-bec1-4fb4-9857-ff346e79795b",
   "metadata": {},
   "source": [
    "## Data"
   ]
  },
  {
   "cell_type": "markdown",
   "id": "a68295c2-c91d-4709-9fdd-d50b83bda00c",
   "metadata": {},
   "source": [
    "Plan for data: \n",
    "1. Get a dataset of just faces\n",
    "2. For Facial Detection model, combine this dataset with the CIFAR 10 dataset\n",
    "3. For Facial Recognition model, combine face dataset with pictures of approved faces(ie. mine) "
   ]
  },
  {
   "cell_type": "code",
   "execution_count": null,
   "id": "6514f38c-1705-477d-a112-b892f8402f2e",
   "metadata": {},
   "outputs": [],
   "source": []
  }
 ],
 "metadata": {
  "kernelspec": {
   "display_name": "Python 3 (ipykernel)",
   "language": "python",
   "name": "python3"
  },
  "language_info": {
   "codemirror_mode": {
    "name": "ipython",
    "version": 3
   },
   "file_extension": ".py",
   "mimetype": "text/x-python",
   "name": "python",
   "nbconvert_exporter": "python",
   "pygments_lexer": "ipython3",
   "version": "3.12.3"
  }
 },
 "nbformat": 4,
 "nbformat_minor": 5
}
