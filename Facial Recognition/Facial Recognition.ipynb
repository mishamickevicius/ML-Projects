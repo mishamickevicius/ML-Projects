{
 "cells": [
  {
   "cell_type": "code",
   "execution_count": 19,
   "id": "bf47b4cc-ac8f-4698-a258-a164c4596915",
   "metadata": {},
   "outputs": [],
   "source": [
    "import numpy as np\n",
    "import matplotlib.pyplot as plt\n",
    "import os\n",
    "import shutil\n",
    "import tensorflow as tf\n",
    "\n",
    "from functools import partial"
   ]
  },
  {
   "cell_type": "markdown",
   "id": "3168d596-c5dc-435c-9aa4-aa9ac3eb6a57",
   "metadata": {},
   "source": [
    "# Plan\n",
    "- Build Facial Detection model first\n",
    "- Then build Facial Recognition model"
   ]
  },
  {
   "cell_type": "markdown",
   "id": "9b59179d-bec1-4fb4-9857-ff346e79795b",
   "metadata": {},
   "source": [
    "## Data"
   ]
  },
  {
   "cell_type": "markdown",
   "id": "a68295c2-c91d-4709-9fdd-d50b83bda00c",
   "metadata": {},
   "source": [
    "Plan for data: \n",
    "1. Get a dataset of just faces\n",
    "2. For Facial Detection model, combine this dataset with the ImageNet dataset\n",
    "3. For Facial Recognition model, combine face dataset with pictures of approved faces(ie. mine) "
   ]
  },
  {
   "cell_type": "code",
   "execution_count": 2,
   "id": "6514f38c-1705-477d-a112-b892f8402f2e",
   "metadata": {},
   "outputs": [],
   "source": [
    "DATAPATH = '/home/misha/Desktop/data/face_recognition_Data'"
   ]
  },
  {
   "cell_type": "code",
   "execution_count": 3,
   "id": "3fd75567-f5c3-41c8-a2c3-34dbfae00103",
   "metadata": {},
   "outputs": [],
   "source": [
    "notFace_path = DATAPATH + '/Not Face'"
   ]
  },
  {
   "cell_type": "code",
   "execution_count": 4,
   "id": "da098637-8358-4f10-a973-282b59be003b",
   "metadata": {},
   "outputs": [],
   "source": [
    "### Data clean up functionality\n",
    "for obj_folder in os.listdir(notFace_path):\n",
    "    if not os.path.isdir(notFace_path + f'/{obj_folder}'):\n",
    "        continue\n",
    "    else:\n",
    "        print(f\"Found folder {obj_folder}\")\n",
    "        for image_path in os.listdir(notFace_path + f'/{obj_folder}'):\n",
    "            try:\n",
    "                shutil.move(notFace_path + f'/{obj_folder}/{image_path}', notFace_path)\n",
    "            except Exception as err:\n",
    "                print(f\"Error with file: {image_path}\")\n",
    "                print(err)"
   ]
  },
  {
   "cell_type": "code",
   "execution_count": 20,
   "id": "6976b3a4-aaed-4956-baac-bcf7126d885b",
   "metadata": {},
   "outputs": [
    {
     "name": "stdout",
     "output_type": "stream",
     "text": [
      "Found 3937 files belonging to 2 classes.\n"
     ]
    }
   ],
   "source": [
    "df = tf.keras.utils.image_dataset_from_directory(\n",
    "    DATAPATH, \n",
    "    labels='inferred',\n",
    "    color_mode='rgb',\n",
    "    batch_size=24, \n",
    "    label_mode='binary',   ## Vector Representation (Use categorical_crossentropy loss)\n",
    "    image_size=(640, 480),\n",
    "    crop_to_aspect_ratio=True,\n",
    "    seed=1, \n",
    "    shuffle=True\n",
    ")"
   ]
  },
  {
   "cell_type": "code",
   "execution_count": 21,
   "id": "55d8f40e-ad71-4f16-b6f6-98e493b3c569",
   "metadata": {},
   "outputs": [
    {
     "data": {
      "text/plain": [
       "<_PrefetchDataset element_spec=(TensorSpec(shape=(None, 640, 480, 3), dtype=tf.float32, name=None), TensorSpec(shape=(None, 1), dtype=tf.float32, name=None))>"
      ]
     },
     "execution_count": 21,
     "metadata": {},
     "output_type": "execute_result"
    }
   ],
   "source": [
    "df"
   ]
  },
  {
   "cell_type": "code",
   "execution_count": 22,
   "id": "9ae4ea94-5cc0-4add-9e54-dd411e2870e5",
   "metadata": {},
   "outputs": [],
   "source": [
    "data_augmentation = tf.keras.Sequential([\n",
    "    tf.keras.layers.RandomFlip('horizontal', seed=1),\n",
    "    tf.keras.layers.RandomRotation(0.5, seed=1)\n",
    "])"
   ]
  },
  {
   "cell_type": "code",
   "execution_count": 23,
   "id": "36df1200-d74c-4fd8-8d95-40132be981dd",
   "metadata": {},
   "outputs": [],
   "source": [
    "aug_df = df.map(lambda x, y: (data_augmentation(x), y))"
   ]
  },
  {
   "cell_type": "code",
   "execution_count": 24,
   "id": "ecec3b38-e352-4248-aafe-f35e5827dcf5",
   "metadata": {},
   "outputs": [],
   "source": [
    "df = df.concatenate(aug_df).prefetch(1)"
   ]
  },
  {
   "cell_type": "code",
   "execution_count": 25,
   "id": "b9519df8-b22c-40a8-8e15-a13867bd7d6f",
   "metadata": {},
   "outputs": [
    {
     "data": {
      "text/plain": [
       "<_PrefetchDataset element_spec=(TensorSpec(shape=(None, 640, 480, 3), dtype=tf.float32, name=None), TensorSpec(shape=(None, 1), dtype=tf.float32, name=None))>"
      ]
     },
     "execution_count": 25,
     "metadata": {},
     "output_type": "execute_result"
    }
   ],
   "source": [
    "df"
   ]
  },
  {
   "cell_type": "code",
   "execution_count": 26,
   "id": "2258d7de-76f2-4999-9b17-0e3225527e3d",
   "metadata": {},
   "outputs": [],
   "source": [
    "DATASET_SIZE = len(df)\n",
    "TRAIN_RATIO = 0.7\n",
    "VAL_RATIO = 0.15\n",
    "TEST_RATIO = 0.15 "
   ]
  },
  {
   "cell_type": "code",
   "execution_count": 27,
   "id": "cb3c14df-5e72-4c37-8d6b-c4b84531d349",
   "metadata": {},
   "outputs": [],
   "source": [
    "buffer_size = DATASET_SIZE\n",
    "seed = 101\n",
    "df = df.shuffle(buffer_size, seed=seed)"
   ]
  },
  {
   "cell_type": "code",
   "execution_count": 28,
   "id": "fdf04a10-d2e0-4521-b7cf-03cb1a34382d",
   "metadata": {},
   "outputs": [],
   "source": [
    "train_size = int(TRAIN_RATIO * DATASET_SIZE)\n",
    "val_size = int(VAL_RATIO * DATASET_SIZE)\n",
    "test_size = DATASET_SIZE - train_size - val_size "
   ]
  },
  {
   "cell_type": "code",
   "execution_count": 29,
   "id": "6f79c2df-1a5f-4e70-a1b6-3dc3203330a8",
   "metadata": {},
   "outputs": [],
   "source": [
    "train_df = df.take(train_size)\n",
    "val_df = df.skip(train_size).take(val_size)\n",
    "test_df = df.skip(train_size + val_size) # Takes the rest"
   ]
  },
  {
   "cell_type": "code",
   "execution_count": 30,
   "id": "5c918493-e98e-4656-bea2-b69521b53adc",
   "metadata": {},
   "outputs": [
    {
     "data": {
      "text/plain": [
       "49"
      ]
     },
     "execution_count": 30,
     "metadata": {},
     "output_type": "execute_result"
    }
   ],
   "source": [
    "len(val_df)"
   ]
  },
  {
   "cell_type": "markdown",
   "id": "957bcba4-5771-45c9-a928-9ce4344d79fb",
   "metadata": {},
   "source": [
    "## Face Detection Model"
   ]
  },
  {
   "cell_type": "code",
   "execution_count": 32,
   "id": "4ca25e60-640d-41d4-bc27-2462702c1951",
   "metadata": {},
   "outputs": [],
   "source": [
    "DefaultConv2d = partial(tf.keras.layers.Conv2D, kernel_size=3, padding='same',\n",
    "                       activation='relu', kernel_initializer='he_normal')\n",
    "\n",
    "face_detect_model = tf.keras.Sequential([\n",
    "    tf.keras.layers.Input(shape=[640,480,3]),\n",
    "    DefaultConv2d(filters=64, kernel_size=7),\n",
    "    tf.keras.layers.MaxPool2D(),\n",
    "    DefaultConv2d(filters=128),\n",
    "    DefaultConv2d(filters=128),\n",
    "    tf.keras.layers.MaxPool2D(),\n",
    "    DefaultConv2d(filters=256),\n",
    "    DefaultConv2d(filters=256),\n",
    "    tf.keras.layers.MaxPool2D(),\n",
    "    tf.keras.layers.Flatten(),\n",
    "    tf.keras.layers.Dense(128, activation='relu', kernel_initializer='he_normal'),\n",
    "    tf.keras.layers.Dropout(0.4),\n",
    "    tf.keras.layers.Dense(1, activation='sigmoid')\n",
    "])"
   ]
  },
  {
   "cell_type": "code",
   "execution_count": null,
   "id": "bcfa9fbb-ed6a-4a3f-9cc2-d2bb705ef015",
   "metadata": {},
   "outputs": [],
   "source": [
    "face_detect_model.compile(loss=tf.keras.losses.BinaryCrossentropy, optimizer='nadam',\n",
    "                         metrics=['accuracy'])"
   ]
  }
 ],
 "metadata": {
  "kernelspec": {
   "display_name": "Python 3 (ipykernel)",
   "language": "python",
   "name": "python3"
  },
  "language_info": {
   "codemirror_mode": {
    "name": "ipython",
    "version": 3
   },
   "file_extension": ".py",
   "mimetype": "text/x-python",
   "name": "python",
   "nbconvert_exporter": "python",
   "pygments_lexer": "ipython3",
   "version": "3.12.3"
  }
 },
 "nbformat": 4,
 "nbformat_minor": 5
}
